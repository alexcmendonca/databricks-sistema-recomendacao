{
 "cells": [
  {
   "cell_type": "markdown",
   "metadata": {
    "application/vnd.databricks.v1+cell": {
     "cellMetadata": {
      "byteLimit": 2048000,
      "rowLimit": 10000
     },
     "inputWidgets": {},
     "nuid": "f8829b09-4870-4a4d-846d-46514eae9fa3",
     "showTitle": false,
     "title": ""
    }
   },
   "source": [
    "## Projeto: Sistema de Recomendação"
   ]
  },
  {
   "cell_type": "markdown",
   "metadata": {
    "application/vnd.databricks.v1+cell": {
     "cellMetadata": {},
     "inputWidgets": {},
     "nuid": "71741ffb-4326-4531-917d-e3a4f1544968",
     "showTitle": false,
     "title": ""
    }
   },
   "source": [
    "## Análise Musical - Respondendo perguntas:"
   ]
  },
  {
   "cell_type": "markdown",
   "metadata": {
    "application/vnd.databricks.v1+cell": {
     "cellMetadata": {},
     "inputWidgets": {},
     "nuid": "14348add-1bf1-4579-bdf3-b28311d5c4a4",
     "showTitle": false,
     "title": ""
    }
   },
   "source": [
    "1. Quais são os top 10 artistas?\n",
    "2. Qual o gênero musical desses top 10 artistas?\n",
    "3. Quais são os top gêneros?\n",
    "4. Quais são os artistas que estão nesses top gêneros?"
   ]
  },
  {
   "cell_type": "code",
   "execution_count": 0,
   "metadata": {
    "application/vnd.databricks.v1+cell": {
     "cellMetadata": {
      "byteLimit": 2048000,
      "rowLimit": 10000
     },
     "inputWidgets": {},
     "nuid": "d86c30bb-239b-4c34-a423-1a50c7a26baa",
     "showTitle": false,
     "title": ""
    }
   },
   "outputs": [
    {
     "output_type": "display_data",
     "data": {
      "text/html": [
       "<style scoped>\n",
       "  .table-result-container {\n",
       "    max-height: 300px;\n",
       "    overflow: auto;\n",
       "  }\n",
       "  table, th, td {\n",
       "    border: 1px solid black;\n",
       "    border-collapse: collapse;\n",
       "  }\n",
       "  th, td {\n",
       "    padding: 5px;\n",
       "  }\n",
       "  th {\n",
       "    text-align: left;\n",
       "  }\n",
       "</style><div class='table-result-container'><table class='table-result'><thead style='background-color: white'><tr><th>path</th><th>name</th><th>size</th><th>modificationTime</th></tr></thead><tbody><tr><td>dbfs:/FileStore/tables/dados_spotify_tratados/data.parquet/</td><td>data.parquet/</td><td>0</td><td>0</td></tr><tr><td>dbfs:/FileStore/tables/dados_spotify_tratados/data_artist.parquet/</td><td>data_artist.parquet/</td><td>0</td><td>0</td></tr><tr><td>dbfs:/FileStore/tables/dados_spotify_tratados/data_genres.parquet/</td><td>data_genres.parquet/</td><td>0</td><td>0</td></tr><tr><td>dbfs:/FileStore/tables/dados_spotify_tratados/data_w_genres.parquet/</td><td>data_w_genres.parquet/</td><td>0</td><td>0</td></tr><tr><td>dbfs:/FileStore/tables/dados_spotify_tratados/data_year.parquet/</td><td>data_year.parquet/</td><td>0</td><td>0</td></tr></tbody></table></div>"
      ]
     },
     "metadata": {
      "application/vnd.databricks.v1+output": {
       "addedWidgets": {},
       "aggData": [],
       "aggError": "",
       "aggOverflow": false,
       "aggSchema": [],
       "aggSeriesLimitReached": false,
       "aggType": "",
       "arguments": {},
       "columnCustomDisplayInfos": {},
       "data": [
        [
         "dbfs:/FileStore/tables/dados_spotify_tratados/data.parquet/",
         "data.parquet/",
         0,
         0
        ],
        [
         "dbfs:/FileStore/tables/dados_spotify_tratados/data_artist.parquet/",
         "data_artist.parquet/",
         0,
         0
        ],
        [
         "dbfs:/FileStore/tables/dados_spotify_tratados/data_genres.parquet/",
         "data_genres.parquet/",
         0,
         0
        ],
        [
         "dbfs:/FileStore/tables/dados_spotify_tratados/data_w_genres.parquet/",
         "data_w_genres.parquet/",
         0,
         0
        ],
        [
         "dbfs:/FileStore/tables/dados_spotify_tratados/data_year.parquet/",
         "data_year.parquet/",
         0,
         0
        ]
       ],
       "datasetInfos": [],
       "dbfsResultPath": null,
       "isJsonSchema": true,
       "metadata": {},
       "overflow": false,
       "plotOptions": {
        "customPlotOptions": {},
        "displayType": "table",
        "pivotAggregation": null,
        "pivotColumns": null,
        "xColumns": null,
        "yColumns": null
       },
       "removedWidgets": [],
       "schema": [
        {
         "metadata": "{}",
         "name": "path",
         "type": "\"string\""
        },
        {
         "metadata": "{}",
         "name": "name",
         "type": "\"string\""
        },
        {
         "metadata": "{}",
         "name": "size",
         "type": "\"long\""
        },
        {
         "metadata": "{}",
         "name": "modificationTime",
         "type": "\"long\""
        }
       ],
       "type": "table"
      }
     },
     "output_type": "display_data"
    }
   ],
   "source": [
    "# consultando dados disponíveis no diretório\n",
    "display(dbutils.fs.ls('dbfs:/FileStore/tables/dados_spotify_tratados/'))"
   ]
  },
  {
   "cell_type": "code",
   "execution_count": 0,
   "metadata": {
    "application/vnd.databricks.v1+cell": {
     "cellMetadata": {
      "byteLimit": 2048000,
      "rowLimit": 10000
     },
     "inputWidgets": {},
     "nuid": "ab15c62d-9287-4259-b8aa-3e000dd07fa0",
     "showTitle": false,
     "title": ""
    }
   },
   "outputs": [],
   "source": [
    "# importação da biblioteca Pandas do Spark\n",
    "import pyspark.pandas as ps"
   ]
  },
  {
   "cell_type": "code",
   "execution_count": 0,
   "metadata": {
    "application/vnd.databricks.v1+cell": {
     "cellMetadata": {
      "byteLimit": 2048000,
      "rowLimit": 10000
     },
     "inputWidgets": {},
     "nuid": "9b481a32-3095-49d7-92f1-64d9cc19b29d",
     "showTitle": false,
     "title": ""
    }
   },
   "outputs": [],
   "source": [
    "# realizando a leitura dos arquivos .parquet\n",
    "df_genres = ps.read_parquet('dbfs:/FileStore/tables/dados_spotify_tratados/data_genres.parquet/')\n",
    "df_artists = ps.read_parquet('dbfs:/FileStore/tables/dados_spotify_tratados/data_artist.parquet/')\n",
    "df_w_genres = ps.read_parquet('dbfs:/FileStore/tables/dados_spotify_tratados/data_w_genres.parquet/')"
   ]
  },
  {
   "cell_type": "code",
   "execution_count": 0,
   "metadata": {
    "application/vnd.databricks.v1+cell": {
     "cellMetadata": {
      "byteLimit": 2048000,
      "rowLimit": 10000
     },
     "inputWidgets": {},
     "nuid": "3ab8de4f-e31e-44a7-a784-537ee0e8bb4d",
     "showTitle": false,
     "title": ""
    }
   },
   "outputs": [
    {
     "output_type": "display_data",
     "data": {
      "text/html": [
       "<div>\n",
       "<style scoped>\n",
       "    .dataframe tbody tr th:only-of-type {\n",
       "        vertical-align: middle;\n",
       "    }\n",
       "\n",
       "    .dataframe tbody tr th {\n",
       "        vertical-align: top;\n",
       "    }\n",
       "\n",
       "    .dataframe thead th {\n",
       "        text-align: right;\n",
       "    }\n",
       "</style>\n",
       "<table border=\"1\" class=\"dataframe\">\n",
       "  <thead>\n",
       "    <tr style=\"text-align: right;\">\n",
       "      <th></th>\n",
       "      <th>mode</th>\n",
       "      <th>genres</th>\n",
       "      <th>acousticness</th>\n",
       "      <th>danceability</th>\n",
       "      <th>duration_ms</th>\n",
       "      <th>energy</th>\n",
       "      <th>instrumentalness</th>\n",
       "      <th>liveness</th>\n",
       "      <th>loudness</th>\n",
       "      <th>speechiness</th>\n",
       "      <th>tempo</th>\n",
       "      <th>valence</th>\n",
       "      <th>popularity</th>\n",
       "      <th>key</th>\n",
       "    </tr>\n",
       "  </thead>\n",
       "  <tbody>\n",
       "    <tr>\n",
       "      <th>0</th>\n",
       "      <td>1</td>\n",
       "      <td>21st century classical</td>\n",
       "      <td>0.979333</td>\n",
       "      <td>0.162883</td>\n",
       "      <td>1.602977e+05</td>\n",
       "      <td>0.071317</td>\n",
       "      <td>0.606834</td>\n",
       "      <td>0.3616</td>\n",
       "      <td>-31.514333</td>\n",
       "      <td>0.040567</td>\n",
       "      <td>75.336500</td>\n",
       "      <td>0.103783</td>\n",
       "      <td>27.833333</td>\n",
       "      <td>6</td>\n",
       "    </tr>\n",
       "    <tr>\n",
       "      <th>1</th>\n",
       "      <td>1</td>\n",
       "      <td>432hz</td>\n",
       "      <td>0.494780</td>\n",
       "      <td>0.299333</td>\n",
       "      <td>1.048887e+06</td>\n",
       "      <td>0.450678</td>\n",
       "      <td>0.477762</td>\n",
       "      <td>0.1310</td>\n",
       "      <td>-16.854000</td>\n",
       "      <td>0.076817</td>\n",
       "      <td>120.285667</td>\n",
       "      <td>0.221750</td>\n",
       "      <td>52.500000</td>\n",
       "      <td>5</td>\n",
       "    </tr>\n",
       "  </tbody>\n",
       "</table>\n",
       "</div>"
      ]
     },
     "metadata": {
      "application/vnd.databricks.v1+output": {
       "addedWidgets": {},
       "arguments": {},
       "data": "<div>\n<style scoped>\n    .dataframe tbody tr th:only-of-type {\n        vertical-align: middle;\n    }\n\n    .dataframe tbody tr th {\n        vertical-align: top;\n    }\n\n    .dataframe thead th {\n        text-align: right;\n    }\n</style>\n<table border=\"1\" class=\"dataframe\">\n  <thead>\n    <tr style=\"text-align: right;\">\n      <th></th>\n      <th>mode</th>\n      <th>genres</th>\n      <th>acousticness</th>\n      <th>danceability</th>\n      <th>duration_ms</th>\n      <th>energy</th>\n      <th>instrumentalness</th>\n      <th>liveness</th>\n      <th>loudness</th>\n      <th>speechiness</th>\n      <th>tempo</th>\n      <th>valence</th>\n      <th>popularity</th>\n      <th>key</th>\n    </tr>\n  </thead>\n  <tbody>\n    <tr>\n      <th>0</th>\n      <td>1</td>\n      <td>21st century classical</td>\n      <td>0.979333</td>\n      <td>0.162883</td>\n      <td>1.602977e+05</td>\n      <td>0.071317</td>\n      <td>0.606834</td>\n      <td>0.3616</td>\n      <td>-31.514333</td>\n      <td>0.040567</td>\n      <td>75.336500</td>\n      <td>0.103783</td>\n      <td>27.833333</td>\n      <td>6</td>\n    </tr>\n    <tr>\n      <th>1</th>\n      <td>1</td>\n      <td>432hz</td>\n      <td>0.494780</td>\n      <td>0.299333</td>\n      <td>1.048887e+06</td>\n      <td>0.450678</td>\n      <td>0.477762</td>\n      <td>0.1310</td>\n      <td>-16.854000</td>\n      <td>0.076817</td>\n      <td>120.285667</td>\n      <td>0.221750</td>\n      <td>52.500000</td>\n      <td>5</td>\n    </tr>\n  </tbody>\n</table>\n</div>",
       "datasetInfos": [],
       "metadata": {},
       "removedWidgets": [],
       "textData": null,
       "type": "htmlSandbox"
      }
     },
     "output_type": "display_data"
    }
   ],
   "source": [
    "# realizando leitura inicial dos 3 arquivos\n",
    "df_genres.head(2)"
   ]
  },
  {
   "cell_type": "code",
   "execution_count": 0,
   "metadata": {
    "application/vnd.databricks.v1+cell": {
     "cellMetadata": {
      "byteLimit": 2048000,
      "rowLimit": 10000
     },
     "inputWidgets": {},
     "nuid": "71fa3bc9-6eb2-4a9e-9f3c-ae78954a569c",
     "showTitle": false,
     "title": ""
    }
   },
   "outputs": [
    {
     "output_type": "display_data",
     "data": {
      "text/html": [
       "<div>\n",
       "<style scoped>\n",
       "    .dataframe tbody tr th:only-of-type {\n",
       "        vertical-align: middle;\n",
       "    }\n",
       "\n",
       "    .dataframe tbody tr th {\n",
       "        vertical-align: top;\n",
       "    }\n",
       "\n",
       "    .dataframe thead th {\n",
       "        text-align: right;\n",
       "    }\n",
       "</style>\n",
       "<table border=\"1\" class=\"dataframe\">\n",
       "  <thead>\n",
       "    <tr style=\"text-align: right;\">\n",
       "      <th></th>\n",
       "      <th>mode</th>\n",
       "      <th>count</th>\n",
       "      <th>acousticness</th>\n",
       "      <th>artists</th>\n",
       "      <th>danceability</th>\n",
       "      <th>duration_ms</th>\n",
       "      <th>energy</th>\n",
       "      <th>instrumentalness</th>\n",
       "      <th>liveness</th>\n",
       "      <th>loudness</th>\n",
       "      <th>speechiness</th>\n",
       "      <th>tempo</th>\n",
       "      <th>valence</th>\n",
       "      <th>popularity</th>\n",
       "      <th>key</th>\n",
       "    </tr>\n",
       "  </thead>\n",
       "  <tbody>\n",
       "    <tr>\n",
       "      <th>0</th>\n",
       "      <td>1</td>\n",
       "      <td>9</td>\n",
       "      <td>0.590111</td>\n",
       "      <td>Cats 1981 Original London Cast</td>\n",
       "      <td>0.467222</td>\n",
       "      <td>250318.555556</td>\n",
       "      <td>0.394003</td>\n",
       "      <td>0.011400</td>\n",
       "      <td>0.290833</td>\n",
       "      <td>-14.448</td>\n",
       "      <td>0.210389</td>\n",
       "      <td>117.518111</td>\n",
       "      <td>0.389500</td>\n",
       "      <td>38.333333</td>\n",
       "      <td>5</td>\n",
       "    </tr>\n",
       "    <tr>\n",
       "      <th>1</th>\n",
       "      <td>1</td>\n",
       "      <td>26</td>\n",
       "      <td>0.862538</td>\n",
       "      <td>Cats 1983 Broadway Cast</td>\n",
       "      <td>0.441731</td>\n",
       "      <td>287280.000000</td>\n",
       "      <td>0.406808</td>\n",
       "      <td>0.081158</td>\n",
       "      <td>0.315215</td>\n",
       "      <td>-10.690</td>\n",
       "      <td>0.176212</td>\n",
       "      <td>103.044154</td>\n",
       "      <td>0.268865</td>\n",
       "      <td>30.576923</td>\n",
       "      <td>5</td>\n",
       "    </tr>\n",
       "  </tbody>\n",
       "</table>\n",
       "</div>"
      ]
     },
     "metadata": {
      "application/vnd.databricks.v1+output": {
       "addedWidgets": {},
       "arguments": {},
       "data": "<div>\n<style scoped>\n    .dataframe tbody tr th:only-of-type {\n        vertical-align: middle;\n    }\n\n    .dataframe tbody tr th {\n        vertical-align: top;\n    }\n\n    .dataframe thead th {\n        text-align: right;\n    }\n</style>\n<table border=\"1\" class=\"dataframe\">\n  <thead>\n    <tr style=\"text-align: right;\">\n      <th></th>\n      <th>mode</th>\n      <th>count</th>\n      <th>acousticness</th>\n      <th>artists</th>\n      <th>danceability</th>\n      <th>duration_ms</th>\n      <th>energy</th>\n      <th>instrumentalness</th>\n      <th>liveness</th>\n      <th>loudness</th>\n      <th>speechiness</th>\n      <th>tempo</th>\n      <th>valence</th>\n      <th>popularity</th>\n      <th>key</th>\n    </tr>\n  </thead>\n  <tbody>\n    <tr>\n      <th>0</th>\n      <td>1</td>\n      <td>9</td>\n      <td>0.590111</td>\n      <td>Cats 1981 Original London Cast</td>\n      <td>0.467222</td>\n      <td>250318.555556</td>\n      <td>0.394003</td>\n      <td>0.011400</td>\n      <td>0.290833</td>\n      <td>-14.448</td>\n      <td>0.210389</td>\n      <td>117.518111</td>\n      <td>0.389500</td>\n      <td>38.333333</td>\n      <td>5</td>\n    </tr>\n    <tr>\n      <th>1</th>\n      <td>1</td>\n      <td>26</td>\n      <td>0.862538</td>\n      <td>Cats 1983 Broadway Cast</td>\n      <td>0.441731</td>\n      <td>287280.000000</td>\n      <td>0.406808</td>\n      <td>0.081158</td>\n      <td>0.315215</td>\n      <td>-10.690</td>\n      <td>0.176212</td>\n      <td>103.044154</td>\n      <td>0.268865</td>\n      <td>30.576923</td>\n      <td>5</td>\n    </tr>\n  </tbody>\n</table>\n</div>",
       "datasetInfos": [],
       "metadata": {},
       "removedWidgets": [],
       "textData": null,
       "type": "htmlSandbox"
      }
     },
     "output_type": "display_data"
    }
   ],
   "source": [
    "df_artists.head(2)"
   ]
  },
  {
   "cell_type": "code",
   "execution_count": 0,
   "metadata": {
    "application/vnd.databricks.v1+cell": {
     "cellMetadata": {
      "byteLimit": 2048000,
      "rowLimit": 10000
     },
     "inputWidgets": {},
     "nuid": "758dcd75-281d-4560-a1e7-2ff5be7a4475",
     "showTitle": false,
     "title": ""
    }
   },
   "outputs": [
    {
     "output_type": "display_data",
     "data": {
      "text/html": [
       "<div>\n",
       "<style scoped>\n",
       "    .dataframe tbody tr th:only-of-type {\n",
       "        vertical-align: middle;\n",
       "    }\n",
       "\n",
       "    .dataframe tbody tr th {\n",
       "        vertical-align: top;\n",
       "    }\n",
       "\n",
       "    .dataframe thead th {\n",
       "        text-align: right;\n",
       "    }\n",
       "</style>\n",
       "<table border=\"1\" class=\"dataframe\">\n",
       "  <thead>\n",
       "    <tr style=\"text-align: right;\">\n",
       "      <th></th>\n",
       "      <th>genres</th>\n",
       "      <th>artists</th>\n",
       "      <th>acousticness</th>\n",
       "      <th>danceability</th>\n",
       "      <th>duration_ms</th>\n",
       "      <th>energy</th>\n",
       "      <th>instrumentalness</th>\n",
       "      <th>liveness</th>\n",
       "      <th>loudness</th>\n",
       "      <th>speechiness</th>\n",
       "      <th>tempo</th>\n",
       "      <th>valence</th>\n",
       "      <th>popularity</th>\n",
       "      <th>key</th>\n",
       "      <th>mode</th>\n",
       "      <th>count</th>\n",
       "    </tr>\n",
       "  </thead>\n",
       "  <tbody>\n",
       "    <tr>\n",
       "      <th>0</th>\n",
       "      <td>show tunes</td>\n",
       "      <td>Cats 1981 Original London Cast</td>\n",
       "      <td>0.5901111111111111</td>\n",
       "      <td>0.4672222222222222</td>\n",
       "      <td>250318.5555555556</td>\n",
       "      <td>0.3940033333333333</td>\n",
       "      <td>0.011399851111111107</td>\n",
       "      <td>0.2908333333333333</td>\n",
       "      <td>-14.448</td>\n",
       "      <td>0.210389</td>\n",
       "      <td>117.518111</td>\n",
       "      <td>0.389500</td>\n",
       "      <td>38.333333</td>\n",
       "      <td>5.0</td>\n",
       "      <td>1.0</td>\n",
       "      <td>9.0</td>\n",
       "    </tr>\n",
       "    <tr>\n",
       "      <th>1</th>\n",
       "      <td></td>\n",
       "      <td>Cats 1983 Broadway Cast</td>\n",
       "      <td>0.8625384615384617</td>\n",
       "      <td>0.4417307692307693</td>\n",
       "      <td>287280.0</td>\n",
       "      <td>0.4068076923076923</td>\n",
       "      <td>0.08115826423076923</td>\n",
       "      <td>0.3152153846153846</td>\n",
       "      <td>-10.690</td>\n",
       "      <td>0.176212</td>\n",
       "      <td>103.044154</td>\n",
       "      <td>0.268865</td>\n",
       "      <td>30.576923</td>\n",
       "      <td>5.0</td>\n",
       "      <td>1.0</td>\n",
       "      <td>26.0</td>\n",
       "    </tr>\n",
       "  </tbody>\n",
       "</table>\n",
       "</div>"
      ]
     },
     "metadata": {
      "application/vnd.databricks.v1+output": {
       "addedWidgets": {},
       "arguments": {},
       "data": "<div>\n<style scoped>\n    .dataframe tbody tr th:only-of-type {\n        vertical-align: middle;\n    }\n\n    .dataframe tbody tr th {\n        vertical-align: top;\n    }\n\n    .dataframe thead th {\n        text-align: right;\n    }\n</style>\n<table border=\"1\" class=\"dataframe\">\n  <thead>\n    <tr style=\"text-align: right;\">\n      <th></th>\n      <th>genres</th>\n      <th>artists</th>\n      <th>acousticness</th>\n      <th>danceability</th>\n      <th>duration_ms</th>\n      <th>energy</th>\n      <th>instrumentalness</th>\n      <th>liveness</th>\n      <th>loudness</th>\n      <th>speechiness</th>\n      <th>tempo</th>\n      <th>valence</th>\n      <th>popularity</th>\n      <th>key</th>\n      <th>mode</th>\n      <th>count</th>\n    </tr>\n  </thead>\n  <tbody>\n    <tr>\n      <th>0</th>\n      <td>show tunes</td>\n      <td>Cats 1981 Original London Cast</td>\n      <td>0.5901111111111111</td>\n      <td>0.4672222222222222</td>\n      <td>250318.5555555556</td>\n      <td>0.3940033333333333</td>\n      <td>0.011399851111111107</td>\n      <td>0.2908333333333333</td>\n      <td>-14.448</td>\n      <td>0.210389</td>\n      <td>117.518111</td>\n      <td>0.389500</td>\n      <td>38.333333</td>\n      <td>5.0</td>\n      <td>1.0</td>\n      <td>9.0</td>\n    </tr>\n    <tr>\n      <th>1</th>\n      <td></td>\n      <td>Cats 1983 Broadway Cast</td>\n      <td>0.8625384615384617</td>\n      <td>0.4417307692307693</td>\n      <td>287280.0</td>\n      <td>0.4068076923076923</td>\n      <td>0.08115826423076923</td>\n      <td>0.3152153846153846</td>\n      <td>-10.690</td>\n      <td>0.176212</td>\n      <td>103.044154</td>\n      <td>0.268865</td>\n      <td>30.576923</td>\n      <td>5.0</td>\n      <td>1.0</td>\n      <td>26.0</td>\n    </tr>\n  </tbody>\n</table>\n</div>",
       "datasetInfos": [],
       "metadata": {},
       "removedWidgets": [],
       "textData": null,
       "type": "htmlSandbox"
      }
     },
     "output_type": "display_data"
    }
   ],
   "source": [
    "df_w_genres.head(2)"
   ]
  },
  {
   "cell_type": "markdown",
   "metadata": {
    "application/vnd.databricks.v1+cell": {
     "cellMetadata": {},
     "inputWidgets": {},
     "nuid": "2a57df90-08b9-4ccd-abd9-19eea8675fec",
     "showTitle": false,
     "title": ""
    }
   },
   "source": [
    "**1. Quais são os top 10 artistas?**"
   ]
  },
  {
   "cell_type": "code",
   "execution_count": 0,
   "metadata": {
    "application/vnd.databricks.v1+cell": {
     "cellMetadata": {
      "byteLimit": 2048000,
      "rowLimit": 10000
     },
     "inputWidgets": {},
     "nuid": "241b6f31-7004-49db-9a80-a96df8511351",
     "showTitle": false,
     "title": ""
    }
   },
   "outputs": [
    {
     "output_type": "display_data",
     "data": {
      "text/html": [
       "<div>\n",
       "<style scoped>\n",
       "    .dataframe tbody tr th:only-of-type {\n",
       "        vertical-align: middle;\n",
       "    }\n",
       "\n",
       "    .dataframe tbody tr th {\n",
       "        vertical-align: top;\n",
       "    }\n",
       "\n",
       "    .dataframe thead th {\n",
       "        text-align: right;\n",
       "    }\n",
       "</style>\n",
       "<table border=\"1\" class=\"dataframe\">\n",
       "  <thead>\n",
       "    <tr style=\"text-align: right;\">\n",
       "      <th></th>\n",
       "      <th>mode</th>\n",
       "      <th>count</th>\n",
       "      <th>acousticness</th>\n",
       "      <th>artists</th>\n",
       "      <th>danceability</th>\n",
       "      <th>duration_ms</th>\n",
       "      <th>energy</th>\n",
       "      <th>instrumentalness</th>\n",
       "      <th>liveness</th>\n",
       "      <th>loudness</th>\n",
       "      <th>speechiness</th>\n",
       "      <th>tempo</th>\n",
       "      <th>valence</th>\n",
       "      <th>popularity</th>\n",
       "      <th>key</th>\n",
       "    </tr>\n",
       "  </thead>\n",
       "  <tbody>\n",
       "    <tr>\n",
       "      <th>0</th>\n",
       "      <td>1</td>\n",
       "      <td>9</td>\n",
       "      <td>0.590111</td>\n",
       "      <td>Cats 1981 Original London Cast</td>\n",
       "      <td>0.467222</td>\n",
       "      <td>250318.555556</td>\n",
       "      <td>0.394003</td>\n",
       "      <td>0.011400</td>\n",
       "      <td>0.290833</td>\n",
       "      <td>-14.448000</td>\n",
       "      <td>0.210389</td>\n",
       "      <td>117.518111</td>\n",
       "      <td>0.389500</td>\n",
       "      <td>38.333333</td>\n",
       "      <td>5</td>\n",
       "    </tr>\n",
       "    <tr>\n",
       "      <th>1</th>\n",
       "      <td>1</td>\n",
       "      <td>26</td>\n",
       "      <td>0.862538</td>\n",
       "      <td>Cats 1983 Broadway Cast</td>\n",
       "      <td>0.441731</td>\n",
       "      <td>287280.000000</td>\n",
       "      <td>0.406808</td>\n",
       "      <td>0.081158</td>\n",
       "      <td>0.315215</td>\n",
       "      <td>-10.690000</td>\n",
       "      <td>0.176212</td>\n",
       "      <td>103.044154</td>\n",
       "      <td>0.268865</td>\n",
       "      <td>30.576923</td>\n",
       "      <td>5</td>\n",
       "    </tr>\n",
       "    <tr>\n",
       "      <th>2</th>\n",
       "      <td>1</td>\n",
       "      <td>7</td>\n",
       "      <td>0.856571</td>\n",
       "      <td>Fiddler On The Roof” Motion Picture Chorus</td>\n",
       "      <td>0.348286</td>\n",
       "      <td>328920.000000</td>\n",
       "      <td>0.286571</td>\n",
       "      <td>0.024593</td>\n",
       "      <td>0.325786</td>\n",
       "      <td>-15.230714</td>\n",
       "      <td>0.118514</td>\n",
       "      <td>77.375857</td>\n",
       "      <td>0.354857</td>\n",
       "      <td>34.857143</td>\n",
       "      <td>0</td>\n",
       "    </tr>\n",
       "    <tr>\n",
       "      <th>3</th>\n",
       "      <td>1</td>\n",
       "      <td>27</td>\n",
       "      <td>0.884926</td>\n",
       "      <td>Fiddler On The Roof” Motion Picture Orchestra</td>\n",
       "      <td>0.425074</td>\n",
       "      <td>262890.962963</td>\n",
       "      <td>0.245770</td>\n",
       "      <td>0.073587</td>\n",
       "      <td>0.275481</td>\n",
       "      <td>-15.639370</td>\n",
       "      <td>0.123200</td>\n",
       "      <td>88.667630</td>\n",
       "      <td>0.372030</td>\n",
       "      <td>34.851852</td>\n",
       "      <td>0</td>\n",
       "    </tr>\n",
       "    <tr>\n",
       "      <th>4</th>\n",
       "      <td>1</td>\n",
       "      <td>7</td>\n",
       "      <td>0.510714</td>\n",
       "      <td>Joseph And The Amazing Technicolor Dreamcoat 1...</td>\n",
       "      <td>0.467143</td>\n",
       "      <td>270436.142857</td>\n",
       "      <td>0.488286</td>\n",
       "      <td>0.009400</td>\n",
       "      <td>0.195000</td>\n",
       "      <td>-10.236714</td>\n",
       "      <td>0.098543</td>\n",
       "      <td>122.835857</td>\n",
       "      <td>0.482286</td>\n",
       "      <td>43.000000</td>\n",
       "      <td>5</td>\n",
       "    </tr>\n",
       "  </tbody>\n",
       "</table>\n",
       "</div>"
      ]
     },
     "metadata": {
      "application/vnd.databricks.v1+output": {
       "addedWidgets": {},
       "arguments": {},
       "data": "<div>\n<style scoped>\n    .dataframe tbody tr th:only-of-type {\n        vertical-align: middle;\n    }\n\n    .dataframe tbody tr th {\n        vertical-align: top;\n    }\n\n    .dataframe thead th {\n        text-align: right;\n    }\n</style>\n<table border=\"1\" class=\"dataframe\">\n  <thead>\n    <tr style=\"text-align: right;\">\n      <th></th>\n      <th>mode</th>\n      <th>count</th>\n      <th>acousticness</th>\n      <th>artists</th>\n      <th>danceability</th>\n      <th>duration_ms</th>\n      <th>energy</th>\n      <th>instrumentalness</th>\n      <th>liveness</th>\n      <th>loudness</th>\n      <th>speechiness</th>\n      <th>tempo</th>\n      <th>valence</th>\n      <th>popularity</th>\n      <th>key</th>\n    </tr>\n  </thead>\n  <tbody>\n    <tr>\n      <th>0</th>\n      <td>1</td>\n      <td>9</td>\n      <td>0.590111</td>\n      <td>Cats 1981 Original London Cast</td>\n      <td>0.467222</td>\n      <td>250318.555556</td>\n      <td>0.394003</td>\n      <td>0.011400</td>\n      <td>0.290833</td>\n      <td>-14.448000</td>\n      <td>0.210389</td>\n      <td>117.518111</td>\n      <td>0.389500</td>\n      <td>38.333333</td>\n      <td>5</td>\n    </tr>\n    <tr>\n      <th>1</th>\n      <td>1</td>\n      <td>26</td>\n      <td>0.862538</td>\n      <td>Cats 1983 Broadway Cast</td>\n      <td>0.441731</td>\n      <td>287280.000000</td>\n      <td>0.406808</td>\n      <td>0.081158</td>\n      <td>0.315215</td>\n      <td>-10.690000</td>\n      <td>0.176212</td>\n      <td>103.044154</td>\n      <td>0.268865</td>\n      <td>30.576923</td>\n      <td>5</td>\n    </tr>\n    <tr>\n      <th>2</th>\n      <td>1</td>\n      <td>7</td>\n      <td>0.856571</td>\n      <td>Fiddler On The Roof” Motion Picture Chorus</td>\n      <td>0.348286</td>\n      <td>328920.000000</td>\n      <td>0.286571</td>\n      <td>0.024593</td>\n      <td>0.325786</td>\n      <td>-15.230714</td>\n      <td>0.118514</td>\n      <td>77.375857</td>\n      <td>0.354857</td>\n      <td>34.857143</td>\n      <td>0</td>\n    </tr>\n    <tr>\n      <th>3</th>\n      <td>1</td>\n      <td>27</td>\n      <td>0.884926</td>\n      <td>Fiddler On The Roof” Motion Picture Orchestra</td>\n      <td>0.425074</td>\n      <td>262890.962963</td>\n      <td>0.245770</td>\n      <td>0.073587</td>\n      <td>0.275481</td>\n      <td>-15.639370</td>\n      <td>0.123200</td>\n      <td>88.667630</td>\n      <td>0.372030</td>\n      <td>34.851852</td>\n      <td>0</td>\n    </tr>\n    <tr>\n      <th>4</th>\n      <td>1</td>\n      <td>7</td>\n      <td>0.510714</td>\n      <td>Joseph And The Amazing Technicolor Dreamcoat 1...</td>\n      <td>0.467143</td>\n      <td>270436.142857</td>\n      <td>0.488286</td>\n      <td>0.009400</td>\n      <td>0.195000</td>\n      <td>-10.236714</td>\n      <td>0.098543</td>\n      <td>122.835857</td>\n      <td>0.482286</td>\n      <td>43.000000</td>\n      <td>5</td>\n    </tr>\n  </tbody>\n</table>\n</div>",
       "datasetInfos": [],
       "metadata": {},
       "removedWidgets": [],
       "textData": null,
       "type": "htmlSandbox"
      }
     },
     "output_type": "display_data"
    }
   ],
   "source": [
    "# analisando dataframe com as variáveis de interesse para responder pergunta\n",
    "df_artists.head()"
   ]
  },
  {
   "cell_type": "code",
   "execution_count": 0,
   "metadata": {
    "application/vnd.databricks.v1+cell": {
     "cellMetadata": {
      "byteLimit": 2048000,
      "rowLimit": 10000
     },
     "inputWidgets": {},
     "nuid": "1697dad2-1677-427a-bfac-1b969b008c8c",
     "showTitle": false,
     "title": ""
    }
   },
   "outputs": [
    {
     "output_type": "display_data",
     "data": {
      "text/html": [
       "<div>\n",
       "<style scoped>\n",
       "    .dataframe tbody tr th:only-of-type {\n",
       "        vertical-align: middle;\n",
       "    }\n",
       "\n",
       "    .dataframe tbody tr th {\n",
       "        vertical-align: top;\n",
       "    }\n",
       "\n",
       "    .dataframe thead th {\n",
       "        text-align: right;\n",
       "    }\n",
       "</style>\n",
       "<table border=\"1\" class=\"dataframe\">\n",
       "  <thead>\n",
       "    <tr style=\"text-align: right;\">\n",
       "      <th></th>\n",
       "      <th>mode</th>\n",
       "      <th>count</th>\n",
       "      <th>acousticness</th>\n",
       "      <th>artists</th>\n",
       "      <th>danceability</th>\n",
       "      <th>duration_ms</th>\n",
       "      <th>energy</th>\n",
       "      <th>instrumentalness</th>\n",
       "      <th>liveness</th>\n",
       "      <th>loudness</th>\n",
       "      <th>speechiness</th>\n",
       "      <th>tempo</th>\n",
       "      <th>valence</th>\n",
       "      <th>popularity</th>\n",
       "      <th>key</th>\n",
       "    </tr>\n",
       "  </thead>\n",
       "  <tbody>\n",
       "    <tr>\n",
       "      <th>8367</th>\n",
       "      <td>1</td>\n",
       "      <td>3169</td>\n",
       "      <td>0.984282</td>\n",
       "      <td>Francisco Canaro</td>\n",
       "      <td>0.659676</td>\n",
       "      <td>176986.345850</td>\n",
       "      <td>0.287555</td>\n",
       "      <td>0.537988</td>\n",
       "      <td>0.199492</td>\n",
       "      <td>-12.043738</td>\n",
       "      <td>0.110533</td>\n",
       "      <td>122.743169</td>\n",
       "      <td>0.745212</td>\n",
       "      <td>0.061849</td>\n",
       "      <td>2</td>\n",
       "    </tr>\n",
       "    <tr>\n",
       "      <th>28561</th>\n",
       "      <td>1</td>\n",
       "      <td>2422</td>\n",
       "      <td>0.353916</td>\n",
       "      <td>Эрнест Хемингуэй</td>\n",
       "      <td>0.696773</td>\n",
       "      <td>115936.962015</td>\n",
       "      <td>0.188971</td>\n",
       "      <td>0.000027</td>\n",
       "      <td>0.373329</td>\n",
       "      <td>-18.237630</td>\n",
       "      <td>0.926229</td>\n",
       "      <td>111.847911</td>\n",
       "      <td>0.583885</td>\n",
       "      <td>0.066061</td>\n",
       "      <td>11</td>\n",
       "    </tr>\n",
       "    <tr>\n",
       "      <th>28560</th>\n",
       "      <td>1</td>\n",
       "      <td>2136</td>\n",
       "      <td>0.297365</td>\n",
       "      <td>Эрих Мария Ремарк</td>\n",
       "      <td>0.693738</td>\n",
       "      <td>121013.185393</td>\n",
       "      <td>0.200289</td>\n",
       "      <td>0.000230</td>\n",
       "      <td>0.195630</td>\n",
       "      <td>-19.259112</td>\n",
       "      <td>0.921277</td>\n",
       "      <td>110.717091</td>\n",
       "      <td>0.536381</td>\n",
       "      <td>0.000000</td>\n",
       "      <td>0</td>\n",
       "    </tr>\n",
       "    <tr>\n",
       "      <th>8434</th>\n",
       "      <td>1</td>\n",
       "      <td>1459</td>\n",
       "      <td>0.738865</td>\n",
       "      <td>Frank Sinatra</td>\n",
       "      <td>0.385232</td>\n",
       "      <td>189282.134339</td>\n",
       "      <td>0.236152</td>\n",
       "      <td>0.021148</td>\n",
       "      <td>0.230828</td>\n",
       "      <td>-14.335969</td>\n",
       "      <td>0.049029</td>\n",
       "      <td>109.394801</td>\n",
       "      <td>0.364991</td>\n",
       "      <td>28.658670</td>\n",
       "      <td>5</td>\n",
       "    </tr>\n",
       "    <tr>\n",
       "      <th>10714</th>\n",
       "      <td>1</td>\n",
       "      <td>1256</td>\n",
       "      <td>0.985169</td>\n",
       "      <td>Ignacio Corsini</td>\n",
       "      <td>0.545475</td>\n",
       "      <td>154560.711783</td>\n",
       "      <td>0.187842</td>\n",
       "      <td>0.425159</td>\n",
       "      <td>0.182707</td>\n",
       "      <td>-20.862591</td>\n",
       "      <td>0.121051</td>\n",
       "      <td>106.514583</td>\n",
       "      <td>0.638670</td>\n",
       "      <td>0.031847</td>\n",
       "      <td>5</td>\n",
       "    </tr>\n",
       "  </tbody>\n",
       "</table>\n",
       "</div>"
      ]
     },
     "metadata": {
      "application/vnd.databricks.v1+output": {
       "addedWidgets": {},
       "arguments": {},
       "data": "<div>\n<style scoped>\n    .dataframe tbody tr th:only-of-type {\n        vertical-align: middle;\n    }\n\n    .dataframe tbody tr th {\n        vertical-align: top;\n    }\n\n    .dataframe thead th {\n        text-align: right;\n    }\n</style>\n<table border=\"1\" class=\"dataframe\">\n  <thead>\n    <tr style=\"text-align: right;\">\n      <th></th>\n      <th>mode</th>\n      <th>count</th>\n      <th>acousticness</th>\n      <th>artists</th>\n      <th>danceability</th>\n      <th>duration_ms</th>\n      <th>energy</th>\n      <th>instrumentalness</th>\n      <th>liveness</th>\n      <th>loudness</th>\n      <th>speechiness</th>\n      <th>tempo</th>\n      <th>valence</th>\n      <th>popularity</th>\n      <th>key</th>\n    </tr>\n  </thead>\n  <tbody>\n    <tr>\n      <th>8367</th>\n      <td>1</td>\n      <td>3169</td>\n      <td>0.984282</td>\n      <td>Francisco Canaro</td>\n      <td>0.659676</td>\n      <td>176986.345850</td>\n      <td>0.287555</td>\n      <td>0.537988</td>\n      <td>0.199492</td>\n      <td>-12.043738</td>\n      <td>0.110533</td>\n      <td>122.743169</td>\n      <td>0.745212</td>\n      <td>0.061849</td>\n      <td>2</td>\n    </tr>\n    <tr>\n      <th>28561</th>\n      <td>1</td>\n      <td>2422</td>\n      <td>0.353916</td>\n      <td>Эрнест Хемингуэй</td>\n      <td>0.696773</td>\n      <td>115936.962015</td>\n      <td>0.188971</td>\n      <td>0.000027</td>\n      <td>0.373329</td>\n      <td>-18.237630</td>\n      <td>0.926229</td>\n      <td>111.847911</td>\n      <td>0.583885</td>\n      <td>0.066061</td>\n      <td>11</td>\n    </tr>\n    <tr>\n      <th>28560</th>\n      <td>1</td>\n      <td>2136</td>\n      <td>0.297365</td>\n      <td>Эрих Мария Ремарк</td>\n      <td>0.693738</td>\n      <td>121013.185393</td>\n      <td>0.200289</td>\n      <td>0.000230</td>\n      <td>0.195630</td>\n      <td>-19.259112</td>\n      <td>0.921277</td>\n      <td>110.717091</td>\n      <td>0.536381</td>\n      <td>0.000000</td>\n      <td>0</td>\n    </tr>\n    <tr>\n      <th>8434</th>\n      <td>1</td>\n      <td>1459</td>\n      <td>0.738865</td>\n      <td>Frank Sinatra</td>\n      <td>0.385232</td>\n      <td>189282.134339</td>\n      <td>0.236152</td>\n      <td>0.021148</td>\n      <td>0.230828</td>\n      <td>-14.335969</td>\n      <td>0.049029</td>\n      <td>109.394801</td>\n      <td>0.364991</td>\n      <td>28.658670</td>\n      <td>5</td>\n    </tr>\n    <tr>\n      <th>10714</th>\n      <td>1</td>\n      <td>1256</td>\n      <td>0.985169</td>\n      <td>Ignacio Corsini</td>\n      <td>0.545475</td>\n      <td>154560.711783</td>\n      <td>0.187842</td>\n      <td>0.425159</td>\n      <td>0.182707</td>\n      <td>-20.862591</td>\n      <td>0.121051</td>\n      <td>106.514583</td>\n      <td>0.638670</td>\n      <td>0.031847</td>\n      <td>5</td>\n    </tr>\n  </tbody>\n</table>\n</div>",
       "datasetInfos": [],
       "metadata": {},
       "removedWidgets": [],
       "textData": null,
       "type": "htmlSandbox"
      }
     },
     "output_type": "display_data"
    }
   ],
   "source": [
    "# criando novo dataframe com os dados classificados em ordem decrescente pela variável 'count'\n",
    "artista_ordenado = df_artists.sort_values(by = 'count', ascending=False)\n",
    "artista_ordenado.head()"
   ]
  },
  {
   "cell_type": "code",
   "execution_count": 0,
   "metadata": {
    "application/vnd.databricks.v1+cell": {
     "cellMetadata": {
      "byteLimit": 2048000,
      "rowLimit": 10000
     },
     "inputWidgets": {},
     "nuid": "04be1ee8-2684-42b8-8ab6-5915ae60ddc3",
     "showTitle": false,
     "title": ""
    }
   },
   "outputs": [
    {
     "output_type": "display_data",
     "data": {
      "text/html": [
       "<div>\n",
       "<style scoped>\n",
       "    .dataframe tbody tr th:only-of-type {\n",
       "        vertical-align: middle;\n",
       "    }\n",
       "\n",
       "    .dataframe tbody tr th {\n",
       "        vertical-align: top;\n",
       "    }\n",
       "\n",
       "    .dataframe thead th {\n",
       "        text-align: right;\n",
       "    }\n",
       "</style>\n",
       "<table border=\"1\" class=\"dataframe\">\n",
       "  <thead>\n",
       "    <tr style=\"text-align: right;\">\n",
       "      <th></th>\n",
       "      <th>mode</th>\n",
       "      <th>count</th>\n",
       "      <th>acousticness</th>\n",
       "      <th>artists</th>\n",
       "      <th>danceability</th>\n",
       "      <th>duration_ms</th>\n",
       "      <th>energy</th>\n",
       "      <th>instrumentalness</th>\n",
       "      <th>liveness</th>\n",
       "      <th>loudness</th>\n",
       "      <th>speechiness</th>\n",
       "      <th>tempo</th>\n",
       "      <th>valence</th>\n",
       "      <th>popularity</th>\n",
       "      <th>key</th>\n",
       "    </tr>\n",
       "  </thead>\n",
       "  <tbody>\n",
       "    <tr>\n",
       "      <th>8367</th>\n",
       "      <td>1</td>\n",
       "      <td>3169</td>\n",
       "      <td>0.984282</td>\n",
       "      <td>Francisco Canaro</td>\n",
       "      <td>0.659676</td>\n",
       "      <td>176986.345850</td>\n",
       "      <td>0.287555</td>\n",
       "      <td>0.537988</td>\n",
       "      <td>0.199492</td>\n",
       "      <td>-12.043738</td>\n",
       "      <td>0.110533</td>\n",
       "      <td>122.743169</td>\n",
       "      <td>0.745212</td>\n",
       "      <td>0.061849</td>\n",
       "      <td>2</td>\n",
       "    </tr>\n",
       "    <tr>\n",
       "      <th>28561</th>\n",
       "      <td>1</td>\n",
       "      <td>2422</td>\n",
       "      <td>0.353916</td>\n",
       "      <td>Эрнест Хемингуэй</td>\n",
       "      <td>0.696773</td>\n",
       "      <td>115936.962015</td>\n",
       "      <td>0.188971</td>\n",
       "      <td>0.000027</td>\n",
       "      <td>0.373329</td>\n",
       "      <td>-18.237630</td>\n",
       "      <td>0.926229</td>\n",
       "      <td>111.847911</td>\n",
       "      <td>0.583885</td>\n",
       "      <td>0.066061</td>\n",
       "      <td>11</td>\n",
       "    </tr>\n",
       "    <tr>\n",
       "      <th>28560</th>\n",
       "      <td>1</td>\n",
       "      <td>2136</td>\n",
       "      <td>0.297365</td>\n",
       "      <td>Эрих Мария Ремарк</td>\n",
       "      <td>0.693738</td>\n",
       "      <td>121013.185393</td>\n",
       "      <td>0.200289</td>\n",
       "      <td>0.000230</td>\n",
       "      <td>0.195630</td>\n",
       "      <td>-19.259112</td>\n",
       "      <td>0.921277</td>\n",
       "      <td>110.717091</td>\n",
       "      <td>0.536381</td>\n",
       "      <td>0.000000</td>\n",
       "      <td>0</td>\n",
       "    </tr>\n",
       "    <tr>\n",
       "      <th>8434</th>\n",
       "      <td>1</td>\n",
       "      <td>1459</td>\n",
       "      <td>0.738865</td>\n",
       "      <td>Frank Sinatra</td>\n",
       "      <td>0.385232</td>\n",
       "      <td>189282.134339</td>\n",
       "      <td>0.236152</td>\n",
       "      <td>0.021148</td>\n",
       "      <td>0.230828</td>\n",
       "      <td>-14.335969</td>\n",
       "      <td>0.049029</td>\n",
       "      <td>109.394801</td>\n",
       "      <td>0.364991</td>\n",
       "      <td>28.658670</td>\n",
       "      <td>5</td>\n",
       "    </tr>\n",
       "    <tr>\n",
       "      <th>10714</th>\n",
       "      <td>1</td>\n",
       "      <td>1256</td>\n",
       "      <td>0.985169</td>\n",
       "      <td>Ignacio Corsini</td>\n",
       "      <td>0.545475</td>\n",
       "      <td>154560.711783</td>\n",
       "      <td>0.187842</td>\n",
       "      <td>0.425159</td>\n",
       "      <td>0.182707</td>\n",
       "      <td>-20.862591</td>\n",
       "      <td>0.121051</td>\n",
       "      <td>106.514583</td>\n",
       "      <td>0.638670</td>\n",
       "      <td>0.031847</td>\n",
       "      <td>5</td>\n",
       "    </tr>\n",
       "    <tr>\n",
       "      <th>27109</th>\n",
       "      <td>1</td>\n",
       "      <td>1200</td>\n",
       "      <td>0.990092</td>\n",
       "      <td>Vladimir Horowitz</td>\n",
       "      <td>0.343624</td>\n",
       "      <td>266650.370833</td>\n",
       "      <td>0.118341</td>\n",
       "      <td>0.879898</td>\n",
       "      <td>0.182788</td>\n",
       "      <td>-23.190868</td>\n",
       "      <td>0.043228</td>\n",
       "      <td>94.845258</td>\n",
       "      <td>0.224994</td>\n",
       "      <td>3.694167</td>\n",
       "      <td>1</td>\n",
       "    </tr>\n",
       "    <tr>\n",
       "      <th>1682</th>\n",
       "      <td>1</td>\n",
       "      <td>1146</td>\n",
       "      <td>0.917843</td>\n",
       "      <td>Arturo Toscanini</td>\n",
       "      <td>0.315980</td>\n",
       "      <td>309308.737347</td>\n",
       "      <td>0.203463</td>\n",
       "      <td>0.474637</td>\n",
       "      <td>0.280793</td>\n",
       "      <td>-17.185234</td>\n",
       "      <td>0.058348</td>\n",
       "      <td>102.235789</td>\n",
       "      <td>0.283423</td>\n",
       "      <td>0.240838</td>\n",
       "      <td>0</td>\n",
       "    </tr>\n",
       "    <tr>\n",
       "      <th>2707</th>\n",
       "      <td>1</td>\n",
       "      <td>1103</td>\n",
       "      <td>0.908776</td>\n",
       "      <td>Billie Holiday</td>\n",
       "      <td>0.571550</td>\n",
       "      <td>185677.068903</td>\n",
       "      <td>0.202251</td>\n",
       "      <td>0.013111</td>\n",
       "      <td>0.217323</td>\n",
       "      <td>-13.221339</td>\n",
       "      <td>0.062274</td>\n",
       "      <td>109.883821</td>\n",
       "      <td>0.498693</td>\n",
       "      <td>16.780598</td>\n",
       "      <td>5</td>\n",
       "    </tr>\n",
       "    <tr>\n",
       "      <th>12378</th>\n",
       "      <td>1</td>\n",
       "      <td>1061</td>\n",
       "      <td>0.688296</td>\n",
       "      <td>Johnny Cash</td>\n",
       "      <td>0.620759</td>\n",
       "      <td>164491.506126</td>\n",
       "      <td>0.443462</td>\n",
       "      <td>0.017630</td>\n",
       "      <td>0.239843</td>\n",
       "      <td>-11.663137</td>\n",
       "      <td>0.095992</td>\n",
       "      <td>114.508436</td>\n",
       "      <td>0.672277</td>\n",
       "      <td>26.914232</td>\n",
       "      <td>10</td>\n",
       "    </tr>\n",
       "    <tr>\n",
       "      <th>7426</th>\n",
       "      <td>1</td>\n",
       "      <td>1023</td>\n",
       "      <td>0.738890</td>\n",
       "      <td>Elvis Presley</td>\n",
       "      <td>0.493966</td>\n",
       "      <td>157592.318671</td>\n",
       "      <td>0.424834</td>\n",
       "      <td>0.053483</td>\n",
       "      <td>0.245853</td>\n",
       "      <td>-12.921860</td>\n",
       "      <td>0.057361</td>\n",
       "      <td>112.397270</td>\n",
       "      <td>0.617856</td>\n",
       "      <td>34.019550</td>\n",
       "      <td>0</td>\n",
       "    </tr>\n",
       "  </tbody>\n",
       "</table>\n",
       "</div>"
      ]
     },
     "metadata": {
      "application/vnd.databricks.v1+output": {
       "addedWidgets": {},
       "arguments": {},
       "data": "<div>\n<style scoped>\n    .dataframe tbody tr th:only-of-type {\n        vertical-align: middle;\n    }\n\n    .dataframe tbody tr th {\n        vertical-align: top;\n    }\n\n    .dataframe thead th {\n        text-align: right;\n    }\n</style>\n<table border=\"1\" class=\"dataframe\">\n  <thead>\n    <tr style=\"text-align: right;\">\n      <th></th>\n      <th>mode</th>\n      <th>count</th>\n      <th>acousticness</th>\n      <th>artists</th>\n      <th>danceability</th>\n      <th>duration_ms</th>\n      <th>energy</th>\n      <th>instrumentalness</th>\n      <th>liveness</th>\n      <th>loudness</th>\n      <th>speechiness</th>\n      <th>tempo</th>\n      <th>valence</th>\n      <th>popularity</th>\n      <th>key</th>\n    </tr>\n  </thead>\n  <tbody>\n    <tr>\n      <th>8367</th>\n      <td>1</td>\n      <td>3169</td>\n      <td>0.984282</td>\n      <td>Francisco Canaro</td>\n      <td>0.659676</td>\n      <td>176986.345850</td>\n      <td>0.287555</td>\n      <td>0.537988</td>\n      <td>0.199492</td>\n      <td>-12.043738</td>\n      <td>0.110533</td>\n      <td>122.743169</td>\n      <td>0.745212</td>\n      <td>0.061849</td>\n      <td>2</td>\n    </tr>\n    <tr>\n      <th>28561</th>\n      <td>1</td>\n      <td>2422</td>\n      <td>0.353916</td>\n      <td>Эрнест Хемингуэй</td>\n      <td>0.696773</td>\n      <td>115936.962015</td>\n      <td>0.188971</td>\n      <td>0.000027</td>\n      <td>0.373329</td>\n      <td>-18.237630</td>\n      <td>0.926229</td>\n      <td>111.847911</td>\n      <td>0.583885</td>\n      <td>0.066061</td>\n      <td>11</td>\n    </tr>\n    <tr>\n      <th>28560</th>\n      <td>1</td>\n      <td>2136</td>\n      <td>0.297365</td>\n      <td>Эрих Мария Ремарк</td>\n      <td>0.693738</td>\n      <td>121013.185393</td>\n      <td>0.200289</td>\n      <td>0.000230</td>\n      <td>0.195630</td>\n      <td>-19.259112</td>\n      <td>0.921277</td>\n      <td>110.717091</td>\n      <td>0.536381</td>\n      <td>0.000000</td>\n      <td>0</td>\n    </tr>\n    <tr>\n      <th>8434</th>\n      <td>1</td>\n      <td>1459</td>\n      <td>0.738865</td>\n      <td>Frank Sinatra</td>\n      <td>0.385232</td>\n      <td>189282.134339</td>\n      <td>0.236152</td>\n      <td>0.021148</td>\n      <td>0.230828</td>\n      <td>-14.335969</td>\n      <td>0.049029</td>\n      <td>109.394801</td>\n      <td>0.364991</td>\n      <td>28.658670</td>\n      <td>5</td>\n    </tr>\n    <tr>\n      <th>10714</th>\n      <td>1</td>\n      <td>1256</td>\n      <td>0.985169</td>\n      <td>Ignacio Corsini</td>\n      <td>0.545475</td>\n      <td>154560.711783</td>\n      <td>0.187842</td>\n      <td>0.425159</td>\n      <td>0.182707</td>\n      <td>-20.862591</td>\n      <td>0.121051</td>\n      <td>106.514583</td>\n      <td>0.638670</td>\n      <td>0.031847</td>\n      <td>5</td>\n    </tr>\n    <tr>\n      <th>27109</th>\n      <td>1</td>\n      <td>1200</td>\n      <td>0.990092</td>\n      <td>Vladimir Horowitz</td>\n      <td>0.343624</td>\n      <td>266650.370833</td>\n      <td>0.118341</td>\n      <td>0.879898</td>\n      <td>0.182788</td>\n      <td>-23.190868</td>\n      <td>0.043228</td>\n      <td>94.845258</td>\n      <td>0.224994</td>\n      <td>3.694167</td>\n      <td>1</td>\n    </tr>\n    <tr>\n      <th>1682</th>\n      <td>1</td>\n      <td>1146</td>\n      <td>0.917843</td>\n      <td>Arturo Toscanini</td>\n      <td>0.315980</td>\n      <td>309308.737347</td>\n      <td>0.203463</td>\n      <td>0.474637</td>\n      <td>0.280793</td>\n      <td>-17.185234</td>\n      <td>0.058348</td>\n      <td>102.235789</td>\n      <td>0.283423</td>\n      <td>0.240838</td>\n      <td>0</td>\n    </tr>\n    <tr>\n      <th>2707</th>\n      <td>1</td>\n      <td>1103</td>\n      <td>0.908776</td>\n      <td>Billie Holiday</td>\n      <td>0.571550</td>\n      <td>185677.068903</td>\n      <td>0.202251</td>\n      <td>0.013111</td>\n      <td>0.217323</td>\n      <td>-13.221339</td>\n      <td>0.062274</td>\n      <td>109.883821</td>\n      <td>0.498693</td>\n      <td>16.780598</td>\n      <td>5</td>\n    </tr>\n    <tr>\n      <th>12378</th>\n      <td>1</td>\n      <td>1061</td>\n      <td>0.688296</td>\n      <td>Johnny Cash</td>\n      <td>0.620759</td>\n      <td>164491.506126</td>\n      <td>0.443462</td>\n      <td>0.017630</td>\n      <td>0.239843</td>\n      <td>-11.663137</td>\n      <td>0.095992</td>\n      <td>114.508436</td>\n      <td>0.672277</td>\n      <td>26.914232</td>\n      <td>10</td>\n    </tr>\n    <tr>\n      <th>7426</th>\n      <td>1</td>\n      <td>1023</td>\n      <td>0.738890</td>\n      <td>Elvis Presley</td>\n      <td>0.493966</td>\n      <td>157592.318671</td>\n      <td>0.424834</td>\n      <td>0.053483</td>\n      <td>0.245853</td>\n      <td>-12.921860</td>\n      <td>0.057361</td>\n      <td>112.397270</td>\n      <td>0.617856</td>\n      <td>34.019550</td>\n      <td>0</td>\n    </tr>\n  </tbody>\n</table>\n</div>",
       "datasetInfos": [],
       "metadata": {},
       "removedWidgets": [],
       "textData": null,
       "type": "htmlSandbox"
      }
     },
     "output_type": "display_data"
    }
   ],
   "source": [
    "# seleção dos top 10 artistas com mais músicas no conjunto de dados utilizando a variável 'count'\n",
    "top_artista = artista_ordenado.iloc[0:10]\n",
    "top_artista"
   ]
  },
  {
   "cell_type": "code",
   "execution_count": 0,
   "metadata": {
    "application/vnd.databricks.v1+cell": {
     "cellMetadata": {
      "byteLimit": 2048000,
      "rowLimit": 10000
     },
     "inputWidgets": {},
     "nuid": "a80f9d47-1a1f-4b25-8345-c5809f9f9d7c",
     "showTitle": false,
     "title": ""
    }
   },
   "outputs": [
    {
     "output_type": "display_data",
     "data": {
      "text/html": [
       "<html>\n",
       "<head><meta charset=\"utf-8\" /></head>\n",
       "<body>\n",
       "    <div>            <script src=\"https://cdnjs.cloudflare.com/ajax/libs/mathjax/2.7.5/MathJax.js?config=TeX-AMS-MML_SVG\"></script><script type=\"text/javascript\">if (window.MathJax) {MathJax.Hub.Config({SVG: {font: \"STIX-Web\"}});}</script>                <script type=\"text/javascript\">window.PlotlyConfig = {MathJaxConfig: 'local'};</script>\n",
       "        <script src=\"https://cdn.plot.ly/plotly-2.9.0.min.js\"></script>                <div id=\"8974717d-764e-4cad-a3eb-62a0dc8de7f5\" class=\"plotly-graph-div\" style=\"height:100%; width:100%;\"></div>            <script type=\"text/javascript\">                                    window.PLOTLYENV=window.PLOTLYENV || {};                                    if (document.getElementById(\"8974717d-764e-4cad-a3eb-62a0dc8de7f5\")) {                    Plotly.newPlot(                        \"8974717d-764e-4cad-a3eb-62a0dc8de7f5\",                        [{\"alignmentgroup\":\"True\",\"hovertemplate\":\"count=%{x}<br>artists=%{y}<extra></extra>\",\"legendgroup\":\"\",\"marker\":{\"color\":\"#636efa\",\"pattern\":{\"shape\":\"\"}},\"name\":\"\",\"offsetgroup\":\"\",\"orientation\":\"h\",\"showlegend\":false,\"textposition\":\"auto\",\"x\":[3169,2422,2136,1459,1256,1200,1146,1103,1061,1023],\"xaxis\":\"x\",\"y\":[\"Francisco Canaro\",\"\\u042d\\u0440\\u043d\\u0435\\u0441\\u0442 \\u0425\\u0435\\u043c\\u0438\\u043d\\u0433\\u0443\\u044d\\u0439\",\"\\u042d\\u0440\\u0438\\u0445 \\u041c\\u0430\\u0440\\u0438\\u044f \\u0420\\u0435\\u043c\\u0430\\u0440\\u043a\",\"Frank Sinatra\",\"Ignacio Corsini\",\"Vladimir Horowitz\",\"Arturo Toscanini\",\"Billie Holiday\",\"Johnny Cash\",\"Elvis Presley\"],\"yaxis\":\"y\",\"type\":\"bar\"}],                        {\"template\":{\"data\":{\"bar\":[{\"error_x\":{\"color\":\"#2a3f5f\"},\"error_y\":{\"color\":\"#2a3f5f\"},\"marker\":{\"line\":{\"color\":\"#E5ECF6\",\"width\":0.5},\"pattern\":{\"fillmode\":\"overlay\",\"size\":10,\"solidity\":0.2}},\"type\":\"bar\"}],\"barpolar\":[{\"marker\":{\"line\":{\"color\":\"#E5ECF6\",\"width\":0.5},\"pattern\":{\"fillmode\":\"overlay\",\"size\":10,\"solidity\":0.2}},\"type\":\"barpolar\"}],\"carpet\":[{\"aaxis\":{\"endlinecolor\":\"#2a3f5f\",\"gridcolor\":\"white\",\"linecolor\":\"white\",\"minorgridcolor\":\"white\",\"startlinecolor\":\"#2a3f5f\"},\"baxis\":{\"endlinecolor\":\"#2a3f5f\",\"gridcolor\":\"white\",\"linecolor\":\"white\",\"minorgridcolor\":\"white\",\"startlinecolor\":\"#2a3f5f\"},\"type\":\"carpet\"}],\"choropleth\":[{\"colorbar\":{\"outlinewidth\":0,\"ticks\":\"\"},\"type\":\"choropleth\"}],\"contour\":[{\"colorbar\":{\"outlinewidth\":0,\"ticks\":\"\"},\"colorscale\":[[0.0,\"#0d0887\"],[0.1111111111111111,\"#46039f\"],[0.2222222222222222,\"#7201a8\"],[0.3333333333333333,\"#9c179e\"],[0.4444444444444444,\"#bd3786\"],[0.5555555555555556,\"#d8576b\"],[0.6666666666666666,\"#ed7953\"],[0.7777777777777778,\"#fb9f3a\"],[0.8888888888888888,\"#fdca26\"],[1.0,\"#f0f921\"]],\"type\":\"contour\"}],\"contourcarpet\":[{\"colorbar\":{\"outlinewidth\":0,\"ticks\":\"\"},\"type\":\"contourcarpet\"}],\"heatmap\":[{\"colorbar\":{\"outlinewidth\":0,\"ticks\":\"\"},\"colorscale\":[[0.0,\"#0d0887\"],[0.1111111111111111,\"#46039f\"],[0.2222222222222222,\"#7201a8\"],[0.3333333333333333,\"#9c179e\"],[0.4444444444444444,\"#bd3786\"],[0.5555555555555556,\"#d8576b\"],[0.6666666666666666,\"#ed7953\"],[0.7777777777777778,\"#fb9f3a\"],[0.8888888888888888,\"#fdca26\"],[1.0,\"#f0f921\"]],\"type\":\"heatmap\"}],\"heatmapgl\":[{\"colorbar\":{\"outlinewidth\":0,\"ticks\":\"\"},\"colorscale\":[[0.0,\"#0d0887\"],[0.1111111111111111,\"#46039f\"],[0.2222222222222222,\"#7201a8\"],[0.3333333333333333,\"#9c179e\"],[0.4444444444444444,\"#bd3786\"],[0.5555555555555556,\"#d8576b\"],[0.6666666666666666,\"#ed7953\"],[0.7777777777777778,\"#fb9f3a\"],[0.8888888888888888,\"#fdca26\"],[1.0,\"#f0f921\"]],\"type\":\"heatmapgl\"}],\"histogram\":[{\"marker\":{\"pattern\":{\"fillmode\":\"overlay\",\"size\":10,\"solidity\":0.2}},\"type\":\"histogram\"}],\"histogram2d\":[{\"colorbar\":{\"outlinewidth\":0,\"ticks\":\"\"},\"colorscale\":[[0.0,\"#0d0887\"],[0.1111111111111111,\"#46039f\"],[0.2222222222222222,\"#7201a8\"],[0.3333333333333333,\"#9c179e\"],[0.4444444444444444,\"#bd3786\"],[0.5555555555555556,\"#d8576b\"],[0.6666666666666666,\"#ed7953\"],[0.7777777777777778,\"#fb9f3a\"],[0.8888888888888888,\"#fdca26\"],[1.0,\"#f0f921\"]],\"type\":\"histogram2d\"}],\"histogram2dcontour\":[{\"colorbar\":{\"outlinewidth\":0,\"ticks\":\"\"},\"colorscale\":[[0.0,\"#0d0887\"],[0.1111111111111111,\"#46039f\"],[0.2222222222222222,\"#7201a8\"],[0.3333333333333333,\"#9c179e\"],[0.4444444444444444,\"#bd3786\"],[0.5555555555555556,\"#d8576b\"],[0.6666666666666666,\"#ed7953\"],[0.7777777777777778,\"#fb9f3a\"],[0.8888888888888888,\"#fdca26\"],[1.0,\"#f0f921\"]],\"type\":\"histogram2dcontour\"}],\"mesh3d\":[{\"colorbar\":{\"outlinewidth\":0,\"ticks\":\"\"},\"type\":\"mesh3d\"}],\"parcoords\":[{\"line\":{\"colorbar\":{\"outlinewidth\":0,\"ticks\":\"\"}},\"type\":\"parcoords\"}],\"pie\":[{\"automargin\":true,\"type\":\"pie\"}],\"scatter\":[{\"marker\":{\"colorbar\":{\"outlinewidth\":0,\"ticks\":\"\"}},\"type\":\"scatter\"}],\"scatter3d\":[{\"line\":{\"colorbar\":{\"outlinewidth\":0,\"ticks\":\"\"}},\"marker\":{\"colorbar\":{\"outlinewidth\":0,\"ticks\":\"\"}},\"type\":\"scatter3d\"}],\"scattercarpet\":[{\"marker\":{\"colorbar\":{\"outlinewidth\":0,\"ticks\":\"\"}},\"type\":\"scattercarpet\"}],\"scattergeo\":[{\"marker\":{\"colorbar\":{\"outlinewidth\":0,\"ticks\":\"\"}},\"type\":\"scattergeo\"}],\"scattergl\":[{\"marker\":{\"colorbar\":{\"outlinewidth\":0,\"ticks\":\"\"}},\"type\":\"scattergl\"}],\"scattermapbox\":[{\"marker\":{\"colorbar\":{\"outlinewidth\":0,\"ticks\":\"\"}},\"type\":\"scattermapbox\"}],\"scatterpolar\":[{\"marker\":{\"colorbar\":{\"outlinewidth\":0,\"ticks\":\"\"}},\"type\":\"scatterpolar\"}],\"scatterpolargl\":[{\"marker\":{\"colorbar\":{\"outlinewidth\":0,\"ticks\":\"\"}},\"type\":\"scatterpolargl\"}],\"scatterternary\":[{\"marker\":{\"colorbar\":{\"outlinewidth\":0,\"ticks\":\"\"}},\"type\":\"scatterternary\"}],\"surface\":[{\"colorbar\":{\"outlinewidth\":0,\"ticks\":\"\"},\"colorscale\":[[0.0,\"#0d0887\"],[0.1111111111111111,\"#46039f\"],[0.2222222222222222,\"#7201a8\"],[0.3333333333333333,\"#9c179e\"],[0.4444444444444444,\"#bd3786\"],[0.5555555555555556,\"#d8576b\"],[0.6666666666666666,\"#ed7953\"],[0.7777777777777778,\"#fb9f3a\"],[0.8888888888888888,\"#fdca26\"],[1.0,\"#f0f921\"]],\"type\":\"surface\"}],\"table\":[{\"cells\":{\"fill\":{\"color\":\"#EBF0F8\"},\"line\":{\"color\":\"white\"}},\"header\":{\"fill\":{\"color\":\"#C8D4E3\"},\"line\":{\"color\":\"white\"}},\"type\":\"table\"}]},\"layout\":{\"annotationdefaults\":{\"arrowcolor\":\"#2a3f5f\",\"arrowhead\":0,\"arrowwidth\":1},\"autotypenumbers\":\"strict\",\"coloraxis\":{\"colorbar\":{\"outlinewidth\":0,\"ticks\":\"\"}},\"colorscale\":{\"diverging\":[[0,\"#8e0152\"],[0.1,\"#c51b7d\"],[0.2,\"#de77ae\"],[0.3,\"#f1b6da\"],[0.4,\"#fde0ef\"],[0.5,\"#f7f7f7\"],[0.6,\"#e6f5d0\"],[0.7,\"#b8e186\"],[0.8,\"#7fbc41\"],[0.9,\"#4d9221\"],[1,\"#276419\"]],\"sequential\":[[0.0,\"#0d0887\"],[0.1111111111111111,\"#46039f\"],[0.2222222222222222,\"#7201a8\"],[0.3333333333333333,\"#9c179e\"],[0.4444444444444444,\"#bd3786\"],[0.5555555555555556,\"#d8576b\"],[0.6666666666666666,\"#ed7953\"],[0.7777777777777778,\"#fb9f3a\"],[0.8888888888888888,\"#fdca26\"],[1.0,\"#f0f921\"]],\"sequentialminus\":[[0.0,\"#0d0887\"],[0.1111111111111111,\"#46039f\"],[0.2222222222222222,\"#7201a8\"],[0.3333333333333333,\"#9c179e\"],[0.4444444444444444,\"#bd3786\"],[0.5555555555555556,\"#d8576b\"],[0.6666666666666666,\"#ed7953\"],[0.7777777777777778,\"#fb9f3a\"],[0.8888888888888888,\"#fdca26\"],[1.0,\"#f0f921\"]]},\"colorway\":[\"#636efa\",\"#EF553B\",\"#00cc96\",\"#ab63fa\",\"#FFA15A\",\"#19d3f3\",\"#FF6692\",\"#B6E880\",\"#FF97FF\",\"#FECB52\"],\"font\":{\"color\":\"#2a3f5f\"},\"geo\":{\"bgcolor\":\"white\",\"lakecolor\":\"white\",\"landcolor\":\"#E5ECF6\",\"showlakes\":true,\"showland\":true,\"subunitcolor\":\"white\"},\"hoverlabel\":{\"align\":\"left\"},\"hovermode\":\"closest\",\"mapbox\":{\"style\":\"light\"},\"paper_bgcolor\":\"white\",\"plot_bgcolor\":\"#E5ECF6\",\"polar\":{\"angularaxis\":{\"gridcolor\":\"white\",\"linecolor\":\"white\",\"ticks\":\"\"},\"bgcolor\":\"#E5ECF6\",\"radialaxis\":{\"gridcolor\":\"white\",\"linecolor\":\"white\",\"ticks\":\"\"}},\"scene\":{\"xaxis\":{\"backgroundcolor\":\"#E5ECF6\",\"gridcolor\":\"white\",\"gridwidth\":2,\"linecolor\":\"white\",\"showbackground\":true,\"ticks\":\"\",\"zerolinecolor\":\"white\"},\"yaxis\":{\"backgroundcolor\":\"#E5ECF6\",\"gridcolor\":\"white\",\"gridwidth\":2,\"linecolor\":\"white\",\"showbackground\":true,\"ticks\":\"\",\"zerolinecolor\":\"white\"},\"zaxis\":{\"backgroundcolor\":\"#E5ECF6\",\"gridcolor\":\"white\",\"gridwidth\":2,\"linecolor\":\"white\",\"showbackground\":true,\"ticks\":\"\",\"zerolinecolor\":\"white\"}},\"shapedefaults\":{\"line\":{\"color\":\"#2a3f5f\"}},\"ternary\":{\"aaxis\":{\"gridcolor\":\"white\",\"linecolor\":\"white\",\"ticks\":\"\"},\"baxis\":{\"gridcolor\":\"white\",\"linecolor\":\"white\",\"ticks\":\"\"},\"bgcolor\":\"#E5ECF6\",\"caxis\":{\"gridcolor\":\"white\",\"linecolor\":\"white\",\"ticks\":\"\"}},\"title\":{\"x\":0.05},\"xaxis\":{\"automargin\":true,\"gridcolor\":\"white\",\"linecolor\":\"white\",\"ticks\":\"\",\"title\":{\"standoff\":15},\"zerolinecolor\":\"white\",\"zerolinewidth\":2},\"yaxis\":{\"automargin\":true,\"gridcolor\":\"white\",\"linecolor\":\"white\",\"ticks\":\"\",\"title\":{\"standoff\":15},\"zerolinecolor\":\"white\",\"zerolinewidth\":2}}},\"xaxis\":{\"anchor\":\"y\",\"domain\":[0.0,1.0],\"title\":{\"text\":\"count\"}},\"yaxis\":{\"anchor\":\"x\",\"domain\":[0.0,1.0],\"title\":{\"text\":\"artists\"}},\"legend\":{\"tracegroupgap\":0},\"title\":{\"text\":\"Top 10 Artistas\"},\"barmode\":\"relative\"},                        {\"responsive\": true}                    )                };                            </script>        </div>\n",
       "</body>\n",
       "</html>"
      ]
     },
     "metadata": {
      "application/vnd.databricks.v1+output": {
       "addedWidgets": {},
       "arguments": {},
       "data": "<html>\n<head><meta charset=\"utf-8\" /></head>\n<body>\n    <div>            <script src=\"https://cdnjs.cloudflare.com/ajax/libs/mathjax/2.7.5/MathJax.js?config=TeX-AMS-MML_SVG\"></script><script type=\"text/javascript\">if (window.MathJax) {MathJax.Hub.Config({SVG: {font: \"STIX-Web\"}});}</script>                <script type=\"text/javascript\">window.PlotlyConfig = {MathJaxConfig: 'local'};</script>\n        <script src=\"https://cdn.plot.ly/plotly-2.9.0.min.js\"></script>                <div id=\"8974717d-764e-4cad-a3eb-62a0dc8de7f5\" class=\"plotly-graph-div\" style=\"height:100%; width:100%;\"></div>            <script type=\"text/javascript\">                                    window.PLOTLYENV=window.PLOTLYENV || {};                                    if (document.getElementById(\"8974717d-764e-4cad-a3eb-62a0dc8de7f5\")) {                    Plotly.newPlot(                        \"8974717d-764e-4cad-a3eb-62a0dc8de7f5\",                        [{\"alignmentgroup\":\"True\",\"hovertemplate\":\"count=%{x}<br>artists=%{y}<extra></extra>\",\"legendgroup\":\"\",\"marker\":{\"color\":\"#636efa\",\"pattern\":{\"shape\":\"\"}},\"name\":\"\",\"offsetgroup\":\"\",\"orientation\":\"h\",\"showlegend\":false,\"textposition\":\"auto\",\"x\":[3169,2422,2136,1459,1256,1200,1146,1103,1061,1023],\"xaxis\":\"x\",\"y\":[\"Francisco Canaro\",\"\\u042d\\u0440\\u043d\\u0435\\u0441\\u0442 \\u0425\\u0435\\u043c\\u0438\\u043d\\u0433\\u0443\\u044d\\u0439\",\"\\u042d\\u0440\\u0438\\u0445 \\u041c\\u0430\\u0440\\u0438\\u044f \\u0420\\u0435\\u043c\\u0430\\u0440\\u043a\",\"Frank Sinatra\",\"Ignacio Corsini\",\"Vladimir Horowitz\",\"Arturo Toscanini\",\"Billie Holiday\",\"Johnny Cash\",\"Elvis Presley\"],\"yaxis\":\"y\",\"type\":\"bar\"}],                        {\"template\":{\"data\":{\"bar\":[{\"error_x\":{\"color\":\"#2a3f5f\"},\"error_y\":{\"color\":\"#2a3f5f\"},\"marker\":{\"line\":{\"color\":\"#E5ECF6\",\"width\":0.5},\"pattern\":{\"fillmode\":\"overlay\",\"size\":10,\"solidity\":0.2}},\"type\":\"bar\"}],\"barpolar\":[{\"marker\":{\"line\":{\"color\":\"#E5ECF6\",\"width\":0.5},\"pattern\":{\"fillmode\":\"overlay\",\"size\":10,\"solidity\":0.2}},\"type\":\"barpolar\"}],\"carpet\":[{\"aaxis\":{\"endlinecolor\":\"#2a3f5f\",\"gridcolor\":\"white\",\"linecolor\":\"white\",\"minorgridcolor\":\"white\",\"startlinecolor\":\"#2a3f5f\"},\"baxis\":{\"endlinecolor\":\"#2a3f5f\",\"gridcolor\":\"white\",\"linecolor\":\"white\",\"minorgridcolor\":\"white\",\"startlinecolor\":\"#2a3f5f\"},\"type\":\"carpet\"}],\"choropleth\":[{\"colorbar\":{\"outlinewidth\":0,\"ticks\":\"\"},\"type\":\"choropleth\"}],\"contour\":[{\"colorbar\":{\"outlinewidth\":0,\"ticks\":\"\"},\"colorscale\":[[0.0,\"#0d0887\"],[0.1111111111111111,\"#46039f\"],[0.2222222222222222,\"#7201a8\"],[0.3333333333333333,\"#9c179e\"],[0.4444444444444444,\"#bd3786\"],[0.5555555555555556,\"#d8576b\"],[0.6666666666666666,\"#ed7953\"],[0.7777777777777778,\"#fb9f3a\"],[0.8888888888888888,\"#fdca26\"],[1.0,\"#f0f921\"]],\"type\":\"contour\"}],\"contourcarpet\":[{\"colorbar\":{\"outlinewidth\":0,\"ticks\":\"\"},\"type\":\"contourcarpet\"}],\"heatmap\":[{\"colorbar\":{\"outlinewidth\":0,\"ticks\":\"\"},\"colorscale\":[[0.0,\"#0d0887\"],[0.1111111111111111,\"#46039f\"],[0.2222222222222222,\"#7201a8\"],[0.3333333333333333,\"#9c179e\"],[0.4444444444444444,\"#bd3786\"],[0.5555555555555556,\"#d8576b\"],[0.6666666666666666,\"#ed7953\"],[0.7777777777777778,\"#fb9f3a\"],[0.8888888888888888,\"#fdca26\"],[1.0,\"#f0f921\"]],\"type\":\"heatmap\"}],\"heatmapgl\":[{\"colorbar\":{\"outlinewidth\":0,\"ticks\":\"\"},\"colorscale\":[[0.0,\"#0d0887\"],[0.1111111111111111,\"#46039f\"],[0.2222222222222222,\"#7201a8\"],[0.3333333333333333,\"#9c179e\"],[0.4444444444444444,\"#bd3786\"],[0.5555555555555556,\"#d8576b\"],[0.6666666666666666,\"#ed7953\"],[0.7777777777777778,\"#fb9f3a\"],[0.8888888888888888,\"#fdca26\"],[1.0,\"#f0f921\"]],\"type\":\"heatmapgl\"}],\"histogram\":[{\"marker\":{\"pattern\":{\"fillmode\":\"overlay\",\"size\":10,\"solidity\":0.2}},\"type\":\"histogram\"}],\"histogram2d\":[{\"colorbar\":{\"outlinewidth\":0,\"ticks\":\"\"},\"colorscale\":[[0.0,\"#0d0887\"],[0.1111111111111111,\"#46039f\"],[0.2222222222222222,\"#7201a8\"],[0.3333333333333333,\"#9c179e\"],[0.4444444444444444,\"#bd3786\"],[0.5555555555555556,\"#d8576b\"],[0.6666666666666666,\"#ed7953\"],[0.7777777777777778,\"#fb9f3a\"],[0.8888888888888888,\"#fdca26\"],[1.0,\"#f0f921\"]],\"type\":\"histogram2d\"}],\"histogram2dcontour\":[{\"colorbar\":{\"outlinewidth\":0,\"ticks\":\"\"},\"colorscale\":[[0.0,\"#0d0887\"],[0.1111111111111111,\"#46039f\"],[0.2222222222222222,\"#7201a8\"],[0.3333333333333333,\"#9c179e\"],[0.4444444444444444,\"#bd3786\"],[0.5555555555555556,\"#d8576b\"],[0.6666666666666666,\"#ed7953\"],[0.7777777777777778,\"#fb9f3a\"],[0.8888888888888888,\"#fdca26\"],[1.0,\"#f0f921\"]],\"type\":\"histogram2dcontour\"}],\"mesh3d\":[{\"colorbar\":{\"outlinewidth\":0,\"ticks\":\"\"},\"type\":\"mesh3d\"}],\"parcoords\":[{\"line\":{\"colorbar\":{\"outlinewidth\":0,\"ticks\":\"\"}},\"type\":\"parcoords\"}],\"pie\":[{\"automargin\":true,\"type\":\"pie\"}],\"scatter\":[{\"marker\":{\"colorbar\":{\"outlinewidth\":0,\"ticks\":\"\"}},\"type\":\"scatter\"}],\"scatter3d\":[{\"line\":{\"colorbar\":{\"outlinewidth\":0,\"ticks\":\"\"}},\"marker\":{\"colorbar\":{\"outlinewidth\":0,\"ticks\":\"\"}},\"type\":\"scatter3d\"}],\"scattercarpet\":[{\"marker\":{\"colorbar\":{\"outlinewidth\":0,\"ticks\":\"\"}},\"type\":\"scattercarpet\"}],\"scattergeo\":[{\"marker\":{\"colorbar\":{\"outlinewidth\":0,\"ticks\":\"\"}},\"type\":\"scattergeo\"}],\"scattergl\":[{\"marker\":{\"colorbar\":{\"outlinewidth\":0,\"ticks\":\"\"}},\"type\":\"scattergl\"}],\"scattermapbox\":[{\"marker\":{\"colorbar\":{\"outlinewidth\":0,\"ticks\":\"\"}},\"type\":\"scattermapbox\"}],\"scatterpolar\":[{\"marker\":{\"colorbar\":{\"outlinewidth\":0,\"ticks\":\"\"}},\"type\":\"scatterpolar\"}],\"scatterpolargl\":[{\"marker\":{\"colorbar\":{\"outlinewidth\":0,\"ticks\":\"\"}},\"type\":\"scatterpolargl\"}],\"scatterternary\":[{\"marker\":{\"colorbar\":{\"outlinewidth\":0,\"ticks\":\"\"}},\"type\":\"scatterternary\"}],\"surface\":[{\"colorbar\":{\"outlinewidth\":0,\"ticks\":\"\"},\"colorscale\":[[0.0,\"#0d0887\"],[0.1111111111111111,\"#46039f\"],[0.2222222222222222,\"#7201a8\"],[0.3333333333333333,\"#9c179e\"],[0.4444444444444444,\"#bd3786\"],[0.5555555555555556,\"#d8576b\"],[0.6666666666666666,\"#ed7953\"],[0.7777777777777778,\"#fb9f3a\"],[0.8888888888888888,\"#fdca26\"],[1.0,\"#f0f921\"]],\"type\":\"surface\"}],\"table\":[{\"cells\":{\"fill\":{\"color\":\"#EBF0F8\"},\"line\":{\"color\":\"white\"}},\"header\":{\"fill\":{\"color\":\"#C8D4E3\"},\"line\":{\"color\":\"white\"}},\"type\":\"table\"}]},\"layout\":{\"annotationdefaults\":{\"arrowcolor\":\"#2a3f5f\",\"arrowhead\":0,\"arrowwidth\":1},\"autotypenumbers\":\"strict\",\"coloraxis\":{\"colorbar\":{\"outlinewidth\":0,\"ticks\":\"\"}},\"colorscale\":{\"diverging\":[[0,\"#8e0152\"],[0.1,\"#c51b7d\"],[0.2,\"#de77ae\"],[0.3,\"#f1b6da\"],[0.4,\"#fde0ef\"],[0.5,\"#f7f7f7\"],[0.6,\"#e6f5d0\"],[0.7,\"#b8e186\"],[0.8,\"#7fbc41\"],[0.9,\"#4d9221\"],[1,\"#276419\"]],\"sequential\":[[0.0,\"#0d0887\"],[0.1111111111111111,\"#46039f\"],[0.2222222222222222,\"#7201a8\"],[0.3333333333333333,\"#9c179e\"],[0.4444444444444444,\"#bd3786\"],[0.5555555555555556,\"#d8576b\"],[0.6666666666666666,\"#ed7953\"],[0.7777777777777778,\"#fb9f3a\"],[0.8888888888888888,\"#fdca26\"],[1.0,\"#f0f921\"]],\"sequentialminus\":[[0.0,\"#0d0887\"],[0.1111111111111111,\"#46039f\"],[0.2222222222222222,\"#7201a8\"],[0.3333333333333333,\"#9c179e\"],[0.4444444444444444,\"#bd3786\"],[0.5555555555555556,\"#d8576b\"],[0.6666666666666666,\"#ed7953\"],[0.7777777777777778,\"#fb9f3a\"],[0.8888888888888888,\"#fdca26\"],[1.0,\"#f0f921\"]]},\"colorway\":[\"#636efa\",\"#EF553B\",\"#00cc96\",\"#ab63fa\",\"#FFA15A\",\"#19d3f3\",\"#FF6692\",\"#B6E880\",\"#FF97FF\",\"#FECB52\"],\"font\":{\"color\":\"#2a3f5f\"},\"geo\":{\"bgcolor\":\"white\",\"lakecolor\":\"white\",\"landcolor\":\"#E5ECF6\",\"showlakes\":true,\"showland\":true,\"subunitcolor\":\"white\"},\"hoverlabel\":{\"align\":\"left\"},\"hovermode\":\"closest\",\"mapbox\":{\"style\":\"light\"},\"paper_bgcolor\":\"white\",\"plot_bgcolor\":\"#E5ECF6\",\"polar\":{\"angularaxis\":{\"gridcolor\":\"white\",\"linecolor\":\"white\",\"ticks\":\"\"},\"bgcolor\":\"#E5ECF6\",\"radialaxis\":{\"gridcolor\":\"white\",\"linecolor\":\"white\",\"ticks\":\"\"}},\"scene\":{\"xaxis\":{\"backgroundcolor\":\"#E5ECF6\",\"gridcolor\":\"white\",\"gridwidth\":2,\"linecolor\":\"white\",\"showbackground\":true,\"ticks\":\"\",\"zerolinecolor\":\"white\"},\"yaxis\":{\"backgroundcolor\":\"#E5ECF6\",\"gridcolor\":\"white\",\"gridwidth\":2,\"linecolor\":\"white\",\"showbackground\":true,\"ticks\":\"\",\"zerolinecolor\":\"white\"},\"zaxis\":{\"backgroundcolor\":\"#E5ECF6\",\"gridcolor\":\"white\",\"gridwidth\":2,\"linecolor\":\"white\",\"showbackground\":true,\"ticks\":\"\",\"zerolinecolor\":\"white\"}},\"shapedefaults\":{\"line\":{\"color\":\"#2a3f5f\"}},\"ternary\":{\"aaxis\":{\"gridcolor\":\"white\",\"linecolor\":\"white\",\"ticks\":\"\"},\"baxis\":{\"gridcolor\":\"white\",\"linecolor\":\"white\",\"ticks\":\"\"},\"bgcolor\":\"#E5ECF6\",\"caxis\":{\"gridcolor\":\"white\",\"linecolor\":\"white\",\"ticks\":\"\"}},\"title\":{\"x\":0.05},\"xaxis\":{\"automargin\":true,\"gridcolor\":\"white\",\"linecolor\":\"white\",\"ticks\":\"\",\"title\":{\"standoff\":15},\"zerolinecolor\":\"white\",\"zerolinewidth\":2},\"yaxis\":{\"automargin\":true,\"gridcolor\":\"white\",\"linecolor\":\"white\",\"ticks\":\"\",\"title\":{\"standoff\":15},\"zerolinecolor\":\"white\",\"zerolinewidth\":2}}},\"xaxis\":{\"anchor\":\"y\",\"domain\":[0.0,1.0],\"title\":{\"text\":\"count\"}},\"yaxis\":{\"anchor\":\"x\",\"domain\":[0.0,1.0],\"title\":{\"text\":\"artists\"}},\"legend\":{\"tracegroupgap\":0},\"title\":{\"text\":\"Top 10 Artistas\"},\"barmode\":\"relative\"},                        {\"responsive\": true}                    )                };                            </script>        </div>\n</body>\n</html>",
       "datasetInfos": [],
       "metadata": {},
       "removedWidgets": [],
       "textData": null,
       "type": "htmlSandbox"
      }
     },
     "output_type": "display_data"
    }
   ],
   "source": [
    "# analisando os resultados com um gráfico de barras\n",
    "plot_title = 'Top 10 Artistas'\n",
    "top_artista.plot.bar(x='count', y = 'artists', title = plot_title)"
   ]
  },
  {
   "cell_type": "markdown",
   "metadata": {
    "application/vnd.databricks.v1+cell": {
     "cellMetadata": {},
     "inputWidgets": {},
     "nuid": "5ac635b1-e1b0-4ff1-bd61-e307582fcf49",
     "showTitle": false,
     "title": ""
    }
   },
   "source": [
    "**2. Qual o gênero musical desses top 10 artistas?**"
   ]
  },
  {
   "cell_type": "code",
   "execution_count": 0,
   "metadata": {
    "application/vnd.databricks.v1+cell": {
     "cellMetadata": {
      "byteLimit": 2048000,
      "rowLimit": 10000
     },
     "inputWidgets": {},
     "nuid": "368b6678-b6e2-4b17-add4-54b66a2d67bd",
     "showTitle": false,
     "title": ""
    }
   },
   "outputs": [
    {
     "output_type": "stream",
     "name": "stdout",
     "output_type": "stream",
     "text": [
      "Out[13]: ['Francisco Canaro',\n 'Эрнест Хемингуэй',\n 'Эрих Мария Ремарк',\n 'Frank Sinatra',\n 'Ignacio Corsini',\n 'Vladimir Horowitz',\n 'Arturo Toscanini',\n 'Billie Holiday',\n 'Johnny Cash',\n 'Elvis Presley']"
     ]
    }
   ],
   "source": [
    "# criando uma lista com os artistas únicos presentes no top 10\n",
    "lista_artistas = top_artista.artists.unique().to_list()\n",
    "lista_artistas"
   ]
  },
  {
   "cell_type": "code",
   "execution_count": 0,
   "metadata": {
    "application/vnd.databricks.v1+cell": {
     "cellMetadata": {
      "byteLimit": 2048000,
      "rowLimit": 10000
     },
     "inputWidgets": {},
     "nuid": "a8999d20-9c26-4538-9981-0214dad9e10b",
     "showTitle": false,
     "title": ""
    }
   },
   "outputs": [
    {
     "output_type": "display_data",
     "data": {
      "text/html": [
       "<style scoped>\n",
       "  .table-result-container {\n",
       "    max-height: 300px;\n",
       "    overflow: auto;\n",
       "  }\n",
       "  table, th, td {\n",
       "    border: 1px solid black;\n",
       "    border-collapse: collapse;\n",
       "  }\n",
       "  th, td {\n",
       "    padding: 5px;\n",
       "  }\n",
       "  th {\n",
       "    text-align: left;\n",
       "  }\n",
       "</style><div class='table-result-container'><table class='table-result'><thead style='background-color: white'><tr><th>genres</th><th>artists</th></tr></thead><tbody><tr><td>classical performance, historic orchestral performance, orchestral performance</td><td>Arturo Toscanini</td></tr><tr><td>adult standards, harlem renaissance, jazz blues, lounge, soul, torch song, vocal jazz</td><td>Billie Holiday</td></tr><tr><td>rock-and-roll, rockabilly</td><td>Elvis Presley</td></tr><tr><td>tango, vintage tango</td><td>Francisco Canaro</td></tr><tr><td>adult standards, easy listening, lounge</td><td>Frank Sinatra</td></tr><tr><td>tango, vintage tango</td><td>Ignacio Corsini</td></tr><tr><td>arkansas country, outlaw country</td><td>Johnny Cash</td></tr><tr><td>classical, classical performance, classical piano, russian classical piano</td><td>Vladimir Horowitz</td></tr><tr><td></td><td>Эрих Мария Ремарк</td></tr><tr><td></td><td>Эрнест Хемингуэй</td></tr></tbody></table></div>"
      ]
     },
     "metadata": {
      "application/vnd.databricks.v1+output": {
       "addedWidgets": {},
       "aggData": [],
       "aggError": "",
       "aggOverflow": false,
       "aggSchema": [],
       "aggSeriesLimitReached": false,
       "aggType": "",
       "arguments": {},
       "columnCustomDisplayInfos": {},
       "data": [
        [
         "classical performance, historic orchestral performance, orchestral performance",
         "Arturo Toscanini"
        ],
        [
         "adult standards, harlem renaissance, jazz blues, lounge, soul, torch song, vocal jazz",
         "Billie Holiday"
        ],
        [
         "rock-and-roll, rockabilly",
         "Elvis Presley"
        ],
        [
         "tango, vintage tango",
         "Francisco Canaro"
        ],
        [
         "adult standards, easy listening, lounge",
         "Frank Sinatra"
        ],
        [
         "tango, vintage tango",
         "Ignacio Corsini"
        ],
        [
         "arkansas country, outlaw country",
         "Johnny Cash"
        ],
        [
         "classical, classical performance, classical piano, russian classical piano",
         "Vladimir Horowitz"
        ],
        [
         "",
         "Эрих Мария Ремарк"
        ],
        [
         "",
         "Эрнест Хемингуэй"
        ]
       ],
       "datasetInfos": [],
       "dbfsResultPath": null,
       "isJsonSchema": true,
       "metadata": {},
       "overflow": false,
       "plotOptions": {
        "customPlotOptions": {},
        "displayType": "table",
        "pivotAggregation": null,
        "pivotColumns": null,
        "xColumns": null,
        "yColumns": null
       },
       "removedWidgets": [],
       "schema": [
        {
         "metadata": "{}",
         "name": "genres",
         "type": "\"string\""
        },
        {
         "metadata": "{}",
         "name": "artists",
         "type": "\"string\""
        }
       ],
       "type": "table"
      }
     },
     "output_type": "display_data"
    }
   ],
   "source": [
    "artista_genero = df_w_genres.loc[df_w_genres['artists'].isin(lista_artistas)]\n",
    "artista_genero = artista_genero[['genres', 'artists']]\n",
    "display(artista_genero)"
   ]
  },
  {
   "cell_type": "markdown",
   "metadata": {
    "application/vnd.databricks.v1+cell": {
     "cellMetadata": {},
     "inputWidgets": {},
     "nuid": "753d2a4b-7fd3-4cea-999c-7ebc34f994e1",
     "showTitle": false,
     "title": ""
    }
   },
   "source": [
    "**3. Quais são os top gêneros?**"
   ]
  },
  {
   "cell_type": "code",
   "execution_count": 0,
   "metadata": {
    "application/vnd.databricks.v1+cell": {
     "cellMetadata": {
      "byteLimit": 2048000,
      "rowLimit": 10000
     },
     "inputWidgets": {},
     "nuid": "2decc110-4f4b-4f58-afbd-c7e949a0e839",
     "showTitle": false,
     "title": ""
    }
   },
   "outputs": [
    {
     "output_type": "display_data",
     "data": {
      "text/html": [
       "<div>\n",
       "<style scoped>\n",
       "    .dataframe tbody tr th:only-of-type {\n",
       "        vertical-align: middle;\n",
       "    }\n",
       "\n",
       "    .dataframe tbody tr th {\n",
       "        vertical-align: top;\n",
       "    }\n",
       "\n",
       "    .dataframe thead th {\n",
       "        text-align: right;\n",
       "    }\n",
       "</style>\n",
       "<table border=\"1\" class=\"dataframe\">\n",
       "  <thead>\n",
       "    <tr style=\"text-align: right;\">\n",
       "      <th></th>\n",
       "      <th>genres</th>\n",
       "      <th>artists</th>\n",
       "      <th>acousticness</th>\n",
       "      <th>danceability</th>\n",
       "      <th>duration_ms</th>\n",
       "      <th>energy</th>\n",
       "      <th>instrumentalness</th>\n",
       "      <th>liveness</th>\n",
       "      <th>loudness</th>\n",
       "      <th>speechiness</th>\n",
       "      <th>tempo</th>\n",
       "      <th>valence</th>\n",
       "      <th>popularity</th>\n",
       "      <th>key</th>\n",
       "      <th>mode</th>\n",
       "      <th>count</th>\n",
       "      <th>qtd</th>\n",
       "    </tr>\n",
       "  </thead>\n",
       "  <tbody>\n",
       "    <tr>\n",
       "      <th>0</th>\n",
       "      <td>show tunes</td>\n",
       "      <td>Cats 1981 Original London Cast</td>\n",
       "      <td>0.5901111111111111</td>\n",
       "      <td>0.4672222222222222</td>\n",
       "      <td>250318.5555555556</td>\n",
       "      <td>0.3940033333333333</td>\n",
       "      <td>0.011399851111111107</td>\n",
       "      <td>0.2908333333333333</td>\n",
       "      <td>-14.448000</td>\n",
       "      <td>0.210389</td>\n",
       "      <td>117.518111</td>\n",
       "      <td>0.389500</td>\n",
       "      <td>38.333333</td>\n",
       "      <td>5.0</td>\n",
       "      <td>1.0</td>\n",
       "      <td>9.0</td>\n",
       "      <td>1</td>\n",
       "    </tr>\n",
       "    <tr>\n",
       "      <th>1</th>\n",
       "      <td></td>\n",
       "      <td>Cats 1983 Broadway Cast</td>\n",
       "      <td>0.8625384615384617</td>\n",
       "      <td>0.4417307692307693</td>\n",
       "      <td>287280.0</td>\n",
       "      <td>0.4068076923076923</td>\n",
       "      <td>0.08115826423076923</td>\n",
       "      <td>0.3152153846153846</td>\n",
       "      <td>-10.690000</td>\n",
       "      <td>0.176212</td>\n",
       "      <td>103.044154</td>\n",
       "      <td>0.268865</td>\n",
       "      <td>30.576923</td>\n",
       "      <td>5.0</td>\n",
       "      <td>1.0</td>\n",
       "      <td>26.0</td>\n",
       "      <td>1</td>\n",
       "    </tr>\n",
       "    <tr>\n",
       "      <th>2</th>\n",
       "      <td></td>\n",
       "      <td>Fiddler On The Roof” Motion Picture Chorus</td>\n",
       "      <td>0.8565714285714285</td>\n",
       "      <td>0.34828571428571425</td>\n",
       "      <td>328920.0</td>\n",
       "      <td>0.2865714285714285</td>\n",
       "      <td>0.024592948571428568</td>\n",
       "      <td>0.3257857142857143</td>\n",
       "      <td>-15.230714</td>\n",
       "      <td>0.118514</td>\n",
       "      <td>77.375857</td>\n",
       "      <td>0.354857</td>\n",
       "      <td>34.857143</td>\n",
       "      <td>0.0</td>\n",
       "      <td>1.0</td>\n",
       "      <td>7.0</td>\n",
       "      <td>1</td>\n",
       "    </tr>\n",
       "    <tr>\n",
       "      <th>3</th>\n",
       "      <td></td>\n",
       "      <td>Fiddler On The Roof” Motion Picture Orchestra</td>\n",
       "      <td>0.884925925925926</td>\n",
       "      <td>0.4250740740740739</td>\n",
       "      <td>262890.96296296304</td>\n",
       "      <td>0.2457703703703704</td>\n",
       "      <td>0.07358727925925927</td>\n",
       "      <td>0.2754814814814815</td>\n",
       "      <td>-15.639370</td>\n",
       "      <td>0.123200</td>\n",
       "      <td>88.667630</td>\n",
       "      <td>0.372030</td>\n",
       "      <td>34.851852</td>\n",
       "      <td>0.0</td>\n",
       "      <td>1.0</td>\n",
       "      <td>27.0</td>\n",
       "      <td>1</td>\n",
       "    </tr>\n",
       "    <tr>\n",
       "      <th>4</th>\n",
       "      <td></td>\n",
       "      <td>Joseph And The Amazing Technicolor Dreamcoat 1...</td>\n",
       "      <td>0.5107142857142857</td>\n",
       "      <td>0.4671428571428572</td>\n",
       "      <td>270436.14285714284</td>\n",
       "      <td>0.4882857142857143</td>\n",
       "      <td>0.00940029142857143</td>\n",
       "      <td>0.195</td>\n",
       "      <td>-10.236714</td>\n",
       "      <td>0.098543</td>\n",
       "      <td>122.835857</td>\n",
       "      <td>0.482286</td>\n",
       "      <td>43.000000</td>\n",
       "      <td>5.0</td>\n",
       "      <td>1.0</td>\n",
       "      <td>7.0</td>\n",
       "      <td>1</td>\n",
       "    </tr>\n",
       "  </tbody>\n",
       "</table>\n",
       "</div>"
      ]
     },
     "metadata": {
      "application/vnd.databricks.v1+output": {
       "addedWidgets": {},
       "arguments": {},
       "data": "<div>\n<style scoped>\n    .dataframe tbody tr th:only-of-type {\n        vertical-align: middle;\n    }\n\n    .dataframe tbody tr th {\n        vertical-align: top;\n    }\n\n    .dataframe thead th {\n        text-align: right;\n    }\n</style>\n<table border=\"1\" class=\"dataframe\">\n  <thead>\n    <tr style=\"text-align: right;\">\n      <th></th>\n      <th>genres</th>\n      <th>artists</th>\n      <th>acousticness</th>\n      <th>danceability</th>\n      <th>duration_ms</th>\n      <th>energy</th>\n      <th>instrumentalness</th>\n      <th>liveness</th>\n      <th>loudness</th>\n      <th>speechiness</th>\n      <th>tempo</th>\n      <th>valence</th>\n      <th>popularity</th>\n      <th>key</th>\n      <th>mode</th>\n      <th>count</th>\n      <th>qtd</th>\n    </tr>\n  </thead>\n  <tbody>\n    <tr>\n      <th>0</th>\n      <td>show tunes</td>\n      <td>Cats 1981 Original London Cast</td>\n      <td>0.5901111111111111</td>\n      <td>0.4672222222222222</td>\n      <td>250318.5555555556</td>\n      <td>0.3940033333333333</td>\n      <td>0.011399851111111107</td>\n      <td>0.2908333333333333</td>\n      <td>-14.448000</td>\n      <td>0.210389</td>\n      <td>117.518111</td>\n      <td>0.389500</td>\n      <td>38.333333</td>\n      <td>5.0</td>\n      <td>1.0</td>\n      <td>9.0</td>\n      <td>1</td>\n    </tr>\n    <tr>\n      <th>1</th>\n      <td></td>\n      <td>Cats 1983 Broadway Cast</td>\n      <td>0.8625384615384617</td>\n      <td>0.4417307692307693</td>\n      <td>287280.0</td>\n      <td>0.4068076923076923</td>\n      <td>0.08115826423076923</td>\n      <td>0.3152153846153846</td>\n      <td>-10.690000</td>\n      <td>0.176212</td>\n      <td>103.044154</td>\n      <td>0.268865</td>\n      <td>30.576923</td>\n      <td>5.0</td>\n      <td>1.0</td>\n      <td>26.0</td>\n      <td>1</td>\n    </tr>\n    <tr>\n      <th>2</th>\n      <td></td>\n      <td>Fiddler On The Roof” Motion Picture Chorus</td>\n      <td>0.8565714285714285</td>\n      <td>0.34828571428571425</td>\n      <td>328920.0</td>\n      <td>0.2865714285714285</td>\n      <td>0.024592948571428568</td>\n      <td>0.3257857142857143</td>\n      <td>-15.230714</td>\n      <td>0.118514</td>\n      <td>77.375857</td>\n      <td>0.354857</td>\n      <td>34.857143</td>\n      <td>0.0</td>\n      <td>1.0</td>\n      <td>7.0</td>\n      <td>1</td>\n    </tr>\n    <tr>\n      <th>3</th>\n      <td></td>\n      <td>Fiddler On The Roof” Motion Picture Orchestra</td>\n      <td>0.884925925925926</td>\n      <td>0.4250740740740739</td>\n      <td>262890.96296296304</td>\n      <td>0.2457703703703704</td>\n      <td>0.07358727925925927</td>\n      <td>0.2754814814814815</td>\n      <td>-15.639370</td>\n      <td>0.123200</td>\n      <td>88.667630</td>\n      <td>0.372030</td>\n      <td>34.851852</td>\n      <td>0.0</td>\n      <td>1.0</td>\n      <td>27.0</td>\n      <td>1</td>\n    </tr>\n    <tr>\n      <th>4</th>\n      <td></td>\n      <td>Joseph And The Amazing Technicolor Dreamcoat 1...</td>\n      <td>0.5107142857142857</td>\n      <td>0.4671428571428572</td>\n      <td>270436.14285714284</td>\n      <td>0.4882857142857143</td>\n      <td>0.00940029142857143</td>\n      <td>0.195</td>\n      <td>-10.236714</td>\n      <td>0.098543</td>\n      <td>122.835857</td>\n      <td>0.482286</td>\n      <td>43.000000</td>\n      <td>5.0</td>\n      <td>1.0</td>\n      <td>7.0</td>\n      <td>1</td>\n    </tr>\n  </tbody>\n</table>\n</div>",
       "datasetInfos": [],
       "metadata": {},
       "removedWidgets": [],
       "textData": null,
       "type": "htmlSandbox"
      }
     },
     "output_type": "display_data"
    }
   ],
   "source": [
    "# cria uma coluna com valor = 1 para contar a quantidade de vezes que cada gênero aparece em nosso conjunto de dados\n",
    "df_w_genres['qtd'] = 1\n",
    "df_w_genres.head()"
   ]
  },
  {
   "cell_type": "code",
   "execution_count": 0,
   "metadata": {
    "application/vnd.databricks.v1+cell": {
     "cellMetadata": {
      "byteLimit": 2048000,
      "rowLimit": 10000
     },
     "inputWidgets": {},
     "nuid": "3a08b0f1-56ce-4386-8450-fb0cd740b141",
     "showTitle": false,
     "title": ""
    }
   },
   "outputs": [
    {
     "output_type": "display_data",
     "data": {
      "text/html": [
       "<div>\n",
       "<style scoped>\n",
       "    .dataframe tbody tr th:only-of-type {\n",
       "        vertical-align: middle;\n",
       "    }\n",
       "\n",
       "    .dataframe tbody tr th {\n",
       "        vertical-align: top;\n",
       "    }\n",
       "\n",
       "    .dataframe thead th {\n",
       "        text-align: right;\n",
       "    }\n",
       "</style>\n",
       "<table border=\"1\" class=\"dataframe\">\n",
       "  <thead>\n",
       "    <tr style=\"text-align: right;\">\n",
       "      <th></th>\n",
       "      <th>genres</th>\n",
       "      <th>qtd</th>\n",
       "    </tr>\n",
       "  </thead>\n",
       "  <tbody>\n",
       "    <tr>\n",
       "      <th>0</th>\n",
       "      <td>show tunes</td>\n",
       "      <td>1</td>\n",
       "    </tr>\n",
       "    <tr>\n",
       "      <th>1</th>\n",
       "      <td></td>\n",
       "      <td>1</td>\n",
       "    </tr>\n",
       "    <tr>\n",
       "      <th>2</th>\n",
       "      <td></td>\n",
       "      <td>1</td>\n",
       "    </tr>\n",
       "    <tr>\n",
       "      <th>3</th>\n",
       "      <td></td>\n",
       "      <td>1</td>\n",
       "    </tr>\n",
       "    <tr>\n",
       "      <th>4</th>\n",
       "      <td></td>\n",
       "      <td>1</td>\n",
       "    </tr>\n",
       "  </tbody>\n",
       "</table>\n",
       "</div>"
      ]
     },
     "metadata": {
      "application/vnd.databricks.v1+output": {
       "addedWidgets": {},
       "arguments": {},
       "data": "<div>\n<style scoped>\n    .dataframe tbody tr th:only-of-type {\n        vertical-align: middle;\n    }\n\n    .dataframe tbody tr th {\n        vertical-align: top;\n    }\n\n    .dataframe thead th {\n        text-align: right;\n    }\n</style>\n<table border=\"1\" class=\"dataframe\">\n  <thead>\n    <tr style=\"text-align: right;\">\n      <th></th>\n      <th>genres</th>\n      <th>qtd</th>\n    </tr>\n  </thead>\n  <tbody>\n    <tr>\n      <th>0</th>\n      <td>show tunes</td>\n      <td>1</td>\n    </tr>\n    <tr>\n      <th>1</th>\n      <td></td>\n      <td>1</td>\n    </tr>\n    <tr>\n      <th>2</th>\n      <td></td>\n      <td>1</td>\n    </tr>\n    <tr>\n      <th>3</th>\n      <td></td>\n      <td>1</td>\n    </tr>\n    <tr>\n      <th>4</th>\n      <td></td>\n      <td>1</td>\n    </tr>\n  </tbody>\n</table>\n</div>",
       "datasetInfos": [],
       "metadata": {},
       "removedWidgets": [],
       "textData": null,
       "type": "htmlSandbox"
      }
     },
     "output_type": "display_data"
    }
   ],
   "source": [
    "# Seleciona apenas as colunas de gênero e quantidade\n",
    "df_w_genres_2 = df_w_genres[['genres', 'qtd']]\n",
    "df_w_genres_2.head()"
   ]
  },
  {
   "cell_type": "code",
   "execution_count": 0,
   "metadata": {
    "application/vnd.databricks.v1+cell": {
     "cellMetadata": {
      "byteLimit": 2048000,
      "rowLimit": 10000
     },
     "inputWidgets": {},
     "nuid": "2be10567-ac76-4cbe-a0e3-6999c03cb6c1",
     "showTitle": false,
     "title": ""
    }
   },
   "outputs": [
    {
     "output_type": "display_data",
     "data": {
      "text/html": [
       "<div>\n",
       "<style scoped>\n",
       "    .dataframe tbody tr th:only-of-type {\n",
       "        vertical-align: middle;\n",
       "    }\n",
       "\n",
       "    .dataframe tbody tr th {\n",
       "        vertical-align: top;\n",
       "    }\n",
       "\n",
       "    .dataframe thead th {\n",
       "        text-align: right;\n",
       "    }\n",
       "</style>\n",
       "<table border=\"1\" class=\"dataframe\">\n",
       "  <thead>\n",
       "    <tr style=\"text-align: right;\">\n",
       "      <th></th>\n",
       "      <th>genres</th>\n",
       "      <th>qtd</th>\n",
       "    </tr>\n",
       "  </thead>\n",
       "  <tbody>\n",
       "    <tr>\n",
       "      <th>0</th>\n",
       "      <td></td>\n",
       "      <td>9857</td>\n",
       "    </tr>\n",
       "    <tr>\n",
       "      <th>1</th>\n",
       "      <td>movie tunes</td>\n",
       "      <td>69</td>\n",
       "    </tr>\n",
       "    <tr>\n",
       "      <th>2</th>\n",
       "      <td>show tunes</td>\n",
       "      <td>63</td>\n",
       "    </tr>\n",
       "    <tr>\n",
       "      <th>3</th>\n",
       "      <td>hollywood</td>\n",
       "      <td>56</td>\n",
       "    </tr>\n",
       "    <tr>\n",
       "      <th>4</th>\n",
       "      <td>orchestral performance</td>\n",
       "      <td>50</td>\n",
       "    </tr>\n",
       "    <tr>\n",
       "      <th>5</th>\n",
       "      <td>broadway, hollywood, show tunes</td>\n",
       "      <td>48</td>\n",
       "    </tr>\n",
       "    <tr>\n",
       "      <th>6</th>\n",
       "      <td>disney, movie tunes</td>\n",
       "      <td>45</td>\n",
       "    </tr>\n",
       "    <tr>\n",
       "      <th>7</th>\n",
       "      <td>sleep</td>\n",
       "      <td>42</td>\n",
       "    </tr>\n",
       "    <tr>\n",
       "      <th>8</th>\n",
       "      <td>gospel</td>\n",
       "      <td>41</td>\n",
       "    </tr>\n",
       "    <tr>\n",
       "      <th>9</th>\n",
       "      <td>contemporary country, country, country road, m...</td>\n",
       "      <td>41</td>\n",
       "    </tr>\n",
       "    <tr>\n",
       "      <th>10</th>\n",
       "      <td>classical soprano</td>\n",
       "      <td>40</td>\n",
       "    </tr>\n",
       "    <tr>\n",
       "      <th>11</th>\n",
       "      <td>latin, latin hip hop, reggaeton, reggaeton flo...</td>\n",
       "      <td>39</td>\n",
       "    </tr>\n",
       "    <tr>\n",
       "      <th>12</th>\n",
       "      <td>vintage chanson</td>\n",
       "      <td>38</td>\n",
       "    </tr>\n",
       "    <tr>\n",
       "      <th>13</th>\n",
       "      <td>broadway</td>\n",
       "      <td>38</td>\n",
       "    </tr>\n",
       "    <tr>\n",
       "      <th>14</th>\n",
       "      <td>broadway, show tunes</td>\n",
       "      <td>36</td>\n",
       "    </tr>\n",
       "    <tr>\n",
       "      <th>15</th>\n",
       "      <td>rebetiko</td>\n",
       "      <td>34</td>\n",
       "    </tr>\n",
       "    <tr>\n",
       "      <th>16</th>\n",
       "      <td>contemporary country, country pop</td>\n",
       "      <td>33</td>\n",
       "    </tr>\n",
       "    <tr>\n",
       "      <th>17</th>\n",
       "      <td>cumbia sonidera</td>\n",
       "      <td>31</td>\n",
       "    </tr>\n",
       "    <tr>\n",
       "      <th>18</th>\n",
       "      <td>classical performance, orchestral performance</td>\n",
       "      <td>30</td>\n",
       "    </tr>\n",
       "    <tr>\n",
       "      <th>19</th>\n",
       "      <td>classical bass</td>\n",
       "      <td>28</td>\n",
       "    </tr>\n",
       "  </tbody>\n",
       "</table>\n",
       "</div>"
      ]
     },
     "metadata": {
      "application/vnd.databricks.v1+output": {
       "addedWidgets": {},
       "arguments": {},
       "data": "<div>\n<style scoped>\n    .dataframe tbody tr th:only-of-type {\n        vertical-align: middle;\n    }\n\n    .dataframe tbody tr th {\n        vertical-align: top;\n    }\n\n    .dataframe thead th {\n        text-align: right;\n    }\n</style>\n<table border=\"1\" class=\"dataframe\">\n  <thead>\n    <tr style=\"text-align: right;\">\n      <th></th>\n      <th>genres</th>\n      <th>qtd</th>\n    </tr>\n  </thead>\n  <tbody>\n    <tr>\n      <th>0</th>\n      <td></td>\n      <td>9857</td>\n    </tr>\n    <tr>\n      <th>1</th>\n      <td>movie tunes</td>\n      <td>69</td>\n    </tr>\n    <tr>\n      <th>2</th>\n      <td>show tunes</td>\n      <td>63</td>\n    </tr>\n    <tr>\n      <th>3</th>\n      <td>hollywood</td>\n      <td>56</td>\n    </tr>\n    <tr>\n      <th>4</th>\n      <td>orchestral performance</td>\n      <td>50</td>\n    </tr>\n    <tr>\n      <th>5</th>\n      <td>broadway, hollywood, show tunes</td>\n      <td>48</td>\n    </tr>\n    <tr>\n      <th>6</th>\n      <td>disney, movie tunes</td>\n      <td>45</td>\n    </tr>\n    <tr>\n      <th>7</th>\n      <td>sleep</td>\n      <td>42</td>\n    </tr>\n    <tr>\n      <th>8</th>\n      <td>gospel</td>\n      <td>41</td>\n    </tr>\n    <tr>\n      <th>9</th>\n      <td>contemporary country, country, country road, m...</td>\n      <td>41</td>\n    </tr>\n    <tr>\n      <th>10</th>\n      <td>classical soprano</td>\n      <td>40</td>\n    </tr>\n    <tr>\n      <th>11</th>\n      <td>latin, latin hip hop, reggaeton, reggaeton flo...</td>\n      <td>39</td>\n    </tr>\n    <tr>\n      <th>12</th>\n      <td>vintage chanson</td>\n      <td>38</td>\n    </tr>\n    <tr>\n      <th>13</th>\n      <td>broadway</td>\n      <td>38</td>\n    </tr>\n    <tr>\n      <th>14</th>\n      <td>broadway, show tunes</td>\n      <td>36</td>\n    </tr>\n    <tr>\n      <th>15</th>\n      <td>rebetiko</td>\n      <td>34</td>\n    </tr>\n    <tr>\n      <th>16</th>\n      <td>contemporary country, country pop</td>\n      <td>33</td>\n    </tr>\n    <tr>\n      <th>17</th>\n      <td>cumbia sonidera</td>\n      <td>31</td>\n    </tr>\n    <tr>\n      <th>18</th>\n      <td>classical performance, orchestral performance</td>\n      <td>30</td>\n    </tr>\n    <tr>\n      <th>19</th>\n      <td>classical bass</td>\n      <td>28</td>\n    </tr>\n  </tbody>\n</table>\n</div>",
       "datasetInfos": [],
       "metadata": {},
       "removedWidgets": [],
       "textData": null,
       "type": "htmlSandbox"
      }
     },
     "output_type": "display_data"
    }
   ],
   "source": [
    "# agrupa os dados por gênero e soma a quantidade de músicas de cada gênero, em seguida ordena os resultados em ordem decrescente\n",
    "df_w_genres_2_ordenado = df_w_genres_2.groupby('genres').sum().sort_values(by='qtd', ascending=False).reset_index()\n",
    "df_w_genres_2_ordenado.head(20)"
   ]
  },
  {
   "cell_type": "code",
   "execution_count": 0,
   "metadata": {
    "application/vnd.databricks.v1+cell": {
     "cellMetadata": {
      "byteLimit": 2048000,
      "rowLimit": 10000
     },
     "inputWidgets": {},
     "nuid": "ac1d336a-6869-4878-a3f1-0b0357d1fd05",
     "showTitle": false,
     "title": ""
    }
   },
   "outputs": [
    {
     "output_type": "display_data",
     "data": {
      "text/html": [
       "<div>\n",
       "<style scoped>\n",
       "    .dataframe tbody tr th:only-of-type {\n",
       "        vertical-align: middle;\n",
       "    }\n",
       "\n",
       "    .dataframe tbody tr th {\n",
       "        vertical-align: top;\n",
       "    }\n",
       "\n",
       "    .dataframe thead th {\n",
       "        text-align: right;\n",
       "    }\n",
       "</style>\n",
       "<table border=\"1\" class=\"dataframe\">\n",
       "  <thead>\n",
       "    <tr style=\"text-align: right;\">\n",
       "      <th></th>\n",
       "      <th>genres</th>\n",
       "      <th>qtd</th>\n",
       "    </tr>\n",
       "  </thead>\n",
       "  <tbody>\n",
       "    <tr>\n",
       "      <th>0</th>\n",
       "      <td></td>\n",
       "      <td>9857</td>\n",
       "    </tr>\n",
       "    <tr>\n",
       "      <th>1</th>\n",
       "      <td>movie tunes</td>\n",
       "      <td>69</td>\n",
       "    </tr>\n",
       "    <tr>\n",
       "      <th>2</th>\n",
       "      <td>show tunes</td>\n",
       "      <td>63</td>\n",
       "    </tr>\n",
       "    <tr>\n",
       "      <th>3</th>\n",
       "      <td>hollywood</td>\n",
       "      <td>56</td>\n",
       "    </tr>\n",
       "    <tr>\n",
       "      <th>4</th>\n",
       "      <td>orchestral performance</td>\n",
       "      <td>50</td>\n",
       "    </tr>\n",
       "    <tr>\n",
       "      <th>5</th>\n",
       "      <td>broadway, hollywood, show tunes</td>\n",
       "      <td>48</td>\n",
       "    </tr>\n",
       "    <tr>\n",
       "      <th>6</th>\n",
       "      <td>disney, movie tunes</td>\n",
       "      <td>45</td>\n",
       "    </tr>\n",
       "    <tr>\n",
       "      <th>7</th>\n",
       "      <td>sleep</td>\n",
       "      <td>42</td>\n",
       "    </tr>\n",
       "    <tr>\n",
       "      <th>8</th>\n",
       "      <td>gospel</td>\n",
       "      <td>41</td>\n",
       "    </tr>\n",
       "    <tr>\n",
       "      <th>9</th>\n",
       "      <td>contemporary country, country, country road, m...</td>\n",
       "      <td>41</td>\n",
       "    </tr>\n",
       "    <tr>\n",
       "      <th>10</th>\n",
       "      <td>classical soprano</td>\n",
       "      <td>40</td>\n",
       "    </tr>\n",
       "  </tbody>\n",
       "</table>\n",
       "</div>"
      ]
     },
     "metadata": {
      "application/vnd.databricks.v1+output": {
       "addedWidgets": {},
       "arguments": {},
       "data": "<div>\n<style scoped>\n    .dataframe tbody tr th:only-of-type {\n        vertical-align: middle;\n    }\n\n    .dataframe tbody tr th {\n        vertical-align: top;\n    }\n\n    .dataframe thead th {\n        text-align: right;\n    }\n</style>\n<table border=\"1\" class=\"dataframe\">\n  <thead>\n    <tr style=\"text-align: right;\">\n      <th></th>\n      <th>genres</th>\n      <th>qtd</th>\n    </tr>\n  </thead>\n  <tbody>\n    <tr>\n      <th>0</th>\n      <td></td>\n      <td>9857</td>\n    </tr>\n    <tr>\n      <th>1</th>\n      <td>movie tunes</td>\n      <td>69</td>\n    </tr>\n    <tr>\n      <th>2</th>\n      <td>show tunes</td>\n      <td>63</td>\n    </tr>\n    <tr>\n      <th>3</th>\n      <td>hollywood</td>\n      <td>56</td>\n    </tr>\n    <tr>\n      <th>4</th>\n      <td>orchestral performance</td>\n      <td>50</td>\n    </tr>\n    <tr>\n      <th>5</th>\n      <td>broadway, hollywood, show tunes</td>\n      <td>48</td>\n    </tr>\n    <tr>\n      <th>6</th>\n      <td>disney, movie tunes</td>\n      <td>45</td>\n    </tr>\n    <tr>\n      <th>7</th>\n      <td>sleep</td>\n      <td>42</td>\n    </tr>\n    <tr>\n      <th>8</th>\n      <td>gospel</td>\n      <td>41</td>\n    </tr>\n    <tr>\n      <th>9</th>\n      <td>contemporary country, country, country road, m...</td>\n      <td>41</td>\n    </tr>\n    <tr>\n      <th>10</th>\n      <td>classical soprano</td>\n      <td>40</td>\n    </tr>\n  </tbody>\n</table>\n</div>",
       "datasetInfos": [],
       "metadata": {},
       "removedWidgets": [],
       "textData": null,
       "type": "htmlSandbox"
      }
     },
     "output_type": "display_data"
    }
   ],
   "source": [
    "# seleciona os 10 gêneros mais populares\n",
    "top_generos = df_w_genres_2_ordenado.loc[0:10]\n",
    "top_generos"
   ]
  },
  {
   "cell_type": "code",
   "execution_count": 0,
   "metadata": {
    "application/vnd.databricks.v1+cell": {
     "cellMetadata": {
      "byteLimit": 2048000,
      "rowLimit": 10000
     },
     "inputWidgets": {},
     "nuid": "a1ad15a1-0cd9-477a-bdc0-f113ea1b4e4c",
     "showTitle": false,
     "title": ""
    }
   },
   "outputs": [
    {
     "output_type": "display_data",
     "data": {
      "text/html": [
       "<div>\n",
       "<style scoped>\n",
       "    .dataframe tbody tr th:only-of-type {\n",
       "        vertical-align: middle;\n",
       "    }\n",
       "\n",
       "    .dataframe tbody tr th {\n",
       "        vertical-align: top;\n",
       "    }\n",
       "\n",
       "    .dataframe thead th {\n",
       "        text-align: right;\n",
       "    }\n",
       "</style>\n",
       "<table border=\"1\" class=\"dataframe\">\n",
       "  <thead>\n",
       "    <tr style=\"text-align: right;\">\n",
       "      <th></th>\n",
       "      <th>genres</th>\n",
       "      <th>qtd</th>\n",
       "    </tr>\n",
       "  </thead>\n",
       "  <tbody>\n",
       "    <tr>\n",
       "      <th>1</th>\n",
       "      <td>movie tunes</td>\n",
       "      <td>69</td>\n",
       "    </tr>\n",
       "    <tr>\n",
       "      <th>2</th>\n",
       "      <td>show tunes</td>\n",
       "      <td>63</td>\n",
       "    </tr>\n",
       "    <tr>\n",
       "      <th>3</th>\n",
       "      <td>hollywood</td>\n",
       "      <td>56</td>\n",
       "    </tr>\n",
       "    <tr>\n",
       "      <th>4</th>\n",
       "      <td>orchestral performance</td>\n",
       "      <td>50</td>\n",
       "    </tr>\n",
       "    <tr>\n",
       "      <th>5</th>\n",
       "      <td>broadway, hollywood, show tunes</td>\n",
       "      <td>48</td>\n",
       "    </tr>\n",
       "    <tr>\n",
       "      <th>6</th>\n",
       "      <td>disney, movie tunes</td>\n",
       "      <td>45</td>\n",
       "    </tr>\n",
       "    <tr>\n",
       "      <th>7</th>\n",
       "      <td>sleep</td>\n",
       "      <td>42</td>\n",
       "    </tr>\n",
       "    <tr>\n",
       "      <th>8</th>\n",
       "      <td>gospel</td>\n",
       "      <td>41</td>\n",
       "    </tr>\n",
       "    <tr>\n",
       "      <th>9</th>\n",
       "      <td>contemporary country, country, country road, m...</td>\n",
       "      <td>41</td>\n",
       "    </tr>\n",
       "    <tr>\n",
       "      <th>10</th>\n",
       "      <td>classical soprano</td>\n",
       "      <td>40</td>\n",
       "    </tr>\n",
       "  </tbody>\n",
       "</table>\n",
       "</div>"
      ]
     },
     "metadata": {
      "application/vnd.databricks.v1+output": {
       "addedWidgets": {},
       "arguments": {},
       "data": "<div>\n<style scoped>\n    .dataframe tbody tr th:only-of-type {\n        vertical-align: middle;\n    }\n\n    .dataframe tbody tr th {\n        vertical-align: top;\n    }\n\n    .dataframe thead th {\n        text-align: right;\n    }\n</style>\n<table border=\"1\" class=\"dataframe\">\n  <thead>\n    <tr style=\"text-align: right;\">\n      <th></th>\n      <th>genres</th>\n      <th>qtd</th>\n    </tr>\n  </thead>\n  <tbody>\n    <tr>\n      <th>1</th>\n      <td>movie tunes</td>\n      <td>69</td>\n    </tr>\n    <tr>\n      <th>2</th>\n      <td>show tunes</td>\n      <td>63</td>\n    </tr>\n    <tr>\n      <th>3</th>\n      <td>hollywood</td>\n      <td>56</td>\n    </tr>\n    <tr>\n      <th>4</th>\n      <td>orchestral performance</td>\n      <td>50</td>\n    </tr>\n    <tr>\n      <th>5</th>\n      <td>broadway, hollywood, show tunes</td>\n      <td>48</td>\n    </tr>\n    <tr>\n      <th>6</th>\n      <td>disney, movie tunes</td>\n      <td>45</td>\n    </tr>\n    <tr>\n      <th>7</th>\n      <td>sleep</td>\n      <td>42</td>\n    </tr>\n    <tr>\n      <th>8</th>\n      <td>gospel</td>\n      <td>41</td>\n    </tr>\n    <tr>\n      <th>9</th>\n      <td>contemporary country, country, country road, m...</td>\n      <td>41</td>\n    </tr>\n    <tr>\n      <th>10</th>\n      <td>classical soprano</td>\n      <td>40</td>\n    </tr>\n  </tbody>\n</table>\n</div>",
       "datasetInfos": [],
       "metadata": {},
       "removedWidgets": [],
       "textData": null,
       "type": "htmlSandbox"
      }
     },
     "output_type": "display_data"
    }
   ],
   "source": [
    "# seleciona os gêneros do 2º ao 11º mais populares\n",
    "top_generos_2 = df_w_genres_2_ordenado.loc[1:10]\n",
    "top_generos_2"
   ]
  },
  {
   "cell_type": "code",
   "execution_count": 0,
   "metadata": {
    "application/vnd.databricks.v1+cell": {
     "cellMetadata": {
      "byteLimit": 2048000,
      "rowLimit": 10000
     },
     "inputWidgets": {},
     "nuid": "74c524e7-8617-4452-834f-6b96a045a5d1",
     "showTitle": false,
     "title": ""
    }
   },
   "outputs": [
    {
     "output_type": "display_data",
     "data": {
      "text/html": [
       "<html>\n",
       "<head><meta charset=\"utf-8\" /></head>\n",
       "<body>\n",
       "    <div>            <script src=\"https://cdnjs.cloudflare.com/ajax/libs/mathjax/2.7.5/MathJax.js?config=TeX-AMS-MML_SVG\"></script><script type=\"text/javascript\">if (window.MathJax) {MathJax.Hub.Config({SVG: {font: \"STIX-Web\"}});}</script>                <script type=\"text/javascript\">window.PlotlyConfig = {MathJaxConfig: 'local'};</script>\n",
       "        <script src=\"https://cdn.plot.ly/plotly-2.9.0.min.js\"></script>                <div id=\"dfedfed6-2377-48a7-8f00-a1f11ab532a3\" class=\"plotly-graph-div\" style=\"height:100%; width:100%;\"></div>            <script type=\"text/javascript\">                                    window.PLOTLYENV=window.PLOTLYENV || {};                                    if (document.getElementById(\"dfedfed6-2377-48a7-8f00-a1f11ab532a3\")) {                    Plotly.newPlot(                        \"dfedfed6-2377-48a7-8f00-a1f11ab532a3\",                        [{\"alignmentgroup\":\"True\",\"hovertemplate\":\"qtd=%{x}<br>genres=%{y}<extra></extra>\",\"legendgroup\":\"\",\"marker\":{\"color\":\"#636efa\",\"pattern\":{\"shape\":\"\"}},\"name\":\"\",\"offsetgroup\":\"\",\"orientation\":\"h\",\"showlegend\":false,\"textposition\":\"auto\",\"x\":[69,63,56,50,48,45,42,41,41,40],\"xaxis\":\"x\",\"y\":[\"movie tunes\",\"show tunes\",\"hollywood\",\"orchestral performance\",\"broadway, hollywood, show tunes\",\"disney, movie tunes\",\"sleep\",\"gospel\",\"contemporary country, country, country road, modern country rock\",\"classical soprano\"],\"yaxis\":\"y\",\"type\":\"bar\"}],                        {\"template\":{\"data\":{\"bar\":[{\"error_x\":{\"color\":\"#2a3f5f\"},\"error_y\":{\"color\":\"#2a3f5f\"},\"marker\":{\"line\":{\"color\":\"#E5ECF6\",\"width\":0.5},\"pattern\":{\"fillmode\":\"overlay\",\"size\":10,\"solidity\":0.2}},\"type\":\"bar\"}],\"barpolar\":[{\"marker\":{\"line\":{\"color\":\"#E5ECF6\",\"width\":0.5},\"pattern\":{\"fillmode\":\"overlay\",\"size\":10,\"solidity\":0.2}},\"type\":\"barpolar\"}],\"carpet\":[{\"aaxis\":{\"endlinecolor\":\"#2a3f5f\",\"gridcolor\":\"white\",\"linecolor\":\"white\",\"minorgridcolor\":\"white\",\"startlinecolor\":\"#2a3f5f\"},\"baxis\":{\"endlinecolor\":\"#2a3f5f\",\"gridcolor\":\"white\",\"linecolor\":\"white\",\"minorgridcolor\":\"white\",\"startlinecolor\":\"#2a3f5f\"},\"type\":\"carpet\"}],\"choropleth\":[{\"colorbar\":{\"outlinewidth\":0,\"ticks\":\"\"},\"type\":\"choropleth\"}],\"contour\":[{\"colorbar\":{\"outlinewidth\":0,\"ticks\":\"\"},\"colorscale\":[[0.0,\"#0d0887\"],[0.1111111111111111,\"#46039f\"],[0.2222222222222222,\"#7201a8\"],[0.3333333333333333,\"#9c179e\"],[0.4444444444444444,\"#bd3786\"],[0.5555555555555556,\"#d8576b\"],[0.6666666666666666,\"#ed7953\"],[0.7777777777777778,\"#fb9f3a\"],[0.8888888888888888,\"#fdca26\"],[1.0,\"#f0f921\"]],\"type\":\"contour\"}],\"contourcarpet\":[{\"colorbar\":{\"outlinewidth\":0,\"ticks\":\"\"},\"type\":\"contourcarpet\"}],\"heatmap\":[{\"colorbar\":{\"outlinewidth\":0,\"ticks\":\"\"},\"colorscale\":[[0.0,\"#0d0887\"],[0.1111111111111111,\"#46039f\"],[0.2222222222222222,\"#7201a8\"],[0.3333333333333333,\"#9c179e\"],[0.4444444444444444,\"#bd3786\"],[0.5555555555555556,\"#d8576b\"],[0.6666666666666666,\"#ed7953\"],[0.7777777777777778,\"#fb9f3a\"],[0.8888888888888888,\"#fdca26\"],[1.0,\"#f0f921\"]],\"type\":\"heatmap\"}],\"heatmapgl\":[{\"colorbar\":{\"outlinewidth\":0,\"ticks\":\"\"},\"colorscale\":[[0.0,\"#0d0887\"],[0.1111111111111111,\"#46039f\"],[0.2222222222222222,\"#7201a8\"],[0.3333333333333333,\"#9c179e\"],[0.4444444444444444,\"#bd3786\"],[0.5555555555555556,\"#d8576b\"],[0.6666666666666666,\"#ed7953\"],[0.7777777777777778,\"#fb9f3a\"],[0.8888888888888888,\"#fdca26\"],[1.0,\"#f0f921\"]],\"type\":\"heatmapgl\"}],\"histogram\":[{\"marker\":{\"pattern\":{\"fillmode\":\"overlay\",\"size\":10,\"solidity\":0.2}},\"type\":\"histogram\"}],\"histogram2d\":[{\"colorbar\":{\"outlinewidth\":0,\"ticks\":\"\"},\"colorscale\":[[0.0,\"#0d0887\"],[0.1111111111111111,\"#46039f\"],[0.2222222222222222,\"#7201a8\"],[0.3333333333333333,\"#9c179e\"],[0.4444444444444444,\"#bd3786\"],[0.5555555555555556,\"#d8576b\"],[0.6666666666666666,\"#ed7953\"],[0.7777777777777778,\"#fb9f3a\"],[0.8888888888888888,\"#fdca26\"],[1.0,\"#f0f921\"]],\"type\":\"histogram2d\"}],\"histogram2dcontour\":[{\"colorbar\":{\"outlinewidth\":0,\"ticks\":\"\"},\"colorscale\":[[0.0,\"#0d0887\"],[0.1111111111111111,\"#46039f\"],[0.2222222222222222,\"#7201a8\"],[0.3333333333333333,\"#9c179e\"],[0.4444444444444444,\"#bd3786\"],[0.5555555555555556,\"#d8576b\"],[0.6666666666666666,\"#ed7953\"],[0.7777777777777778,\"#fb9f3a\"],[0.8888888888888888,\"#fdca26\"],[1.0,\"#f0f921\"]],\"type\":\"histogram2dcontour\"}],\"mesh3d\":[{\"colorbar\":{\"outlinewidth\":0,\"ticks\":\"\"},\"type\":\"mesh3d\"}],\"parcoords\":[{\"line\":{\"colorbar\":{\"outlinewidth\":0,\"ticks\":\"\"}},\"type\":\"parcoords\"}],\"pie\":[{\"automargin\":true,\"type\":\"pie\"}],\"scatter\":[{\"marker\":{\"colorbar\":{\"outlinewidth\":0,\"ticks\":\"\"}},\"type\":\"scatter\"}],\"scatter3d\":[{\"line\":{\"colorbar\":{\"outlinewidth\":0,\"ticks\":\"\"}},\"marker\":{\"colorbar\":{\"outlinewidth\":0,\"ticks\":\"\"}},\"type\":\"scatter3d\"}],\"scattercarpet\":[{\"marker\":{\"colorbar\":{\"outlinewidth\":0,\"ticks\":\"\"}},\"type\":\"scattercarpet\"}],\"scattergeo\":[{\"marker\":{\"colorbar\":{\"outlinewidth\":0,\"ticks\":\"\"}},\"type\":\"scattergeo\"}],\"scattergl\":[{\"marker\":{\"colorbar\":{\"outlinewidth\":0,\"ticks\":\"\"}},\"type\":\"scattergl\"}],\"scattermapbox\":[{\"marker\":{\"colorbar\":{\"outlinewidth\":0,\"ticks\":\"\"}},\"type\":\"scattermapbox\"}],\"scatterpolar\":[{\"marker\":{\"colorbar\":{\"outlinewidth\":0,\"ticks\":\"\"}},\"type\":\"scatterpolar\"}],\"scatterpolargl\":[{\"marker\":{\"colorbar\":{\"outlinewidth\":0,\"ticks\":\"\"}},\"type\":\"scatterpolargl\"}],\"scatterternary\":[{\"marker\":{\"colorbar\":{\"outlinewidth\":0,\"ticks\":\"\"}},\"type\":\"scatterternary\"}],\"surface\":[{\"colorbar\":{\"outlinewidth\":0,\"ticks\":\"\"},\"colorscale\":[[0.0,\"#0d0887\"],[0.1111111111111111,\"#46039f\"],[0.2222222222222222,\"#7201a8\"],[0.3333333333333333,\"#9c179e\"],[0.4444444444444444,\"#bd3786\"],[0.5555555555555556,\"#d8576b\"],[0.6666666666666666,\"#ed7953\"],[0.7777777777777778,\"#fb9f3a\"],[0.8888888888888888,\"#fdca26\"],[1.0,\"#f0f921\"]],\"type\":\"surface\"}],\"table\":[{\"cells\":{\"fill\":{\"color\":\"#EBF0F8\"},\"line\":{\"color\":\"white\"}},\"header\":{\"fill\":{\"color\":\"#C8D4E3\"},\"line\":{\"color\":\"white\"}},\"type\":\"table\"}]},\"layout\":{\"annotationdefaults\":{\"arrowcolor\":\"#2a3f5f\",\"arrowhead\":0,\"arrowwidth\":1},\"autotypenumbers\":\"strict\",\"coloraxis\":{\"colorbar\":{\"outlinewidth\":0,\"ticks\":\"\"}},\"colorscale\":{\"diverging\":[[0,\"#8e0152\"],[0.1,\"#c51b7d\"],[0.2,\"#de77ae\"],[0.3,\"#f1b6da\"],[0.4,\"#fde0ef\"],[0.5,\"#f7f7f7\"],[0.6,\"#e6f5d0\"],[0.7,\"#b8e186\"],[0.8,\"#7fbc41\"],[0.9,\"#4d9221\"],[1,\"#276419\"]],\"sequential\":[[0.0,\"#0d0887\"],[0.1111111111111111,\"#46039f\"],[0.2222222222222222,\"#7201a8\"],[0.3333333333333333,\"#9c179e\"],[0.4444444444444444,\"#bd3786\"],[0.5555555555555556,\"#d8576b\"],[0.6666666666666666,\"#ed7953\"],[0.7777777777777778,\"#fb9f3a\"],[0.8888888888888888,\"#fdca26\"],[1.0,\"#f0f921\"]],\"sequentialminus\":[[0.0,\"#0d0887\"],[0.1111111111111111,\"#46039f\"],[0.2222222222222222,\"#7201a8\"],[0.3333333333333333,\"#9c179e\"],[0.4444444444444444,\"#bd3786\"],[0.5555555555555556,\"#d8576b\"],[0.6666666666666666,\"#ed7953\"],[0.7777777777777778,\"#fb9f3a\"],[0.8888888888888888,\"#fdca26\"],[1.0,\"#f0f921\"]]},\"colorway\":[\"#636efa\",\"#EF553B\",\"#00cc96\",\"#ab63fa\",\"#FFA15A\",\"#19d3f3\",\"#FF6692\",\"#B6E880\",\"#FF97FF\",\"#FECB52\"],\"font\":{\"color\":\"#2a3f5f\"},\"geo\":{\"bgcolor\":\"white\",\"lakecolor\":\"white\",\"landcolor\":\"#E5ECF6\",\"showlakes\":true,\"showland\":true,\"subunitcolor\":\"white\"},\"hoverlabel\":{\"align\":\"left\"},\"hovermode\":\"closest\",\"mapbox\":{\"style\":\"light\"},\"paper_bgcolor\":\"white\",\"plot_bgcolor\":\"#E5ECF6\",\"polar\":{\"angularaxis\":{\"gridcolor\":\"white\",\"linecolor\":\"white\",\"ticks\":\"\"},\"bgcolor\":\"#E5ECF6\",\"radialaxis\":{\"gridcolor\":\"white\",\"linecolor\":\"white\",\"ticks\":\"\"}},\"scene\":{\"xaxis\":{\"backgroundcolor\":\"#E5ECF6\",\"gridcolor\":\"white\",\"gridwidth\":2,\"linecolor\":\"white\",\"showbackground\":true,\"ticks\":\"\",\"zerolinecolor\":\"white\"},\"yaxis\":{\"backgroundcolor\":\"#E5ECF6\",\"gridcolor\":\"white\",\"gridwidth\":2,\"linecolor\":\"white\",\"showbackground\":true,\"ticks\":\"\",\"zerolinecolor\":\"white\"},\"zaxis\":{\"backgroundcolor\":\"#E5ECF6\",\"gridcolor\":\"white\",\"gridwidth\":2,\"linecolor\":\"white\",\"showbackground\":true,\"ticks\":\"\",\"zerolinecolor\":\"white\"}},\"shapedefaults\":{\"line\":{\"color\":\"#2a3f5f\"}},\"ternary\":{\"aaxis\":{\"gridcolor\":\"white\",\"linecolor\":\"white\",\"ticks\":\"\"},\"baxis\":{\"gridcolor\":\"white\",\"linecolor\":\"white\",\"ticks\":\"\"},\"bgcolor\":\"#E5ECF6\",\"caxis\":{\"gridcolor\":\"white\",\"linecolor\":\"white\",\"ticks\":\"\"}},\"title\":{\"x\":0.05},\"xaxis\":{\"automargin\":true,\"gridcolor\":\"white\",\"linecolor\":\"white\",\"ticks\":\"\",\"title\":{\"standoff\":15},\"zerolinecolor\":\"white\",\"zerolinewidth\":2},\"yaxis\":{\"automargin\":true,\"gridcolor\":\"white\",\"linecolor\":\"white\",\"ticks\":\"\",\"title\":{\"standoff\":15},\"zerolinecolor\":\"white\",\"zerolinewidth\":2}}},\"xaxis\":{\"anchor\":\"y\",\"domain\":[0.0,1.0],\"title\":{\"text\":\"qtd\"}},\"yaxis\":{\"anchor\":\"x\",\"domain\":[0.0,1.0],\"title\":{\"text\":\"genres\"}},\"legend\":{\"tracegroupgap\":0},\"title\":{\"text\":\"Top 10 G\\u00eaneros\"},\"barmode\":\"relative\"},                        {\"responsive\": true}                    )                };                            </script>        </div>\n",
       "</body>\n",
       "</html>"
      ]
     },
     "metadata": {
      "application/vnd.databricks.v1+output": {
       "addedWidgets": {},
       "arguments": {},
       "data": "<html>\n<head><meta charset=\"utf-8\" /></head>\n<body>\n    <div>            <script src=\"https://cdnjs.cloudflare.com/ajax/libs/mathjax/2.7.5/MathJax.js?config=TeX-AMS-MML_SVG\"></script><script type=\"text/javascript\">if (window.MathJax) {MathJax.Hub.Config({SVG: {font: \"STIX-Web\"}});}</script>                <script type=\"text/javascript\">window.PlotlyConfig = {MathJaxConfig: 'local'};</script>\n        <script src=\"https://cdn.plot.ly/plotly-2.9.0.min.js\"></script>                <div id=\"dfedfed6-2377-48a7-8f00-a1f11ab532a3\" class=\"plotly-graph-div\" style=\"height:100%; width:100%;\"></div>            <script type=\"text/javascript\">                                    window.PLOTLYENV=window.PLOTLYENV || {};                                    if (document.getElementById(\"dfedfed6-2377-48a7-8f00-a1f11ab532a3\")) {                    Plotly.newPlot(                        \"dfedfed6-2377-48a7-8f00-a1f11ab532a3\",                        [{\"alignmentgroup\":\"True\",\"hovertemplate\":\"qtd=%{x}<br>genres=%{y}<extra></extra>\",\"legendgroup\":\"\",\"marker\":{\"color\":\"#636efa\",\"pattern\":{\"shape\":\"\"}},\"name\":\"\",\"offsetgroup\":\"\",\"orientation\":\"h\",\"showlegend\":false,\"textposition\":\"auto\",\"x\":[69,63,56,50,48,45,42,41,41,40],\"xaxis\":\"x\",\"y\":[\"movie tunes\",\"show tunes\",\"hollywood\",\"orchestral performance\",\"broadway, hollywood, show tunes\",\"disney, movie tunes\",\"sleep\",\"gospel\",\"contemporary country, country, country road, modern country rock\",\"classical soprano\"],\"yaxis\":\"y\",\"type\":\"bar\"}],                        {\"template\":{\"data\":{\"bar\":[{\"error_x\":{\"color\":\"#2a3f5f\"},\"error_y\":{\"color\":\"#2a3f5f\"},\"marker\":{\"line\":{\"color\":\"#E5ECF6\",\"width\":0.5},\"pattern\":{\"fillmode\":\"overlay\",\"size\":10,\"solidity\":0.2}},\"type\":\"bar\"}],\"barpolar\":[{\"marker\":{\"line\":{\"color\":\"#E5ECF6\",\"width\":0.5},\"pattern\":{\"fillmode\":\"overlay\",\"size\":10,\"solidity\":0.2}},\"type\":\"barpolar\"}],\"carpet\":[{\"aaxis\":{\"endlinecolor\":\"#2a3f5f\",\"gridcolor\":\"white\",\"linecolor\":\"white\",\"minorgridcolor\":\"white\",\"startlinecolor\":\"#2a3f5f\"},\"baxis\":{\"endlinecolor\":\"#2a3f5f\",\"gridcolor\":\"white\",\"linecolor\":\"white\",\"minorgridcolor\":\"white\",\"startlinecolor\":\"#2a3f5f\"},\"type\":\"carpet\"}],\"choropleth\":[{\"colorbar\":{\"outlinewidth\":0,\"ticks\":\"\"},\"type\":\"choropleth\"}],\"contour\":[{\"colorbar\":{\"outlinewidth\":0,\"ticks\":\"\"},\"colorscale\":[[0.0,\"#0d0887\"],[0.1111111111111111,\"#46039f\"],[0.2222222222222222,\"#7201a8\"],[0.3333333333333333,\"#9c179e\"],[0.4444444444444444,\"#bd3786\"],[0.5555555555555556,\"#d8576b\"],[0.6666666666666666,\"#ed7953\"],[0.7777777777777778,\"#fb9f3a\"],[0.8888888888888888,\"#fdca26\"],[1.0,\"#f0f921\"]],\"type\":\"contour\"}],\"contourcarpet\":[{\"colorbar\":{\"outlinewidth\":0,\"ticks\":\"\"},\"type\":\"contourcarpet\"}],\"heatmap\":[{\"colorbar\":{\"outlinewidth\":0,\"ticks\":\"\"},\"colorscale\":[[0.0,\"#0d0887\"],[0.1111111111111111,\"#46039f\"],[0.2222222222222222,\"#7201a8\"],[0.3333333333333333,\"#9c179e\"],[0.4444444444444444,\"#bd3786\"],[0.5555555555555556,\"#d8576b\"],[0.6666666666666666,\"#ed7953\"],[0.7777777777777778,\"#fb9f3a\"],[0.8888888888888888,\"#fdca26\"],[1.0,\"#f0f921\"]],\"type\":\"heatmap\"}],\"heatmapgl\":[{\"colorbar\":{\"outlinewidth\":0,\"ticks\":\"\"},\"colorscale\":[[0.0,\"#0d0887\"],[0.1111111111111111,\"#46039f\"],[0.2222222222222222,\"#7201a8\"],[0.3333333333333333,\"#9c179e\"],[0.4444444444444444,\"#bd3786\"],[0.5555555555555556,\"#d8576b\"],[0.6666666666666666,\"#ed7953\"],[0.7777777777777778,\"#fb9f3a\"],[0.8888888888888888,\"#fdca26\"],[1.0,\"#f0f921\"]],\"type\":\"heatmapgl\"}],\"histogram\":[{\"marker\":{\"pattern\":{\"fillmode\":\"overlay\",\"size\":10,\"solidity\":0.2}},\"type\":\"histogram\"}],\"histogram2d\":[{\"colorbar\":{\"outlinewidth\":0,\"ticks\":\"\"},\"colorscale\":[[0.0,\"#0d0887\"],[0.1111111111111111,\"#46039f\"],[0.2222222222222222,\"#7201a8\"],[0.3333333333333333,\"#9c179e\"],[0.4444444444444444,\"#bd3786\"],[0.5555555555555556,\"#d8576b\"],[0.6666666666666666,\"#ed7953\"],[0.7777777777777778,\"#fb9f3a\"],[0.8888888888888888,\"#fdca26\"],[1.0,\"#f0f921\"]],\"type\":\"histogram2d\"}],\"histogram2dcontour\":[{\"colorbar\":{\"outlinewidth\":0,\"ticks\":\"\"},\"colorscale\":[[0.0,\"#0d0887\"],[0.1111111111111111,\"#46039f\"],[0.2222222222222222,\"#7201a8\"],[0.3333333333333333,\"#9c179e\"],[0.4444444444444444,\"#bd3786\"],[0.5555555555555556,\"#d8576b\"],[0.6666666666666666,\"#ed7953\"],[0.7777777777777778,\"#fb9f3a\"],[0.8888888888888888,\"#fdca26\"],[1.0,\"#f0f921\"]],\"type\":\"histogram2dcontour\"}],\"mesh3d\":[{\"colorbar\":{\"outlinewidth\":0,\"ticks\":\"\"},\"type\":\"mesh3d\"}],\"parcoords\":[{\"line\":{\"colorbar\":{\"outlinewidth\":0,\"ticks\":\"\"}},\"type\":\"parcoords\"}],\"pie\":[{\"automargin\":true,\"type\":\"pie\"}],\"scatter\":[{\"marker\":{\"colorbar\":{\"outlinewidth\":0,\"ticks\":\"\"}},\"type\":\"scatter\"}],\"scatter3d\":[{\"line\":{\"colorbar\":{\"outlinewidth\":0,\"ticks\":\"\"}},\"marker\":{\"colorbar\":{\"outlinewidth\":0,\"ticks\":\"\"}},\"type\":\"scatter3d\"}],\"scattercarpet\":[{\"marker\":{\"colorbar\":{\"outlinewidth\":0,\"ticks\":\"\"}},\"type\":\"scattercarpet\"}],\"scattergeo\":[{\"marker\":{\"colorbar\":{\"outlinewidth\":0,\"ticks\":\"\"}},\"type\":\"scattergeo\"}],\"scattergl\":[{\"marker\":{\"colorbar\":{\"outlinewidth\":0,\"ticks\":\"\"}},\"type\":\"scattergl\"}],\"scattermapbox\":[{\"marker\":{\"colorbar\":{\"outlinewidth\":0,\"ticks\":\"\"}},\"type\":\"scattermapbox\"}],\"scatterpolar\":[{\"marker\":{\"colorbar\":{\"outlinewidth\":0,\"ticks\":\"\"}},\"type\":\"scatterpolar\"}],\"scatterpolargl\":[{\"marker\":{\"colorbar\":{\"outlinewidth\":0,\"ticks\":\"\"}},\"type\":\"scatterpolargl\"}],\"scatterternary\":[{\"marker\":{\"colorbar\":{\"outlinewidth\":0,\"ticks\":\"\"}},\"type\":\"scatterternary\"}],\"surface\":[{\"colorbar\":{\"outlinewidth\":0,\"ticks\":\"\"},\"colorscale\":[[0.0,\"#0d0887\"],[0.1111111111111111,\"#46039f\"],[0.2222222222222222,\"#7201a8\"],[0.3333333333333333,\"#9c179e\"],[0.4444444444444444,\"#bd3786\"],[0.5555555555555556,\"#d8576b\"],[0.6666666666666666,\"#ed7953\"],[0.7777777777777778,\"#fb9f3a\"],[0.8888888888888888,\"#fdca26\"],[1.0,\"#f0f921\"]],\"type\":\"surface\"}],\"table\":[{\"cells\":{\"fill\":{\"color\":\"#EBF0F8\"},\"line\":{\"color\":\"white\"}},\"header\":{\"fill\":{\"color\":\"#C8D4E3\"},\"line\":{\"color\":\"white\"}},\"type\":\"table\"}]},\"layout\":{\"annotationdefaults\":{\"arrowcolor\":\"#2a3f5f\",\"arrowhead\":0,\"arrowwidth\":1},\"autotypenumbers\":\"strict\",\"coloraxis\":{\"colorbar\":{\"outlinewidth\":0,\"ticks\":\"\"}},\"colorscale\":{\"diverging\":[[0,\"#8e0152\"],[0.1,\"#c51b7d\"],[0.2,\"#de77ae\"],[0.3,\"#f1b6da\"],[0.4,\"#fde0ef\"],[0.5,\"#f7f7f7\"],[0.6,\"#e6f5d0\"],[0.7,\"#b8e186\"],[0.8,\"#7fbc41\"],[0.9,\"#4d9221\"],[1,\"#276419\"]],\"sequential\":[[0.0,\"#0d0887\"],[0.1111111111111111,\"#46039f\"],[0.2222222222222222,\"#7201a8\"],[0.3333333333333333,\"#9c179e\"],[0.4444444444444444,\"#bd3786\"],[0.5555555555555556,\"#d8576b\"],[0.6666666666666666,\"#ed7953\"],[0.7777777777777778,\"#fb9f3a\"],[0.8888888888888888,\"#fdca26\"],[1.0,\"#f0f921\"]],\"sequentialminus\":[[0.0,\"#0d0887\"],[0.1111111111111111,\"#46039f\"],[0.2222222222222222,\"#7201a8\"],[0.3333333333333333,\"#9c179e\"],[0.4444444444444444,\"#bd3786\"],[0.5555555555555556,\"#d8576b\"],[0.6666666666666666,\"#ed7953\"],[0.7777777777777778,\"#fb9f3a\"],[0.8888888888888888,\"#fdca26\"],[1.0,\"#f0f921\"]]},\"colorway\":[\"#636efa\",\"#EF553B\",\"#00cc96\",\"#ab63fa\",\"#FFA15A\",\"#19d3f3\",\"#FF6692\",\"#B6E880\",\"#FF97FF\",\"#FECB52\"],\"font\":{\"color\":\"#2a3f5f\"},\"geo\":{\"bgcolor\":\"white\",\"lakecolor\":\"white\",\"landcolor\":\"#E5ECF6\",\"showlakes\":true,\"showland\":true,\"subunitcolor\":\"white\"},\"hoverlabel\":{\"align\":\"left\"},\"hovermode\":\"closest\",\"mapbox\":{\"style\":\"light\"},\"paper_bgcolor\":\"white\",\"plot_bgcolor\":\"#E5ECF6\",\"polar\":{\"angularaxis\":{\"gridcolor\":\"white\",\"linecolor\":\"white\",\"ticks\":\"\"},\"bgcolor\":\"#E5ECF6\",\"radialaxis\":{\"gridcolor\":\"white\",\"linecolor\":\"white\",\"ticks\":\"\"}},\"scene\":{\"xaxis\":{\"backgroundcolor\":\"#E5ECF6\",\"gridcolor\":\"white\",\"gridwidth\":2,\"linecolor\":\"white\",\"showbackground\":true,\"ticks\":\"\",\"zerolinecolor\":\"white\"},\"yaxis\":{\"backgroundcolor\":\"#E5ECF6\",\"gridcolor\":\"white\",\"gridwidth\":2,\"linecolor\":\"white\",\"showbackground\":true,\"ticks\":\"\",\"zerolinecolor\":\"white\"},\"zaxis\":{\"backgroundcolor\":\"#E5ECF6\",\"gridcolor\":\"white\",\"gridwidth\":2,\"linecolor\":\"white\",\"showbackground\":true,\"ticks\":\"\",\"zerolinecolor\":\"white\"}},\"shapedefaults\":{\"line\":{\"color\":\"#2a3f5f\"}},\"ternary\":{\"aaxis\":{\"gridcolor\":\"white\",\"linecolor\":\"white\",\"ticks\":\"\"},\"baxis\":{\"gridcolor\":\"white\",\"linecolor\":\"white\",\"ticks\":\"\"},\"bgcolor\":\"#E5ECF6\",\"caxis\":{\"gridcolor\":\"white\",\"linecolor\":\"white\",\"ticks\":\"\"}},\"title\":{\"x\":0.05},\"xaxis\":{\"automargin\":true,\"gridcolor\":\"white\",\"linecolor\":\"white\",\"ticks\":\"\",\"title\":{\"standoff\":15},\"zerolinecolor\":\"white\",\"zerolinewidth\":2},\"yaxis\":{\"automargin\":true,\"gridcolor\":\"white\",\"linecolor\":\"white\",\"ticks\":\"\",\"title\":{\"standoff\":15},\"zerolinecolor\":\"white\",\"zerolinewidth\":2}}},\"xaxis\":{\"anchor\":\"y\",\"domain\":[0.0,1.0],\"title\":{\"text\":\"qtd\"}},\"yaxis\":{\"anchor\":\"x\",\"domain\":[0.0,1.0],\"title\":{\"text\":\"genres\"}},\"legend\":{\"tracegroupgap\":0},\"title\":{\"text\":\"Top 10 G\\u00eaneros\"},\"barmode\":\"relative\"},                        {\"responsive\": true}                    )                };                            </script>        </div>\n</body>\n</html>",
       "datasetInfos": [],
       "metadata": {},
       "removedWidgets": [],
       "textData": null,
       "type": "htmlSandbox"
      }
     },
     "output_type": "display_data"
    }
   ],
   "source": [
    "# Plota um gráfico de barras para os top 10 gêneros\n",
    "plot_title = 'Top 10 Gêneros'\n",
    "top_generos_2.plot.bar(x='qtd', y='genres', title=plot_title)"
   ]
  },
  {
   "cell_type": "markdown",
   "metadata": {
    "application/vnd.databricks.v1+cell": {
     "cellMetadata": {},
     "inputWidgets": {},
     "nuid": "ff0ad920-621a-45c6-9a92-85e8a34bb641",
     "showTitle": false,
     "title": ""
    }
   },
   "source": [
    "**4. Quais são os artistas que estão nesses top gêneros?**"
   ]
  },
  {
   "cell_type": "code",
   "execution_count": 0,
   "metadata": {
    "application/vnd.databricks.v1+cell": {
     "cellMetadata": {
      "byteLimit": 2048000,
      "rowLimit": 10000
     },
     "inputWidgets": {},
     "nuid": "cadafdf4-4c80-4ead-8942-bbd8e4daa7cb",
     "showTitle": false,
     "title": ""
    }
   },
   "outputs": [
    {
     "output_type": "stream",
     "name": "stdout",
     "output_type": "stream",
     "text": [
      "Out[46]: ['movie tunes',\n 'show tunes',\n 'hollywood',\n 'orchestral performance',\n 'broadway, hollywood, show tunes',\n 'disney, movie tunes',\n 'sleep',\n 'gospel',\n 'contemporary country, country, country road, modern country rock',\n 'classical soprano']"
     ]
    }
   ],
   "source": [
    "# cria uma lista para armazenar os nomes dos top gêneros\n",
    "lista_top_genero = top_generos_2.genres.unique().to_list()\n",
    "lista_top_genero"
   ]
  },
  {
   "cell_type": "code",
   "execution_count": 0,
   "metadata": {
    "application/vnd.databricks.v1+cell": {
     "cellMetadata": {
      "byteLimit": 2048000,
      "rowLimit": 10000
     },
     "inputWidgets": {},
     "nuid": "152c622d-5a6d-4a23-8ce2-1c192a5ce485",
     "showTitle": false,
     "title": ""
    }
   },
   "outputs": [
    {
     "output_type": "stream",
     "name": "stdout",
     "output_type": "stream",
     "text": [
      "Out[50]: (495, 17)"
     ]
    }
   ],
   "source": [
    "# criando novo dataframe com somente as linhas presentes na 'lista_top_genero'\n",
    "genero_artista = df_w_genres.loc[df_w_genres['genres'].isin(lista_top_genero)]\n",
    "genero_artista.shape"
   ]
  },
  {
   "cell_type": "code",
   "execution_count": 0,
   "metadata": {
    "application/vnd.databricks.v1+cell": {
     "cellMetadata": {
      "byteLimit": 2048000,
      "rowLimit": 10000
     },
     "inputWidgets": {},
     "nuid": "ead8c456-0e06-48f2-afcf-50bc29f6206c",
     "showTitle": false,
     "title": ""
    }
   },
   "outputs": [
    {
     "output_type": "display_data",
     "data": {
      "text/html": [
       "<style scoped>\n",
       "  .table-result-container {\n",
       "    max-height: 300px;\n",
       "    overflow: auto;\n",
       "  }\n",
       "  table, th, td {\n",
       "    border: 1px solid black;\n",
       "    border-collapse: collapse;\n",
       "  }\n",
       "  th, td {\n",
       "    padding: 5px;\n",
       "  }\n",
       "  th {\n",
       "    text-align: left;\n",
       "  }\n",
       "</style><div class='table-result-container'><table class='table-result'><thead style='background-color: white'><tr><th>genres</th><th>artists</th></tr></thead><tbody><tr><td>show tunes</td><td>Cats 1981 Original London Cast</td></tr><tr><td>broadway, hollywood, show tunes</td><td>'Legally Blonde' Ensemble</td></tr><tr><td>show tunes</td><td>'Legally Blonde' Greek Chorus</td></tr><tr><td>broadway, hollywood, show tunes</td><td>Aaron Tveit</td></tr><tr><td>broadway, hollywood, show tunes</td><td>Adam Pascal</td></tr><tr><td>movie tunes</td><td>Adriana Caselotti</td></tr><tr><td>classical soprano</td><td>Adrianne Pieczonka</td></tr><tr><td>classical soprano</td><td>Agnes Giebel</td></tr><tr><td>gospel</td><td>Albertina Walker</td></tr><tr><td>broadway, hollywood, show tunes</td><td>Alex Brightman</td></tr><tr><td>broadway, hollywood, show tunes</td><td>Alice Ripley</td></tr><tr><td>movie tunes</td><td>Alice Sixer</td></tr><tr><td>show tunes</td><td>Amanda Bynes</td></tr><tr><td>show tunes</td><td>Amy Spanger</td></tr><tr><td>show tunes</td><td>Andrea Burns</td></tr><tr><td>classical soprano</td><td>Andrea Rost</td></tr><tr><td>orchestral performance</td><td>André Cluytens</td></tr><tr><td>orchestral performance</td><td>André Previn</td></tr><tr><td>show tunes</td><td>Angela Cartwright</td></tr><tr><td>classical soprano</td><td>Anna Tomowa-Sintow</td></tr><tr><td>broadway, hollywood, show tunes</td><td>Annaleigh Ashford</td></tr><tr><td>classical soprano</td><td>Anneliese Rothenberger</td></tr><tr><td>gospel</td><td>Anthony Brown & group therAPy</td></tr><tr><td>movie tunes</td><td>Anthony Gonzalez</td></tr><tr><td>broadway, hollywood, show tunes</td><td>Anthony Rapp</td></tr><tr><td>orchestral performance</td><td>Antoni Wit</td></tr><tr><td>hollywood</td><td>Antonio Banderas</td></tr><tr><td>movie tunes</td><td>Ashley Lilley</td></tr><tr><td>classical soprano</td><td>Astrid Varnay</td></tr><tr><td>show tunes</td><td>Austyn Johnson</td></tr><tr><td>sleep</td><td>Baby Sleep</td></tr><tr><td>sleep</td><td>Baby Sweet Dream</td></tr><tr><td>broadway, hollywood, show tunes</td><td>Barrett Wilbert Weed</td></tr><tr><td>hollywood</td><td>Barry Bostwick</td></tr><tr><td>disney, movie tunes</td><td>Beaumont</td></tr><tr><td>gospel</td><td>Bebe & Cece Winans</td></tr><tr><td>broadway, hollywood, show tunes</td><td>Bebe Neuwirth</td></tr><tr><td>gospel</td><td>Bebe Winans</td></tr><tr><td>sleep</td><td>Bedtime Baby</td></tr><tr><td>broadway, hollywood, show tunes</td><td>Ben Fankhauser</td></tr><tr><td>show tunes</td><td>Benjamin Schrader</td></tr><tr><td>contemporary country, country, country road, modern country rock</td><td>Bent</td></tr><tr><td>broadway, hollywood, show tunes</td><td>Bernadette Peters</td></tr><tr><td>disney, movie tunes</td><td>Beth Fowler</td></tr><tr><td>movie tunes</td><td>Betty Noyes</td></tr><tr><td>classical soprano</td><td>Bidu Sayão</td></tr><tr><td>contemporary country, country, country road, modern country rock</td><td>Big & Rich</td></tr><tr><td>movie tunes</td><td>Bill Farmer</td></tr><tr><td>disney, movie tunes</td><td>Bill Shirley</td></tr><tr><td>disney, movie tunes</td><td>Bill Thompson</td></tr><tr><td>movie tunes</td><td>Billy Bletcher</td></tr><tr><td>contemporary country, country, country road, modern country rock</td><td>Billy Currington</td></tr><tr><td>broadway, hollywood, show tunes</td><td>Billy Porter</td></tr><tr><td>gospel</td><td>Bishop Paul S. Morton, Sr.</td></tr><tr><td>disney, movie tunes</td><td>Bobby Driscoll</td></tr><tr><td>hollywood</td><td>Bonham</td></tr><tr><td>movie tunes</td><td>Brad Garrett</td></tr><tr><td>disney, movie tunes</td><td>Brad Kane</td></tr><tr><td>hollywood</td><td>Bradley Cooper</td></tr><tr><td>contemporary country, country, country road, modern country rock</td><td>Brett Eldredge</td></tr><tr><td>gospel</td><td>Brian Courtney Wilson</td></tr><tr><td>broadway, hollywood, show tunes</td><td>Brian D'Arcy James</td></tr><tr><td>show tunes</td><td>Brian Sears</td></tr><tr><td>gospel</td><td>Brian Wilson</td></tr><tr><td>hollywood</td><td>Brittany Snow</td></tr><tr><td>movie tunes</td><td>Bruce Adler</td></tr><tr><td>disney, movie tunes</td><td>Bruce Reitherman</td></tr><tr><td>hollywood</td><td>Bruce Willis</td></tr><tr><td>contemporary country, country, country road, modern country rock</td><td>Bucky Covington</td></tr><tr><td>movie tunes</td><td>Burke Moses</td></tr><tr><td>sleep</td><td>Calming Sounds</td></tr><tr><td>movie tunes</td><td>Cameron Seely</td></tr><tr><td>disney, movie tunes</td><td>Carmen Twillie</td></tr><tr><td>broadway, hollywood, show tunes</td><td>Caroline O'Connor</td></tr><tr><td>broadway, hollywood, show tunes</td><td>Carrie Fletcher</td></tr><tr><td>movie tunes</td><td>Cast - The Nightmare Before Christmas</td></tr><tr><td>hollywood</td><td>Cast Of Mamma Mia The Movie</td></tr><tr><td>gospel</td><td>CeCe Winans</td></tr><tr><td>contemporary country, country, country road, modern country rock</td><td>Chase</td></tr><tr><td>contemporary country, country, country road, modern country rock</td><td>Chase Rice</td></tr><tr><td>disney, movie tunes</td><td>Cheryl Freeman</td></tr><tr><td>movie tunes</td><td>Childrens Chorus</td></tr><tr><td>disney, movie tunes</td><td>Chorus</td></tr><tr><td>disney, movie tunes</td><td>Chorus - Aladdin And The King Of Thieves</td></tr><tr><td>disney, movie tunes</td><td>Chorus - Hercules</td></tr><tr><td>disney, movie tunes</td><td>Chorus - Mulan</td></tr><tr><td>contemporary country, country, country road, modern country rock</td><td>Chris Cagle</td></tr><tr><td>contemporary country, country, country road, modern country rock</td><td>Chris Janson</td></tr><tr><td>contemporary country, country, country road, modern country rock</td><td>Chris Young</td></tr><tr><td>hollywood</td><td>Christian Bale</td></tr><tr><td>broadway, hollywood, show tunes</td><td>Christian Borle</td></tr><tr><td>hollywood</td><td>Christine Baranski</td></tr><tr><td>broadway, hollywood, show tunes</td><td>Christopher Fitzgerald</td></tr><tr><td>broadway, hollywood, show tunes</td><td>Christy Altomare</td></tr><tr><td>disney, movie tunes</td><td>Cinderella's Mice Chorus</td></tr><tr><td>hollywood</td><td>Cindy Bullens</td></tr><tr><td>show tunes</td><td>Clark Johnsen</td></tr><tr><td>contemporary country, country, country road, modern country rock</td><td>Clay Walker</td></tr><tr><td>movie tunes</td><td>Cliff Edwards</td></tr><tr><td>contemporary country, country, country road, modern country rock</td><td>Cole Swindell</td></tr><tr><td>hollywood</td><td>Colin Firth</td></tr><tr><td>gospel</td><td>Commissioned</td></tr><tr><td>contemporary country, country, country road, modern country rock</td><td>Corey Smith</td></tr><tr><td>classical soprano</td><td>Cristina Deutekom</td></tr><tr><td>hollywood</td><td>Dana Fuchs</td></tr><tr><td>broadway, hollywood, show tunes</td><td>Daniel Breaker</td></tr><tr><td>show tunes</td><td>Daniel Everidge</td></tr><tr><td>orchestral performance</td><td>Daniel Harding</td></tr><tr><td>broadway, hollywood, show tunes</td><td>Danny Burstein</td></tr><tr><td>movie tunes</td><td>Danny DeVito</td></tr><tr><td>show tunes</td><td>Daphne Rubin-Vega</td></tr><tr><td>contemporary country, country, country road, modern country rock</td><td>Darryl Worley</td></tr><tr><td>gospel</td><td>Daryl Coley</td></tr><tr><td>disney, movie tunes</td><td>Daughters of Triton</td></tr><tr><td>orchestral performance</td><td>David Lloyd-Jones</td></tr><tr><td>movie tunes</td><td>David Moscow</td></tr><tr><td>disney, movie tunes</td><td>David Ogden Stiers</td></tr><tr><td>gospel</td><td>DeWayne Woods</td></tr><tr><td>show tunes</td><td>Debbie Deb</td></tr><tr><td>show tunes</td><td>Debbie Turner</td></tr><tr><td>sleep</td><td>Deep Sleep</td></tr><tr><td>sleep</td><td>Deep Sleep Music Collective</td></tr><tr><td>sleep</td><td>Deep Sleep Music Experience</td></tr><tr><td>show tunes</td><td>Deidre Goodwin</td></tr><tr><td>gospel</td><td>Deitrick Haddon</td></tr><tr><td>show tunes</td><td>Delta Nus</td></tr><tr><td>classical soprano</td><td>Denise Duval</td></tr><tr><td>show tunes</td><td>Denise Faye</td></tr><tr><td>show tunes</td><td>Dequina Moore</td></tr><tr><td>disney, movie tunes</td><td>Dickie Jones</td></tr><tr><td>contemporary country, country, country road, modern country rock</td><td>Dierks Bentley</td></tr><tr><td>movie tunes</td><td>Digby Wolfe</td></tr><tr><td>movie tunes</td><td>Dominic Cooper</td></tr><tr><td>gospel</td><td>Donald Lawrence & The Tri-City Singers</td></tr><tr><td>disney, movie tunes</td><td>Donna Murphy</td></tr><tr><td>gospel</td><td>Donnie McClurkin</td></tr><tr><td>movie tunes</td><td>Dora Luz</td></tr><tr><td>broadway, hollywood, show tunes</td><td>Drew Gehling</td></tr><tr><td>show tunes</td><td>Duane Chase</td></tr><tr><td>show tunes</td><td>Duffy</td></tr><tr><td>contemporary country, country, country road, modern country rock</td><td>Dust</td></tr><tr><td>contemporary country, country, country road, modern country rock</td><td>Dustin Lynch</td></tr><tr><td>contemporary country, country, country road, modern country rock</td><td>Dylan Scott</td></tr><tr><td>contemporary country, country, country road, modern country rock</td><td>Easton Corbin</td></tr><tr><td>classical soprano</td><td>Eileen Farrell</td></tr><tr><td>show tunes</td><td>Ekaterina Chtchelkanova</td></tr><tr><td>classical soprano</td><td>Eleanor Steber</td></tr><tr><td>classical soprano</td><td>Elisabeth Grümmer</td></tr><tr><td>classical soprano</td><td>Elizabeth Harwood</td></tr><tr><td>show tunes</td><td>Elle McLemore</td></tr><tr><td>hollywood</td><td>Emma Stone</td></tr><tr><td>movie tunes</td><td>Ensemble</td></tr><tr><td>contemporary country, country, country road, modern country rock</td><td>Eric</td></tr><tr><td>contemporary country, country, country road, modern country rock</td><td>Eric Church</td></tr><tr><td>classical soprano</td><td>Erna Berger</td></tr><tr><td>disney, movie tunes</td><td>Ernie</td></tr><tr><td>disney, movie tunes</td><td>Ernie Sabella</td></tr><tr><td>orchestral performance</td><td>Eugen Jochum</td></tr><tr><td>classical soprano</td><td>Eva Marton</td></tr><tr><td>hollywood</td><td>Evan Rachel Wood</td></tr><tr><td>hollywood</td><td>Ewan McGregor</td></tr><tr><td>orchestral performance</td><td>Fabien Gabel</td></tr><tr><td>sleep</td><td>Fan Sounds</td></tr><tr><td>hollywood</td><td>Felicia Day</td></tr><tr><td>movie tunes</td><td>Fess Parker</td></tr><tr><td>gospel</td><td>Forever Jones</td></tr><tr><td>disney, movie tunes</td><td>Frank Churchill</td></tr><tr><td>contemporary country, country, country road, modern country rock</td><td>Frankie Ballard</td></tr><tr><td>orchestral performance</td><td>Franz Welser-Möst</td></tr><tr><td>gospel</td><td>Fred Hammond</td></tr><tr><td>classical soprano</td><td>Galina Vishnevskaya</td></tr><tr><td>contemporary country, country, country road, modern country rock</td><td>Gary Allan</td></tr><tr><td>show tunes</td><td>Gary Beach</td></tr><tr><td>disney, movie tunes</td><td>George Bruns</td></tr><tr><td>movie tunes</td><td>George Givot</td></tr><tr><td>movie tunes</td><td>Gerard Butler</td></tr><tr><td>show tunes</td><td>Gerard Canonico</td></tr><tr><td>orchestral performance</td><td>Giuseppe Sinopoli</td></tr><tr><td>gospel</td><td>Gods Property</td></tr><tr><td>show tunes</td><td>Graham Bowen</td></tr><tr><td>orchestral performance</td><td>Grant Llewellyn</td></tr><tr><td>gospel</td><td>Group Therapy</td></tr><tr><td>hollywood</td><td>Haley Bennett</td></tr><tr><td>movie tunes</td><td>Harry Stockwell</td></tr><tr><td>movie tunes</td><td>Hayley Mills</td></tr><tr><td>show tunes</td><td>Heather Menzies</td></tr><tr><td>disney, movie tunes</td><td>Heidi Mollenhauer</td></tr><tr><td>orchestral performance</td><td>Heinz Rögner</td></tr><tr><td>hollywood</td><td>Helena Bonham Carter</td></tr><tr><td>classical soprano</td><td>Helga Dernesch</td></tr><tr><td>orchestral performance</td><td>Helmuth Rilling</td></tr><tr><td>orchestral performance</td><td>Herbert Blomstedt</td></tr><tr><td>gospel</td><td>Hezekiah Walker</td></tr><tr><td>gospel</td><td>Hezekiah Walker & The Love Fellowship Crusade Choir</td></tr><tr><td>show tunes</td><td>Hilton McRae</td></tr><tr><td>movie tunes</td><td>Howard Ashman</td></tr><tr><td>hollywood</td><td>Hugh Grant</td></tr><tr><td>movie tunes</td><td>Ilene Woods</td></tr><tr><td>classical soprano</td><td>Inge Borkh</td></tr><tr><td>classical soprano</td><td>Irmgard Seefried</td></tr><tr><td>orchestral performance</td><td>István Kertész</td></tr><tr><td>disney, movie tunes</td><td>J. Pat O'Malley</td></tr><tr><td>hollywood</td><td>J. Phoenix</td></tr><tr><td>contemporary country, country, country road, modern country rock</td><td>Jake Owen</td></tr><tr><td>movie tunes</td><td>James Baskett</td></tr><tr><td>orchestral performance</td><td>James Conlon</td></tr><tr><td>orchestral performance</td><td>James Judd</td></tr><tr><td>hollywood</td><td>James Marsden</td></tr><tr><td>contemporary country, country, country road, modern country rock</td><td>James Otto</td></tr><tr><td>hollywood</td><td>Jamie Campbell Bower</td></tr><tr><td>classical soprano</td><td>Jane Eaglen</td></tr><tr><td>show tunes</td><td>Janet Dacal</td></tr><tr><td>contemporary country, country, country road, modern country rock</td><td>Jaron And The Long Road To Love</td></tr><tr><td>show tunes</td><td>Jasmine Cephas-Jones</td></tr><tr><td>show tunes</td><td>Jason Michael Snow</td></tr><tr><td>show tunes</td><td>Jason Raize</td></tr><tr><td>hollywood</td><td>Jason Segel</td></tr><tr><td>movie tunes</td><td>Jason Weaver</td></tr><tr><td>orchestral performance</td><td>Jean-François Paillard</td></tr><tr><td>orchestral performance</td><td>Jeffrey Tate</td></tr><tr><td>disney, movie tunes</td><td>Jenifer Lewis</td></tr><tr><td>broadway, hollywood, show tunes</td><td>Jennifer Damiano</td></tr><tr><td>classical soprano</td><td>Jennifer Vyvyan</td></tr><tr><td>movie tunes</td><td>Jeremy Irons</td></tr><tr><td>broadway, hollywood, show tunes</td><td>Jeremy Jordan</td></tr><tr><td>movie tunes</td><td>Jerry Colonna</td></tr><tr><td>movie tunes</td><td>Jesse Corti</td></tr><tr><td>broadway, hollywood, show tunes</td><td>Jessica Keenan Wynn</td></tr><tr><td>broadway, hollywood, show tunes</td><td>Jessie Mueller</td></tr><tr><td>broadway, hollywood, show tunes</td><td>Jewell</td></tr><tr><td>hollywood</td><td>Jim Broadbent</td></tr><tr><td>hollywood</td><td>Jim Bryant</td></tr><tr><td>movie tunes</td><td>Jim Carmichael</td></tr><tr><td>hollywood</td><td>Jim Sturgess</td></tr><tr><td>orchestral performance</td><td>Jiří Bělohlávek</td></tr><tr><td>orchestral performance</td><td>Joann Falletta</td></tr><tr><td>hollywood</td><td>Joaquin Phoenix</td></tr><tr><td>hollywood</td><td>Joe Anderson</td></tr><tr><td>broadway, hollywood, show tunes</td><td>John Gallagher Jr.</td></tr><tr><td>broadway, hollywood, show tunes</td><td>John Gallagher, Jr.</td></tr><tr><td>hollywood</td><td>John Kander</td></tr><tr><td>gospel</td><td>John P Kee & New Life</td></tr><tr><td>gospel</td><td>John P. Kee</td></tr><tr><td>hollywood</td><td>John Travolta</td></tr><tr><td>hollywood</td><td>Johnny Depp</td></tr><tr><td>hollywood</td><td>Johnny Green</td></tr><tr><td>show tunes</td><td>Jon Eidson</td></tr><tr><td>contemporary country, country, country road, modern country rock</td><td>Jon Pardi</td></tr><tr><td>disney, movie tunes</td><td>Jonathan Freeman</td></tr><tr><td>gospel</td><td>Jonathan Nelson</td></tr><tr><td>orchestral performance</td><td>Josef K</td></tr><tr><td>orchestral performance</td><td>Josef Krips</td></tr><tr><td>disney, movie tunes</td><td>Joseph Williams</td></tr><tr><td>contemporary country, country, country road, modern country rock</td><td>Josh Turner</td></tr><tr><td>orchestral performance</td><td>José Serebrier</td></tr><tr><td>hollywood</td><td>Julie Walters</td></tr><tr><td>show tunes</td><td>Justin Bohon</td></tr><tr><td>movie tunes</td><td>Kamehameha Schools Children's Chorus</td></tr><tr><td>broadway, hollywood, show tunes</td><td>Kara Lindsay</td></tr><tr><td>disney, movie tunes</td><td>Karen Dotrice</td></tr><tr><td>classical soprano</td><td>Karita Mattila</td></tr><tr><td>disney, movie tunes</td><td>Kathryn Beaumont</td></tr><tr><td>broadway, hollywood, show tunes</td><td>Keala Settle</td></tr><tr><td>broadway, hollywood, show tunes</td><td>Keenan Wynn</td></tr><tr><td>movie tunes</td><td>Keith David</td></tr><tr><td>orchestral performance</td><td>Kent Nagano</td></tr><tr><td>show tunes</td><td>Kevin Duda</td></tr><tr><td>broadway, hollywood, show tunes</td><td>Kimiko Glenn</td></tr><tr><td>contemporary country, country, country road, modern country rock</td><td>Kip Moore</td></tr><tr><td>orchestral performance</td><td>Klaus Tennstedt</td></tr><tr><td>gospel</td><td>Kurt Carr & The Kurt Carr Singers</td></tr><tr><td>show tunes</td><td>Kym Karath</td></tr><tr><td>movie tunes</td><td>LaChanze</td></tr><tr><td>gospel</td><td>LaShun Pace</td></tr><tr><td>broadway, hollywood, show tunes</td><td>Laura Dreyfuss</td></tr><tr><td>movie tunes</td><td>Laura Williams</td></tr><tr><td>disney, movie tunes</td><td>Lebo M.</td></tr><tr><td>contemporary country, country, country road, modern country rock</td><td>Lee Brice</td></tr><tr><td>movie tunes</td><td>Leigh Harline</td></tr><tr><td>broadway, hollywood, show tunes</td><td>Len Cariou</td></tr><tr><td>broadway, hollywood, show tunes</td><td>Leo Norbert Butz</td></tr><tr><td>orchestral performance</td><td>Leonard Slatkin</td></tr><tr><td>orchestral performance</td><td>Leopold Stokowski</td></tr><tr><td>show tunes</td><td>Les Misérables-Original London Cast</td></tr><tr><td>broadway, hollywood, show tunes</td><td>Leslie Kritzer</td></tr><tr><td>hollywood</td><td>Levi Stubbs</td></tr><tr><td>show tunes</td><td>Lewis Cleale</td></tr><tr><td>hollywood</td><td>Lily James</td></tr><tr><td>show tunes</td><td>Lin-Manuel Miranda</td></tr><tr><td>show tunes</td><td>Linda Eder</td></tr><tr><td>movie tunes</td><td>Linda Hunt</td></tr><tr><td>classical soprano</td><td>Lisa Otto</td></tr><tr><td>classical soprano</td><td>Lisa della Casa</td></tr><tr><td>movie tunes</td><td>Liz English</td></tr><tr><td>classical soprano</td><td>Ljuba Welitsch</td></tr><tr><td>sleep</td><td>Loopable</td></tr><tr><td>orchestral performance</td><td>Louis Langrée</td></tr><tr><td>sleep</td><td>Lullabies for Deep Meditation</td></tr><tr><td>movie tunes</td><td>Mack David</td></tr><tr><td>gospel</td><td>Mali Music</td></tr><tr><td>broadway, hollywood, show tunes</td><td>Mandy Gonzalez</td></tr><tr><td>classical soprano</td><td>Margaret Marshall</td></tr><tr><td>orchestral performance</td><td>Mark Elder</td></tr><tr><td>movie tunes</td><td>Mark Keali'i Ho'omalu</td></tr><tr><td>gospel</td><td>Martha Munizzi</td></tr><tr><td>classical soprano</td><td>Martha Mödl</td></tr><tr><td>hollywood</td><td>Martin Luther</td></tr><tr><td>hollywood</td><td>Martin Luther McCoy</td></tr><tr><td>gospel</td><td>Marvin Sapp</td></tr><tr><td>disney, movie tunes</td><td>Mary Costa</td></tr><tr><td>disney, movie tunes</td><td>Mary Moder</td></tr><tr><td>broadway, hollywood, show tunes</td><td>Matthew Morrison</td></tr><tr><td>orchestral performance</td><td>Maurice Abravanel</td></tr><tr><td>show tunes</td><td>Max Casella</td></tr><tr><td>sleep</td><td>Meditation Awareness</td></tr><tr><td>movie tunes</td><td>Mel Gibson</td></tr><tr><td>gospel</td><td>Men Of Standard</td></tr><tr><td>hollywood</td><td>Meryl Streep</td></tr><tr><td>disney, movie tunes</td><td>Mice Chorus</td></tr><tr><td>orchestral performance</td><td>Michel Plasson</td></tr><tr><td>show tunes</td><td>Michelle Duffy</td></tr><tr><td>show tunes</td><td>Michelle Federer</td></tr><tr><td>hollywood</td><td>Michelle Pfeiffer</td></tr><tr><td>hollywood</td><td>Michelle Williams</td></tr><tr><td>movie tunes</td><td>Mike Douglas</td></tr><tr><td>show tunes</td><td>Mike Faist</td></tr><tr><td>show tunes</td><td>Miranda!</td></tr><tr><td>classical soprano</td><td>Monika Frimmer</td></tr><tr><td>show tunes</td><td>Mya Harrison</td></tr><tr><td>movie tunes</td><td>Nancy Adams</td></tr><tr><td>hollywood</td><td>Natalie Mendoza</td></tr><tr><td>sleep</td><td>Native American Flute</td></tr><tr><td>sleep</td><td>Native American Meditations</td></tr><tr><td>sleep</td><td>Natural White Noise Relaxation</td></tr><tr><td>movie tunes</td><td>Ned Washington</td></tr><tr><td>sleep</td><td>New Age</td></tr><tr><td>show tunes</td><td>Nicholas Hammond</td></tr><tr><td>show tunes</td><td>Nick Spangler</td></tr><tr><td>show tunes</td><td>Nicolas Colicos</td></tr><tr><td>broadway, hollywood, show tunes</td><td>Norbert Leo Butz</td></tr><tr><td>show tunes</td><td>Okieriete Onaodowan</td></tr><tr><td>show tunes</td><td>Olivia Foa'i</td></tr><tr><td>movie tunes</td><td>Oscar Isaac</td></tr><tr><td>orchestral performance</td><td>Osmo Vänskä</td></tr><tr><td>orchestral performance</td><td>Otmar Suitner</td></tr><tr><td>movie tunes</td><td>Paige O'Hara</td></tr><tr><td>disney, movie tunes</td><td>Pat Carroll</td></tr><tr><td>broadway, hollywood, show tunes</td><td>Patti LuPone</td></tr><tr><td>hollywood</td><td>Paul Francis Webster</td></tr><tr><td>movie tunes</td><td>Paul Frees</td></tr><tr><td>disney, movie tunes</td><td>Paul Kandel</td></tr><tr><td>movie tunes</td><td>Pearl Bailey</td></tr><tr><td>orchestral performance</td><td>Peter Maag</td></tr><tr><td>movie tunes</td><td>Phil Harris</td></tr><tr><td>contemporary country, country, country road, modern country rock</td><td>Phil Vassar</td></tr><tr><td>hollywood</td><td>Pierce Brosnan</td></tr><tr><td>broadway, hollywood, show tunes</td><td>Rachel Bay Jones</td></tr><tr><td>show tunes</td><td>Rachel House</td></tr><tr><td>movie tunes</td><td>Rachel McDowall</td></tr><tr><td>orchestral performance</td><td>Rafael Kubelik</td></tr><tr><td>sleep</td><td>Rain Storm Sample Library</td></tr><tr><td>hollywood</td><td>Ralph Fiennes</td></tr><tr><td>orchestral performance</td><td>Raymond Leppard</td></tr><tr><td>hollywood</td><td>Reese Witherspoon</td></tr><tr><td>sleep</td><td>Relajación</td></tr><tr><td>sleep</td><td>Relaxation</td></tr><tr><td>classical soprano</td><td>Reri Grist</td></tr><tr><td>hollywood</td><td>Richard Gere</td></tr><tr><td>hollywood</td><td>Richard O'Brien</td></tr><tr><td>gospel</td><td>Richard Smallwood</td></tr><tr><td>movie tunes</td><td>Richard White</td></tr><tr><td>hollywood</td><td>Rick Moranis</td></tr><tr><td>disney, movie tunes</td><td>Robby Benson</td></tr><tr><td>show tunes</td><td>Robert Billig</td></tr><tr><td>orchestral performance</td><td>Robert Shaw</td></tr><tr><td>classical soprano</td><td>Roberta Peters</td></tr><tr><td>show tunes</td><td>Robin de Jesus</td></tr><tr><td>contemporary country, country, country road, modern country rock</td><td>Rodney Atkins</td></tr><tr><td>disney, movie tunes</td><td>Roger Bart</td></tr><tr><td>show tunes</td><td>Rory O'Malley</td></tr><tr><td>contemporary country, country, country road, modern country rock</td><td>Russell Dickerson</td></tr><tr><td>classical soprano</td><td>Ruth Ziesak</td></tr><tr><td>hollywood</td><td>Ryan Gosling</td></tr><tr><td>broadway, hollywood, show tunes</td><td>Ryan McCartan</td></tr><tr><td>classical soprano</td><td>Régine Crespin</td></tr><tr><td>broadway, hollywood, show tunes</td><td>Saigon</td></tr><tr><td>orchestral performance</td><td>Sakari Oramo</td></tr><tr><td>movie tunes</td><td>Sally Dworsky</td></tr><tr><td>show tunes</td><td>Samantha Barks</td></tr><tr><td>sleep</td><td>Sample Rain Library</td></tr><tr><td>movie tunes</td><td>Sandy Duncan, Howard McGillin, Liz Callaway, Dakin Matthews, Adam Wylie, J.D. Daniels, Lex de Azevedo, David Zippel</td></tr><tr><td>hollywood</td><td>Sara Ramirez</td></tr><tr><td>movie tunes</td><td>Scatman Crothers</td></tr><tr><td>show tunes</td><td>Scott Irby-Ranniar</td></tr><tr><td>contemporary country, country, country road, modern country rock</td><td>Scotty</td></tr><tr><td>contemporary country, country, country road, modern country rock</td><td>Scotty McCreery</td></tr><tr><td>orchestral performance</td><td>Semyon Bychkov</td></tr><tr><td>classical soprano</td><td>Sena Jurinac</td></tr><tr><td>show tunes</td><td>Seth Stewart</td></tr><tr><td>movie tunes</td><td>Shelby Flint</td></tr><tr><td>broadway, hollywood, show tunes</td><td>Sherie Rene Scott</td></tr><tr><td>disney, movie tunes</td><td>Ship's Chorus</td></tr><tr><td>disney, movie tunes</td><td>Si and Am</td></tr><tr><td>show tunes</td><td>Sierra Boggess as Ariel</td></tr><tr><td>orchestral performance</td><td>Sir Adrian Boult</td></tr><tr><td>orchestral performance</td><td>Sir Charles Groves</td></tr><tr><td>orchestral performance</td><td>Sir Charles Mackerras</td></tr><tr><td>orchestral performance</td><td>Sir David Willcocks</td></tr><tr><td>orchestral performance</td><td>Sir Georg Solti</td></tr><tr><td>orchestral performance</td><td>Sir Thomas Beecham</td></tr><tr><td>sleep</td><td>Sleep Baby Sleep</td></tr><tr><td>sleep</td><td>Sleep Sound Library</td></tr><tr><td>sleep</td><td>Sleepy Times</td></tr><tr><td>sleep</td><td>Soothing White Noise for Infant Sleeping and Massage, Crying & Colic Relief</td></tr><tr><td>broadway, hollywood, show tunes</td><td>Sophia Anne Caruso</td></tr><tr><td>sleep</td><td>Sound Library XL</td></tr><tr><td>movie tunes</td><td>Stellan Skarsgård</td></tr><tr><td>hollywood</td><td>Stephen Schwartz</td></tr><tr><td>broadway, hollywood, show tunes</td><td>Stephen Sondheim</td></tr><tr><td>movie tunes</td><td>Sterling Holloway</td></tr><tr><td>contemporary country, country, country road, modern country rock</td><td>Steve Holy</td></tr><tr><td>show tunes</td><td>Stig Anderson</td></tr><tr><td>hollywood</td><td>Stockard Channing</td></tr><tr><td>classical soprano</td><td>Susan Gritton</td></tr><tr><td>show tunes</td><td>Susan Misner</td></tr><tr><td>hollywood</td><td>Susan Sarandon</td></tr><tr><td>broadway, hollywood, show tunes</td><td>Sutton Foster</td></tr><tr><td>classical soprano</td><td>Suzanne Danco</td></tr><tr><td>hollywood</td><td>T.V. Carpio</td></tr><tr><td>gospel</td><td>Tamela Mann</td></tr><tr><td>hollywood</td><td>Taron Egerton</td></tr><tr><td>movie tunes</td><td>Tawatha Agee</td></tr><tr><td>broadway, hollywood, show tunes</td><td>Terrence Mann</td></tr><tr><td>movie tunes</td><td>Terry Gilkyson</td></tr><tr><td>gospel</td><td>The Brooklyn Tabernacle Choir</td></tr><tr><td>gospel</td><td>The Clark Sisters</td></tr><tr><td>disney, movie tunes</td><td>The Disneyland Children's Chorus</td></tr><tr><td>disney, movie tunes</td><td>The Dwarf Chorus</td></tr><tr><td>movie tunes</td><td>The Greatest Showman Ensemble</td></tr><tr><td>disney, movie tunes</td><td>The Jud Conlon Chorus</td></tr><tr><td>contemporary country, country, country road, modern country rock</td><td>The Lost Trailers</td></tr><tr><td>movie tunes</td><td>The Mellomen</td></tr><tr><td>movie tunes</td><td>The Mouseketeers</td></tr><tr><td>sleep</td><td>The Noise</td></tr><tr><td>sleep</td><td>The White Noise</td></tr><tr><td>sleep</td><td>The White Noise Zen & Meditation Sound Lab</td></tr><tr><td>gospel</td><td>The Winans</td></tr><tr><td>sleep</td><td>Therapy?</td></tr><tr><td>contemporary country, country, country road, modern country rock</td><td>Thomas Rhett</td></tr><tr><td>hollywood</td><td>Tim Curry</td></tr><tr><td>sleep</td><td>Tmsoft’s White Noise Sleep Sounds</td></tr><tr><td>show tunes</td><td>Tom Alan Robbins</td></tr><tr><td>movie tunes</td><td>Tom Hulce</td></tr><tr><td>show tunes</td><td>Tom Pierson</td></tr><tr><td>movie tunes</td><td>Tommy Luske</td></tr><tr><td>disney, movie tunes</td><td>Tony Jay</td></tr><tr><td>sleep</td><td>Traditional</td></tr><tr><td>gospel</td><td>Tramaine Hawkins</td></tr><tr><td>sleep</td><td>Twinkle</td></tr><tr><td>gospel</td><td>VIP Mass Choir</td></tr><tr><td>movie tunes</td><td>Vai Mahina</td></tr><tr><td>classical soprano</td><td>Valerie Masterson</td></tr><tr><td>gospel</td><td>Vanessa Bell Armstrong</td></tr><tr><td>classical soprano</td><td>Varnay</td></tr><tr><td>disney, movie tunes</td><td>Verna Felton</td></tr><tr><td>orchestral performance</td><td>Vernon Handley</td></tr><tr><td>gospel</td><td>Vicki Yohe</td></tr><tr><td>gospel</td><td>Vickie Winans</td></tr><tr><td>movie tunes</td><td>Victor Sweler</td></tr><tr><td>classical soprano</td><td>Violeta Urmana</td></tr><tr><td>gospel</td><td>Walter Hawkins</td></tr><tr><td>sleep</td><td>White Noise</td></tr><tr><td>sleep</td><td>White Noise Babies</td></tr><tr><td>sleep</td><td>White Noise Baby Sleep</td></tr><tr><td>sleep</td><td>White Noise Meditation</td></tr><tr><td>sleep</td><td>White Noise Research</td></tr><tr><td>sleep</td><td>White Noise Sound Garden</td></tr><tr><td>sleep</td><td>White Noise Therapy</td></tr><tr><td>sleep</td><td>White Noise for Babies</td></tr><tr><td>sleep</td><td>White Noise for Deeper Sleep</td></tr><tr><td>sleep</td><td>White! Noise</td></tr><tr><td>orchestral performance</td><td>Willi Boskovsky</td></tr><tr><td>disney, movie tunes</td><td>William Joseph</td></tr><tr><td>gospel</td><td>William McDowell</td></tr><tr><td>orchestral performance</td><td>William Steinberg</td></tr><tr><td>classical soprano</td><td>Wilma Lipp</td></tr><tr><td>orchestral performance</td><td>Wolfgang Sawallisch</td></tr><tr><td>sleep</td><td>Wonderful Escape</td></tr><tr><td>movie tunes</td><td>Xavier Atencio</td></tr><tr><td>orchestral performance</td><td>Yannick Nézet-Séguin</td></tr><tr><td>classical soprano</td><td>Ying Huang</td></tr><tr><td>contemporary country, country, country road, modern country rock</td><td>Young Chris</td></tr><tr><td>contemporary country, country, country road, modern country rock</td><td>Zac Brown</td></tr><tr><td>contemporary country, country, country road, modern country rock</td><td>Zac Brown Band</td></tr><tr><td>show tunes</td><td>Ziv Zaifman</td></tr></tbody></table></div>"
      ]
     },
     "metadata": {
      "application/vnd.databricks.v1+output": {
       "addedWidgets": {},
       "aggData": [],
       "aggError": "",
       "aggOverflow": false,
       "aggSchema": [],
       "aggSeriesLimitReached": false,
       "aggType": "",
       "arguments": {},
       "columnCustomDisplayInfos": {},
       "data": [
        [
         "show tunes",
         "Cats 1981 Original London Cast"
        ],
        [
         "broadway, hollywood, show tunes",
         "'Legally Blonde' Ensemble"
        ],
        [
         "show tunes",
         "'Legally Blonde' Greek Chorus"
        ],
        [
         "broadway, hollywood, show tunes",
         "Aaron Tveit"
        ],
        [
         "broadway, hollywood, show tunes",
         "Adam Pascal"
        ],
        [
         "movie tunes",
         "Adriana Caselotti"
        ],
        [
         "classical soprano",
         "Adrianne Pieczonka"
        ],
        [
         "classical soprano",
         "Agnes Giebel"
        ],
        [
         "gospel",
         "Albertina Walker"
        ],
        [
         "broadway, hollywood, show tunes",
         "Alex Brightman"
        ],
        [
         "broadway, hollywood, show tunes",
         "Alice Ripley"
        ],
        [
         "movie tunes",
         "Alice Sixer"
        ],
        [
         "show tunes",
         "Amanda Bynes"
        ],
        [
         "show tunes",
         "Amy Spanger"
        ],
        [
         "show tunes",
         "Andrea Burns"
        ],
        [
         "classical soprano",
         "Andrea Rost"
        ],
        [
         "orchestral performance",
         "André Cluytens"
        ],
        [
         "orchestral performance",
         "André Previn"
        ],
        [
         "show tunes",
         "Angela Cartwright"
        ],
        [
         "classical soprano",
         "Anna Tomowa-Sintow"
        ],
        [
         "broadway, hollywood, show tunes",
         "Annaleigh Ashford"
        ],
        [
         "classical soprano",
         "Anneliese Rothenberger"
        ],
        [
         "gospel",
         "Anthony Brown & group therAPy"
        ],
        [
         "movie tunes",
         "Anthony Gonzalez"
        ],
        [
         "broadway, hollywood, show tunes",
         "Anthony Rapp"
        ],
        [
         "orchestral performance",
         "Antoni Wit"
        ],
        [
         "hollywood",
         "Antonio Banderas"
        ],
        [
         "movie tunes",
         "Ashley Lilley"
        ],
        [
         "classical soprano",
         "Astrid Varnay"
        ],
        [
         "show tunes",
         "Austyn Johnson"
        ],
        [
         "sleep",
         "Baby Sleep"
        ],
        [
         "sleep",
         "Baby Sweet Dream"
        ],
        [
         "broadway, hollywood, show tunes",
         "Barrett Wilbert Weed"
        ],
        [
         "hollywood",
         "Barry Bostwick"
        ],
        [
         "disney, movie tunes",
         "Beaumont"
        ],
        [
         "gospel",
         "Bebe & Cece Winans"
        ],
        [
         "broadway, hollywood, show tunes",
         "Bebe Neuwirth"
        ],
        [
         "gospel",
         "Bebe Winans"
        ],
        [
         "sleep",
         "Bedtime Baby"
        ],
        [
         "broadway, hollywood, show tunes",
         "Ben Fankhauser"
        ],
        [
         "show tunes",
         "Benjamin Schrader"
        ],
        [
         "contemporary country, country, country road, modern country rock",
         "Bent"
        ],
        [
         "broadway, hollywood, show tunes",
         "Bernadette Peters"
        ],
        [
         "disney, movie tunes",
         "Beth Fowler"
        ],
        [
         "movie tunes",
         "Betty Noyes"
        ],
        [
         "classical soprano",
         "Bidu Sayão"
        ],
        [
         "contemporary country, country, country road, modern country rock",
         "Big & Rich"
        ],
        [
         "movie tunes",
         "Bill Farmer"
        ],
        [
         "disney, movie tunes",
         "Bill Shirley"
        ],
        [
         "disney, movie tunes",
         "Bill Thompson"
        ],
        [
         "movie tunes",
         "Billy Bletcher"
        ],
        [
         "contemporary country, country, country road, modern country rock",
         "Billy Currington"
        ],
        [
         "broadway, hollywood, show tunes",
         "Billy Porter"
        ],
        [
         "gospel",
         "Bishop Paul S. Morton, Sr."
        ],
        [
         "disney, movie tunes",
         "Bobby Driscoll"
        ],
        [
         "hollywood",
         "Bonham"
        ],
        [
         "movie tunes",
         "Brad Garrett"
        ],
        [
         "disney, movie tunes",
         "Brad Kane"
        ],
        [
         "hollywood",
         "Bradley Cooper"
        ],
        [
         "contemporary country, country, country road, modern country rock",
         "Brett Eldredge"
        ],
        [
         "gospel",
         "Brian Courtney Wilson"
        ],
        [
         "broadway, hollywood, show tunes",
         "Brian D'Arcy James"
        ],
        [
         "show tunes",
         "Brian Sears"
        ],
        [
         "gospel",
         "Brian Wilson"
        ],
        [
         "hollywood",
         "Brittany Snow"
        ],
        [
         "movie tunes",
         "Bruce Adler"
        ],
        [
         "disney, movie tunes",
         "Bruce Reitherman"
        ],
        [
         "hollywood",
         "Bruce Willis"
        ],
        [
         "contemporary country, country, country road, modern country rock",
         "Bucky Covington"
        ],
        [
         "movie tunes",
         "Burke Moses"
        ],
        [
         "sleep",
         "Calming Sounds"
        ],
        [
         "movie tunes",
         "Cameron Seely"
        ],
        [
         "disney, movie tunes",
         "Carmen Twillie"
        ],
        [
         "broadway, hollywood, show tunes",
         "Caroline O'Connor"
        ],
        [
         "broadway, hollywood, show tunes",
         "Carrie Fletcher"
        ],
        [
         "movie tunes",
         "Cast - The Nightmare Before Christmas"
        ],
        [
         "hollywood",
         "Cast Of Mamma Mia The Movie"
        ],
        [
         "gospel",
         "CeCe Winans"
        ],
        [
         "contemporary country, country, country road, modern country rock",
         "Chase"
        ],
        [
         "contemporary country, country, country road, modern country rock",
         "Chase Rice"
        ],
        [
         "disney, movie tunes",
         "Cheryl Freeman"
        ],
        [
         "movie tunes",
         "Childrens Chorus"
        ],
        [
         "disney, movie tunes",
         "Chorus"
        ],
        [
         "disney, movie tunes",
         "Chorus - Aladdin And The King Of Thieves"
        ],
        [
         "disney, movie tunes",
         "Chorus - Hercules"
        ],
        [
         "disney, movie tunes",
         "Chorus - Mulan"
        ],
        [
         "contemporary country, country, country road, modern country rock",
         "Chris Cagle"
        ],
        [
         "contemporary country, country, country road, modern country rock",
         "Chris Janson"
        ],
        [
         "contemporary country, country, country road, modern country rock",
         "Chris Young"
        ],
        [
         "hollywood",
         "Christian Bale"
        ],
        [
         "broadway, hollywood, show tunes",
         "Christian Borle"
        ],
        [
         "hollywood",
         "Christine Baranski"
        ],
        [
         "broadway, hollywood, show tunes",
         "Christopher Fitzgerald"
        ],
        [
         "broadway, hollywood, show tunes",
         "Christy Altomare"
        ],
        [
         "disney, movie tunes",
         "Cinderella's Mice Chorus"
        ],
        [
         "hollywood",
         "Cindy Bullens"
        ],
        [
         "show tunes",
         "Clark Johnsen"
        ],
        [
         "contemporary country, country, country road, modern country rock",
         "Clay Walker"
        ],
        [
         "movie tunes",
         "Cliff Edwards"
        ],
        [
         "contemporary country, country, country road, modern country rock",
         "Cole Swindell"
        ],
        [
         "hollywood",
         "Colin Firth"
        ],
        [
         "gospel",
         "Commissioned"
        ],
        [
         "contemporary country, country, country road, modern country rock",
         "Corey Smith"
        ],
        [
         "classical soprano",
         "Cristina Deutekom"
        ],
        [
         "hollywood",
         "Dana Fuchs"
        ],
        [
         "broadway, hollywood, show tunes",
         "Daniel Breaker"
        ],
        [
         "show tunes",
         "Daniel Everidge"
        ],
        [
         "orchestral performance",
         "Daniel Harding"
        ],
        [
         "broadway, hollywood, show tunes",
         "Danny Burstein"
        ],
        [
         "movie tunes",
         "Danny DeVito"
        ],
        [
         "show tunes",
         "Daphne Rubin-Vega"
        ],
        [
         "contemporary country, country, country road, modern country rock",
         "Darryl Worley"
        ],
        [
         "gospel",
         "Daryl Coley"
        ],
        [
         "disney, movie tunes",
         "Daughters of Triton"
        ],
        [
         "orchestral performance",
         "David Lloyd-Jones"
        ],
        [
         "movie tunes",
         "David Moscow"
        ],
        [
         "disney, movie tunes",
         "David Ogden Stiers"
        ],
        [
         "gospel",
         "DeWayne Woods"
        ],
        [
         "show tunes",
         "Debbie Deb"
        ],
        [
         "show tunes",
         "Debbie Turner"
        ],
        [
         "sleep",
         "Deep Sleep"
        ],
        [
         "sleep",
         "Deep Sleep Music Collective"
        ],
        [
         "sleep",
         "Deep Sleep Music Experience"
        ],
        [
         "show tunes",
         "Deidre Goodwin"
        ],
        [
         "gospel",
         "Deitrick Haddon"
        ],
        [
         "show tunes",
         "Delta Nus"
        ],
        [
         "classical soprano",
         "Denise Duval"
        ],
        [
         "show tunes",
         "Denise Faye"
        ],
        [
         "show tunes",
         "Dequina Moore"
        ],
        [
         "disney, movie tunes",
         "Dickie Jones"
        ],
        [
         "contemporary country, country, country road, modern country rock",
         "Dierks Bentley"
        ],
        [
         "movie tunes",
         "Digby Wolfe"
        ],
        [
         "movie tunes",
         "Dominic Cooper"
        ],
        [
         "gospel",
         "Donald Lawrence & The Tri-City Singers"
        ],
        [
         "disney, movie tunes",
         "Donna Murphy"
        ],
        [
         "gospel",
         "Donnie McClurkin"
        ],
        [
         "movie tunes",
         "Dora Luz"
        ],
        [
         "broadway, hollywood, show tunes",
         "Drew Gehling"
        ],
        [
         "show tunes",
         "Duane Chase"
        ],
        [
         "show tunes",
         "Duffy"
        ],
        [
         "contemporary country, country, country road, modern country rock",
         "Dust"
        ],
        [
         "contemporary country, country, country road, modern country rock",
         "Dustin Lynch"
        ],
        [
         "contemporary country, country, country road, modern country rock",
         "Dylan Scott"
        ],
        [
         "contemporary country, country, country road, modern country rock",
         "Easton Corbin"
        ],
        [
         "classical soprano",
         "Eileen Farrell"
        ],
        [
         "show tunes",
         "Ekaterina Chtchelkanova"
        ],
        [
         "classical soprano",
         "Eleanor Steber"
        ],
        [
         "classical soprano",
         "Elisabeth Grümmer"
        ],
        [
         "classical soprano",
         "Elizabeth Harwood"
        ],
        [
         "show tunes",
         "Elle McLemore"
        ],
        [
         "hollywood",
         "Emma Stone"
        ],
        [
         "movie tunes",
         "Ensemble"
        ],
        [
         "contemporary country, country, country road, modern country rock",
         "Eric"
        ],
        [
         "contemporary country, country, country road, modern country rock",
         "Eric Church"
        ],
        [
         "classical soprano",
         "Erna Berger"
        ],
        [
         "disney, movie tunes",
         "Ernie"
        ],
        [
         "disney, movie tunes",
         "Ernie Sabella"
        ],
        [
         "orchestral performance",
         "Eugen Jochum"
        ],
        [
         "classical soprano",
         "Eva Marton"
        ],
        [
         "hollywood",
         "Evan Rachel Wood"
        ],
        [
         "hollywood",
         "Ewan McGregor"
        ],
        [
         "orchestral performance",
         "Fabien Gabel"
        ],
        [
         "sleep",
         "Fan Sounds"
        ],
        [
         "hollywood",
         "Felicia Day"
        ],
        [
         "movie tunes",
         "Fess Parker"
        ],
        [
         "gospel",
         "Forever Jones"
        ],
        [
         "disney, movie tunes",
         "Frank Churchill"
        ],
        [
         "contemporary country, country, country road, modern country rock",
         "Frankie Ballard"
        ],
        [
         "orchestral performance",
         "Franz Welser-Möst"
        ],
        [
         "gospel",
         "Fred Hammond"
        ],
        [
         "classical soprano",
         "Galina Vishnevskaya"
        ],
        [
         "contemporary country, country, country road, modern country rock",
         "Gary Allan"
        ],
        [
         "show tunes",
         "Gary Beach"
        ],
        [
         "disney, movie tunes",
         "George Bruns"
        ],
        [
         "movie tunes",
         "George Givot"
        ],
        [
         "movie tunes",
         "Gerard Butler"
        ],
        [
         "show tunes",
         "Gerard Canonico"
        ],
        [
         "orchestral performance",
         "Giuseppe Sinopoli"
        ],
        [
         "gospel",
         "Gods Property"
        ],
        [
         "show tunes",
         "Graham Bowen"
        ],
        [
         "orchestral performance",
         "Grant Llewellyn"
        ],
        [
         "gospel",
         "Group Therapy"
        ],
        [
         "hollywood",
         "Haley Bennett"
        ],
        [
         "movie tunes",
         "Harry Stockwell"
        ],
        [
         "movie tunes",
         "Hayley Mills"
        ],
        [
         "show tunes",
         "Heather Menzies"
        ],
        [
         "disney, movie tunes",
         "Heidi Mollenhauer"
        ],
        [
         "orchestral performance",
         "Heinz Rögner"
        ],
        [
         "hollywood",
         "Helena Bonham Carter"
        ],
        [
         "classical soprano",
         "Helga Dernesch"
        ],
        [
         "orchestral performance",
         "Helmuth Rilling"
        ],
        [
         "orchestral performance",
         "Herbert Blomstedt"
        ],
        [
         "gospel",
         "Hezekiah Walker"
        ],
        [
         "gospel",
         "Hezekiah Walker & The Love Fellowship Crusade Choir"
        ],
        [
         "show tunes",
         "Hilton McRae"
        ],
        [
         "movie tunes",
         "Howard Ashman"
        ],
        [
         "hollywood",
         "Hugh Grant"
        ],
        [
         "movie tunes",
         "Ilene Woods"
        ],
        [
         "classical soprano",
         "Inge Borkh"
        ],
        [
         "classical soprano",
         "Irmgard Seefried"
        ],
        [
         "orchestral performance",
         "István Kertész"
        ],
        [
         "disney, movie tunes",
         "J. Pat O'Malley"
        ],
        [
         "hollywood",
         "J. Phoenix"
        ],
        [
         "contemporary country, country, country road, modern country rock",
         "Jake Owen"
        ],
        [
         "movie tunes",
         "James Baskett"
        ],
        [
         "orchestral performance",
         "James Conlon"
        ],
        [
         "orchestral performance",
         "James Judd"
        ],
        [
         "hollywood",
         "James Marsden"
        ],
        [
         "contemporary country, country, country road, modern country rock",
         "James Otto"
        ],
        [
         "hollywood",
         "Jamie Campbell Bower"
        ],
        [
         "classical soprano",
         "Jane Eaglen"
        ],
        [
         "show tunes",
         "Janet Dacal"
        ],
        [
         "contemporary country, country, country road, modern country rock",
         "Jaron And The Long Road To Love"
        ],
        [
         "show tunes",
         "Jasmine Cephas-Jones"
        ],
        [
         "show tunes",
         "Jason Michael Snow"
        ],
        [
         "show tunes",
         "Jason Raize"
        ],
        [
         "hollywood",
         "Jason Segel"
        ],
        [
         "movie tunes",
         "Jason Weaver"
        ],
        [
         "orchestral performance",
         "Jean-François Paillard"
        ],
        [
         "orchestral performance",
         "Jeffrey Tate"
        ],
        [
         "disney, movie tunes",
         "Jenifer Lewis"
        ],
        [
         "broadway, hollywood, show tunes",
         "Jennifer Damiano"
        ],
        [
         "classical soprano",
         "Jennifer Vyvyan"
        ],
        [
         "movie tunes",
         "Jeremy Irons"
        ],
        [
         "broadway, hollywood, show tunes",
         "Jeremy Jordan"
        ],
        [
         "movie tunes",
         "Jerry Colonna"
        ],
        [
         "movie tunes",
         "Jesse Corti"
        ],
        [
         "broadway, hollywood, show tunes",
         "Jessica Keenan Wynn"
        ],
        [
         "broadway, hollywood, show tunes",
         "Jessie Mueller"
        ],
        [
         "broadway, hollywood, show tunes",
         "Jewell"
        ],
        [
         "hollywood",
         "Jim Broadbent"
        ],
        [
         "hollywood",
         "Jim Bryant"
        ],
        [
         "movie tunes",
         "Jim Carmichael"
        ],
        [
         "hollywood",
         "Jim Sturgess"
        ],
        [
         "orchestral performance",
         "Jiří Bělohlávek"
        ],
        [
         "orchestral performance",
         "Joann Falletta"
        ],
        [
         "hollywood",
         "Joaquin Phoenix"
        ],
        [
         "hollywood",
         "Joe Anderson"
        ],
        [
         "broadway, hollywood, show tunes",
         "John Gallagher Jr."
        ],
        [
         "broadway, hollywood, show tunes",
         "John Gallagher, Jr."
        ],
        [
         "hollywood",
         "John Kander"
        ],
        [
         "gospel",
         "John P Kee & New Life"
        ],
        [
         "gospel",
         "John P. Kee"
        ],
        [
         "hollywood",
         "John Travolta"
        ],
        [
         "hollywood",
         "Johnny Depp"
        ],
        [
         "hollywood",
         "Johnny Green"
        ],
        [
         "show tunes",
         "Jon Eidson"
        ],
        [
         "contemporary country, country, country road, modern country rock",
         "Jon Pardi"
        ],
        [
         "disney, movie tunes",
         "Jonathan Freeman"
        ],
        [
         "gospel",
         "Jonathan Nelson"
        ],
        [
         "orchestral performance",
         "Josef K"
        ],
        [
         "orchestral performance",
         "Josef Krips"
        ],
        [
         "disney, movie tunes",
         "Joseph Williams"
        ],
        [
         "contemporary country, country, country road, modern country rock",
         "Josh Turner"
        ],
        [
         "orchestral performance",
         "José Serebrier"
        ],
        [
         "hollywood",
         "Julie Walters"
        ],
        [
         "show tunes",
         "Justin Bohon"
        ],
        [
         "movie tunes",
         "Kamehameha Schools Children's Chorus"
        ],
        [
         "broadway, hollywood, show tunes",
         "Kara Lindsay"
        ],
        [
         "disney, movie tunes",
         "Karen Dotrice"
        ],
        [
         "classical soprano",
         "Karita Mattila"
        ],
        [
         "disney, movie tunes",
         "Kathryn Beaumont"
        ],
        [
         "broadway, hollywood, show tunes",
         "Keala Settle"
        ],
        [
         "broadway, hollywood, show tunes",
         "Keenan Wynn"
        ],
        [
         "movie tunes",
         "Keith David"
        ],
        [
         "orchestral performance",
         "Kent Nagano"
        ],
        [
         "show tunes",
         "Kevin Duda"
        ],
        [
         "broadway, hollywood, show tunes",
         "Kimiko Glenn"
        ],
        [
         "contemporary country, country, country road, modern country rock",
         "Kip Moore"
        ],
        [
         "orchestral performance",
         "Klaus Tennstedt"
        ],
        [
         "gospel",
         "Kurt Carr & The Kurt Carr Singers"
        ],
        [
         "show tunes",
         "Kym Karath"
        ],
        [
         "movie tunes",
         "LaChanze"
        ],
        [
         "gospel",
         "LaShun Pace"
        ],
        [
         "broadway, hollywood, show tunes",
         "Laura Dreyfuss"
        ],
        [
         "movie tunes",
         "Laura Williams"
        ],
        [
         "disney, movie tunes",
         "Lebo M."
        ],
        [
         "contemporary country, country, country road, modern country rock",
         "Lee Brice"
        ],
        [
         "movie tunes",
         "Leigh Harline"
        ],
        [
         "broadway, hollywood, show tunes",
         "Len Cariou"
        ],
        [
         "broadway, hollywood, show tunes",
         "Leo Norbert Butz"
        ],
        [
         "orchestral performance",
         "Leonard Slatkin"
        ],
        [
         "orchestral performance",
         "Leopold Stokowski"
        ],
        [
         "show tunes",
         "Les Misérables-Original London Cast"
        ],
        [
         "broadway, hollywood, show tunes",
         "Leslie Kritzer"
        ],
        [
         "hollywood",
         "Levi Stubbs"
        ],
        [
         "show tunes",
         "Lewis Cleale"
        ],
        [
         "hollywood",
         "Lily James"
        ],
        [
         "show tunes",
         "Lin-Manuel Miranda"
        ],
        [
         "show tunes",
         "Linda Eder"
        ],
        [
         "movie tunes",
         "Linda Hunt"
        ],
        [
         "classical soprano",
         "Lisa Otto"
        ],
        [
         "classical soprano",
         "Lisa della Casa"
        ],
        [
         "movie tunes",
         "Liz English"
        ],
        [
         "classical soprano",
         "Ljuba Welitsch"
        ],
        [
         "sleep",
         "Loopable"
        ],
        [
         "orchestral performance",
         "Louis Langrée"
        ],
        [
         "sleep",
         "Lullabies for Deep Meditation"
        ],
        [
         "movie tunes",
         "Mack David"
        ],
        [
         "gospel",
         "Mali Music"
        ],
        [
         "broadway, hollywood, show tunes",
         "Mandy Gonzalez"
        ],
        [
         "classical soprano",
         "Margaret Marshall"
        ],
        [
         "orchestral performance",
         "Mark Elder"
        ],
        [
         "movie tunes",
         "Mark Keali'i Ho'omalu"
        ],
        [
         "gospel",
         "Martha Munizzi"
        ],
        [
         "classical soprano",
         "Martha Mödl"
        ],
        [
         "hollywood",
         "Martin Luther"
        ],
        [
         "hollywood",
         "Martin Luther McCoy"
        ],
        [
         "gospel",
         "Marvin Sapp"
        ],
        [
         "disney, movie tunes",
         "Mary Costa"
        ],
        [
         "disney, movie tunes",
         "Mary Moder"
        ],
        [
         "broadway, hollywood, show tunes",
         "Matthew Morrison"
        ],
        [
         "orchestral performance",
         "Maurice Abravanel"
        ],
        [
         "show tunes",
         "Max Casella"
        ],
        [
         "sleep",
         "Meditation Awareness"
        ],
        [
         "movie tunes",
         "Mel Gibson"
        ],
        [
         "gospel",
         "Men Of Standard"
        ],
        [
         "hollywood",
         "Meryl Streep"
        ],
        [
         "disney, movie tunes",
         "Mice Chorus"
        ],
        [
         "orchestral performance",
         "Michel Plasson"
        ],
        [
         "show tunes",
         "Michelle Duffy"
        ],
        [
         "show tunes",
         "Michelle Federer"
        ],
        [
         "hollywood",
         "Michelle Pfeiffer"
        ],
        [
         "hollywood",
         "Michelle Williams"
        ],
        [
         "movie tunes",
         "Mike Douglas"
        ],
        [
         "show tunes",
         "Mike Faist"
        ],
        [
         "show tunes",
         "Miranda!"
        ],
        [
         "classical soprano",
         "Monika Frimmer"
        ],
        [
         "show tunes",
         "Mya Harrison"
        ],
        [
         "movie tunes",
         "Nancy Adams"
        ],
        [
         "hollywood",
         "Natalie Mendoza"
        ],
        [
         "sleep",
         "Native American Flute"
        ],
        [
         "sleep",
         "Native American Meditations"
        ],
        [
         "sleep",
         "Natural White Noise Relaxation"
        ],
        [
         "movie tunes",
         "Ned Washington"
        ],
        [
         "sleep",
         "New Age"
        ],
        [
         "show tunes",
         "Nicholas Hammond"
        ],
        [
         "show tunes",
         "Nick Spangler"
        ],
        [
         "show tunes",
         "Nicolas Colicos"
        ],
        [
         "broadway, hollywood, show tunes",
         "Norbert Leo Butz"
        ],
        [
         "show tunes",
         "Okieriete Onaodowan"
        ],
        [
         "show tunes",
         "Olivia Foa'i"
        ],
        [
         "movie tunes",
         "Oscar Isaac"
        ],
        [
         "orchestral performance",
         "Osmo Vänskä"
        ],
        [
         "orchestral performance",
         "Otmar Suitner"
        ],
        [
         "movie tunes",
         "Paige O'Hara"
        ],
        [
         "disney, movie tunes",
         "Pat Carroll"
        ],
        [
         "broadway, hollywood, show tunes",
         "Patti LuPone"
        ],
        [
         "hollywood",
         "Paul Francis Webster"
        ],
        [
         "movie tunes",
         "Paul Frees"
        ],
        [
         "disney, movie tunes",
         "Paul Kandel"
        ],
        [
         "movie tunes",
         "Pearl Bailey"
        ],
        [
         "orchestral performance",
         "Peter Maag"
        ],
        [
         "movie tunes",
         "Phil Harris"
        ],
        [
         "contemporary country, country, country road, modern country rock",
         "Phil Vassar"
        ],
        [
         "hollywood",
         "Pierce Brosnan"
        ],
        [
         "broadway, hollywood, show tunes",
         "Rachel Bay Jones"
        ],
        [
         "show tunes",
         "Rachel House"
        ],
        [
         "movie tunes",
         "Rachel McDowall"
        ],
        [
         "orchestral performance",
         "Rafael Kubelik"
        ],
        [
         "sleep",
         "Rain Storm Sample Library"
        ],
        [
         "hollywood",
         "Ralph Fiennes"
        ],
        [
         "orchestral performance",
         "Raymond Leppard"
        ],
        [
         "hollywood",
         "Reese Witherspoon"
        ],
        [
         "sleep",
         "Relajación"
        ],
        [
         "sleep",
         "Relaxation"
        ],
        [
         "classical soprano",
         "Reri Grist"
        ],
        [
         "hollywood",
         "Richard Gere"
        ],
        [
         "hollywood",
         "Richard O'Brien"
        ],
        [
         "gospel",
         "Richard Smallwood"
        ],
        [
         "movie tunes",
         "Richard White"
        ],
        [
         "hollywood",
         "Rick Moranis"
        ],
        [
         "disney, movie tunes",
         "Robby Benson"
        ],
        [
         "show tunes",
         "Robert Billig"
        ],
        [
         "orchestral performance",
         "Robert Shaw"
        ],
        [
         "classical soprano",
         "Roberta Peters"
        ],
        [
         "show tunes",
         "Robin de Jesus"
        ],
        [
         "contemporary country, country, country road, modern country rock",
         "Rodney Atkins"
        ],
        [
         "disney, movie tunes",
         "Roger Bart"
        ],
        [
         "show tunes",
         "Rory O'Malley"
        ],
        [
         "contemporary country, country, country road, modern country rock",
         "Russell Dickerson"
        ],
        [
         "classical soprano",
         "Ruth Ziesak"
        ],
        [
         "hollywood",
         "Ryan Gosling"
        ],
        [
         "broadway, hollywood, show tunes",
         "Ryan McCartan"
        ],
        [
         "classical soprano",
         "Régine Crespin"
        ],
        [
         "broadway, hollywood, show tunes",
         "Saigon"
        ],
        [
         "orchestral performance",
         "Sakari Oramo"
        ],
        [
         "movie tunes",
         "Sally Dworsky"
        ],
        [
         "show tunes",
         "Samantha Barks"
        ],
        [
         "sleep",
         "Sample Rain Library"
        ],
        [
         "movie tunes",
         "Sandy Duncan, Howard McGillin, Liz Callaway, Dakin Matthews, Adam Wylie, J.D. Daniels, Lex de Azevedo, David Zippel"
        ],
        [
         "hollywood",
         "Sara Ramirez"
        ],
        [
         "movie tunes",
         "Scatman Crothers"
        ],
        [
         "show tunes",
         "Scott Irby-Ranniar"
        ],
        [
         "contemporary country, country, country road, modern country rock",
         "Scotty"
        ],
        [
         "contemporary country, country, country road, modern country rock",
         "Scotty McCreery"
        ],
        [
         "orchestral performance",
         "Semyon Bychkov"
        ],
        [
         "classical soprano",
         "Sena Jurinac"
        ],
        [
         "show tunes",
         "Seth Stewart"
        ],
        [
         "movie tunes",
         "Shelby Flint"
        ],
        [
         "broadway, hollywood, show tunes",
         "Sherie Rene Scott"
        ],
        [
         "disney, movie tunes",
         "Ship's Chorus"
        ],
        [
         "disney, movie tunes",
         "Si and Am"
        ],
        [
         "show tunes",
         "Sierra Boggess as Ariel"
        ],
        [
         "orchestral performance",
         "Sir Adrian Boult"
        ],
        [
         "orchestral performance",
         "Sir Charles Groves"
        ],
        [
         "orchestral performance",
         "Sir Charles Mackerras"
        ],
        [
         "orchestral performance",
         "Sir David Willcocks"
        ],
        [
         "orchestral performance",
         "Sir Georg Solti"
        ],
        [
         "orchestral performance",
         "Sir Thomas Beecham"
        ],
        [
         "sleep",
         "Sleep Baby Sleep"
        ],
        [
         "sleep",
         "Sleep Sound Library"
        ],
        [
         "sleep",
         "Sleepy Times"
        ],
        [
         "sleep",
         "Soothing White Noise for Infant Sleeping and Massage, Crying & Colic Relief"
        ],
        [
         "broadway, hollywood, show tunes",
         "Sophia Anne Caruso"
        ],
        [
         "sleep",
         "Sound Library XL"
        ],
        [
         "movie tunes",
         "Stellan Skarsgård"
        ],
        [
         "hollywood",
         "Stephen Schwartz"
        ],
        [
         "broadway, hollywood, show tunes",
         "Stephen Sondheim"
        ],
        [
         "movie tunes",
         "Sterling Holloway"
        ],
        [
         "contemporary country, country, country road, modern country rock",
         "Steve Holy"
        ],
        [
         "show tunes",
         "Stig Anderson"
        ],
        [
         "hollywood",
         "Stockard Channing"
        ],
        [
         "classical soprano",
         "Susan Gritton"
        ],
        [
         "show tunes",
         "Susan Misner"
        ],
        [
         "hollywood",
         "Susan Sarandon"
        ],
        [
         "broadway, hollywood, show tunes",
         "Sutton Foster"
        ],
        [
         "classical soprano",
         "Suzanne Danco"
        ],
        [
         "hollywood",
         "T.V. Carpio"
        ],
        [
         "gospel",
         "Tamela Mann"
        ],
        [
         "hollywood",
         "Taron Egerton"
        ],
        [
         "movie tunes",
         "Tawatha Agee"
        ],
        [
         "broadway, hollywood, show tunes",
         "Terrence Mann"
        ],
        [
         "movie tunes",
         "Terry Gilkyson"
        ],
        [
         "gospel",
         "The Brooklyn Tabernacle Choir"
        ],
        [
         "gospel",
         "The Clark Sisters"
        ],
        [
         "disney, movie tunes",
         "The Disneyland Children's Chorus"
        ],
        [
         "disney, movie tunes",
         "The Dwarf Chorus"
        ],
        [
         "movie tunes",
         "The Greatest Showman Ensemble"
        ],
        [
         "disney, movie tunes",
         "The Jud Conlon Chorus"
        ],
        [
         "contemporary country, country, country road, modern country rock",
         "The Lost Trailers"
        ],
        [
         "movie tunes",
         "The Mellomen"
        ],
        [
         "movie tunes",
         "The Mouseketeers"
        ],
        [
         "sleep",
         "The Noise"
        ],
        [
         "sleep",
         "The White Noise"
        ],
        [
         "sleep",
         "The White Noise Zen & Meditation Sound Lab"
        ],
        [
         "gospel",
         "The Winans"
        ],
        [
         "sleep",
         "Therapy?"
        ],
        [
         "contemporary country, country, country road, modern country rock",
         "Thomas Rhett"
        ],
        [
         "hollywood",
         "Tim Curry"
        ],
        [
         "sleep",
         "Tmsoft’s White Noise Sleep Sounds"
        ],
        [
         "show tunes",
         "Tom Alan Robbins"
        ],
        [
         "movie tunes",
         "Tom Hulce"
        ],
        [
         "show tunes",
         "Tom Pierson"
        ],
        [
         "movie tunes",
         "Tommy Luske"
        ],
        [
         "disney, movie tunes",
         "Tony Jay"
        ],
        [
         "sleep",
         "Traditional"
        ],
        [
         "gospel",
         "Tramaine Hawkins"
        ],
        [
         "sleep",
         "Twinkle"
        ],
        [
         "gospel",
         "VIP Mass Choir"
        ],
        [
         "movie tunes",
         "Vai Mahina"
        ],
        [
         "classical soprano",
         "Valerie Masterson"
        ],
        [
         "gospel",
         "Vanessa Bell Armstrong"
        ],
        [
         "classical soprano",
         "Varnay"
        ],
        [
         "disney, movie tunes",
         "Verna Felton"
        ],
        [
         "orchestral performance",
         "Vernon Handley"
        ],
        [
         "gospel",
         "Vicki Yohe"
        ],
        [
         "gospel",
         "Vickie Winans"
        ],
        [
         "movie tunes",
         "Victor Sweler"
        ],
        [
         "classical soprano",
         "Violeta Urmana"
        ],
        [
         "gospel",
         "Walter Hawkins"
        ],
        [
         "sleep",
         "White Noise"
        ],
        [
         "sleep",
         "White Noise Babies"
        ],
        [
         "sleep",
         "White Noise Baby Sleep"
        ],
        [
         "sleep",
         "White Noise Meditation"
        ],
        [
         "sleep",
         "White Noise Research"
        ],
        [
         "sleep",
         "White Noise Sound Garden"
        ],
        [
         "sleep",
         "White Noise Therapy"
        ],
        [
         "sleep",
         "White Noise for Babies"
        ],
        [
         "sleep",
         "White Noise for Deeper Sleep"
        ],
        [
         "sleep",
         "White! Noise"
        ],
        [
         "orchestral performance",
         "Willi Boskovsky"
        ],
        [
         "disney, movie tunes",
         "William Joseph"
        ],
        [
         "gospel",
         "William McDowell"
        ],
        [
         "orchestral performance",
         "William Steinberg"
        ],
        [
         "classical soprano",
         "Wilma Lipp"
        ],
        [
         "orchestral performance",
         "Wolfgang Sawallisch"
        ],
        [
         "sleep",
         "Wonderful Escape"
        ],
        [
         "movie tunes",
         "Xavier Atencio"
        ],
        [
         "orchestral performance",
         "Yannick Nézet-Séguin"
        ],
        [
         "classical soprano",
         "Ying Huang"
        ],
        [
         "contemporary country, country, country road, modern country rock",
         "Young Chris"
        ],
        [
         "contemporary country, country, country road, modern country rock",
         "Zac Brown"
        ],
        [
         "contemporary country, country, country road, modern country rock",
         "Zac Brown Band"
        ],
        [
         "show tunes",
         "Ziv Zaifman"
        ]
       ],
       "datasetInfos": [],
       "dbfsResultPath": null,
       "isJsonSchema": true,
       "metadata": {},
       "overflow": false,
       "plotOptions": {
        "customPlotOptions": {},
        "displayType": "table",
        "pivotAggregation": null,
        "pivotColumns": null,
        "xColumns": null,
        "yColumns": null
       },
       "removedWidgets": [],
       "schema": [
        {
         "metadata": "{}",
         "name": "genres",
         "type": "\"string\""
        },
        {
         "metadata": "{}",
         "name": "artists",
         "type": "\"string\""
        }
       ],
       "type": "table"
      }
     },
     "output_type": "display_data"
    }
   ],
   "source": [
    "# lista de artistas que estão no top 10 de gêneros musicais\n",
    "genero_artista = genero_artista[['genres', 'artists']]\n",
    "display(genero_artista)"
   ]
  }
 ],
 "metadata": {
  "application/vnd.databricks.v1+notebook": {
   "dashboards": [],
   "language": "python",
   "notebookMetadata": {
    "pythonIndentUnit": 4
   },
   "notebookName": "projeto_spotify_parte_02",
   "widgets": {}
  }
 },
 "nbformat": 4,
 "nbformat_minor": 0
}
