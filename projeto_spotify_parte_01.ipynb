{
 "cells": [
  {
   "cell_type": "markdown",
   "metadata": {
    "application/vnd.databricks.v1+cell": {
     "cellMetadata": {
      "byteLimit": 2048000,
      "rowLimit": 10000
     },
     "inputWidgets": {},
     "nuid": "f8829b09-4870-4a4d-846d-46514eae9fa3",
     "showTitle": false,
     "title": ""
    }
   },
   "source": [
    "## Projeto: Sistema de Recomendação"
   ]
  },
  {
   "cell_type": "markdown",
   "metadata": {
    "application/vnd.databricks.v1+cell": {
     "cellMetadata": {},
     "inputWidgets": {},
     "nuid": "97e84cfb-ef4b-4bfc-8f12-c1f903016cc5",
     "showTitle": false,
     "title": ""
    }
   },
   "source": [
    "## Importação e tratamento dos dados"
   ]
  },
  {
   "cell_type": "code",
   "execution_count": null,
   "metadata": {
    "application/vnd.databricks.v1+cell": {
     "cellMetadata": {
      "byteLimit": 2048000,
      "rowLimit": 10000
     },
     "inputWidgets": {},
     "nuid": "58105c73-ac43-40eb-96c3-c607976cc597",
     "showTitle": false,
     "title": ""
    }
   },
   "outputs": [
    {
     "data": {
      "text/html": [
       "<style scoped>\n",
       "  .table-result-container {\n",
       "    max-height: 300px;\n",
       "    overflow: auto;\n",
       "  }\n",
       "  table, th, td {\n",
       "    border: 1px solid black;\n",
       "    border-collapse: collapse;\n",
       "  }\n",
       "  th, td {\n",
       "    padding: 5px;\n",
       "  }\n",
       "  th {\n",
       "    text-align: left;\n",
       "  }\n",
       "</style><div class='table-result-container'><table class='table-result'><thead style='background-color: white'><tr><th>path</th><th>name</th><th>size</th><th>modificationTime</th></tr></thead><tbody><tr><td>dbfs:/FileStore/tables/dados_spotify/data.csv</td><td>data.csv</td><td>29654587</td><td>1706802690000</td></tr><tr><td>dbfs:/FileStore/tables/dados_spotify/data_by_artist.csv</td><td>data_by_artist.csv</td><td>4315607</td><td>1706802680000</td></tr><tr><td>dbfs:/FileStore/tables/dados_spotify/data_by_genres.csv</td><td>data_by_genres.csv</td><td>576456</td><td>1706802681000</td></tr><tr><td>dbfs:/FileStore/tables/dados_spotify/data_by_year.csv</td><td>data_by_year.csv</td><td>21194</td><td>1706802682000</td></tr><tr><td>dbfs:/FileStore/tables/dados_spotify/data_w_genres.csv</td><td>data_w_genres.csv</td><td>5224673</td><td>1706802686000</td></tr></tbody></table></div>"
      ]
     },
     "metadata": {
      "application/vnd.databricks.v1+output": {
       "addedWidgets": {},
       "aggData": [],
       "aggError": "",
       "aggOverflow": false,
       "aggSchema": [],
       "aggSeriesLimitReached": false,
       "aggType": "",
       "arguments": {},
       "columnCustomDisplayInfos": {},
       "data": [
        [
         "dbfs:/FileStore/tables/dados_spotify/data.csv",
         "data.csv",
         29654587,
         1706802690000
        ],
        [
         "dbfs:/FileStore/tables/dados_spotify/data_by_artist.csv",
         "data_by_artist.csv",
         4315607,
         1706802680000
        ],
        [
         "dbfs:/FileStore/tables/dados_spotify/data_by_genres.csv",
         "data_by_genres.csv",
         576456,
         1706802681000
        ],
        [
         "dbfs:/FileStore/tables/dados_spotify/data_by_year.csv",
         "data_by_year.csv",
         21194,
         1706802682000
        ],
        [
         "dbfs:/FileStore/tables/dados_spotify/data_w_genres.csv",
         "data_w_genres.csv",
         5224673,
         1706802686000
        ]
       ],
       "datasetInfos": [],
       "dbfsResultPath": null,
       "isJsonSchema": true,
       "metadata": {},
       "overflow": false,
       "plotOptions": {
        "customPlotOptions": {},
        "displayType": "table",
        "pivotAggregation": null,
        "pivotColumns": null,
        "xColumns": null,
        "yColumns": null
       },
       "removedWidgets": [],
       "schema": [
        {
         "metadata": "{}",
         "name": "path",
         "type": "\"string\""
        },
        {
         "metadata": "{}",
         "name": "name",
         "type": "\"string\""
        },
        {
         "metadata": "{}",
         "name": "size",
         "type": "\"long\""
        },
        {
         "metadata": "{}",
         "name": "modificationTime",
         "type": "\"long\""
        }
       ],
       "type": "table"
      }
     },
     "output_type": "display_data"
    }
   ],
   "source": [
    "# leitura dos arquivos disponíveis no diretório de trabalho\n",
    "\n",
    "display(dbutils.fs.ls('/FileStore/tables/dados_spotify'))"
   ]
  },
  {
   "cell_type": "code",
   "execution_count": null,
   "metadata": {
    "application/vnd.databricks.v1+cell": {
     "cellMetadata": {
      "byteLimit": 2048000,
      "rowLimit": 10000
     },
     "inputWidgets": {},
     "nuid": "9796f0d9-87a7-43b2-8902-740e3b1dcb2d",
     "showTitle": false,
     "title": ""
    }
   },
   "outputs": [],
   "source": [
    "# salvando caminho do arquivo de interesse em uma variável\n",
    "\n",
    "caminho_data = 'dbfs:/FileStore/tables/dados_spotify/data.csv'"
   ]
  },
  {
   "cell_type": "code",
   "execution_count": null,
   "metadata": {
    "application/vnd.databricks.v1+cell": {
     "cellMetadata": {
      "byteLimit": 2048000,
      "rowLimit": 10000
     },
     "inputWidgets": {},
     "nuid": "664bd5b6-acce-4171-8f94-580749648b5b",
     "showTitle": false,
     "title": ""
    }
   },
   "outputs": [],
   "source": [
    "# salvando os dados no dataframe do spark\n",
    "\n",
    "df_data = spark.read.csv(caminho_data, inferSchema=True, header=True)"
   ]
  },
  {
   "cell_type": "code",
   "execution_count": null,
   "metadata": {
    "application/vnd.databricks.v1+cell": {
     "cellMetadata": {
      "byteLimit": 2048000,
      "rowLimit": 10000
     },
     "inputWidgets": {},
     "nuid": "bcd4f414-4df3-42d8-a99f-6593614235f3",
     "showTitle": false,
     "title": ""
    }
   },
   "outputs": [
    {
     "name": "stdout",
     "output_type": "stream",
     "text": [
      "+-------+----+------------+--------------------+------------------+-----------+------+--------+--------------------+----------------+---+--------+--------+----+--------------------+----------+------------+-----------+-----------------+\n",
      "|valence|year|acousticness|             artists|      danceability|duration_ms|energy|explicit|                  id|instrumentalness|key|liveness|loudness|mode|                name|popularity|release_date|speechiness|            tempo|\n",
      "+-------+----+------------+--------------------+------------------+-----------+------+--------+--------------------+----------------+---+--------+--------+----+--------------------+----------+------------+-----------+-----------------+\n",
      "| 0.0594|1921|       0.982|['Sergei Rachmani...|             0.279|     831667| 0.211|       0|4BJqT0PrAfrxzMOxy...|           0.878| 10|   0.665| -20.096|   1|Piano Concerto No...|         4|        1921|     0.0366|           80.954|\n",
      "|  0.963|1921|       0.732|      ['Dennis Day']|0.8190000000000001|     180533| 0.341|       0|7xPhfUan2yNtyFG0c...|             0.0|  7|    0.16| -12.441|   1|Clancy Lowered th...|         5|        1921|      0.415|60.93600000000001|\n",
      "| 0.0394|1921|       0.961|['KHP Kridhamarda...|             0.328|     500062| 0.166|       0|1o6I8BglA6ylDMrIE...|           0.913|  3|   0.101|  -14.85|   1|           Gati Bali|         5|        1921|     0.0339|          110.339|\n",
      "|  0.165|1921|       0.967|    ['Frank Parker']|             0.275|     210000| 0.309|       0|3ftBPsC5vPBKxYSee...|        2.77e-05|  5|   0.381|  -9.316|   1|           Danny Boy|         3|        1921|     0.0354|          100.109|\n",
      "|  0.253|1921|       0.957|      ['Phil Regan']|             0.418|     166693| 0.193|       0|4d6HGyGT8e121BsdK...|        1.68e-06|  3|   0.229| -10.096|   1|When Irish Eyes A...|         2|        1921|      0.038|          101.665|\n",
      "+-------+----+------------+--------------------+------------------+-----------+------+--------+--------------------+----------------+---+--------+--------+----+--------------------+----------+------------+-----------+-----------------+\n",
      "only showing top 5 rows\n",
      "\n"
     ]
    }
   ],
   "source": [
    "# visualiando as 5 primeiras linhas de conteúdo do dataframe spark\n",
    "\n",
    "df_data.show(5)"
   ]
  },
  {
   "cell_type": "code",
   "execution_count": null,
   "metadata": {
    "application/vnd.databricks.v1+cell": {
     "cellMetadata": {
      "byteLimit": 2048000,
      "rowLimit": 10000
     },
     "inputWidgets": {},
     "nuid": "c6dd0dca-9f41-443e-a6d5-c30d92c8001e",
     "showTitle": false,
     "title": ""
    }
   },
   "outputs": [
    {
     "name": "stdout",
     "output_type": "stream",
     "text": [
      "Out[6]: pyspark.sql.dataframe.DataFrame"
     ]
    }
   ],
   "source": [
    "# consultando o tipo de dados do dataframe\n",
    "\n",
    "type(df_data)"
   ]
  },
  {
   "cell_type": "markdown",
   "metadata": {
    "application/vnd.databricks.v1+cell": {
     "cellMetadata": {
      "byteLimit": 2048000,
      "rowLimit": 10000
     },
     "inputWidgets": {},
     "nuid": "0c9d8516-0b8c-447b-a6a8-48e490453ec2",
     "showTitle": false,
     "title": ""
    }
   },
   "source": [
    "**Transformando o Dataframe**"
   ]
  },
  {
   "cell_type": "code",
   "execution_count": null,
   "metadata": {
    "application/vnd.databricks.v1+cell": {
     "cellMetadata": {
      "byteLimit": 2048000,
      "rowLimit": 10000
     },
     "inputWidgets": {},
     "nuid": "12e4ea18-fd19-4165-95a1-8254d0c93500",
     "showTitle": false,
     "title": ""
    }
   },
   "outputs": [],
   "source": [
    "# transformando em um dataframe pandas\n",
    "\n",
    "df_data = df_data.pandas_api()"
   ]
  },
  {
   "cell_type": "code",
   "execution_count": null,
   "metadata": {
    "application/vnd.databricks.v1+cell": {
     "cellMetadata": {
      "byteLimit": 2048000,
      "rowLimit": 10000
     },
     "inputWidgets": {},
     "nuid": "2db578e7-93d0-43b7-a3cc-b7fba73b9e13",
     "showTitle": false,
     "title": ""
    }
   },
   "outputs": [
    {
     "name": "stdout",
     "output_type": "stream",
     "text": [
      "Out[8]: pyspark.pandas.frame.DataFrame"
     ]
    }
   ],
   "source": [
    "# verificando a transformação no tipo de dados\n",
    "\n",
    "type(df_data)"
   ]
  },
  {
   "cell_type": "code",
   "execution_count": null,
   "metadata": {
    "application/vnd.databricks.v1+cell": {
     "cellMetadata": {
      "byteLimit": 2048000,
      "rowLimit": 10000
     },
     "inputWidgets": {},
     "nuid": "98bb10e4-01dc-4b3f-ac59-59c0530347b7",
     "showTitle": false,
     "title": ""
    }
   },
   "outputs": [
    {
     "data": {
      "text/html": [
       "<div>\n",
       "<style scoped>\n",
       "    .dataframe tbody tr th:only-of-type {\n",
       "        vertical-align: middle;\n",
       "    }\n",
       "\n",
       "    .dataframe tbody tr th {\n",
       "        vertical-align: top;\n",
       "    }\n",
       "\n",
       "    .dataframe thead th {\n",
       "        text-align: right;\n",
       "    }\n",
       "</style>\n",
       "<table border=\"1\" class=\"dataframe\">\n",
       "  <thead>\n",
       "    <tr style=\"text-align: right;\">\n",
       "      <th></th>\n",
       "      <th>valence</th>\n",
       "      <th>year</th>\n",
       "      <th>acousticness</th>\n",
       "      <th>artists</th>\n",
       "      <th>danceability</th>\n",
       "      <th>duration_ms</th>\n",
       "      <th>energy</th>\n",
       "      <th>explicit</th>\n",
       "      <th>id</th>\n",
       "      <th>instrumentalness</th>\n",
       "      <th>key</th>\n",
       "      <th>liveness</th>\n",
       "      <th>loudness</th>\n",
       "      <th>mode</th>\n",
       "      <th>name</th>\n",
       "      <th>popularity</th>\n",
       "      <th>release_date</th>\n",
       "      <th>speechiness</th>\n",
       "      <th>tempo</th>\n",
       "    </tr>\n",
       "  </thead>\n",
       "  <tbody>\n",
       "    <tr>\n",
       "      <th>0</th>\n",
       "      <td>0.0594</td>\n",
       "      <td>1921</td>\n",
       "      <td>0.982</td>\n",
       "      <td>['Sergei Rachmaninoff', 'James Levine', 'Berli...</td>\n",
       "      <td>0.279</td>\n",
       "      <td>831667</td>\n",
       "      <td>0.211</td>\n",
       "      <td>0</td>\n",
       "      <td>4BJqT0PrAfrxzMOxytFOIz</td>\n",
       "      <td>0.878</td>\n",
       "      <td>10</td>\n",
       "      <td>0.665</td>\n",
       "      <td>-20.096</td>\n",
       "      <td>1</td>\n",
       "      <td>Piano Concerto No. 3 in D Minor, Op. 30: III. ...</td>\n",
       "      <td>4</td>\n",
       "      <td>1921</td>\n",
       "      <td>0.0366</td>\n",
       "      <td>80.954</td>\n",
       "    </tr>\n",
       "    <tr>\n",
       "      <th>1</th>\n",
       "      <td>0.9630</td>\n",
       "      <td>1921</td>\n",
       "      <td>0.732</td>\n",
       "      <td>['Dennis Day']</td>\n",
       "      <td>0.8190000000000001</td>\n",
       "      <td>180533</td>\n",
       "      <td>0.341</td>\n",
       "      <td>0</td>\n",
       "      <td>7xPhfUan2yNtyFG0cUWkt8</td>\n",
       "      <td>0.0</td>\n",
       "      <td>7</td>\n",
       "      <td>0.16</td>\n",
       "      <td>-12.441</td>\n",
       "      <td>1</td>\n",
       "      <td>Clancy Lowered the Boom</td>\n",
       "      <td>5</td>\n",
       "      <td>1921</td>\n",
       "      <td>0.415</td>\n",
       "      <td>60.93600000000001</td>\n",
       "    </tr>\n",
       "    <tr>\n",
       "      <th>2</th>\n",
       "      <td>0.0394</td>\n",
       "      <td>1921</td>\n",
       "      <td>0.961</td>\n",
       "      <td>['KHP Kridhamardawa Karaton Ngayogyakarta Hadi...</td>\n",
       "      <td>0.328</td>\n",
       "      <td>500062</td>\n",
       "      <td>0.166</td>\n",
       "      <td>0</td>\n",
       "      <td>1o6I8BglA6ylDMrIELygv1</td>\n",
       "      <td>0.913</td>\n",
       "      <td>3</td>\n",
       "      <td>0.101</td>\n",
       "      <td>-14.85</td>\n",
       "      <td>1</td>\n",
       "      <td>Gati Bali</td>\n",
       "      <td>5</td>\n",
       "      <td>1921</td>\n",
       "      <td>0.0339</td>\n",
       "      <td>110.339</td>\n",
       "    </tr>\n",
       "    <tr>\n",
       "      <th>3</th>\n",
       "      <td>0.1650</td>\n",
       "      <td>1921</td>\n",
       "      <td>0.967</td>\n",
       "      <td>['Frank Parker']</td>\n",
       "      <td>0.275</td>\n",
       "      <td>210000</td>\n",
       "      <td>0.309</td>\n",
       "      <td>0</td>\n",
       "      <td>3ftBPsC5vPBKxYSee08FDH</td>\n",
       "      <td>2.77e-05</td>\n",
       "      <td>5</td>\n",
       "      <td>0.381</td>\n",
       "      <td>-9.316</td>\n",
       "      <td>1</td>\n",
       "      <td>Danny Boy</td>\n",
       "      <td>3</td>\n",
       "      <td>1921</td>\n",
       "      <td>0.0354</td>\n",
       "      <td>100.109</td>\n",
       "    </tr>\n",
       "    <tr>\n",
       "      <th>4</th>\n",
       "      <td>0.2530</td>\n",
       "      <td>1921</td>\n",
       "      <td>0.957</td>\n",
       "      <td>['Phil Regan']</td>\n",
       "      <td>0.418</td>\n",
       "      <td>166693</td>\n",
       "      <td>0.193</td>\n",
       "      <td>0</td>\n",
       "      <td>4d6HGyGT8e121BsdKmw9v6</td>\n",
       "      <td>1.68e-06</td>\n",
       "      <td>3</td>\n",
       "      <td>0.229</td>\n",
       "      <td>-10.096</td>\n",
       "      <td>1</td>\n",
       "      <td>When Irish Eyes Are Smiling</td>\n",
       "      <td>2</td>\n",
       "      <td>1921</td>\n",
       "      <td>0.038</td>\n",
       "      <td>101.665</td>\n",
       "    </tr>\n",
       "  </tbody>\n",
       "</table>\n",
       "</div>"
      ]
     },
     "metadata": {
      "application/vnd.databricks.v1+output": {
       "addedWidgets": {},
       "arguments": {},
       "data": "<div>\n<style scoped>\n    .dataframe tbody tr th:only-of-type {\n        vertical-align: middle;\n    }\n\n    .dataframe tbody tr th {\n        vertical-align: top;\n    }\n\n    .dataframe thead th {\n        text-align: right;\n    }\n</style>\n<table border=\"1\" class=\"dataframe\">\n  <thead>\n    <tr style=\"text-align: right;\">\n      <th></th>\n      <th>valence</th>\n      <th>year</th>\n      <th>acousticness</th>\n      <th>artists</th>\n      <th>danceability</th>\n      <th>duration_ms</th>\n      <th>energy</th>\n      <th>explicit</th>\n      <th>id</th>\n      <th>instrumentalness</th>\n      <th>key</th>\n      <th>liveness</th>\n      <th>loudness</th>\n      <th>mode</th>\n      <th>name</th>\n      <th>popularity</th>\n      <th>release_date</th>\n      <th>speechiness</th>\n      <th>tempo</th>\n    </tr>\n  </thead>\n  <tbody>\n    <tr>\n      <th>0</th>\n      <td>0.0594</td>\n      <td>1921</td>\n      <td>0.982</td>\n      <td>['Sergei Rachmaninoff', 'James Levine', 'Berli...</td>\n      <td>0.279</td>\n      <td>831667</td>\n      <td>0.211</td>\n      <td>0</td>\n      <td>4BJqT0PrAfrxzMOxytFOIz</td>\n      <td>0.878</td>\n      <td>10</td>\n      <td>0.665</td>\n      <td>-20.096</td>\n      <td>1</td>\n      <td>Piano Concerto No. 3 in D Minor, Op. 30: III. ...</td>\n      <td>4</td>\n      <td>1921</td>\n      <td>0.0366</td>\n      <td>80.954</td>\n    </tr>\n    <tr>\n      <th>1</th>\n      <td>0.9630</td>\n      <td>1921</td>\n      <td>0.732</td>\n      <td>['Dennis Day']</td>\n      <td>0.8190000000000001</td>\n      <td>180533</td>\n      <td>0.341</td>\n      <td>0</td>\n      <td>7xPhfUan2yNtyFG0cUWkt8</td>\n      <td>0.0</td>\n      <td>7</td>\n      <td>0.16</td>\n      <td>-12.441</td>\n      <td>1</td>\n      <td>Clancy Lowered the Boom</td>\n      <td>5</td>\n      <td>1921</td>\n      <td>0.415</td>\n      <td>60.93600000000001</td>\n    </tr>\n    <tr>\n      <th>2</th>\n      <td>0.0394</td>\n      <td>1921</td>\n      <td>0.961</td>\n      <td>['KHP Kridhamardawa Karaton Ngayogyakarta Hadi...</td>\n      <td>0.328</td>\n      <td>500062</td>\n      <td>0.166</td>\n      <td>0</td>\n      <td>1o6I8BglA6ylDMrIELygv1</td>\n      <td>0.913</td>\n      <td>3</td>\n      <td>0.101</td>\n      <td>-14.85</td>\n      <td>1</td>\n      <td>Gati Bali</td>\n      <td>5</td>\n      <td>1921</td>\n      <td>0.0339</td>\n      <td>110.339</td>\n    </tr>\n    <tr>\n      <th>3</th>\n      <td>0.1650</td>\n      <td>1921</td>\n      <td>0.967</td>\n      <td>['Frank Parker']</td>\n      <td>0.275</td>\n      <td>210000</td>\n      <td>0.309</td>\n      <td>0</td>\n      <td>3ftBPsC5vPBKxYSee08FDH</td>\n      <td>2.77e-05</td>\n      <td>5</td>\n      <td>0.381</td>\n      <td>-9.316</td>\n      <td>1</td>\n      <td>Danny Boy</td>\n      <td>3</td>\n      <td>1921</td>\n      <td>0.0354</td>\n      <td>100.109</td>\n    </tr>\n    <tr>\n      <th>4</th>\n      <td>0.2530</td>\n      <td>1921</td>\n      <td>0.957</td>\n      <td>['Phil Regan']</td>\n      <td>0.418</td>\n      <td>166693</td>\n      <td>0.193</td>\n      <td>0</td>\n      <td>4d6HGyGT8e121BsdKmw9v6</td>\n      <td>1.68e-06</td>\n      <td>3</td>\n      <td>0.229</td>\n      <td>-10.096</td>\n      <td>1</td>\n      <td>When Irish Eyes Are Smiling</td>\n      <td>2</td>\n      <td>1921</td>\n      <td>0.038</td>\n      <td>101.665</td>\n    </tr>\n  </tbody>\n</table>\n</div>",
       "datasetInfos": [],
       "metadata": {},
       "removedWidgets": [],
       "textData": null,
       "type": "htmlSandbox"
      }
     },
     "output_type": "display_data"
    }
   ],
   "source": [
    "# visualizando os 5 primeiros registros\n",
    "\n",
    "df_data.head()"
   ]
  },
  {
   "cell_type": "code",
   "execution_count": null,
   "metadata": {
    "application/vnd.databricks.v1+cell": {
     "cellMetadata": {
      "byteLimit": 2048000,
      "rowLimit": 10000
     },
     "inputWidgets": {},
     "nuid": "62286c74-1f08-4aed-9255-99921ca001b7",
     "showTitle": false,
     "title": ""
    }
   },
   "outputs": [
    {
     "name": "stdout",
     "output_type": "stream",
     "text": [
      "<class 'pyspark.pandas.frame.DataFrame'>\n",
      "Int64Index: 170653 entries, 0 to 170652\n",
      "Data columns (total 19 columns):\n",
      " #   Column            Non-Null Count   Dtype  \n",
      "---  ------            --------------   -----  \n",
      " 0   valence           170653 non-null  float64\n",
      " 1   year              170653 non-null  int32  \n",
      " 2   acousticness      170653 non-null  float64\n",
      " 3   artists           170653 non-null  object \n",
      " 4   danceability      170653 non-null  object \n",
      " 5   duration_ms       170653 non-null  object \n",
      " 6   energy            170653 non-null  object \n",
      " 7   explicit          170653 non-null  object \n",
      " 8   id                170653 non-null  object \n",
      " 9   instrumentalness  170653 non-null  object \n",
      " 10  key               170653 non-null  object \n",
      " 11  liveness          170653 non-null  object \n",
      " 12  loudness          170653 non-null  object \n",
      " 13  mode              170653 non-null  object \n",
      " 14  name              170653 non-null  object \n",
      " 15  popularity        170653 non-null  object \n",
      " 16  release_date      170653 non-null  object \n",
      " 17  speechiness       170653 non-null  object \n",
      " 18  tempo             170653 non-null  object \n",
      "dtypes: float64(2), int32(1), object(16)"
     ]
    }
   ],
   "source": [
    "# consultando os tipos de cada coluna\n",
    "\n",
    "df_data.info()"
   ]
  },
  {
   "cell_type": "code",
   "execution_count": null,
   "metadata": {
    "application/vnd.databricks.v1+cell": {
     "cellMetadata": {
      "byteLimit": 2048000,
      "rowLimit": 10000
     },
     "inputWidgets": {},
     "nuid": "c9136a39-8c25-4edc-be10-5504a0b20937",
     "showTitle": false,
     "title": ""
    }
   },
   "outputs": [],
   "source": [
    "# separando as variáveis do tipo inteiro e float\n",
    "colunas_float = ['acousticness', 'danceability', 'energy', 'instrumentalness', 'liveness', 'loudness', 'speechiness', 'tempo', 'valence']\n",
    "\n",
    "colunas_int = ['duration_ms', 'mode', 'key', 'explicit', 'popularity']"
   ]
  },
  {
   "cell_type": "code",
   "execution_count": null,
   "metadata": {
    "application/vnd.databricks.v1+cell": {
     "cellMetadata": {
      "byteLimit": 2048000,
      "rowLimit": 10000
     },
     "inputWidgets": {},
     "nuid": "465a03fe-25a4-41fb-afc0-d161ee3246cf",
     "showTitle": false,
     "title": ""
    }
   },
   "outputs": [],
   "source": [
    "# transformando o tipo de dados de cada coluna para o mais adequado\n",
    "df_data[colunas_float] = df_data[colunas_float].astype(float)\n",
    "df_data[colunas_int] = df_data[colunas_int].astype(int)"
   ]
  },
  {
   "cell_type": "code",
   "execution_count": null,
   "metadata": {
    "application/vnd.databricks.v1+cell": {
     "cellMetadata": {
      "byteLimit": 2048000,
      "rowLimit": 10000
     },
     "inputWidgets": {},
     "nuid": "d06c7ca4-5c99-4d05-b3c9-4fa11bc76292",
     "showTitle": false,
     "title": ""
    }
   },
   "outputs": [
    {
     "name": "stdout",
     "output_type": "stream",
     "text": [
      "<class 'pyspark.pandas.frame.DataFrame'>\n",
      "Int64Index: 170653 entries, 0 to 170652\n",
      "Data columns (total 19 columns):\n",
      " #   Column            Non-Null Count   Dtype  \n",
      "---  ------            --------------   -----  \n",
      " 0   valence           170653 non-null  float64\n",
      " 1   year              170653 non-null  int32  \n",
      " 2   acousticness      170653 non-null  float64\n",
      " 3   artists           170653 non-null  object \n",
      " 4   danceability      170080 non-null  float64\n",
      " 5   duration_ms       170454 non-null  int64  \n",
      " 6   energy            170573 non-null  float64\n",
      " 7   explicit          170606 non-null  int64  \n",
      " 8   id                170653 non-null  object \n",
      " 9   instrumentalness  170270 non-null  float64\n",
      " 10  key               170451 non-null  int64  \n",
      " 11  liveness          170613 non-null  float64\n",
      " 12  loudness          170621 non-null  float64\n",
      " 13  mode              170635 non-null  int64  \n",
      " 14  name              170653 non-null  object \n",
      " 15  popularity        169496 non-null  int64  \n",
      " 16  release_date      170653 non-null  object \n",
      " 17  speechiness       170042 non-null  float64\n",
      " 18  tempo             170404 non-null  float64\n",
      "dtypes: float64(9), int32(1), int64(5), object(4)"
     ]
    }
   ],
   "source": [
    "# consultando tipo das colunas transformadas\n",
    "df_data.info()"
   ]
  },
  {
   "cell_type": "code",
   "execution_count": null,
   "metadata": {
    "application/vnd.databricks.v1+cell": {
     "cellMetadata": {
      "byteLimit": 2048000,
      "rowLimit": 10000
     },
     "inputWidgets": {},
     "nuid": "8dc1b929-77b5-4f77-8645-72048dcb21eb",
     "showTitle": false,
     "title": ""
    }
   },
   "outputs": [
    {
     "data": {
      "text/html": [
       "<div>\n",
       "<style scoped>\n",
       "    .dataframe tbody tr th:only-of-type {\n",
       "        vertical-align: middle;\n",
       "    }\n",
       "\n",
       "    .dataframe tbody tr th {\n",
       "        vertical-align: top;\n",
       "    }\n",
       "\n",
       "    .dataframe thead th {\n",
       "        text-align: right;\n",
       "    }\n",
       "</style>\n",
       "<table border=\"1\" class=\"dataframe\">\n",
       "  <thead>\n",
       "    <tr style=\"text-align: right;\">\n",
       "      <th></th>\n",
       "      <th>artists</th>\n",
       "      <th>name</th>\n",
       "      <th>release_date</th>\n",
       "      <th>id</th>\n",
       "    </tr>\n",
       "  </thead>\n",
       "  <tbody>\n",
       "    <tr>\n",
       "      <th>0</th>\n",
       "      <td>['Sergei Rachmaninoff', 'James Levine', 'Berli...</td>\n",
       "      <td>Piano Concerto No. 3 in D Minor, Op. 30: III. ...</td>\n",
       "      <td>1921</td>\n",
       "      <td>4BJqT0PrAfrxzMOxytFOIz</td>\n",
       "    </tr>\n",
       "    <tr>\n",
       "      <th>1</th>\n",
       "      <td>['Dennis Day']</td>\n",
       "      <td>Clancy Lowered the Boom</td>\n",
       "      <td>1921</td>\n",
       "      <td>7xPhfUan2yNtyFG0cUWkt8</td>\n",
       "    </tr>\n",
       "    <tr>\n",
       "      <th>2</th>\n",
       "      <td>['KHP Kridhamardawa Karaton Ngayogyakarta Hadi...</td>\n",
       "      <td>Gati Bali</td>\n",
       "      <td>1921</td>\n",
       "      <td>1o6I8BglA6ylDMrIELygv1</td>\n",
       "    </tr>\n",
       "    <tr>\n",
       "      <th>3</th>\n",
       "      <td>['Frank Parker']</td>\n",
       "      <td>Danny Boy</td>\n",
       "      <td>1921</td>\n",
       "      <td>3ftBPsC5vPBKxYSee08FDH</td>\n",
       "    </tr>\n",
       "    <tr>\n",
       "      <th>4</th>\n",
       "      <td>['Phil Regan']</td>\n",
       "      <td>When Irish Eyes Are Smiling</td>\n",
       "      <td>1921</td>\n",
       "      <td>4d6HGyGT8e121BsdKmw9v6</td>\n",
       "    </tr>\n",
       "  </tbody>\n",
       "</table>\n",
       "</div>"
      ]
     },
     "metadata": {
      "application/vnd.databricks.v1+output": {
       "addedWidgets": {},
       "arguments": {},
       "data": "<div>\n<style scoped>\n    .dataframe tbody tr th:only-of-type {\n        vertical-align: middle;\n    }\n\n    .dataframe tbody tr th {\n        vertical-align: top;\n    }\n\n    .dataframe thead th {\n        text-align: right;\n    }\n</style>\n<table border=\"1\" class=\"dataframe\">\n  <thead>\n    <tr style=\"text-align: right;\">\n      <th></th>\n      <th>artists</th>\n      <th>name</th>\n      <th>release_date</th>\n      <th>id</th>\n    </tr>\n  </thead>\n  <tbody>\n    <tr>\n      <th>0</th>\n      <td>['Sergei Rachmaninoff', 'James Levine', 'Berli...</td>\n      <td>Piano Concerto No. 3 in D Minor, Op. 30: III. ...</td>\n      <td>1921</td>\n      <td>4BJqT0PrAfrxzMOxytFOIz</td>\n    </tr>\n    <tr>\n      <th>1</th>\n      <td>['Dennis Day']</td>\n      <td>Clancy Lowered the Boom</td>\n      <td>1921</td>\n      <td>7xPhfUan2yNtyFG0cUWkt8</td>\n    </tr>\n    <tr>\n      <th>2</th>\n      <td>['KHP Kridhamardawa Karaton Ngayogyakarta Hadi...</td>\n      <td>Gati Bali</td>\n      <td>1921</td>\n      <td>1o6I8BglA6ylDMrIELygv1</td>\n    </tr>\n    <tr>\n      <th>3</th>\n      <td>['Frank Parker']</td>\n      <td>Danny Boy</td>\n      <td>1921</td>\n      <td>3ftBPsC5vPBKxYSee08FDH</td>\n    </tr>\n    <tr>\n      <th>4</th>\n      <td>['Phil Regan']</td>\n      <td>When Irish Eyes Are Smiling</td>\n      <td>1921</td>\n      <td>4d6HGyGT8e121BsdKmw9v6</td>\n    </tr>\n  </tbody>\n</table>\n</div>",
       "datasetInfos": [],
       "metadata": {},
       "removedWidgets": [],
       "textData": null,
       "type": "htmlSandbox"
      }
     },
     "output_type": "display_data"
    }
   ],
   "source": [
    "# analisando conteúdo das variáveis do tipo string\n",
    "df_consulta = df_data[['artists', 'name', 'release_date', 'id']]\n",
    "df_consulta.head()"
   ]
  },
  {
   "cell_type": "code",
   "execution_count": null,
   "metadata": {
    "application/vnd.databricks.v1+cell": {
     "cellMetadata": {
      "byteLimit": 2048000,
      "rowLimit": 10000
     },
     "inputWidgets": {},
     "nuid": "499cf1a8-c0de-42f6-a8af-dc53a7f0a267",
     "showTitle": false,
     "title": ""
    }
   },
   "outputs": [
    {
     "name": "stdout",
     "output_type": "stream",
     "text": [
      "Out[15]: str"
     ]
    }
   ],
   "source": [
    "# verificando o tipo de dado do primeiro elemento da coluna 'artists'\n",
    "type(df_data.artists.iloc[0])"
   ]
  },
  {
   "cell_type": "code",
   "execution_count": null,
   "metadata": {
    "application/vnd.databricks.v1+cell": {
     "cellMetadata": {
      "byteLimit": 2048000,
      "rowLimit": 10000
     },
     "inputWidgets": {},
     "nuid": "ff077518-faa0-495e-926c-2ff01ec5e2cb",
     "showTitle": false,
     "title": ""
    }
   },
   "outputs": [
    {
     "data": {
      "text/html": [
       "<div>\n",
       "<style scoped>\n",
       "    .dataframe tbody tr th:only-of-type {\n",
       "        vertical-align: middle;\n",
       "    }\n",
       "\n",
       "    .dataframe tbody tr th {\n",
       "        vertical-align: top;\n",
       "    }\n",
       "\n",
       "    .dataframe thead th {\n",
       "        text-align: right;\n",
       "    }\n",
       "</style>\n",
       "<table border=\"1\" class=\"dataframe\">\n",
       "  <thead>\n",
       "    <tr style=\"text-align: right;\">\n",
       "      <th></th>\n",
       "      <th>valence</th>\n",
       "      <th>year</th>\n",
       "      <th>acousticness</th>\n",
       "      <th>artists</th>\n",
       "      <th>danceability</th>\n",
       "      <th>duration_ms</th>\n",
       "      <th>energy</th>\n",
       "      <th>explicit</th>\n",
       "      <th>id</th>\n",
       "      <th>instrumentalness</th>\n",
       "      <th>key</th>\n",
       "      <th>liveness</th>\n",
       "      <th>loudness</th>\n",
       "      <th>mode</th>\n",
       "      <th>name</th>\n",
       "      <th>popularity</th>\n",
       "      <th>release_date</th>\n",
       "      <th>speechiness</th>\n",
       "      <th>tempo</th>\n",
       "    </tr>\n",
       "  </thead>\n",
       "  <tbody>\n",
       "    <tr>\n",
       "      <th>0</th>\n",
       "      <td>0.0594</td>\n",
       "      <td>1921</td>\n",
       "      <td>0.982</td>\n",
       "      <td>['Sergei Rachmaninoff', 'James Levine', 'Berli...</td>\n",
       "      <td>0.279</td>\n",
       "      <td>831667</td>\n",
       "      <td>0.211</td>\n",
       "      <td>0</td>\n",
       "      <td>4BJqT0PrAfrxzMOxytFOIz</td>\n",
       "      <td>0.878000</td>\n",
       "      <td>10</td>\n",
       "      <td>0.665</td>\n",
       "      <td>-20.096</td>\n",
       "      <td>1</td>\n",
       "      <td>Piano Concerto No. 3 in D Minor, Op. 30: III. ...</td>\n",
       "      <td>4</td>\n",
       "      <td>1921</td>\n",
       "      <td>0.0366</td>\n",
       "      <td>80.954</td>\n",
       "    </tr>\n",
       "    <tr>\n",
       "      <th>1</th>\n",
       "      <td>0.9630</td>\n",
       "      <td>1921</td>\n",
       "      <td>0.732</td>\n",
       "      <td>['Dennis Day']</td>\n",
       "      <td>0.819</td>\n",
       "      <td>180533</td>\n",
       "      <td>0.341</td>\n",
       "      <td>0</td>\n",
       "      <td>7xPhfUan2yNtyFG0cUWkt8</td>\n",
       "      <td>0.000000</td>\n",
       "      <td>7</td>\n",
       "      <td>0.160</td>\n",
       "      <td>-12.441</td>\n",
       "      <td>1</td>\n",
       "      <td>Clancy Lowered the Boom</td>\n",
       "      <td>5</td>\n",
       "      <td>1921</td>\n",
       "      <td>0.4150</td>\n",
       "      <td>60.936</td>\n",
       "    </tr>\n",
       "    <tr>\n",
       "      <th>2</th>\n",
       "      <td>0.0394</td>\n",
       "      <td>1921</td>\n",
       "      <td>0.961</td>\n",
       "      <td>['KHP Kridhamardawa Karaton Ngayogyakarta Hadi...</td>\n",
       "      <td>0.328</td>\n",
       "      <td>500062</td>\n",
       "      <td>0.166</td>\n",
       "      <td>0</td>\n",
       "      <td>1o6I8BglA6ylDMrIELygv1</td>\n",
       "      <td>0.913000</td>\n",
       "      <td>3</td>\n",
       "      <td>0.101</td>\n",
       "      <td>-14.850</td>\n",
       "      <td>1</td>\n",
       "      <td>Gati Bali</td>\n",
       "      <td>5</td>\n",
       "      <td>1921</td>\n",
       "      <td>0.0339</td>\n",
       "      <td>110.339</td>\n",
       "    </tr>\n",
       "    <tr>\n",
       "      <th>3</th>\n",
       "      <td>0.1650</td>\n",
       "      <td>1921</td>\n",
       "      <td>0.967</td>\n",
       "      <td>['Frank Parker']</td>\n",
       "      <td>0.275</td>\n",
       "      <td>210000</td>\n",
       "      <td>0.309</td>\n",
       "      <td>0</td>\n",
       "      <td>3ftBPsC5vPBKxYSee08FDH</td>\n",
       "      <td>0.000028</td>\n",
       "      <td>5</td>\n",
       "      <td>0.381</td>\n",
       "      <td>-9.316</td>\n",
       "      <td>1</td>\n",
       "      <td>Danny Boy</td>\n",
       "      <td>3</td>\n",
       "      <td>1921</td>\n",
       "      <td>0.0354</td>\n",
       "      <td>100.109</td>\n",
       "    </tr>\n",
       "    <tr>\n",
       "      <th>4</th>\n",
       "      <td>0.2530</td>\n",
       "      <td>1921</td>\n",
       "      <td>0.957</td>\n",
       "      <td>['Phil Regan']</td>\n",
       "      <td>0.418</td>\n",
       "      <td>166693</td>\n",
       "      <td>0.193</td>\n",
       "      <td>0</td>\n",
       "      <td>4d6HGyGT8e121BsdKmw9v6</td>\n",
       "      <td>0.000002</td>\n",
       "      <td>3</td>\n",
       "      <td>0.229</td>\n",
       "      <td>-10.096</td>\n",
       "      <td>1</td>\n",
       "      <td>When Irish Eyes Are Smiling</td>\n",
       "      <td>2</td>\n",
       "      <td>1921</td>\n",
       "      <td>0.0380</td>\n",
       "      <td>101.665</td>\n",
       "    </tr>\n",
       "    <tr>\n",
       "      <th>5</th>\n",
       "      <td>0.1960</td>\n",
       "      <td>1921</td>\n",
       "      <td>0.579</td>\n",
       "      <td>['KHP Kridhamardawa Karaton Ngayogyakarta Hadi...</td>\n",
       "      <td>0.697</td>\n",
       "      <td>395076</td>\n",
       "      <td>0.346</td>\n",
       "      <td>0</td>\n",
       "      <td>4pyw9DVHGStUre4J6hPngr</td>\n",
       "      <td>0.168000</td>\n",
       "      <td>2</td>\n",
       "      <td>0.130</td>\n",
       "      <td>-12.506</td>\n",
       "      <td>1</td>\n",
       "      <td>Gati Mardika</td>\n",
       "      <td>6</td>\n",
       "      <td>1921</td>\n",
       "      <td>0.0700</td>\n",
       "      <td>119.824</td>\n",
       "    </tr>\n",
       "    <tr>\n",
       "      <th>6</th>\n",
       "      <td>0.4060</td>\n",
       "      <td>1921</td>\n",
       "      <td>0.996</td>\n",
       "      <td>['John McCormack']</td>\n",
       "      <td>0.518</td>\n",
       "      <td>159507</td>\n",
       "      <td>0.203</td>\n",
       "      <td>0</td>\n",
       "      <td>5uNZnElqOS3W4fRmRYPk4T</td>\n",
       "      <td>0.000000</td>\n",
       "      <td>0</td>\n",
       "      <td>0.115</td>\n",
       "      <td>-10.589</td>\n",
       "      <td>1</td>\n",
       "      <td>The Wearing of the Green</td>\n",
       "      <td>4</td>\n",
       "      <td>1921</td>\n",
       "      <td>0.0615</td>\n",
       "      <td>66.221</td>\n",
       "    </tr>\n",
       "    <tr>\n",
       "      <th>7</th>\n",
       "      <td>0.0731</td>\n",
       "      <td>1921</td>\n",
       "      <td>0.993</td>\n",
       "      <td>['Sergei Rachmaninoff']</td>\n",
       "      <td>0.389</td>\n",
       "      <td>218773</td>\n",
       "      <td>0.088</td>\n",
       "      <td>0</td>\n",
       "      <td>02GDntOXexBFUvSgaXLPkd</td>\n",
       "      <td>0.527000</td>\n",
       "      <td>1</td>\n",
       "      <td>0.363</td>\n",
       "      <td>-21.091</td>\n",
       "      <td>0</td>\n",
       "      <td>Morceaux de fantaisie, Op. 3: No. 2, Prélude i...</td>\n",
       "      <td>2</td>\n",
       "      <td>1921</td>\n",
       "      <td>0.0456</td>\n",
       "      <td>92.867</td>\n",
       "    </tr>\n",
       "    <tr>\n",
       "      <th>8</th>\n",
       "      <td>0.7210</td>\n",
       "      <td>1921</td>\n",
       "      <td>0.996</td>\n",
       "      <td>['Ignacio Corsini']</td>\n",
       "      <td>0.485</td>\n",
       "      <td>161520</td>\n",
       "      <td>0.130</td>\n",
       "      <td>0</td>\n",
       "      <td>05xDjWH9ub67nJJk82yfGf</td>\n",
       "      <td>0.151000</td>\n",
       "      <td>5</td>\n",
       "      <td>0.104</td>\n",
       "      <td>-21.508</td>\n",
       "      <td>0</td>\n",
       "      <td>La Mañanita - Remasterizado</td>\n",
       "      <td>0</td>\n",
       "      <td>1921-03-20</td>\n",
       "      <td>0.0483</td>\n",
       "      <td>64.678</td>\n",
       "    </tr>\n",
       "  </tbody>\n",
       "</table>\n",
       "</div>"
      ]
     },
     "metadata": {
      "application/vnd.databricks.v1+output": {
       "addedWidgets": {},
       "arguments": {},
       "data": "<div>\n<style scoped>\n    .dataframe tbody tr th:only-of-type {\n        vertical-align: middle;\n    }\n\n    .dataframe tbody tr th {\n        vertical-align: top;\n    }\n\n    .dataframe thead th {\n        text-align: right;\n    }\n</style>\n<table border=\"1\" class=\"dataframe\">\n  <thead>\n    <tr style=\"text-align: right;\">\n      <th></th>\n      <th>valence</th>\n      <th>year</th>\n      <th>acousticness</th>\n      <th>artists</th>\n      <th>danceability</th>\n      <th>duration_ms</th>\n      <th>energy</th>\n      <th>explicit</th>\n      <th>id</th>\n      <th>instrumentalness</th>\n      <th>key</th>\n      <th>liveness</th>\n      <th>loudness</th>\n      <th>mode</th>\n      <th>name</th>\n      <th>popularity</th>\n      <th>release_date</th>\n      <th>speechiness</th>\n      <th>tempo</th>\n    </tr>\n  </thead>\n  <tbody>\n    <tr>\n      <th>0</th>\n      <td>0.0594</td>\n      <td>1921</td>\n      <td>0.982</td>\n      <td>['Sergei Rachmaninoff', 'James Levine', 'Berli...</td>\n      <td>0.279</td>\n      <td>831667</td>\n      <td>0.211</td>\n      <td>0</td>\n      <td>4BJqT0PrAfrxzMOxytFOIz</td>\n      <td>0.878000</td>\n      <td>10</td>\n      <td>0.665</td>\n      <td>-20.096</td>\n      <td>1</td>\n      <td>Piano Concerto No. 3 in D Minor, Op. 30: III. ...</td>\n      <td>4</td>\n      <td>1921</td>\n      <td>0.0366</td>\n      <td>80.954</td>\n    </tr>\n    <tr>\n      <th>1</th>\n      <td>0.9630</td>\n      <td>1921</td>\n      <td>0.732</td>\n      <td>['Dennis Day']</td>\n      <td>0.819</td>\n      <td>180533</td>\n      <td>0.341</td>\n      <td>0</td>\n      <td>7xPhfUan2yNtyFG0cUWkt8</td>\n      <td>0.000000</td>\n      <td>7</td>\n      <td>0.160</td>\n      <td>-12.441</td>\n      <td>1</td>\n      <td>Clancy Lowered the Boom</td>\n      <td>5</td>\n      <td>1921</td>\n      <td>0.4150</td>\n      <td>60.936</td>\n    </tr>\n    <tr>\n      <th>2</th>\n      <td>0.0394</td>\n      <td>1921</td>\n      <td>0.961</td>\n      <td>['KHP Kridhamardawa Karaton Ngayogyakarta Hadi...</td>\n      <td>0.328</td>\n      <td>500062</td>\n      <td>0.166</td>\n      <td>0</td>\n      <td>1o6I8BglA6ylDMrIELygv1</td>\n      <td>0.913000</td>\n      <td>3</td>\n      <td>0.101</td>\n      <td>-14.850</td>\n      <td>1</td>\n      <td>Gati Bali</td>\n      <td>5</td>\n      <td>1921</td>\n      <td>0.0339</td>\n      <td>110.339</td>\n    </tr>\n    <tr>\n      <th>3</th>\n      <td>0.1650</td>\n      <td>1921</td>\n      <td>0.967</td>\n      <td>['Frank Parker']</td>\n      <td>0.275</td>\n      <td>210000</td>\n      <td>0.309</td>\n      <td>0</td>\n      <td>3ftBPsC5vPBKxYSee08FDH</td>\n      <td>0.000028</td>\n      <td>5</td>\n      <td>0.381</td>\n      <td>-9.316</td>\n      <td>1</td>\n      <td>Danny Boy</td>\n      <td>3</td>\n      <td>1921</td>\n      <td>0.0354</td>\n      <td>100.109</td>\n    </tr>\n    <tr>\n      <th>4</th>\n      <td>0.2530</td>\n      <td>1921</td>\n      <td>0.957</td>\n      <td>['Phil Regan']</td>\n      <td>0.418</td>\n      <td>166693</td>\n      <td>0.193</td>\n      <td>0</td>\n      <td>4d6HGyGT8e121BsdKmw9v6</td>\n      <td>0.000002</td>\n      <td>3</td>\n      <td>0.229</td>\n      <td>-10.096</td>\n      <td>1</td>\n      <td>When Irish Eyes Are Smiling</td>\n      <td>2</td>\n      <td>1921</td>\n      <td>0.0380</td>\n      <td>101.665</td>\n    </tr>\n    <tr>\n      <th>5</th>\n      <td>0.1960</td>\n      <td>1921</td>\n      <td>0.579</td>\n      <td>['KHP Kridhamardawa Karaton Ngayogyakarta Hadi...</td>\n      <td>0.697</td>\n      <td>395076</td>\n      <td>0.346</td>\n      <td>0</td>\n      <td>4pyw9DVHGStUre4J6hPngr</td>\n      <td>0.168000</td>\n      <td>2</td>\n      <td>0.130</td>\n      <td>-12.506</td>\n      <td>1</td>\n      <td>Gati Mardika</td>\n      <td>6</td>\n      <td>1921</td>\n      <td>0.0700</td>\n      <td>119.824</td>\n    </tr>\n    <tr>\n      <th>6</th>\n      <td>0.4060</td>\n      <td>1921</td>\n      <td>0.996</td>\n      <td>['John McCormack']</td>\n      <td>0.518</td>\n      <td>159507</td>\n      <td>0.203</td>\n      <td>0</td>\n      <td>5uNZnElqOS3W4fRmRYPk4T</td>\n      <td>0.000000</td>\n      <td>0</td>\n      <td>0.115</td>\n      <td>-10.589</td>\n      <td>1</td>\n      <td>The Wearing of the Green</td>\n      <td>4</td>\n      <td>1921</td>\n      <td>0.0615</td>\n      <td>66.221</td>\n    </tr>\n    <tr>\n      <th>7</th>\n      <td>0.0731</td>\n      <td>1921</td>\n      <td>0.993</td>\n      <td>['Sergei Rachmaninoff']</td>\n      <td>0.389</td>\n      <td>218773</td>\n      <td>0.088</td>\n      <td>0</td>\n      <td>02GDntOXexBFUvSgaXLPkd</td>\n      <td>0.527000</td>\n      <td>1</td>\n      <td>0.363</td>\n      <td>-21.091</td>\n      <td>0</td>\n      <td>Morceaux de fantaisie, Op. 3: No. 2, Prélude i...</td>\n      <td>2</td>\n      <td>1921</td>\n      <td>0.0456</td>\n      <td>92.867</td>\n    </tr>\n    <tr>\n      <th>8</th>\n      <td>0.7210</td>\n      <td>1921</td>\n      <td>0.996</td>\n      <td>['Ignacio Corsini']</td>\n      <td>0.485</td>\n      <td>161520</td>\n      <td>0.130</td>\n      <td>0</td>\n      <td>05xDjWH9ub67nJJk82yfGf</td>\n      <td>0.151000</td>\n      <td>5</td>\n      <td>0.104</td>\n      <td>-21.508</td>\n      <td>0</td>\n      <td>La Mañanita - Remasterizado</td>\n      <td>0</td>\n      <td>1921-03-20</td>\n      <td>0.0483</td>\n      <td>64.678</td>\n    </tr>\n  </tbody>\n</table>\n</div>",
       "datasetInfos": [],
       "metadata": {},
       "removedWidgets": [],
       "textData": null,
       "type": "htmlSandbox"
      }
     },
     "output_type": "display_data"
    }
   ],
   "source": [
    "# retirando uma amostra dos dados para realizar a transformação de teste.\n",
    "x = df_data.iloc[0:9]\n",
    "x"
   ]
  },
  {
   "cell_type": "code",
   "execution_count": null,
   "metadata": {
    "application/vnd.databricks.v1+cell": {
     "cellMetadata": {
      "byteLimit": 2048000,
      "rowLimit": 10000
     },
     "inputWidgets": {},
     "nuid": "a8476528-e24c-4733-8f6d-c93d84de98d1",
     "showTitle": false,
     "title": ""
    }
   },
   "outputs": [],
   "source": [
    "# manipulando string realizando a substituição um caracteres passando uma expressão regular 'REGEX'\n",
    "x['artists'] = x.artists.str.replace(\"\\[|\\]|\\'\", \"\")"
   ]
  },
  {
   "cell_type": "code",
   "execution_count": null,
   "metadata": {
    "application/vnd.databricks.v1+cell": {
     "cellMetadata": {
      "byteLimit": 2048000,
      "rowLimit": 10000
     },
     "inputWidgets": {},
     "nuid": "86a952d6-fdd1-4398-bd44-b4664dc1a66d",
     "showTitle": false,
     "title": ""
    }
   },
   "outputs": [],
   "source": [
    "# nova manipulação de string, substituindo ',' por ';'\n",
    "x['artists'] = x.artists.str.replace(\",\", \";\")"
   ]
  },
  {
   "cell_type": "code",
   "execution_count": null,
   "metadata": {
    "application/vnd.databricks.v1+cell": {
     "cellMetadata": {
      "byteLimit": 2048000,
      "rowLimit": 10000
     },
     "inputWidgets": {},
     "nuid": "e54e91cb-e9cb-4596-8c46-e21df34fe831",
     "showTitle": false,
     "title": ""
    }
   },
   "outputs": [
    {
     "data": {
      "text/html": [
       "<div>\n",
       "<style scoped>\n",
       "    .dataframe tbody tr th:only-of-type {\n",
       "        vertical-align: middle;\n",
       "    }\n",
       "\n",
       "    .dataframe tbody tr th {\n",
       "        vertical-align: top;\n",
       "    }\n",
       "\n",
       "    .dataframe thead th {\n",
       "        text-align: right;\n",
       "    }\n",
       "</style>\n",
       "<table border=\"1\" class=\"dataframe\">\n",
       "  <thead>\n",
       "    <tr style=\"text-align: right;\">\n",
       "      <th></th>\n",
       "      <th>valence</th>\n",
       "      <th>year</th>\n",
       "      <th>acousticness</th>\n",
       "      <th>artists</th>\n",
       "      <th>danceability</th>\n",
       "      <th>duration_ms</th>\n",
       "      <th>energy</th>\n",
       "      <th>explicit</th>\n",
       "      <th>id</th>\n",
       "      <th>instrumentalness</th>\n",
       "      <th>key</th>\n",
       "      <th>liveness</th>\n",
       "      <th>loudness</th>\n",
       "      <th>mode</th>\n",
       "      <th>name</th>\n",
       "      <th>popularity</th>\n",
       "      <th>release_date</th>\n",
       "      <th>speechiness</th>\n",
       "      <th>tempo</th>\n",
       "    </tr>\n",
       "  </thead>\n",
       "  <tbody>\n",
       "    <tr>\n",
       "      <th>0</th>\n",
       "      <td>0.0594</td>\n",
       "      <td>1921</td>\n",
       "      <td>0.982</td>\n",
       "      <td>Sergei Rachmaninoff; James Levine; Berliner Ph...</td>\n",
       "      <td>0.279</td>\n",
       "      <td>831667</td>\n",
       "      <td>0.211</td>\n",
       "      <td>0</td>\n",
       "      <td>4BJqT0PrAfrxzMOxytFOIz</td>\n",
       "      <td>0.878000</td>\n",
       "      <td>10</td>\n",
       "      <td>0.665</td>\n",
       "      <td>-20.096</td>\n",
       "      <td>1</td>\n",
       "      <td>Piano Concerto No. 3 in D Minor, Op. 30: III. ...</td>\n",
       "      <td>4</td>\n",
       "      <td>1921</td>\n",
       "      <td>0.0366</td>\n",
       "      <td>80.954</td>\n",
       "    </tr>\n",
       "    <tr>\n",
       "      <th>1</th>\n",
       "      <td>0.9630</td>\n",
       "      <td>1921</td>\n",
       "      <td>0.732</td>\n",
       "      <td>Dennis Day</td>\n",
       "      <td>0.819</td>\n",
       "      <td>180533</td>\n",
       "      <td>0.341</td>\n",
       "      <td>0</td>\n",
       "      <td>7xPhfUan2yNtyFG0cUWkt8</td>\n",
       "      <td>0.000000</td>\n",
       "      <td>7</td>\n",
       "      <td>0.160</td>\n",
       "      <td>-12.441</td>\n",
       "      <td>1</td>\n",
       "      <td>Clancy Lowered the Boom</td>\n",
       "      <td>5</td>\n",
       "      <td>1921</td>\n",
       "      <td>0.4150</td>\n",
       "      <td>60.936</td>\n",
       "    </tr>\n",
       "    <tr>\n",
       "      <th>2</th>\n",
       "      <td>0.0394</td>\n",
       "      <td>1921</td>\n",
       "      <td>0.961</td>\n",
       "      <td>KHP Kridhamardawa Karaton Ngayogyakarta Hadini...</td>\n",
       "      <td>0.328</td>\n",
       "      <td>500062</td>\n",
       "      <td>0.166</td>\n",
       "      <td>0</td>\n",
       "      <td>1o6I8BglA6ylDMrIELygv1</td>\n",
       "      <td>0.913000</td>\n",
       "      <td>3</td>\n",
       "      <td>0.101</td>\n",
       "      <td>-14.850</td>\n",
       "      <td>1</td>\n",
       "      <td>Gati Bali</td>\n",
       "      <td>5</td>\n",
       "      <td>1921</td>\n",
       "      <td>0.0339</td>\n",
       "      <td>110.339</td>\n",
       "    </tr>\n",
       "    <tr>\n",
       "      <th>3</th>\n",
       "      <td>0.1650</td>\n",
       "      <td>1921</td>\n",
       "      <td>0.967</td>\n",
       "      <td>Frank Parker</td>\n",
       "      <td>0.275</td>\n",
       "      <td>210000</td>\n",
       "      <td>0.309</td>\n",
       "      <td>0</td>\n",
       "      <td>3ftBPsC5vPBKxYSee08FDH</td>\n",
       "      <td>0.000028</td>\n",
       "      <td>5</td>\n",
       "      <td>0.381</td>\n",
       "      <td>-9.316</td>\n",
       "      <td>1</td>\n",
       "      <td>Danny Boy</td>\n",
       "      <td>3</td>\n",
       "      <td>1921</td>\n",
       "      <td>0.0354</td>\n",
       "      <td>100.109</td>\n",
       "    </tr>\n",
       "    <tr>\n",
       "      <th>4</th>\n",
       "      <td>0.2530</td>\n",
       "      <td>1921</td>\n",
       "      <td>0.957</td>\n",
       "      <td>Phil Regan</td>\n",
       "      <td>0.418</td>\n",
       "      <td>166693</td>\n",
       "      <td>0.193</td>\n",
       "      <td>0</td>\n",
       "      <td>4d6HGyGT8e121BsdKmw9v6</td>\n",
       "      <td>0.000002</td>\n",
       "      <td>3</td>\n",
       "      <td>0.229</td>\n",
       "      <td>-10.096</td>\n",
       "      <td>1</td>\n",
       "      <td>When Irish Eyes Are Smiling</td>\n",
       "      <td>2</td>\n",
       "      <td>1921</td>\n",
       "      <td>0.0380</td>\n",
       "      <td>101.665</td>\n",
       "    </tr>\n",
       "    <tr>\n",
       "      <th>5</th>\n",
       "      <td>0.1960</td>\n",
       "      <td>1921</td>\n",
       "      <td>0.579</td>\n",
       "      <td>KHP Kridhamardawa Karaton Ngayogyakarta Hadini...</td>\n",
       "      <td>0.697</td>\n",
       "      <td>395076</td>\n",
       "      <td>0.346</td>\n",
       "      <td>0</td>\n",
       "      <td>4pyw9DVHGStUre4J6hPngr</td>\n",
       "      <td>0.168000</td>\n",
       "      <td>2</td>\n",
       "      <td>0.130</td>\n",
       "      <td>-12.506</td>\n",
       "      <td>1</td>\n",
       "      <td>Gati Mardika</td>\n",
       "      <td>6</td>\n",
       "      <td>1921</td>\n",
       "      <td>0.0700</td>\n",
       "      <td>119.824</td>\n",
       "    </tr>\n",
       "    <tr>\n",
       "      <th>6</th>\n",
       "      <td>0.4060</td>\n",
       "      <td>1921</td>\n",
       "      <td>0.996</td>\n",
       "      <td>John McCormack</td>\n",
       "      <td>0.518</td>\n",
       "      <td>159507</td>\n",
       "      <td>0.203</td>\n",
       "      <td>0</td>\n",
       "      <td>5uNZnElqOS3W4fRmRYPk4T</td>\n",
       "      <td>0.000000</td>\n",
       "      <td>0</td>\n",
       "      <td>0.115</td>\n",
       "      <td>-10.589</td>\n",
       "      <td>1</td>\n",
       "      <td>The Wearing of the Green</td>\n",
       "      <td>4</td>\n",
       "      <td>1921</td>\n",
       "      <td>0.0615</td>\n",
       "      <td>66.221</td>\n",
       "    </tr>\n",
       "    <tr>\n",
       "      <th>7</th>\n",
       "      <td>0.0731</td>\n",
       "      <td>1921</td>\n",
       "      <td>0.993</td>\n",
       "      <td>Sergei Rachmaninoff</td>\n",
       "      <td>0.389</td>\n",
       "      <td>218773</td>\n",
       "      <td>0.088</td>\n",
       "      <td>0</td>\n",
       "      <td>02GDntOXexBFUvSgaXLPkd</td>\n",
       "      <td>0.527000</td>\n",
       "      <td>1</td>\n",
       "      <td>0.363</td>\n",
       "      <td>-21.091</td>\n",
       "      <td>0</td>\n",
       "      <td>Morceaux de fantaisie, Op. 3: No. 2, Prélude i...</td>\n",
       "      <td>2</td>\n",
       "      <td>1921</td>\n",
       "      <td>0.0456</td>\n",
       "      <td>92.867</td>\n",
       "    </tr>\n",
       "    <tr>\n",
       "      <th>8</th>\n",
       "      <td>0.7210</td>\n",
       "      <td>1921</td>\n",
       "      <td>0.996</td>\n",
       "      <td>Ignacio Corsini</td>\n",
       "      <td>0.485</td>\n",
       "      <td>161520</td>\n",
       "      <td>0.130</td>\n",
       "      <td>0</td>\n",
       "      <td>05xDjWH9ub67nJJk82yfGf</td>\n",
       "      <td>0.151000</td>\n",
       "      <td>5</td>\n",
       "      <td>0.104</td>\n",
       "      <td>-21.508</td>\n",
       "      <td>0</td>\n",
       "      <td>La Mañanita - Remasterizado</td>\n",
       "      <td>0</td>\n",
       "      <td>1921-03-20</td>\n",
       "      <td>0.0483</td>\n",
       "      <td>64.678</td>\n",
       "    </tr>\n",
       "  </tbody>\n",
       "</table>\n",
       "</div>"
      ]
     },
     "metadata": {
      "application/vnd.databricks.v1+output": {
       "addedWidgets": {},
       "arguments": {},
       "data": "<div>\n<style scoped>\n    .dataframe tbody tr th:only-of-type {\n        vertical-align: middle;\n    }\n\n    .dataframe tbody tr th {\n        vertical-align: top;\n    }\n\n    .dataframe thead th {\n        text-align: right;\n    }\n</style>\n<table border=\"1\" class=\"dataframe\">\n  <thead>\n    <tr style=\"text-align: right;\">\n      <th></th>\n      <th>valence</th>\n      <th>year</th>\n      <th>acousticness</th>\n      <th>artists</th>\n      <th>danceability</th>\n      <th>duration_ms</th>\n      <th>energy</th>\n      <th>explicit</th>\n      <th>id</th>\n      <th>instrumentalness</th>\n      <th>key</th>\n      <th>liveness</th>\n      <th>loudness</th>\n      <th>mode</th>\n      <th>name</th>\n      <th>popularity</th>\n      <th>release_date</th>\n      <th>speechiness</th>\n      <th>tempo</th>\n    </tr>\n  </thead>\n  <tbody>\n    <tr>\n      <th>0</th>\n      <td>0.0594</td>\n      <td>1921</td>\n      <td>0.982</td>\n      <td>Sergei Rachmaninoff; James Levine; Berliner Ph...</td>\n      <td>0.279</td>\n      <td>831667</td>\n      <td>0.211</td>\n      <td>0</td>\n      <td>4BJqT0PrAfrxzMOxytFOIz</td>\n      <td>0.878000</td>\n      <td>10</td>\n      <td>0.665</td>\n      <td>-20.096</td>\n      <td>1</td>\n      <td>Piano Concerto No. 3 in D Minor, Op. 30: III. ...</td>\n      <td>4</td>\n      <td>1921</td>\n      <td>0.0366</td>\n      <td>80.954</td>\n    </tr>\n    <tr>\n      <th>1</th>\n      <td>0.9630</td>\n      <td>1921</td>\n      <td>0.732</td>\n      <td>Dennis Day</td>\n      <td>0.819</td>\n      <td>180533</td>\n      <td>0.341</td>\n      <td>0</td>\n      <td>7xPhfUan2yNtyFG0cUWkt8</td>\n      <td>0.000000</td>\n      <td>7</td>\n      <td>0.160</td>\n      <td>-12.441</td>\n      <td>1</td>\n      <td>Clancy Lowered the Boom</td>\n      <td>5</td>\n      <td>1921</td>\n      <td>0.4150</td>\n      <td>60.936</td>\n    </tr>\n    <tr>\n      <th>2</th>\n      <td>0.0394</td>\n      <td>1921</td>\n      <td>0.961</td>\n      <td>KHP Kridhamardawa Karaton Ngayogyakarta Hadini...</td>\n      <td>0.328</td>\n      <td>500062</td>\n      <td>0.166</td>\n      <td>0</td>\n      <td>1o6I8BglA6ylDMrIELygv1</td>\n      <td>0.913000</td>\n      <td>3</td>\n      <td>0.101</td>\n      <td>-14.850</td>\n      <td>1</td>\n      <td>Gati Bali</td>\n      <td>5</td>\n      <td>1921</td>\n      <td>0.0339</td>\n      <td>110.339</td>\n    </tr>\n    <tr>\n      <th>3</th>\n      <td>0.1650</td>\n      <td>1921</td>\n      <td>0.967</td>\n      <td>Frank Parker</td>\n      <td>0.275</td>\n      <td>210000</td>\n      <td>0.309</td>\n      <td>0</td>\n      <td>3ftBPsC5vPBKxYSee08FDH</td>\n      <td>0.000028</td>\n      <td>5</td>\n      <td>0.381</td>\n      <td>-9.316</td>\n      <td>1</td>\n      <td>Danny Boy</td>\n      <td>3</td>\n      <td>1921</td>\n      <td>0.0354</td>\n      <td>100.109</td>\n    </tr>\n    <tr>\n      <th>4</th>\n      <td>0.2530</td>\n      <td>1921</td>\n      <td>0.957</td>\n      <td>Phil Regan</td>\n      <td>0.418</td>\n      <td>166693</td>\n      <td>0.193</td>\n      <td>0</td>\n      <td>4d6HGyGT8e121BsdKmw9v6</td>\n      <td>0.000002</td>\n      <td>3</td>\n      <td>0.229</td>\n      <td>-10.096</td>\n      <td>1</td>\n      <td>When Irish Eyes Are Smiling</td>\n      <td>2</td>\n      <td>1921</td>\n      <td>0.0380</td>\n      <td>101.665</td>\n    </tr>\n    <tr>\n      <th>5</th>\n      <td>0.1960</td>\n      <td>1921</td>\n      <td>0.579</td>\n      <td>KHP Kridhamardawa Karaton Ngayogyakarta Hadini...</td>\n      <td>0.697</td>\n      <td>395076</td>\n      <td>0.346</td>\n      <td>0</td>\n      <td>4pyw9DVHGStUre4J6hPngr</td>\n      <td>0.168000</td>\n      <td>2</td>\n      <td>0.130</td>\n      <td>-12.506</td>\n      <td>1</td>\n      <td>Gati Mardika</td>\n      <td>6</td>\n      <td>1921</td>\n      <td>0.0700</td>\n      <td>119.824</td>\n    </tr>\n    <tr>\n      <th>6</th>\n      <td>0.4060</td>\n      <td>1921</td>\n      <td>0.996</td>\n      <td>John McCormack</td>\n      <td>0.518</td>\n      <td>159507</td>\n      <td>0.203</td>\n      <td>0</td>\n      <td>5uNZnElqOS3W4fRmRYPk4T</td>\n      <td>0.000000</td>\n      <td>0</td>\n      <td>0.115</td>\n      <td>-10.589</td>\n      <td>1</td>\n      <td>The Wearing of the Green</td>\n      <td>4</td>\n      <td>1921</td>\n      <td>0.0615</td>\n      <td>66.221</td>\n    </tr>\n    <tr>\n      <th>7</th>\n      <td>0.0731</td>\n      <td>1921</td>\n      <td>0.993</td>\n      <td>Sergei Rachmaninoff</td>\n      <td>0.389</td>\n      <td>218773</td>\n      <td>0.088</td>\n      <td>0</td>\n      <td>02GDntOXexBFUvSgaXLPkd</td>\n      <td>0.527000</td>\n      <td>1</td>\n      <td>0.363</td>\n      <td>-21.091</td>\n      <td>0</td>\n      <td>Morceaux de fantaisie, Op. 3: No. 2, Prélude i...</td>\n      <td>2</td>\n      <td>1921</td>\n      <td>0.0456</td>\n      <td>92.867</td>\n    </tr>\n    <tr>\n      <th>8</th>\n      <td>0.7210</td>\n      <td>1921</td>\n      <td>0.996</td>\n      <td>Ignacio Corsini</td>\n      <td>0.485</td>\n      <td>161520</td>\n      <td>0.130</td>\n      <td>0</td>\n      <td>05xDjWH9ub67nJJk82yfGf</td>\n      <td>0.151000</td>\n      <td>5</td>\n      <td>0.104</td>\n      <td>-21.508</td>\n      <td>0</td>\n      <td>La Mañanita - Remasterizado</td>\n      <td>0</td>\n      <td>1921-03-20</td>\n      <td>0.0483</td>\n      <td>64.678</td>\n    </tr>\n  </tbody>\n</table>\n</div>",
       "datasetInfos": [],
       "metadata": {},
       "removedWidgets": [],
       "textData": null,
       "type": "htmlSandbox"
      }
     },
     "output_type": "display_data"
    }
   ],
   "source": [
    "# carregando conjunto de dados e validando as transformações aplicadas\n",
    "x"
   ]
  },
  {
   "cell_type": "code",
   "execution_count": null,
   "metadata": {
    "application/vnd.databricks.v1+cell": {
     "cellMetadata": {
      "byteLimit": 2048000,
      "rowLimit": 10000
     },
     "inputWidgets": {},
     "nuid": "6c9a41ec-5489-417c-9e25-b33556a30634",
     "showTitle": false,
     "title": ""
    }
   },
   "outputs": [],
   "source": [
    "# aplicando as transformações no conjunto de dados completo\n",
    "df_data['artists'] = df_data.artists.str.replace(\"\\[|\\]|\\'\", \"\")\n",
    "df_data['artists'] = df_data.artists.str.replace(',', ';')"
   ]
  },
  {
   "cell_type": "code",
   "execution_count": null,
   "metadata": {
    "application/vnd.databricks.v1+cell": {
     "cellMetadata": {
      "byteLimit": 2048000,
      "rowLimit": 10000
     },
     "inputWidgets": {},
     "nuid": "30ae8556-dc0b-473a-a34c-636ff90e2585",
     "showTitle": false,
     "title": ""
    }
   },
   "outputs": [
    {
     "data": {
      "text/html": [
       "<div>\n",
       "<style scoped>\n",
       "    .dataframe tbody tr th:only-of-type {\n",
       "        vertical-align: middle;\n",
       "    }\n",
       "\n",
       "    .dataframe tbody tr th {\n",
       "        vertical-align: top;\n",
       "    }\n",
       "\n",
       "    .dataframe thead th {\n",
       "        text-align: right;\n",
       "    }\n",
       "</style>\n",
       "<table border=\"1\" class=\"dataframe\">\n",
       "  <thead>\n",
       "    <tr style=\"text-align: right;\">\n",
       "      <th></th>\n",
       "      <th>valence</th>\n",
       "      <th>year</th>\n",
       "      <th>acousticness</th>\n",
       "      <th>artists</th>\n",
       "      <th>danceability</th>\n",
       "      <th>duration_ms</th>\n",
       "      <th>energy</th>\n",
       "      <th>explicit</th>\n",
       "      <th>id</th>\n",
       "      <th>instrumentalness</th>\n",
       "      <th>key</th>\n",
       "      <th>liveness</th>\n",
       "      <th>loudness</th>\n",
       "      <th>mode</th>\n",
       "      <th>name</th>\n",
       "      <th>popularity</th>\n",
       "      <th>release_date</th>\n",
       "      <th>speechiness</th>\n",
       "      <th>tempo</th>\n",
       "    </tr>\n",
       "  </thead>\n",
       "  <tbody>\n",
       "    <tr>\n",
       "      <th>170648</th>\n",
       "      <td>0.608</td>\n",
       "      <td>2020</td>\n",
       "      <td>0.08460</td>\n",
       "      <td>Anuel AA; Daddy Yankee; KAROL G; Ozuna; J Balvin</td>\n",
       "      <td>0.786</td>\n",
       "      <td>301714</td>\n",
       "      <td>0.808</td>\n",
       "      <td>0</td>\n",
       "      <td>0KkIkfsLEJbrcIhYsCL7L5</td>\n",
       "      <td>0.000289</td>\n",
       "      <td>7</td>\n",
       "      <td>0.0822</td>\n",
       "      <td>-3.702</td>\n",
       "      <td>1</td>\n",
       "      <td>China</td>\n",
       "      <td>72</td>\n",
       "      <td>2020-05-29</td>\n",
       "      <td>0.0881</td>\n",
       "      <td>105.029</td>\n",
       "    </tr>\n",
       "    <tr>\n",
       "      <th>170649</th>\n",
       "      <td>0.734</td>\n",
       "      <td>2020</td>\n",
       "      <td>0.20600</td>\n",
       "      <td>Ashnikko</td>\n",
       "      <td>0.717</td>\n",
       "      <td>150654</td>\n",
       "      <td>0.753</td>\n",
       "      <td>0</td>\n",
       "      <td>0OStKKAuXlxA0fMH54Qs6E</td>\n",
       "      <td>0.000000</td>\n",
       "      <td>7</td>\n",
       "      <td>0.1010</td>\n",
       "      <td>-6.020</td>\n",
       "      <td>1</td>\n",
       "      <td>Halloweenie III: Seven Days</td>\n",
       "      <td>68</td>\n",
       "      <td>2020-10-23</td>\n",
       "      <td>0.0605</td>\n",
       "      <td>137.936</td>\n",
       "    </tr>\n",
       "    <tr>\n",
       "      <th>170650</th>\n",
       "      <td>0.637</td>\n",
       "      <td>2020</td>\n",
       "      <td>0.10100</td>\n",
       "      <td>MAMAMOO</td>\n",
       "      <td>0.634</td>\n",
       "      <td>211280</td>\n",
       "      <td>0.858</td>\n",
       "      <td>0</td>\n",
       "      <td>4BZXVFYCb76Q0Klojq4piV</td>\n",
       "      <td>0.000009</td>\n",
       "      <td>4</td>\n",
       "      <td>0.2580</td>\n",
       "      <td>-2.226</td>\n",
       "      <td>0</td>\n",
       "      <td>AYA</td>\n",
       "      <td>76</td>\n",
       "      <td>2020-11-03</td>\n",
       "      <td>0.0809</td>\n",
       "      <td>91.688</td>\n",
       "    </tr>\n",
       "    <tr>\n",
       "      <th>170651</th>\n",
       "      <td>0.195</td>\n",
       "      <td>2020</td>\n",
       "      <td>0.00998</td>\n",
       "      <td>Eminem</td>\n",
       "      <td>0.671</td>\n",
       "      <td>337147</td>\n",
       "      <td>0.623</td>\n",
       "      <td>1</td>\n",
       "      <td>5SiZJoLXp3WOl3J4C8IK0d</td>\n",
       "      <td>0.000008</td>\n",
       "      <td>2</td>\n",
       "      <td>0.6430</td>\n",
       "      <td>-7.161</td>\n",
       "      <td>1</td>\n",
       "      <td>Darkness</td>\n",
       "      <td>70</td>\n",
       "      <td>2020-01-17</td>\n",
       "      <td>0.3080</td>\n",
       "      <td>75.055</td>\n",
       "    </tr>\n",
       "    <tr>\n",
       "      <th>170652</th>\n",
       "      <td>0.642</td>\n",
       "      <td>2020</td>\n",
       "      <td>0.13200</td>\n",
       "      <td>KEVVO; J Balvin</td>\n",
       "      <td>0.856</td>\n",
       "      <td>189507</td>\n",
       "      <td>0.721</td>\n",
       "      <td>1</td>\n",
       "      <td>7HmnJHfs0BkFzX4x8j0hkl</td>\n",
       "      <td>0.004710</td>\n",
       "      <td>7</td>\n",
       "      <td>0.1820</td>\n",
       "      <td>-4.928</td>\n",
       "      <td>1</td>\n",
       "      <td>Billetes Azules (with J Balvin)</td>\n",
       "      <td>74</td>\n",
       "      <td>2020-10-16</td>\n",
       "      <td>0.1080</td>\n",
       "      <td>94.991</td>\n",
       "    </tr>\n",
       "  </tbody>\n",
       "</table>\n",
       "</div>"
      ]
     },
     "metadata": {
      "application/vnd.databricks.v1+output": {
       "addedWidgets": {},
       "arguments": {},
       "data": "<div>\n<style scoped>\n    .dataframe tbody tr th:only-of-type {\n        vertical-align: middle;\n    }\n\n    .dataframe tbody tr th {\n        vertical-align: top;\n    }\n\n    .dataframe thead th {\n        text-align: right;\n    }\n</style>\n<table border=\"1\" class=\"dataframe\">\n  <thead>\n    <tr style=\"text-align: right;\">\n      <th></th>\n      <th>valence</th>\n      <th>year</th>\n      <th>acousticness</th>\n      <th>artists</th>\n      <th>danceability</th>\n      <th>duration_ms</th>\n      <th>energy</th>\n      <th>explicit</th>\n      <th>id</th>\n      <th>instrumentalness</th>\n      <th>key</th>\n      <th>liveness</th>\n      <th>loudness</th>\n      <th>mode</th>\n      <th>name</th>\n      <th>popularity</th>\n      <th>release_date</th>\n      <th>speechiness</th>\n      <th>tempo</th>\n    </tr>\n  </thead>\n  <tbody>\n    <tr>\n      <th>170648</th>\n      <td>0.608</td>\n      <td>2020</td>\n      <td>0.08460</td>\n      <td>Anuel AA; Daddy Yankee; KAROL G; Ozuna; J Balvin</td>\n      <td>0.786</td>\n      <td>301714</td>\n      <td>0.808</td>\n      <td>0</td>\n      <td>0KkIkfsLEJbrcIhYsCL7L5</td>\n      <td>0.000289</td>\n      <td>7</td>\n      <td>0.0822</td>\n      <td>-3.702</td>\n      <td>1</td>\n      <td>China</td>\n      <td>72</td>\n      <td>2020-05-29</td>\n      <td>0.0881</td>\n      <td>105.029</td>\n    </tr>\n    <tr>\n      <th>170649</th>\n      <td>0.734</td>\n      <td>2020</td>\n      <td>0.20600</td>\n      <td>Ashnikko</td>\n      <td>0.717</td>\n      <td>150654</td>\n      <td>0.753</td>\n      <td>0</td>\n      <td>0OStKKAuXlxA0fMH54Qs6E</td>\n      <td>0.000000</td>\n      <td>7</td>\n      <td>0.1010</td>\n      <td>-6.020</td>\n      <td>1</td>\n      <td>Halloweenie III: Seven Days</td>\n      <td>68</td>\n      <td>2020-10-23</td>\n      <td>0.0605</td>\n      <td>137.936</td>\n    </tr>\n    <tr>\n      <th>170650</th>\n      <td>0.637</td>\n      <td>2020</td>\n      <td>0.10100</td>\n      <td>MAMAMOO</td>\n      <td>0.634</td>\n      <td>211280</td>\n      <td>0.858</td>\n      <td>0</td>\n      <td>4BZXVFYCb76Q0Klojq4piV</td>\n      <td>0.000009</td>\n      <td>4</td>\n      <td>0.2580</td>\n      <td>-2.226</td>\n      <td>0</td>\n      <td>AYA</td>\n      <td>76</td>\n      <td>2020-11-03</td>\n      <td>0.0809</td>\n      <td>91.688</td>\n    </tr>\n    <tr>\n      <th>170651</th>\n      <td>0.195</td>\n      <td>2020</td>\n      <td>0.00998</td>\n      <td>Eminem</td>\n      <td>0.671</td>\n      <td>337147</td>\n      <td>0.623</td>\n      <td>1</td>\n      <td>5SiZJoLXp3WOl3J4C8IK0d</td>\n      <td>0.000008</td>\n      <td>2</td>\n      <td>0.6430</td>\n      <td>-7.161</td>\n      <td>1</td>\n      <td>Darkness</td>\n      <td>70</td>\n      <td>2020-01-17</td>\n      <td>0.3080</td>\n      <td>75.055</td>\n    </tr>\n    <tr>\n      <th>170652</th>\n      <td>0.642</td>\n      <td>2020</td>\n      <td>0.13200</td>\n      <td>KEVVO; J Balvin</td>\n      <td>0.856</td>\n      <td>189507</td>\n      <td>0.721</td>\n      <td>1</td>\n      <td>7HmnJHfs0BkFzX4x8j0hkl</td>\n      <td>0.004710</td>\n      <td>7</td>\n      <td>0.1820</td>\n      <td>-4.928</td>\n      <td>1</td>\n      <td>Billetes Azules (with J Balvin)</td>\n      <td>74</td>\n      <td>2020-10-16</td>\n      <td>0.1080</td>\n      <td>94.991</td>\n    </tr>\n  </tbody>\n</table>\n</div>",
       "datasetInfos": [],
       "metadata": {},
       "removedWidgets": [],
       "textData": null,
       "type": "htmlSandbox"
      }
     },
     "output_type": "display_data"
    }
   ],
   "source": [
    "# retornando os últimos registros do dataframe e validando as transformações\n",
    "df_data.tail()"
   ]
  },
  {
   "cell_type": "code",
   "execution_count": null,
   "metadata": {
    "application/vnd.databricks.v1+cell": {
     "cellMetadata": {
      "byteLimit": 2048000,
      "rowLimit": 10000
     },
     "inputWidgets": {},
     "nuid": "c3e86a64-8420-44ab-a573-8a58a194ecee",
     "showTitle": false,
     "title": ""
    }
   },
   "outputs": [
    {
     "data": {
      "text/html": [
       "<style scoped>\n",
       "  .table-result-container {\n",
       "    max-height: 300px;\n",
       "    overflow: auto;\n",
       "  }\n",
       "  table, th, td {\n",
       "    border: 1px solid black;\n",
       "    border-collapse: collapse;\n",
       "  }\n",
       "  th, td {\n",
       "    padding: 5px;\n",
       "  }\n",
       "  th {\n",
       "    text-align: left;\n",
       "  }\n",
       "</style><div class='table-result-container'><table class='table-result'><thead style='background-color: white'><tr><th>path</th><th>name</th><th>size</th><th>modificationTime</th></tr></thead><tbody><tr><td>dbfs:/FileStore/tables/analise_dados_fies_2021/</td><td>analise_dados_fies_2021/</td><td>0</td><td>0</td></tr><tr><td>dbfs:/FileStore/tables/analise_dados_prouni/</td><td>analise_dados_prouni/</td><td>0</td><td>0</td></tr><tr><td>dbfs:/FileStore/tables/aula-databricks/</td><td>aula-databricks/</td><td>0</td><td>0</td></tr><tr><td>dbfs:/FileStore/tables/dados/</td><td>dados/</td><td>0</td><td>0</td></tr><tr><td>dbfs:/FileStore/tables/dados_spotify/</td><td>dados_spotify/</td><td>0</td><td>0</td></tr><tr><td>dbfs:/FileStore/tables/dados_spotify_tratados/</td><td>dados_spotify_tratados/</td><td>0</td><td>0</td></tr><tr><td>dbfs:/FileStore/tables/data.csv</td><td>data.csv</td><td>2781</td><td>1705440822000</td></tr><tr><td>dbfs:/FileStore/tables/explorando_tipos_arquivos/</td><td>explorando_tipos_arquivos/</td><td>0</td><td>0</td></tr></tbody></table></div>"
      ]
     },
     "metadata": {
      "application/vnd.databricks.v1+output": {
       "addedWidgets": {},
       "aggData": [],
       "aggError": "",
       "aggOverflow": false,
       "aggSchema": [],
       "aggSeriesLimitReached": false,
       "aggType": "",
       "arguments": {},
       "columnCustomDisplayInfos": {},
       "data": [
        [
         "dbfs:/FileStore/tables/analise_dados_fies_2021/",
         "analise_dados_fies_2021/",
         0,
         0
        ],
        [
         "dbfs:/FileStore/tables/analise_dados_prouni/",
         "analise_dados_prouni/",
         0,
         0
        ],
        [
         "dbfs:/FileStore/tables/aula-databricks/",
         "aula-databricks/",
         0,
         0
        ],
        [
         "dbfs:/FileStore/tables/dados/",
         "dados/",
         0,
         0
        ],
        [
         "dbfs:/FileStore/tables/dados_spotify/",
         "dados_spotify/",
         0,
         0
        ],
        [
         "dbfs:/FileStore/tables/dados_spotify_tratados/",
         "dados_spotify_tratados/",
         0,
         0
        ],
        [
         "dbfs:/FileStore/tables/data.csv",
         "data.csv",
         2781,
         1705440822000
        ],
        [
         "dbfs:/FileStore/tables/explorando_tipos_arquivos/",
         "explorando_tipos_arquivos/",
         0,
         0
        ]
       ],
       "datasetInfos": [],
       "dbfsResultPath": null,
       "isJsonSchema": true,
       "metadata": {},
       "overflow": false,
       "plotOptions": {
        "customPlotOptions": {},
        "displayType": "table",
        "pivotAggregation": null,
        "pivotColumns": null,
        "xColumns": null,
        "yColumns": null
       },
       "removedWidgets": [],
       "schema": [
        {
         "metadata": "{}",
         "name": "path",
         "type": "\"string\""
        },
        {
         "metadata": "{}",
         "name": "name",
         "type": "\"string\""
        },
        {
         "metadata": "{}",
         "name": "size",
         "type": "\"long\""
        },
        {
         "metadata": "{}",
         "name": "modificationTime",
         "type": "\"long\""
        }
       ],
       "type": "table"
      }
     },
     "output_type": "display_data"
    }
   ],
   "source": [
    "# consultando conteúdo do diretório\n",
    "display(dbutils.fs.ls('dbfs:/FileStore/tables'))"
   ]
  },
  {
   "cell_type": "code",
   "execution_count": null,
   "metadata": {
    "application/vnd.databricks.v1+cell": {
     "cellMetadata": {
      "byteLimit": 2048000,
      "rowLimit": 10000
     },
     "inputWidgets": {},
     "nuid": "d2067152-4a98-4332-9f25-b06dac3b4397",
     "showTitle": false,
     "title": ""
    }
   },
   "outputs": [
    {
     "name": "stdout",
     "output_type": "stream",
     "text": [
      "Out[22]: True"
     ]
    }
   ],
   "source": [
    "# criando novo diretório\n",
    "dbutils.fs.mkdirs('dbfs:/FileStore/tables/dados_spotify_tratados')"
   ]
  },
  {
   "cell_type": "code",
   "execution_count": null,
   "metadata": {
    "application/vnd.databricks.v1+cell": {
     "cellMetadata": {
      "byteLimit": 2048000,
      "rowLimit": 10000
     },
     "inputWidgets": {},
     "nuid": "384673d2-d671-4266-8180-41585215d373",
     "showTitle": false,
     "title": ""
    }
   },
   "outputs": [
    {
     "data": {
      "text/html": [
       "<style scoped>\n",
       "  .table-result-container {\n",
       "    max-height: 300px;\n",
       "    overflow: auto;\n",
       "  }\n",
       "  table, th, td {\n",
       "    border: 1px solid black;\n",
       "    border-collapse: collapse;\n",
       "  }\n",
       "  th, td {\n",
       "    padding: 5px;\n",
       "  }\n",
       "  th {\n",
       "    text-align: left;\n",
       "  }\n",
       "</style><div class='table-result-container'><table class='table-result'><thead style='background-color: white'><tr><th>path</th><th>name</th><th>size</th><th>modificationTime</th></tr></thead><tbody><tr><td>dbfs:/FileStore/tables/analise_dados_fies_2021/</td><td>analise_dados_fies_2021/</td><td>0</td><td>0</td></tr><tr><td>dbfs:/FileStore/tables/analise_dados_prouni/</td><td>analise_dados_prouni/</td><td>0</td><td>0</td></tr><tr><td>dbfs:/FileStore/tables/aula-databricks/</td><td>aula-databricks/</td><td>0</td><td>0</td></tr><tr><td>dbfs:/FileStore/tables/dados/</td><td>dados/</td><td>0</td><td>0</td></tr><tr><td>dbfs:/FileStore/tables/dados_spotify/</td><td>dados_spotify/</td><td>0</td><td>0</td></tr><tr><td>dbfs:/FileStore/tables/dados_spotify_tratados/</td><td>dados_spotify_tratados/</td><td>0</td><td>0</td></tr><tr><td>dbfs:/FileStore/tables/data.csv</td><td>data.csv</td><td>2781</td><td>1705440822000</td></tr><tr><td>dbfs:/FileStore/tables/explorando_tipos_arquivos/</td><td>explorando_tipos_arquivos/</td><td>0</td><td>0</td></tr></tbody></table></div>"
      ]
     },
     "metadata": {
      "application/vnd.databricks.v1+output": {
       "addedWidgets": {},
       "aggData": [],
       "aggError": "",
       "aggOverflow": false,
       "aggSchema": [],
       "aggSeriesLimitReached": false,
       "aggType": "",
       "arguments": {},
       "columnCustomDisplayInfos": {},
       "data": [
        [
         "dbfs:/FileStore/tables/analise_dados_fies_2021/",
         "analise_dados_fies_2021/",
         0,
         0
        ],
        [
         "dbfs:/FileStore/tables/analise_dados_prouni/",
         "analise_dados_prouni/",
         0,
         0
        ],
        [
         "dbfs:/FileStore/tables/aula-databricks/",
         "aula-databricks/",
         0,
         0
        ],
        [
         "dbfs:/FileStore/tables/dados/",
         "dados/",
         0,
         0
        ],
        [
         "dbfs:/FileStore/tables/dados_spotify/",
         "dados_spotify/",
         0,
         0
        ],
        [
         "dbfs:/FileStore/tables/dados_spotify_tratados/",
         "dados_spotify_tratados/",
         0,
         0
        ],
        [
         "dbfs:/FileStore/tables/data.csv",
         "data.csv",
         2781,
         1705440822000
        ],
        [
         "dbfs:/FileStore/tables/explorando_tipos_arquivos/",
         "explorando_tipos_arquivos/",
         0,
         0
        ]
       ],
       "datasetInfos": [],
       "dbfsResultPath": null,
       "isJsonSchema": true,
       "metadata": {},
       "overflow": false,
       "plotOptions": {
        "customPlotOptions": {},
        "displayType": "table",
        "pivotAggregation": null,
        "pivotColumns": null,
        "xColumns": null,
        "yColumns": null
       },
       "removedWidgets": [],
       "schema": [
        {
         "metadata": "{}",
         "name": "path",
         "type": "\"string\""
        },
        {
         "metadata": "{}",
         "name": "name",
         "type": "\"string\""
        },
        {
         "metadata": "{}",
         "name": "size",
         "type": "\"long\""
        },
        {
         "metadata": "{}",
         "name": "modificationTime",
         "type": "\"long\""
        }
       ],
       "type": "table"
      }
     },
     "output_type": "display_data"
    }
   ],
   "source": [
    "# consultando conteúdo do diretório\n",
    "display(dbutils.fs.ls('dbfs:/FileStore/tables'))"
   ]
  },
  {
   "cell_type": "code",
   "execution_count": null,
   "metadata": {
    "application/vnd.databricks.v1+cell": {
     "cellMetadata": {
      "byteLimit": 2048000,
      "rowLimit": 10000
     },
     "inputWidgets": {},
     "nuid": "3a341e1d-21f8-48f0-b452-6ce3860380f4",
     "showTitle": false,
     "title": ""
    }
   },
   "outputs": [],
   "source": [
    "# salvando os dados em um arquivo no formato .parquet\n",
    "df_data.to_parquet('dbfs:/FileStore/tables/dados_spotify_tratados/data.parquet')"
   ]
  },
  {
   "cell_type": "code",
   "execution_count": null,
   "metadata": {
    "application/vnd.databricks.v1+cell": {
     "cellMetadata": {
      "byteLimit": 2048000,
      "rowLimit": 10000
     },
     "inputWidgets": {},
     "nuid": "4da2eab3-5fa5-42c8-9dc2-0d411f3fcd6f",
     "showTitle": false,
     "title": ""
    }
   },
   "outputs": [
    {
     "data": {
      "text/html": [
       "<style scoped>\n",
       "  .table-result-container {\n",
       "    max-height: 300px;\n",
       "    overflow: auto;\n",
       "  }\n",
       "  table, th, td {\n",
       "    border: 1px solid black;\n",
       "    border-collapse: collapse;\n",
       "  }\n",
       "  th, td {\n",
       "    padding: 5px;\n",
       "  }\n",
       "  th {\n",
       "    text-align: left;\n",
       "  }\n",
       "</style><div class='table-result-container'><table class='table-result'><thead style='background-color: white'><tr><th>path</th><th>name</th><th>size</th><th>modificationTime</th></tr></thead><tbody><tr><td>dbfs:/FileStore/tables/dados_spotify_tratados/data.parquet/</td><td>data.parquet/</td><td>0</td><td>0</td></tr><tr><td>dbfs:/FileStore/tables/dados_spotify_tratados/data_year/</td><td>data_year/</td><td>0</td><td>0</td></tr></tbody></table></div>"
      ]
     },
     "metadata": {
      "application/vnd.databricks.v1+output": {
       "addedWidgets": {},
       "aggData": [],
       "aggError": "",
       "aggOverflow": false,
       "aggSchema": [],
       "aggSeriesLimitReached": false,
       "aggType": "",
       "arguments": {},
       "columnCustomDisplayInfos": {},
       "data": [
        [
         "dbfs:/FileStore/tables/dados_spotify_tratados/data.parquet/",
         "data.parquet/",
         0,
         0
        ],
        [
         "dbfs:/FileStore/tables/dados_spotify_tratados/data_year/",
         "data_year/",
         0,
         0
        ]
       ],
       "datasetInfos": [],
       "dbfsResultPath": null,
       "isJsonSchema": true,
       "metadata": {},
       "overflow": false,
       "plotOptions": {
        "customPlotOptions": {},
        "displayType": "table",
        "pivotAggregation": null,
        "pivotColumns": null,
        "xColumns": null,
        "yColumns": null
       },
       "removedWidgets": [],
       "schema": [
        {
         "metadata": "{}",
         "name": "path",
         "type": "\"string\""
        },
        {
         "metadata": "{}",
         "name": "name",
         "type": "\"string\""
        },
        {
         "metadata": "{}",
         "name": "size",
         "type": "\"long\""
        },
        {
         "metadata": "{}",
         "name": "modificationTime",
         "type": "\"long\""
        }
       ],
       "type": "table"
      }
     },
     "output_type": "display_data"
    }
   ],
   "source": [
    "# consultando conteúdo do diretório\n",
    "display(dbutils.fs.ls('dbfs:/FileStore/tables/dados_spotify_tratados/'))"
   ]
  },
  {
   "cell_type": "markdown",
   "metadata": {
    "application/vnd.databricks.v1+cell": {
     "cellMetadata": {},
     "inputWidgets": {},
     "nuid": "9fc86586-a483-429a-8789-88c9d49e1de9",
     "showTitle": false,
     "title": ""
    }
   },
   "source": [
    "## Análise de dados"
   ]
  },
  {
   "cell_type": "code",
   "execution_count": null,
   "metadata": {
    "application/vnd.databricks.v1+cell": {
     "cellMetadata": {
      "byteLimit": 2048000,
      "rowLimit": 10000
     },
     "inputWidgets": {},
     "nuid": "ab15c62d-9287-4259-b8aa-3e000dd07fa0",
     "showTitle": false,
     "title": ""
    }
   },
   "outputs": [],
   "source": [
    "# importação da biblioteca Pandas do Spark\n",
    "import pyspark.pandas as ps"
   ]
  },
  {
   "cell_type": "code",
   "execution_count": null,
   "metadata": {
    "application/vnd.databricks.v1+cell": {
     "cellMetadata": {
      "byteLimit": 2048000,
      "rowLimit": 10000
     },
     "inputWidgets": {},
     "nuid": "8b505146-2080-45ab-8e06-3bc3c10d5bdd",
     "showTitle": false,
     "title": ""
    }
   },
   "outputs": [
    {
     "data": {
      "text/html": [
       "<div>\n",
       "<style scoped>\n",
       "    .dataframe tbody tr th:only-of-type {\n",
       "        vertical-align: middle;\n",
       "    }\n",
       "\n",
       "    .dataframe tbody tr th {\n",
       "        vertical-align: top;\n",
       "    }\n",
       "\n",
       "    .dataframe thead th {\n",
       "        text-align: right;\n",
       "    }\n",
       "</style>\n",
       "<table border=\"1\" class=\"dataframe\">\n",
       "  <thead>\n",
       "    <tr style=\"text-align: right;\">\n",
       "      <th></th>\n",
       "      <th>valence</th>\n",
       "      <th>year</th>\n",
       "      <th>acousticness</th>\n",
       "      <th>artists</th>\n",
       "      <th>danceability</th>\n",
       "      <th>duration_ms</th>\n",
       "      <th>energy</th>\n",
       "      <th>explicit</th>\n",
       "      <th>id</th>\n",
       "      <th>instrumentalness</th>\n",
       "      <th>key</th>\n",
       "      <th>liveness</th>\n",
       "      <th>loudness</th>\n",
       "      <th>mode</th>\n",
       "      <th>name</th>\n",
       "      <th>popularity</th>\n",
       "      <th>release_date</th>\n",
       "      <th>speechiness</th>\n",
       "      <th>tempo</th>\n",
       "    </tr>\n",
       "  </thead>\n",
       "  <tbody>\n",
       "    <tr>\n",
       "      <th>0</th>\n",
       "      <td>0.917</td>\n",
       "      <td>1970</td>\n",
       "      <td>0.096000</td>\n",
       "      <td>The Velvet Underground</td>\n",
       "      <td>0.624</td>\n",
       "      <td>201440</td>\n",
       "      <td>0.774</td>\n",
       "      <td>0</td>\n",
       "      <td>60ZyiL4lmWzZyGfqyECTqp</td>\n",
       "      <td>0.030900</td>\n",
       "      <td>7</td>\n",
       "      <td>0.0960</td>\n",
       "      <td>-10.391</td>\n",
       "      <td>1</td>\n",
       "      <td>Train Round the Bend - 2015 Remaster</td>\n",
       "      <td>24</td>\n",
       "      <td>1970</td>\n",
       "      <td>0.0315</td>\n",
       "      <td>117.006</td>\n",
       "    </tr>\n",
       "    <tr>\n",
       "      <th>1</th>\n",
       "      <td>0.511</td>\n",
       "      <td>1970</td>\n",
       "      <td>0.001900</td>\n",
       "      <td>Ten Years After</td>\n",
       "      <td>0.405</td>\n",
       "      <td>458463</td>\n",
       "      <td>0.543</td>\n",
       "      <td>0</td>\n",
       "      <td>6DYyyUdHzI6RdSx0swUR1i</td>\n",
       "      <td>0.720000</td>\n",
       "      <td>2</td>\n",
       "      <td>0.1860</td>\n",
       "      <td>-9.313</td>\n",
       "      <td>1</td>\n",
       "      <td>Love Like a Man - 2017 Remaster</td>\n",
       "      <td>34</td>\n",
       "      <td>1970-04-01</td>\n",
       "      <td>0.0290</td>\n",
       "      <td>107.598</td>\n",
       "    </tr>\n",
       "    <tr>\n",
       "      <th>2</th>\n",
       "      <td>0.466</td>\n",
       "      <td>1970</td>\n",
       "      <td>0.052800</td>\n",
       "      <td>The Mothers Of Invention</td>\n",
       "      <td>0.444</td>\n",
       "      <td>105587</td>\n",
       "      <td>0.568</td>\n",
       "      <td>0</td>\n",
       "      <td>6HJAS8XZO0ctUcN2KsbLRa</td>\n",
       "      <td>0.000010</td>\n",
       "      <td>11</td>\n",
       "      <td>0.5120</td>\n",
       "      <td>-8.800</td>\n",
       "      <td>0</td>\n",
       "      <td>Oh No</td>\n",
       "      <td>24</td>\n",
       "      <td>1970-08-10</td>\n",
       "      <td>0.0327</td>\n",
       "      <td>124.319</td>\n",
       "    </tr>\n",
       "    <tr>\n",
       "      <th>3</th>\n",
       "      <td>0.523</td>\n",
       "      <td>1970</td>\n",
       "      <td>0.081100</td>\n",
       "      <td>Three Dog Night</td>\n",
       "      <td>0.502</td>\n",
       "      <td>174707</td>\n",
       "      <td>0.669</td>\n",
       "      <td>0</td>\n",
       "      <td>7sZ74qmKb1nyGKUgHROJ1n</td>\n",
       "      <td>0.000945</td>\n",
       "      <td>7</td>\n",
       "      <td>0.0906</td>\n",
       "      <td>-11.725</td>\n",
       "      <td>1</td>\n",
       "      <td>One Man Band</td>\n",
       "      <td>19</td>\n",
       "      <td>1970-01-01</td>\n",
       "      <td>0.0912</td>\n",
       "      <td>121.089</td>\n",
       "    </tr>\n",
       "    <tr>\n",
       "      <th>4</th>\n",
       "      <td>0.501</td>\n",
       "      <td>1970</td>\n",
       "      <td>0.000128</td>\n",
       "      <td>The Rolling Stones</td>\n",
       "      <td>0.273</td>\n",
       "      <td>246413</td>\n",
       "      <td>0.866</td>\n",
       "      <td>0</td>\n",
       "      <td>095WtNlSHE8TMB2gQ1fdTx</td>\n",
       "      <td>0.790000</td>\n",
       "      <td>11</td>\n",
       "      <td>0.9610</td>\n",
       "      <td>-7.598</td>\n",
       "      <td>1</td>\n",
       "      <td>Street Fighting Man - Live</td>\n",
       "      <td>25</td>\n",
       "      <td>1970-09-04</td>\n",
       "      <td>0.0347</td>\n",
       "      <td>134.891</td>\n",
       "    </tr>\n",
       "  </tbody>\n",
       "</table>\n",
       "</div>"
      ]
     },
     "metadata": {
      "application/vnd.databricks.v1+output": {
       "addedWidgets": {},
       "arguments": {},
       "data": "<div>\n<style scoped>\n    .dataframe tbody tr th:only-of-type {\n        vertical-align: middle;\n    }\n\n    .dataframe tbody tr th {\n        vertical-align: top;\n    }\n\n    .dataframe thead th {\n        text-align: right;\n    }\n</style>\n<table border=\"1\" class=\"dataframe\">\n  <thead>\n    <tr style=\"text-align: right;\">\n      <th></th>\n      <th>valence</th>\n      <th>year</th>\n      <th>acousticness</th>\n      <th>artists</th>\n      <th>danceability</th>\n      <th>duration_ms</th>\n      <th>energy</th>\n      <th>explicit</th>\n      <th>id</th>\n      <th>instrumentalness</th>\n      <th>key</th>\n      <th>liveness</th>\n      <th>loudness</th>\n      <th>mode</th>\n      <th>name</th>\n      <th>popularity</th>\n      <th>release_date</th>\n      <th>speechiness</th>\n      <th>tempo</th>\n    </tr>\n  </thead>\n  <tbody>\n    <tr>\n      <th>0</th>\n      <td>0.917</td>\n      <td>1970</td>\n      <td>0.096000</td>\n      <td>The Velvet Underground</td>\n      <td>0.624</td>\n      <td>201440</td>\n      <td>0.774</td>\n      <td>0</td>\n      <td>60ZyiL4lmWzZyGfqyECTqp</td>\n      <td>0.030900</td>\n      <td>7</td>\n      <td>0.0960</td>\n      <td>-10.391</td>\n      <td>1</td>\n      <td>Train Round the Bend - 2015 Remaster</td>\n      <td>24</td>\n      <td>1970</td>\n      <td>0.0315</td>\n      <td>117.006</td>\n    </tr>\n    <tr>\n      <th>1</th>\n      <td>0.511</td>\n      <td>1970</td>\n      <td>0.001900</td>\n      <td>Ten Years After</td>\n      <td>0.405</td>\n      <td>458463</td>\n      <td>0.543</td>\n      <td>0</td>\n      <td>6DYyyUdHzI6RdSx0swUR1i</td>\n      <td>0.720000</td>\n      <td>2</td>\n      <td>0.1860</td>\n      <td>-9.313</td>\n      <td>1</td>\n      <td>Love Like a Man - 2017 Remaster</td>\n      <td>34</td>\n      <td>1970-04-01</td>\n      <td>0.0290</td>\n      <td>107.598</td>\n    </tr>\n    <tr>\n      <th>2</th>\n      <td>0.466</td>\n      <td>1970</td>\n      <td>0.052800</td>\n      <td>The Mothers Of Invention</td>\n      <td>0.444</td>\n      <td>105587</td>\n      <td>0.568</td>\n      <td>0</td>\n      <td>6HJAS8XZO0ctUcN2KsbLRa</td>\n      <td>0.000010</td>\n      <td>11</td>\n      <td>0.5120</td>\n      <td>-8.800</td>\n      <td>0</td>\n      <td>Oh No</td>\n      <td>24</td>\n      <td>1970-08-10</td>\n      <td>0.0327</td>\n      <td>124.319</td>\n    </tr>\n    <tr>\n      <th>3</th>\n      <td>0.523</td>\n      <td>1970</td>\n      <td>0.081100</td>\n      <td>Three Dog Night</td>\n      <td>0.502</td>\n      <td>174707</td>\n      <td>0.669</td>\n      <td>0</td>\n      <td>7sZ74qmKb1nyGKUgHROJ1n</td>\n      <td>0.000945</td>\n      <td>7</td>\n      <td>0.0906</td>\n      <td>-11.725</td>\n      <td>1</td>\n      <td>One Man Band</td>\n      <td>19</td>\n      <td>1970-01-01</td>\n      <td>0.0912</td>\n      <td>121.089</td>\n    </tr>\n    <tr>\n      <th>4</th>\n      <td>0.501</td>\n      <td>1970</td>\n      <td>0.000128</td>\n      <td>The Rolling Stones</td>\n      <td>0.273</td>\n      <td>246413</td>\n      <td>0.866</td>\n      <td>0</td>\n      <td>095WtNlSHE8TMB2gQ1fdTx</td>\n      <td>0.790000</td>\n      <td>11</td>\n      <td>0.9610</td>\n      <td>-7.598</td>\n      <td>1</td>\n      <td>Street Fighting Man - Live</td>\n      <td>25</td>\n      <td>1970-09-04</td>\n      <td>0.0347</td>\n      <td>134.891</td>\n    </tr>\n  </tbody>\n</table>\n</div>",
       "datasetInfos": [],
       "metadata": {},
       "removedWidgets": [],
       "textData": null,
       "type": "htmlSandbox"
      }
     },
     "output_type": "display_data"
    }
   ],
   "source": [
    "# realizando a leitura do dataframe principal\n",
    "path = 'dbfs:/FileStore/tables/dados_spotify_tratados/data.parquet/'\n",
    "df_data = ps.read_parquet(path)\n",
    "df_data.head()"
   ]
  },
  {
   "cell_type": "code",
   "execution_count": null,
   "metadata": {
    "application/vnd.databricks.v1+cell": {
     "cellMetadata": {
      "byteLimit": 2048000,
      "rowLimit": 10000
     },
     "inputWidgets": {},
     "nuid": "fa27972c-b1e2-4ce1-8d62-e4c68bf2de20",
     "showTitle": false,
     "title": ""
    }
   },
   "outputs": [
    {
     "data": {
      "text/html": [
       "<div>\n",
       "<style scoped>\n",
       "    .dataframe tbody tr th:only-of-type {\n",
       "        vertical-align: middle;\n",
       "    }\n",
       "\n",
       "    .dataframe tbody tr th {\n",
       "        vertical-align: top;\n",
       "    }\n",
       "\n",
       "    .dataframe thead th {\n",
       "        text-align: right;\n",
       "    }\n",
       "</style>\n",
       "<table border=\"1\" class=\"dataframe\">\n",
       "  <thead>\n",
       "    <tr style=\"text-align: right;\">\n",
       "      <th></th>\n",
       "      <th>valence</th>\n",
       "      <th>year</th>\n",
       "      <th>acousticness</th>\n",
       "      <th>danceability</th>\n",
       "      <th>duration_ms</th>\n",
       "      <th>energy</th>\n",
       "      <th>explicit</th>\n",
       "      <th>instrumentalness</th>\n",
       "      <th>key</th>\n",
       "      <th>liveness</th>\n",
       "      <th>loudness</th>\n",
       "      <th>mode</th>\n",
       "      <th>popularity</th>\n",
       "      <th>speechiness</th>\n",
       "      <th>tempo</th>\n",
       "    </tr>\n",
       "  </thead>\n",
       "  <tbody>\n",
       "    <tr>\n",
       "      <th>count</th>\n",
       "      <td>170653.000000</td>\n",
       "      <td>170653.000000</td>\n",
       "      <td>170653.000000</td>\n",
       "      <td>170080.000000</td>\n",
       "      <td>1.704540e+05</td>\n",
       "      <td>1.705730e+05</td>\n",
       "      <td>170606.000000</td>\n",
       "      <td>170270.000000</td>\n",
       "      <td>170451.000000</td>\n",
       "      <td>170613.000000</td>\n",
       "      <td>170621.000000</td>\n",
       "      <td>170635.000000</td>\n",
       "      <td>169496.000000</td>\n",
       "      <td>170042.000000</td>\n",
       "      <td>170404.000000</td>\n",
       "    </tr>\n",
       "    <tr>\n",
       "      <th>mean</th>\n",
       "      <td>0.528587</td>\n",
       "      <td>1976.787241</td>\n",
       "      <td>0.502115</td>\n",
       "      <td>0.537640</td>\n",
       "      <td>2.304044e+05</td>\n",
       "      <td>5.332695e+02</td>\n",
       "      <td>161.708058</td>\n",
       "      <td>36.464539</td>\n",
       "      <td>20.310635</td>\n",
       "      <td>3.575240</td>\n",
       "      <td>-11.417018</td>\n",
       "      <td>7.382782</td>\n",
       "      <td>31.543547</td>\n",
       "      <td>5.064387</td>\n",
       "      <td>118.226091</td>\n",
       "    </tr>\n",
       "    <tr>\n",
       "      <th>std</th>\n",
       "      <td>0.263171</td>\n",
       "      <td>25.917853</td>\n",
       "      <td>0.376032</td>\n",
       "      <td>0.175959</td>\n",
       "      <td>1.263665e+05</td>\n",
       "      <td>1.350096e+04</td>\n",
       "      <td>6984.208830</td>\n",
       "      <td>3139.122132</td>\n",
       "      <td>2119.315151</td>\n",
       "      <td>981.333683</td>\n",
       "      <td>5.729827</td>\n",
       "      <td>1867.348785</td>\n",
       "      <td>21.803031</td>\n",
       "      <td>98.121279</td>\n",
       "      <td>67.002730</td>\n",
       "    </tr>\n",
       "    <tr>\n",
       "      <th>min</th>\n",
       "      <td>0.000000</td>\n",
       "      <td>1921.000000</td>\n",
       "      <td>0.000000</td>\n",
       "      <td>0.000000</td>\n",
       "      <td>0.000000e+00</td>\n",
       "      <td>0.000000e+00</td>\n",
       "      <td>0.000000</td>\n",
       "      <td>0.000000</td>\n",
       "      <td>0.000000</td>\n",
       "      <td>0.000000</td>\n",
       "      <td>-60.000000</td>\n",
       "      <td>-36.000000</td>\n",
       "      <td>-39.000000</td>\n",
       "      <td>-30.073000</td>\n",
       "      <td>-8.331000</td>\n",
       "    </tr>\n",
       "    <tr>\n",
       "      <th>25%</th>\n",
       "      <td>0.317000</td>\n",
       "      <td>1956.000000</td>\n",
       "      <td>0.101000</td>\n",
       "      <td>0.416000</td>\n",
       "      <td>1.695350e+05</td>\n",
       "      <td>2.560000e-01</td>\n",
       "      <td>0.000000</td>\n",
       "      <td>0.000000</td>\n",
       "      <td>2.000000</td>\n",
       "      <td>0.098700</td>\n",
       "      <td>-14.584000</td>\n",
       "      <td>0.000000</td>\n",
       "      <td>12.000000</td>\n",
       "      <td>0.034900</td>\n",
       "      <td>93.206000</td>\n",
       "    </tr>\n",
       "    <tr>\n",
       "      <th>50%</th>\n",
       "      <td>0.539000</td>\n",
       "      <td>1977.000000</td>\n",
       "      <td>0.516000</td>\n",
       "      <td>0.548000</td>\n",
       "      <td>2.072000e+05</td>\n",
       "      <td>4.730000e-01</td>\n",
       "      <td>0.000000</td>\n",
       "      <td>0.000215</td>\n",
       "      <td>5.000000</td>\n",
       "      <td>0.136000</td>\n",
       "      <td>-10.549000</td>\n",
       "      <td>1.000000</td>\n",
       "      <td>34.000000</td>\n",
       "      <td>0.045000</td>\n",
       "      <td>114.636000</td>\n",
       "    </tr>\n",
       "    <tr>\n",
       "      <th>75%</th>\n",
       "      <td>0.747000</td>\n",
       "      <td>1999.000000</td>\n",
       "      <td>0.893000</td>\n",
       "      <td>0.668000</td>\n",
       "      <td>2.621550e+05</td>\n",
       "      <td>7.050000e-01</td>\n",
       "      <td>0.000000</td>\n",
       "      <td>0.102000</td>\n",
       "      <td>8.000000</td>\n",
       "      <td>0.262000</td>\n",
       "      <td>-7.146000</td>\n",
       "      <td>1.000000</td>\n",
       "      <td>48.000000</td>\n",
       "      <td>0.076200</td>\n",
       "      <td>135.552000</td>\n",
       "    </tr>\n",
       "    <tr>\n",
       "      <th>max</th>\n",
       "      <td>1.000000</td>\n",
       "      <td>2020.000000</td>\n",
       "      <td>0.996000</td>\n",
       "      <td>0.988000</td>\n",
       "      <td>5.403500e+06</td>\n",
       "      <td>1.622000e+06</td>\n",
       "      <td>693933.000000</td>\n",
       "      <td>475880.000000</td>\n",
       "      <td>503320.000000</td>\n",
       "      <td>290627.000000</td>\n",
       "      <td>11.000000</td>\n",
       "      <td>701187.000000</td>\n",
       "      <td>100.000000</td>\n",
       "      <td>2009.000000</td>\n",
       "      <td>2010.000000</td>\n",
       "    </tr>\n",
       "  </tbody>\n",
       "</table>\n",
       "</div>"
      ]
     },
     "metadata": {
      "application/vnd.databricks.v1+output": {
       "addedWidgets": {},
       "arguments": {},
       "data": "<div>\n<style scoped>\n    .dataframe tbody tr th:only-of-type {\n        vertical-align: middle;\n    }\n\n    .dataframe tbody tr th {\n        vertical-align: top;\n    }\n\n    .dataframe thead th {\n        text-align: right;\n    }\n</style>\n<table border=\"1\" class=\"dataframe\">\n  <thead>\n    <tr style=\"text-align: right;\">\n      <th></th>\n      <th>valence</th>\n      <th>year</th>\n      <th>acousticness</th>\n      <th>danceability</th>\n      <th>duration_ms</th>\n      <th>energy</th>\n      <th>explicit</th>\n      <th>instrumentalness</th>\n      <th>key</th>\n      <th>liveness</th>\n      <th>loudness</th>\n      <th>mode</th>\n      <th>popularity</th>\n      <th>speechiness</th>\n      <th>tempo</th>\n    </tr>\n  </thead>\n  <tbody>\n    <tr>\n      <th>count</th>\n      <td>170653.000000</td>\n      <td>170653.000000</td>\n      <td>170653.000000</td>\n      <td>170080.000000</td>\n      <td>1.704540e+05</td>\n      <td>1.705730e+05</td>\n      <td>170606.000000</td>\n      <td>170270.000000</td>\n      <td>170451.000000</td>\n      <td>170613.000000</td>\n      <td>170621.000000</td>\n      <td>170635.000000</td>\n      <td>169496.000000</td>\n      <td>170042.000000</td>\n      <td>170404.000000</td>\n    </tr>\n    <tr>\n      <th>mean</th>\n      <td>0.528587</td>\n      <td>1976.787241</td>\n      <td>0.502115</td>\n      <td>0.537640</td>\n      <td>2.304044e+05</td>\n      <td>5.332695e+02</td>\n      <td>161.708058</td>\n      <td>36.464539</td>\n      <td>20.310635</td>\n      <td>3.575240</td>\n      <td>-11.417018</td>\n      <td>7.382782</td>\n      <td>31.543547</td>\n      <td>5.064387</td>\n      <td>118.226091</td>\n    </tr>\n    <tr>\n      <th>std</th>\n      <td>0.263171</td>\n      <td>25.917853</td>\n      <td>0.376032</td>\n      <td>0.175959</td>\n      <td>1.263665e+05</td>\n      <td>1.350096e+04</td>\n      <td>6984.208830</td>\n      <td>3139.122132</td>\n      <td>2119.315151</td>\n      <td>981.333683</td>\n      <td>5.729827</td>\n      <td>1867.348785</td>\n      <td>21.803031</td>\n      <td>98.121279</td>\n      <td>67.002730</td>\n    </tr>\n    <tr>\n      <th>min</th>\n      <td>0.000000</td>\n      <td>1921.000000</td>\n      <td>0.000000</td>\n      <td>0.000000</td>\n      <td>0.000000e+00</td>\n      <td>0.000000e+00</td>\n      <td>0.000000</td>\n      <td>0.000000</td>\n      <td>0.000000</td>\n      <td>0.000000</td>\n      <td>-60.000000</td>\n      <td>-36.000000</td>\n      <td>-39.000000</td>\n      <td>-30.073000</td>\n      <td>-8.331000</td>\n    </tr>\n    <tr>\n      <th>25%</th>\n      <td>0.317000</td>\n      <td>1956.000000</td>\n      <td>0.101000</td>\n      <td>0.416000</td>\n      <td>1.695350e+05</td>\n      <td>2.560000e-01</td>\n      <td>0.000000</td>\n      <td>0.000000</td>\n      <td>2.000000</td>\n      <td>0.098700</td>\n      <td>-14.584000</td>\n      <td>0.000000</td>\n      <td>12.000000</td>\n      <td>0.034900</td>\n      <td>93.206000</td>\n    </tr>\n    <tr>\n      <th>50%</th>\n      <td>0.539000</td>\n      <td>1977.000000</td>\n      <td>0.516000</td>\n      <td>0.548000</td>\n      <td>2.072000e+05</td>\n      <td>4.730000e-01</td>\n      <td>0.000000</td>\n      <td>0.000215</td>\n      <td>5.000000</td>\n      <td>0.136000</td>\n      <td>-10.549000</td>\n      <td>1.000000</td>\n      <td>34.000000</td>\n      <td>0.045000</td>\n      <td>114.636000</td>\n    </tr>\n    <tr>\n      <th>75%</th>\n      <td>0.747000</td>\n      <td>1999.000000</td>\n      <td>0.893000</td>\n      <td>0.668000</td>\n      <td>2.621550e+05</td>\n      <td>7.050000e-01</td>\n      <td>0.000000</td>\n      <td>0.102000</td>\n      <td>8.000000</td>\n      <td>0.262000</td>\n      <td>-7.146000</td>\n      <td>1.000000</td>\n      <td>48.000000</td>\n      <td>0.076200</td>\n      <td>135.552000</td>\n    </tr>\n    <tr>\n      <th>max</th>\n      <td>1.000000</td>\n      <td>2020.000000</td>\n      <td>0.996000</td>\n      <td>0.988000</td>\n      <td>5.403500e+06</td>\n      <td>1.622000e+06</td>\n      <td>693933.000000</td>\n      <td>475880.000000</td>\n      <td>503320.000000</td>\n      <td>290627.000000</td>\n      <td>11.000000</td>\n      <td>701187.000000</td>\n      <td>100.000000</td>\n      <td>2009.000000</td>\n      <td>2010.000000</td>\n    </tr>\n  </tbody>\n</table>\n</div>",
       "datasetInfos": [],
       "metadata": {},
       "removedWidgets": [],
       "textData": null,
       "type": "htmlSandbox"
      }
     },
     "output_type": "display_data"
    }
   ],
   "source": [
    "# analisando dados estatísticos iniciais das variáveis numéricas\n",
    "df_data.describe()"
   ]
  },
  {
   "cell_type": "markdown",
   "metadata": {
    "application/vnd.databricks.v1+cell": {
     "cellMetadata": {},
     "inputWidgets": {},
     "nuid": "781f621b-7303-43b9-ab11-bf55c451567d",
     "showTitle": false,
     "title": ""
    }
   },
   "source": [
    "**Explorando a coluna Year**"
   ]
  },
  {
   "cell_type": "code",
   "execution_count": null,
   "metadata": {
    "application/vnd.databricks.v1+cell": {
     "cellMetadata": {
      "byteLimit": 2048000,
      "rowLimit": 10000
     },
     "inputWidgets": {},
     "nuid": "216f6a3d-2f20-43e7-9fa4-a6eca65bd3d8",
     "showTitle": false,
     "title": ""
    }
   },
   "outputs": [
    {
     "name": "stdout",
     "output_type": "stream",
     "text": [
      "Out[31]: 0     1959\n",
      "1     1990\n",
      "2     1975\n",
      "3     1977\n",
      "4     2003\n",
      "5     2007\n",
      "6     2018\n",
      "7     1974\n",
      "8     2015\n",
      "9     1955\n",
      "10    2006\n",
      "11    1978\n",
      "12    1961\n",
      "13    2013\n",
      "14    1952\n",
      "15    1956\n",
      "16    1988\n",
      "17    1997\n",
      "18    1994\n",
      "19    1968\n",
      "20    2014\n",
      "21    1951\n",
      "22    1930\n",
      "23    1973\n",
      "24    1979\n",
      "25    2019\n",
      "26    1971\n",
      "27    1950\n",
      "28    1949\n",
      "29    1966\n",
      "30    2004\n",
      "31    1991\n",
      "32    1967\n",
      "33    1969\n",
      "34    1982\n",
      "35    1945\n",
      "36    1957\n",
      "37    1989\n",
      "38    1996\n",
      "39    1998\n",
      "40    1963\n",
      "41    1965\n",
      "42    1985\n",
      "43    2020\n",
      "44    1960\n",
      "45    1970\n",
      "46    2012\n",
      "47    1987\n",
      "48    2009\n",
      "49    2016\n",
      "50    1995\n",
      "51    1980\n",
      "52    1953\n",
      "53    2001\n",
      "54    1972\n",
      "55    1992\n",
      "56    1958\n",
      "57    1983\n",
      "58    2005\n",
      "59    1954\n",
      "60    1984\n",
      "61    2000\n",
      "62    1964\n",
      "63    1981\n",
      "64    2010\n",
      "65    1986\n",
      "66    2011\n",
      "67    1976\n",
      "68    2008\n",
      "69    1940\n",
      "70    2017\n",
      "71    1999\n",
      "72    1948\n",
      "73    1962\n",
      "74    2002\n",
      "75    1993\n",
      "76    1942\n",
      "77    1946\n",
      "78    1947\n",
      "79    1926\n",
      "80    1935\n",
      "81    1928\n",
      "82    1927\n",
      "83    1939\n",
      "84    1944\n",
      "85    1938\n",
      "86    1943\n",
      "87    1941\n",
      "88    1936\n",
      "89    1931\n",
      "90    1937\n",
      "91    1929\n",
      "92    1933\n",
      "93    1934\n",
      "94    1932\n",
      "95    1924\n",
      "96    1925\n",
      "97    1922\n",
      "98    1921\n",
      "99    1923\n",
      "Name: year, dtype: int32"
     ]
    }
   ],
   "source": [
    "# analisando os dados únicos de anos\n",
    "df_data.year.unique()"
   ]
  },
  {
   "cell_type": "code",
   "execution_count": null,
   "metadata": {
    "application/vnd.databricks.v1+cell": {
     "cellMetadata": {
      "byteLimit": 2048000,
      "rowLimit": 10000
     },
     "inputWidgets": {},
     "nuid": "08c4de29-4985-407e-98e5-3181d95b92c9",
     "showTitle": false,
     "title": ""
    }
   },
   "outputs": [
    {
     "name": "stdout",
     "output_type": "stream",
     "text": [
      "Out[34]: 100"
     ]
    }
   ],
   "source": [
    "# realizando a contagem de qtde de anos únicos\n",
    "len(df_data.year.unique())"
   ]
  },
  {
   "cell_type": "code",
   "execution_count": null,
   "metadata": {
    "application/vnd.databricks.v1+cell": {
     "cellMetadata": {
      "byteLimit": 2048000,
      "rowLimit": 10000
     },
     "inputWidgets": {},
     "nuid": "359c9387-ff92-4595-8496-d54f5203245f",
     "showTitle": false,
     "title": ""
    }
   },
   "outputs": [
    {
     "name": "stdout",
     "output_type": "stream",
     "text": [
      "Out[36]: 1921     150\n",
      "1922      71\n",
      "1923     185\n",
      "1924     236\n",
      "1925     278\n",
      "1926    1378\n",
      "1927     615\n",
      "1928    1261\n",
      "1929     952\n",
      "1930    1924\n",
      "1931     966\n",
      "1932     502\n",
      "1933     691\n",
      "1934     578\n",
      "1935    1518\n",
      "1936    1100\n",
      "1937     657\n",
      "1938     613\n",
      "1939    1000\n",
      "1940    2000\n",
      "1941     960\n",
      "1942    1682\n",
      "1943     710\n",
      "1944     752\n",
      "1945    2000\n",
      "1946    1724\n",
      "1947    1650\n",
      "1948    1900\n",
      "1949    2000\n",
      "1950    2000\n",
      "1951    2000\n",
      "1952    2000\n",
      "1953    1950\n",
      "1954    2000\n",
      "1955    2000\n",
      "1956    2000\n",
      "1957    1950\n",
      "1958    2000\n",
      "1959    1950\n",
      "1960    1850\n",
      "1961    1900\n",
      "1962    1900\n",
      "1963    2000\n",
      "1964    1950\n",
      "1965    1950\n",
      "1966    2000\n",
      "1967    1999\n",
      "1968    2000\n",
      "1969    2000\n",
      "1970    2000\n",
      "1971    2000\n",
      "1972    2000\n",
      "1973    2000\n",
      "1974    2000\n",
      "1975    2000\n",
      "1976    2000\n",
      "1977    2000\n",
      "1978    2000\n",
      "1979    2000\n",
      "1980    1950\n",
      "1981    2000\n",
      "1982    2000\n",
      "1983    2000\n",
      "1984    2000\n",
      "1985    2000\n",
      "1986    2000\n",
      "1987    1950\n",
      "1988    1950\n",
      "1989    2000\n",
      "1990    2000\n",
      "1991    1950\n",
      "1992    2000\n",
      "1993    2000\n",
      "1994    2000\n",
      "1995    2000\n",
      "1996    2000\n",
      "1997    2000\n",
      "1998    2000\n",
      "1999    1951\n",
      "2000    1956\n",
      "2001    2005\n",
      "2002    2000\n",
      "2003    1954\n",
      "2004    1966\n",
      "2005    1950\n",
      "2006    1950\n",
      "2007    1950\n",
      "2008    1955\n",
      "2009    1960\n",
      "2010    2016\n",
      "2011    2017\n",
      "2012    1945\n",
      "2013    1976\n",
      "2014    2005\n",
      "2015    1974\n",
      "2016    1797\n",
      "2017    1992\n",
      "2018    2103\n",
      "2019    1949\n",
      "2020    2030\n",
      "Name: year, dtype: int64"
     ]
    }
   ],
   "source": [
    "# analisando a contagem de registros por ano\n",
    "df_data['year'].value_counts().sort_index()"
   ]
  },
  {
   "cell_type": "code",
   "execution_count": null,
   "metadata": {
    "application/vnd.databricks.v1+cell": {
     "cellMetadata": {
      "byteLimit": 2048000,
      "rowLimit": 10000
     },
     "inputWidgets": {},
     "nuid": "f8387fa0-4c31-4bc0-96b8-6716df95e451",
     "showTitle": false,
     "title": ""
    }
   },
   "outputs": [
    {
     "data": {
      "text/html": [
       "<html>\n",
       "<head><meta charset=\"utf-8\" /></head>\n",
       "<body>\n",
       "    <div>            <script src=\"https://cdnjs.cloudflare.com/ajax/libs/mathjax/2.7.5/MathJax.js?config=TeX-AMS-MML_SVG\"></script><script type=\"text/javascript\">if (window.MathJax) {MathJax.Hub.Config({SVG: {font: \"STIX-Web\"}});}</script>                <script type=\"text/javascript\">window.PlotlyConfig = {MathJaxConfig: 'local'};</script>\n",
       "        <script src=\"https://cdn.plot.ly/plotly-2.9.0.min.js\"></script>                <div id=\"1d2b8b9a-e182-4897-b350-5642350a6247\" class=\"plotly-graph-div\" style=\"height:100%; width:100%;\"></div>            <script type=\"text/javascript\">                                    window.PLOTLYENV=window.PLOTLYENV || {};                                    if (document.getElementById(\"1d2b8b9a-e182-4897-b350-5642350a6247\")) {                    Plotly.newPlot(                        \"1d2b8b9a-e182-4897-b350-5642350a6247\",                        [{\"alignmentgroup\":\"True\",\"hovertemplate\":\"variable=year<br>index=%{x}<br>value=%{y}<extra></extra>\",\"legendgroup\":\"year\",\"marker\":{\"color\":\"#636efa\",\"pattern\":{\"shape\":\"\"}},\"name\":\"year\",\"offsetgroup\":\"year\",\"orientation\":\"v\",\"showlegend\":true,\"textposition\":\"auto\",\"x\":[1921,1922,1923,1924,1925,1926,1927,1928,1929,1930,1931,1932,1933,1934,1935,1936,1937,1938,1939,1940,1941,1942,1943,1944,1945,1946,1947,1948,1949,1950,1951,1952,1953,1954,1955,1956,1957,1958,1959,1960,1961,1962,1963,1964,1965,1966,1967,1968,1969,1970,1971,1972,1973,1974,1975,1976,1977,1978,1979,1980,1981,1982,1983,1984,1985,1986,1987,1988,1989,1990,1991,1992,1993,1994,1995,1996,1997,1998,1999,2000,2001,2002,2003,2004,2005,2006,2007,2008,2009,2010,2011,2012,2013,2014,2015,2016,2017,2018,2019,2020],\"xaxis\":\"x\",\"y\":[150,71,185,236,278,1378,615,1261,952,1924,966,502,691,578,1518,1100,657,613,1000,2000,960,1682,710,752,2000,1724,1650,1900,2000,2000,2000,2000,1950,2000,2000,2000,1950,2000,1950,1850,1900,1900,2000,1950,1950,2000,1999,2000,2000,2000,2000,2000,2000,2000,2000,2000,2000,2000,2000,1950,2000,2000,2000,2000,2000,2000,1950,1950,2000,2000,1950,2000,2000,2000,2000,2000,2000,2000,1951,1956,2005,2000,1954,1966,1950,1950,1950,1955,1960,2016,2017,1945,1976,2005,1974,1797,1992,2103,1949,2030],\"yaxis\":\"y\",\"type\":\"bar\"}],                        {\"template\":{\"data\":{\"bar\":[{\"error_x\":{\"color\":\"#2a3f5f\"},\"error_y\":{\"color\":\"#2a3f5f\"},\"marker\":{\"line\":{\"color\":\"#E5ECF6\",\"width\":0.5},\"pattern\":{\"fillmode\":\"overlay\",\"size\":10,\"solidity\":0.2}},\"type\":\"bar\"}],\"barpolar\":[{\"marker\":{\"line\":{\"color\":\"#E5ECF6\",\"width\":0.5},\"pattern\":{\"fillmode\":\"overlay\",\"size\":10,\"solidity\":0.2}},\"type\":\"barpolar\"}],\"carpet\":[{\"aaxis\":{\"endlinecolor\":\"#2a3f5f\",\"gridcolor\":\"white\",\"linecolor\":\"white\",\"minorgridcolor\":\"white\",\"startlinecolor\":\"#2a3f5f\"},\"baxis\":{\"endlinecolor\":\"#2a3f5f\",\"gridcolor\":\"white\",\"linecolor\":\"white\",\"minorgridcolor\":\"white\",\"startlinecolor\":\"#2a3f5f\"},\"type\":\"carpet\"}],\"choropleth\":[{\"colorbar\":{\"outlinewidth\":0,\"ticks\":\"\"},\"type\":\"choropleth\"}],\"contour\":[{\"colorbar\":{\"outlinewidth\":0,\"ticks\":\"\"},\"colorscale\":[[0.0,\"#0d0887\"],[0.1111111111111111,\"#46039f\"],[0.2222222222222222,\"#7201a8\"],[0.3333333333333333,\"#9c179e\"],[0.4444444444444444,\"#bd3786\"],[0.5555555555555556,\"#d8576b\"],[0.6666666666666666,\"#ed7953\"],[0.7777777777777778,\"#fb9f3a\"],[0.8888888888888888,\"#fdca26\"],[1.0,\"#f0f921\"]],\"type\":\"contour\"}],\"contourcarpet\":[{\"colorbar\":{\"outlinewidth\":0,\"ticks\":\"\"},\"type\":\"contourcarpet\"}],\"heatmap\":[{\"colorbar\":{\"outlinewidth\":0,\"ticks\":\"\"},\"colorscale\":[[0.0,\"#0d0887\"],[0.1111111111111111,\"#46039f\"],[0.2222222222222222,\"#7201a8\"],[0.3333333333333333,\"#9c179e\"],[0.4444444444444444,\"#bd3786\"],[0.5555555555555556,\"#d8576b\"],[0.6666666666666666,\"#ed7953\"],[0.7777777777777778,\"#fb9f3a\"],[0.8888888888888888,\"#fdca26\"],[1.0,\"#f0f921\"]],\"type\":\"heatmap\"}],\"heatmapgl\":[{\"colorbar\":{\"outlinewidth\":0,\"ticks\":\"\"},\"colorscale\":[[0.0,\"#0d0887\"],[0.1111111111111111,\"#46039f\"],[0.2222222222222222,\"#7201a8\"],[0.3333333333333333,\"#9c179e\"],[0.4444444444444444,\"#bd3786\"],[0.5555555555555556,\"#d8576b\"],[0.6666666666666666,\"#ed7953\"],[0.7777777777777778,\"#fb9f3a\"],[0.8888888888888888,\"#fdca26\"],[1.0,\"#f0f921\"]],\"type\":\"heatmapgl\"}],\"histogram\":[{\"marker\":{\"pattern\":{\"fillmode\":\"overlay\",\"size\":10,\"solidity\":0.2}},\"type\":\"histogram\"}],\"histogram2d\":[{\"colorbar\":{\"outlinewidth\":0,\"ticks\":\"\"},\"colorscale\":[[0.0,\"#0d0887\"],[0.1111111111111111,\"#46039f\"],[0.2222222222222222,\"#7201a8\"],[0.3333333333333333,\"#9c179e\"],[0.4444444444444444,\"#bd3786\"],[0.5555555555555556,\"#d8576b\"],[0.6666666666666666,\"#ed7953\"],[0.7777777777777778,\"#fb9f3a\"],[0.8888888888888888,\"#fdca26\"],[1.0,\"#f0f921\"]],\"type\":\"histogram2d\"}],\"histogram2dcontour\":[{\"colorbar\":{\"outlinewidth\":0,\"ticks\":\"\"},\"colorscale\":[[0.0,\"#0d0887\"],[0.1111111111111111,\"#46039f\"],[0.2222222222222222,\"#7201a8\"],[0.3333333333333333,\"#9c179e\"],[0.4444444444444444,\"#bd3786\"],[0.5555555555555556,\"#d8576b\"],[0.6666666666666666,\"#ed7953\"],[0.7777777777777778,\"#fb9f3a\"],[0.8888888888888888,\"#fdca26\"],[1.0,\"#f0f921\"]],\"type\":\"histogram2dcontour\"}],\"mesh3d\":[{\"colorbar\":{\"outlinewidth\":0,\"ticks\":\"\"},\"type\":\"mesh3d\"}],\"parcoords\":[{\"line\":{\"colorbar\":{\"outlinewidth\":0,\"ticks\":\"\"}},\"type\":\"parcoords\"}],\"pie\":[{\"automargin\":true,\"type\":\"pie\"}],\"scatter\":[{\"marker\":{\"colorbar\":{\"outlinewidth\":0,\"ticks\":\"\"}},\"type\":\"scatter\"}],\"scatter3d\":[{\"line\":{\"colorbar\":{\"outlinewidth\":0,\"ticks\":\"\"}},\"marker\":{\"colorbar\":{\"outlinewidth\":0,\"ticks\":\"\"}},\"type\":\"scatter3d\"}],\"scattercarpet\":[{\"marker\":{\"colorbar\":{\"outlinewidth\":0,\"ticks\":\"\"}},\"type\":\"scattercarpet\"}],\"scattergeo\":[{\"marker\":{\"colorbar\":{\"outlinewidth\":0,\"ticks\":\"\"}},\"type\":\"scattergeo\"}],\"scattergl\":[{\"marker\":{\"colorbar\":{\"outlinewidth\":0,\"ticks\":\"\"}},\"type\":\"scattergl\"}],\"scattermapbox\":[{\"marker\":{\"colorbar\":{\"outlinewidth\":0,\"ticks\":\"\"}},\"type\":\"scattermapbox\"}],\"scatterpolar\":[{\"marker\":{\"colorbar\":{\"outlinewidth\":0,\"ticks\":\"\"}},\"type\":\"scatterpolar\"}],\"scatterpolargl\":[{\"marker\":{\"colorbar\":{\"outlinewidth\":0,\"ticks\":\"\"}},\"type\":\"scatterpolargl\"}],\"scatterternary\":[{\"marker\":{\"colorbar\":{\"outlinewidth\":0,\"ticks\":\"\"}},\"type\":\"scatterternary\"}],\"surface\":[{\"colorbar\":{\"outlinewidth\":0,\"ticks\":\"\"},\"colorscale\":[[0.0,\"#0d0887\"],[0.1111111111111111,\"#46039f\"],[0.2222222222222222,\"#7201a8\"],[0.3333333333333333,\"#9c179e\"],[0.4444444444444444,\"#bd3786\"],[0.5555555555555556,\"#d8576b\"],[0.6666666666666666,\"#ed7953\"],[0.7777777777777778,\"#fb9f3a\"],[0.8888888888888888,\"#fdca26\"],[1.0,\"#f0f921\"]],\"type\":\"surface\"}],\"table\":[{\"cells\":{\"fill\":{\"color\":\"#EBF0F8\"},\"line\":{\"color\":\"white\"}},\"header\":{\"fill\":{\"color\":\"#C8D4E3\"},\"line\":{\"color\":\"white\"}},\"type\":\"table\"}]},\"layout\":{\"annotationdefaults\":{\"arrowcolor\":\"#2a3f5f\",\"arrowhead\":0,\"arrowwidth\":1},\"autotypenumbers\":\"strict\",\"coloraxis\":{\"colorbar\":{\"outlinewidth\":0,\"ticks\":\"\"}},\"colorscale\":{\"diverging\":[[0,\"#8e0152\"],[0.1,\"#c51b7d\"],[0.2,\"#de77ae\"],[0.3,\"#f1b6da\"],[0.4,\"#fde0ef\"],[0.5,\"#f7f7f7\"],[0.6,\"#e6f5d0\"],[0.7,\"#b8e186\"],[0.8,\"#7fbc41\"],[0.9,\"#4d9221\"],[1,\"#276419\"]],\"sequential\":[[0.0,\"#0d0887\"],[0.1111111111111111,\"#46039f\"],[0.2222222222222222,\"#7201a8\"],[0.3333333333333333,\"#9c179e\"],[0.4444444444444444,\"#bd3786\"],[0.5555555555555556,\"#d8576b\"],[0.6666666666666666,\"#ed7953\"],[0.7777777777777778,\"#fb9f3a\"],[0.8888888888888888,\"#fdca26\"],[1.0,\"#f0f921\"]],\"sequentialminus\":[[0.0,\"#0d0887\"],[0.1111111111111111,\"#46039f\"],[0.2222222222222222,\"#7201a8\"],[0.3333333333333333,\"#9c179e\"],[0.4444444444444444,\"#bd3786\"],[0.5555555555555556,\"#d8576b\"],[0.6666666666666666,\"#ed7953\"],[0.7777777777777778,\"#fb9f3a\"],[0.8888888888888888,\"#fdca26\"],[1.0,\"#f0f921\"]]},\"colorway\":[\"#636efa\",\"#EF553B\",\"#00cc96\",\"#ab63fa\",\"#FFA15A\",\"#19d3f3\",\"#FF6692\",\"#B6E880\",\"#FF97FF\",\"#FECB52\"],\"font\":{\"color\":\"#2a3f5f\"},\"geo\":{\"bgcolor\":\"white\",\"lakecolor\":\"white\",\"landcolor\":\"#E5ECF6\",\"showlakes\":true,\"showland\":true,\"subunitcolor\":\"white\"},\"hoverlabel\":{\"align\":\"left\"},\"hovermode\":\"closest\",\"mapbox\":{\"style\":\"light\"},\"paper_bgcolor\":\"white\",\"plot_bgcolor\":\"#E5ECF6\",\"polar\":{\"angularaxis\":{\"gridcolor\":\"white\",\"linecolor\":\"white\",\"ticks\":\"\"},\"bgcolor\":\"#E5ECF6\",\"radialaxis\":{\"gridcolor\":\"white\",\"linecolor\":\"white\",\"ticks\":\"\"}},\"scene\":{\"xaxis\":{\"backgroundcolor\":\"#E5ECF6\",\"gridcolor\":\"white\",\"gridwidth\":2,\"linecolor\":\"white\",\"showbackground\":true,\"ticks\":\"\",\"zerolinecolor\":\"white\"},\"yaxis\":{\"backgroundcolor\":\"#E5ECF6\",\"gridcolor\":\"white\",\"gridwidth\":2,\"linecolor\":\"white\",\"showbackground\":true,\"ticks\":\"\",\"zerolinecolor\":\"white\"},\"zaxis\":{\"backgroundcolor\":\"#E5ECF6\",\"gridcolor\":\"white\",\"gridwidth\":2,\"linecolor\":\"white\",\"showbackground\":true,\"ticks\":\"\",\"zerolinecolor\":\"white\"}},\"shapedefaults\":{\"line\":{\"color\":\"#2a3f5f\"}},\"ternary\":{\"aaxis\":{\"gridcolor\":\"white\",\"linecolor\":\"white\",\"ticks\":\"\"},\"baxis\":{\"gridcolor\":\"white\",\"linecolor\":\"white\",\"ticks\":\"\"},\"bgcolor\":\"#E5ECF6\",\"caxis\":{\"gridcolor\":\"white\",\"linecolor\":\"white\",\"ticks\":\"\"}},\"title\":{\"x\":0.05},\"xaxis\":{\"automargin\":true,\"gridcolor\":\"white\",\"linecolor\":\"white\",\"ticks\":\"\",\"title\":{\"standoff\":15},\"zerolinecolor\":\"white\",\"zerolinewidth\":2},\"yaxis\":{\"automargin\":true,\"gridcolor\":\"white\",\"linecolor\":\"white\",\"ticks\":\"\",\"title\":{\"standoff\":15},\"zerolinecolor\":\"white\",\"zerolinewidth\":2}}},\"xaxis\":{\"anchor\":\"y\",\"domain\":[0.0,1.0],\"title\":{\"text\":\"index\"}},\"yaxis\":{\"anchor\":\"x\",\"domain\":[0.0,1.0],\"title\":{\"text\":\"value\"}},\"legend\":{\"title\":{\"text\":\"variable\"},\"tracegroupgap\":0},\"margin\":{\"t\":60},\"barmode\":\"relative\"},                        {\"responsive\": true}                    )                };                            </script>        </div>\n",
       "</body>\n",
       "</html>"
      ]
     },
     "metadata": {
      "application/vnd.databricks.v1+output": {
       "addedWidgets": {},
       "arguments": {},
       "data": "<html>\n<head><meta charset=\"utf-8\" /></head>\n<body>\n    <div>            <script src=\"https://cdnjs.cloudflare.com/ajax/libs/mathjax/2.7.5/MathJax.js?config=TeX-AMS-MML_SVG\"></script><script type=\"text/javascript\">if (window.MathJax) {MathJax.Hub.Config({SVG: {font: \"STIX-Web\"}});}</script>                <script type=\"text/javascript\">window.PlotlyConfig = {MathJaxConfig: 'local'};</script>\n        <script src=\"https://cdn.plot.ly/plotly-2.9.0.min.js\"></script>                <div id=\"1d2b8b9a-e182-4897-b350-5642350a6247\" class=\"plotly-graph-div\" style=\"height:100%; width:100%;\"></div>            <script type=\"text/javascript\">                                    window.PLOTLYENV=window.PLOTLYENV || {};                                    if (document.getElementById(\"1d2b8b9a-e182-4897-b350-5642350a6247\")) {                    Plotly.newPlot(                        \"1d2b8b9a-e182-4897-b350-5642350a6247\",                        [{\"alignmentgroup\":\"True\",\"hovertemplate\":\"variable=year<br>index=%{x}<br>value=%{y}<extra></extra>\",\"legendgroup\":\"year\",\"marker\":{\"color\":\"#636efa\",\"pattern\":{\"shape\":\"\"}},\"name\":\"year\",\"offsetgroup\":\"year\",\"orientation\":\"v\",\"showlegend\":true,\"textposition\":\"auto\",\"x\":[1921,1922,1923,1924,1925,1926,1927,1928,1929,1930,1931,1932,1933,1934,1935,1936,1937,1938,1939,1940,1941,1942,1943,1944,1945,1946,1947,1948,1949,1950,1951,1952,1953,1954,1955,1956,1957,1958,1959,1960,1961,1962,1963,1964,1965,1966,1967,1968,1969,1970,1971,1972,1973,1974,1975,1976,1977,1978,1979,1980,1981,1982,1983,1984,1985,1986,1987,1988,1989,1990,1991,1992,1993,1994,1995,1996,1997,1998,1999,2000,2001,2002,2003,2004,2005,2006,2007,2008,2009,2010,2011,2012,2013,2014,2015,2016,2017,2018,2019,2020],\"xaxis\":\"x\",\"y\":[150,71,185,236,278,1378,615,1261,952,1924,966,502,691,578,1518,1100,657,613,1000,2000,960,1682,710,752,2000,1724,1650,1900,2000,2000,2000,2000,1950,2000,2000,2000,1950,2000,1950,1850,1900,1900,2000,1950,1950,2000,1999,2000,2000,2000,2000,2000,2000,2000,2000,2000,2000,2000,2000,1950,2000,2000,2000,2000,2000,2000,1950,1950,2000,2000,1950,2000,2000,2000,2000,2000,2000,2000,1951,1956,2005,2000,1954,1966,1950,1950,1950,1955,1960,2016,2017,1945,1976,2005,1974,1797,1992,2103,1949,2030],\"yaxis\":\"y\",\"type\":\"bar\"}],                        {\"template\":{\"data\":{\"bar\":[{\"error_x\":{\"color\":\"#2a3f5f\"},\"error_y\":{\"color\":\"#2a3f5f\"},\"marker\":{\"line\":{\"color\":\"#E5ECF6\",\"width\":0.5},\"pattern\":{\"fillmode\":\"overlay\",\"size\":10,\"solidity\":0.2}},\"type\":\"bar\"}],\"barpolar\":[{\"marker\":{\"line\":{\"color\":\"#E5ECF6\",\"width\":0.5},\"pattern\":{\"fillmode\":\"overlay\",\"size\":10,\"solidity\":0.2}},\"type\":\"barpolar\"}],\"carpet\":[{\"aaxis\":{\"endlinecolor\":\"#2a3f5f\",\"gridcolor\":\"white\",\"linecolor\":\"white\",\"minorgridcolor\":\"white\",\"startlinecolor\":\"#2a3f5f\"},\"baxis\":{\"endlinecolor\":\"#2a3f5f\",\"gridcolor\":\"white\",\"linecolor\":\"white\",\"minorgridcolor\":\"white\",\"startlinecolor\":\"#2a3f5f\"},\"type\":\"carpet\"}],\"choropleth\":[{\"colorbar\":{\"outlinewidth\":0,\"ticks\":\"\"},\"type\":\"choropleth\"}],\"contour\":[{\"colorbar\":{\"outlinewidth\":0,\"ticks\":\"\"},\"colorscale\":[[0.0,\"#0d0887\"],[0.1111111111111111,\"#46039f\"],[0.2222222222222222,\"#7201a8\"],[0.3333333333333333,\"#9c179e\"],[0.4444444444444444,\"#bd3786\"],[0.5555555555555556,\"#d8576b\"],[0.6666666666666666,\"#ed7953\"],[0.7777777777777778,\"#fb9f3a\"],[0.8888888888888888,\"#fdca26\"],[1.0,\"#f0f921\"]],\"type\":\"contour\"}],\"contourcarpet\":[{\"colorbar\":{\"outlinewidth\":0,\"ticks\":\"\"},\"type\":\"contourcarpet\"}],\"heatmap\":[{\"colorbar\":{\"outlinewidth\":0,\"ticks\":\"\"},\"colorscale\":[[0.0,\"#0d0887\"],[0.1111111111111111,\"#46039f\"],[0.2222222222222222,\"#7201a8\"],[0.3333333333333333,\"#9c179e\"],[0.4444444444444444,\"#bd3786\"],[0.5555555555555556,\"#d8576b\"],[0.6666666666666666,\"#ed7953\"],[0.7777777777777778,\"#fb9f3a\"],[0.8888888888888888,\"#fdca26\"],[1.0,\"#f0f921\"]],\"type\":\"heatmap\"}],\"heatmapgl\":[{\"colorbar\":{\"outlinewidth\":0,\"ticks\":\"\"},\"colorscale\":[[0.0,\"#0d0887\"],[0.1111111111111111,\"#46039f\"],[0.2222222222222222,\"#7201a8\"],[0.3333333333333333,\"#9c179e\"],[0.4444444444444444,\"#bd3786\"],[0.5555555555555556,\"#d8576b\"],[0.6666666666666666,\"#ed7953\"],[0.7777777777777778,\"#fb9f3a\"],[0.8888888888888888,\"#fdca26\"],[1.0,\"#f0f921\"]],\"type\":\"heatmapgl\"}],\"histogram\":[{\"marker\":{\"pattern\":{\"fillmode\":\"overlay\",\"size\":10,\"solidity\":0.2}},\"type\":\"histogram\"}],\"histogram2d\":[{\"colorbar\":{\"outlinewidth\":0,\"ticks\":\"\"},\"colorscale\":[[0.0,\"#0d0887\"],[0.1111111111111111,\"#46039f\"],[0.2222222222222222,\"#7201a8\"],[0.3333333333333333,\"#9c179e\"],[0.4444444444444444,\"#bd3786\"],[0.5555555555555556,\"#d8576b\"],[0.6666666666666666,\"#ed7953\"],[0.7777777777777778,\"#fb9f3a\"],[0.8888888888888888,\"#fdca26\"],[1.0,\"#f0f921\"]],\"type\":\"histogram2d\"}],\"histogram2dcontour\":[{\"colorbar\":{\"outlinewidth\":0,\"ticks\":\"\"},\"colorscale\":[[0.0,\"#0d0887\"],[0.1111111111111111,\"#46039f\"],[0.2222222222222222,\"#7201a8\"],[0.3333333333333333,\"#9c179e\"],[0.4444444444444444,\"#bd3786\"],[0.5555555555555556,\"#d8576b\"],[0.6666666666666666,\"#ed7953\"],[0.7777777777777778,\"#fb9f3a\"],[0.8888888888888888,\"#fdca26\"],[1.0,\"#f0f921\"]],\"type\":\"histogram2dcontour\"}],\"mesh3d\":[{\"colorbar\":{\"outlinewidth\":0,\"ticks\":\"\"},\"type\":\"mesh3d\"}],\"parcoords\":[{\"line\":{\"colorbar\":{\"outlinewidth\":0,\"ticks\":\"\"}},\"type\":\"parcoords\"}],\"pie\":[{\"automargin\":true,\"type\":\"pie\"}],\"scatter\":[{\"marker\":{\"colorbar\":{\"outlinewidth\":0,\"ticks\":\"\"}},\"type\":\"scatter\"}],\"scatter3d\":[{\"line\":{\"colorbar\":{\"outlinewidth\":0,\"ticks\":\"\"}},\"marker\":{\"colorbar\":{\"outlinewidth\":0,\"ticks\":\"\"}},\"type\":\"scatter3d\"}],\"scattercarpet\":[{\"marker\":{\"colorbar\":{\"outlinewidth\":0,\"ticks\":\"\"}},\"type\":\"scattercarpet\"}],\"scattergeo\":[{\"marker\":{\"colorbar\":{\"outlinewidth\":0,\"ticks\":\"\"}},\"type\":\"scattergeo\"}],\"scattergl\":[{\"marker\":{\"colorbar\":{\"outlinewidth\":0,\"ticks\":\"\"}},\"type\":\"scattergl\"}],\"scattermapbox\":[{\"marker\":{\"colorbar\":{\"outlinewidth\":0,\"ticks\":\"\"}},\"type\":\"scattermapbox\"}],\"scatterpolar\":[{\"marker\":{\"colorbar\":{\"outlinewidth\":0,\"ticks\":\"\"}},\"type\":\"scatterpolar\"}],\"scatterpolargl\":[{\"marker\":{\"colorbar\":{\"outlinewidth\":0,\"ticks\":\"\"}},\"type\":\"scatterpolargl\"}],\"scatterternary\":[{\"marker\":{\"colorbar\":{\"outlinewidth\":0,\"ticks\":\"\"}},\"type\":\"scatterternary\"}],\"surface\":[{\"colorbar\":{\"outlinewidth\":0,\"ticks\":\"\"},\"colorscale\":[[0.0,\"#0d0887\"],[0.1111111111111111,\"#46039f\"],[0.2222222222222222,\"#7201a8\"],[0.3333333333333333,\"#9c179e\"],[0.4444444444444444,\"#bd3786\"],[0.5555555555555556,\"#d8576b\"],[0.6666666666666666,\"#ed7953\"],[0.7777777777777778,\"#fb9f3a\"],[0.8888888888888888,\"#fdca26\"],[1.0,\"#f0f921\"]],\"type\":\"surface\"}],\"table\":[{\"cells\":{\"fill\":{\"color\":\"#EBF0F8\"},\"line\":{\"color\":\"white\"}},\"header\":{\"fill\":{\"color\":\"#C8D4E3\"},\"line\":{\"color\":\"white\"}},\"type\":\"table\"}]},\"layout\":{\"annotationdefaults\":{\"arrowcolor\":\"#2a3f5f\",\"arrowhead\":0,\"arrowwidth\":1},\"autotypenumbers\":\"strict\",\"coloraxis\":{\"colorbar\":{\"outlinewidth\":0,\"ticks\":\"\"}},\"colorscale\":{\"diverging\":[[0,\"#8e0152\"],[0.1,\"#c51b7d\"],[0.2,\"#de77ae\"],[0.3,\"#f1b6da\"],[0.4,\"#fde0ef\"],[0.5,\"#f7f7f7\"],[0.6,\"#e6f5d0\"],[0.7,\"#b8e186\"],[0.8,\"#7fbc41\"],[0.9,\"#4d9221\"],[1,\"#276419\"]],\"sequential\":[[0.0,\"#0d0887\"],[0.1111111111111111,\"#46039f\"],[0.2222222222222222,\"#7201a8\"],[0.3333333333333333,\"#9c179e\"],[0.4444444444444444,\"#bd3786\"],[0.5555555555555556,\"#d8576b\"],[0.6666666666666666,\"#ed7953\"],[0.7777777777777778,\"#fb9f3a\"],[0.8888888888888888,\"#fdca26\"],[1.0,\"#f0f921\"]],\"sequentialminus\":[[0.0,\"#0d0887\"],[0.1111111111111111,\"#46039f\"],[0.2222222222222222,\"#7201a8\"],[0.3333333333333333,\"#9c179e\"],[0.4444444444444444,\"#bd3786\"],[0.5555555555555556,\"#d8576b\"],[0.6666666666666666,\"#ed7953\"],[0.7777777777777778,\"#fb9f3a\"],[0.8888888888888888,\"#fdca26\"],[1.0,\"#f0f921\"]]},\"colorway\":[\"#636efa\",\"#EF553B\",\"#00cc96\",\"#ab63fa\",\"#FFA15A\",\"#19d3f3\",\"#FF6692\",\"#B6E880\",\"#FF97FF\",\"#FECB52\"],\"font\":{\"color\":\"#2a3f5f\"},\"geo\":{\"bgcolor\":\"white\",\"lakecolor\":\"white\",\"landcolor\":\"#E5ECF6\",\"showlakes\":true,\"showland\":true,\"subunitcolor\":\"white\"},\"hoverlabel\":{\"align\":\"left\"},\"hovermode\":\"closest\",\"mapbox\":{\"style\":\"light\"},\"paper_bgcolor\":\"white\",\"plot_bgcolor\":\"#E5ECF6\",\"polar\":{\"angularaxis\":{\"gridcolor\":\"white\",\"linecolor\":\"white\",\"ticks\":\"\"},\"bgcolor\":\"#E5ECF6\",\"radialaxis\":{\"gridcolor\":\"white\",\"linecolor\":\"white\",\"ticks\":\"\"}},\"scene\":{\"xaxis\":{\"backgroundcolor\":\"#E5ECF6\",\"gridcolor\":\"white\",\"gridwidth\":2,\"linecolor\":\"white\",\"showbackground\":true,\"ticks\":\"\",\"zerolinecolor\":\"white\"},\"yaxis\":{\"backgroundcolor\":\"#E5ECF6\",\"gridcolor\":\"white\",\"gridwidth\":2,\"linecolor\":\"white\",\"showbackground\":true,\"ticks\":\"\",\"zerolinecolor\":\"white\"},\"zaxis\":{\"backgroundcolor\":\"#E5ECF6\",\"gridcolor\":\"white\",\"gridwidth\":2,\"linecolor\":\"white\",\"showbackground\":true,\"ticks\":\"\",\"zerolinecolor\":\"white\"}},\"shapedefaults\":{\"line\":{\"color\":\"#2a3f5f\"}},\"ternary\":{\"aaxis\":{\"gridcolor\":\"white\",\"linecolor\":\"white\",\"ticks\":\"\"},\"baxis\":{\"gridcolor\":\"white\",\"linecolor\":\"white\",\"ticks\":\"\"},\"bgcolor\":\"#E5ECF6\",\"caxis\":{\"gridcolor\":\"white\",\"linecolor\":\"white\",\"ticks\":\"\"}},\"title\":{\"x\":0.05},\"xaxis\":{\"automargin\":true,\"gridcolor\":\"white\",\"linecolor\":\"white\",\"ticks\":\"\",\"title\":{\"standoff\":15},\"zerolinecolor\":\"white\",\"zerolinewidth\":2},\"yaxis\":{\"automargin\":true,\"gridcolor\":\"white\",\"linecolor\":\"white\",\"ticks\":\"\",\"title\":{\"standoff\":15},\"zerolinecolor\":\"white\",\"zerolinewidth\":2}}},\"xaxis\":{\"anchor\":\"y\",\"domain\":[0.0,1.0],\"title\":{\"text\":\"index\"}},\"yaxis\":{\"anchor\":\"x\",\"domain\":[0.0,1.0],\"title\":{\"text\":\"value\"}},\"legend\":{\"title\":{\"text\":\"variable\"},\"tracegroupgap\":0},\"margin\":{\"t\":60},\"barmode\":\"relative\"},                        {\"responsive\": true}                    )                };                            </script>        </div>\n</body>\n</html>",
       "datasetInfos": [],
       "metadata": {},
       "removedWidgets": [],
       "textData": null,
       "type": "htmlSandbox"
      }
     },
     "output_type": "display_data"
    }
   ],
   "source": [
    "# analisando as informações por meio de um gráfico\n",
    "df_data['year'].value_counts().sort_index().plot.bar()"
   ]
  },
  {
   "cell_type": "code",
   "execution_count": null,
   "metadata": {
    "application/vnd.databricks.v1+cell": {
     "cellMetadata": {
      "byteLimit": 2048000,
      "rowLimit": 10000
     },
     "inputWidgets": {},
     "nuid": "476a7135-72e4-454d-ab54-84ebae1b14f1",
     "showTitle": false,
     "title": ""
    }
   },
   "outputs": [],
   "source": [
    "# agrupando as músicas por décadas\n",
    "df_data['decade'] = df_data.year.apply(lambda year: f'{(year//10)*10}s')"
   ]
  },
  {
   "cell_type": "code",
   "execution_count": null,
   "metadata": {
    "application/vnd.databricks.v1+cell": {
     "cellMetadata": {
      "byteLimit": 2048000,
      "rowLimit": 10000
     },
     "inputWidgets": {},
     "nuid": "c426ade1-46eb-4de7-9980-c56e135d545f",
     "showTitle": false,
     "title": ""
    }
   },
   "outputs": [
    {
     "data": {
      "text/html": [
       "<div>\n",
       "<style scoped>\n",
       "    .dataframe tbody tr th:only-of-type {\n",
       "        vertical-align: middle;\n",
       "    }\n",
       "\n",
       "    .dataframe tbody tr th {\n",
       "        vertical-align: top;\n",
       "    }\n",
       "\n",
       "    .dataframe thead th {\n",
       "        text-align: right;\n",
       "    }\n",
       "</style>\n",
       "<table border=\"1\" class=\"dataframe\">\n",
       "  <thead>\n",
       "    <tr style=\"text-align: right;\">\n",
       "      <th></th>\n",
       "      <th>valence</th>\n",
       "      <th>year</th>\n",
       "      <th>acousticness</th>\n",
       "      <th>artists</th>\n",
       "      <th>danceability</th>\n",
       "      <th>duration_ms</th>\n",
       "      <th>energy</th>\n",
       "      <th>explicit</th>\n",
       "      <th>id</th>\n",
       "      <th>instrumentalness</th>\n",
       "      <th>key</th>\n",
       "      <th>liveness</th>\n",
       "      <th>loudness</th>\n",
       "      <th>mode</th>\n",
       "      <th>name</th>\n",
       "      <th>popularity</th>\n",
       "      <th>release_date</th>\n",
       "      <th>speechiness</th>\n",
       "      <th>tempo</th>\n",
       "      <th>decade</th>\n",
       "    </tr>\n",
       "  </thead>\n",
       "  <tbody>\n",
       "    <tr>\n",
       "      <th>0</th>\n",
       "      <td>0.917</td>\n",
       "      <td>1970</td>\n",
       "      <td>0.096000</td>\n",
       "      <td>The Velvet Underground</td>\n",
       "      <td>0.624</td>\n",
       "      <td>201440</td>\n",
       "      <td>0.774</td>\n",
       "      <td>0</td>\n",
       "      <td>60ZyiL4lmWzZyGfqyECTqp</td>\n",
       "      <td>0.030900</td>\n",
       "      <td>7</td>\n",
       "      <td>0.0960</td>\n",
       "      <td>-10.391</td>\n",
       "      <td>1</td>\n",
       "      <td>Train Round the Bend - 2015 Remaster</td>\n",
       "      <td>24</td>\n",
       "      <td>1970</td>\n",
       "      <td>0.0315</td>\n",
       "      <td>117.006</td>\n",
       "      <td>1970s</td>\n",
       "    </tr>\n",
       "    <tr>\n",
       "      <th>1</th>\n",
       "      <td>0.511</td>\n",
       "      <td>1970</td>\n",
       "      <td>0.001900</td>\n",
       "      <td>Ten Years After</td>\n",
       "      <td>0.405</td>\n",
       "      <td>458463</td>\n",
       "      <td>0.543</td>\n",
       "      <td>0</td>\n",
       "      <td>6DYyyUdHzI6RdSx0swUR1i</td>\n",
       "      <td>0.720000</td>\n",
       "      <td>2</td>\n",
       "      <td>0.1860</td>\n",
       "      <td>-9.313</td>\n",
       "      <td>1</td>\n",
       "      <td>Love Like a Man - 2017 Remaster</td>\n",
       "      <td>34</td>\n",
       "      <td>1970-04-01</td>\n",
       "      <td>0.0290</td>\n",
       "      <td>107.598</td>\n",
       "      <td>1970s</td>\n",
       "    </tr>\n",
       "    <tr>\n",
       "      <th>2</th>\n",
       "      <td>0.466</td>\n",
       "      <td>1970</td>\n",
       "      <td>0.052800</td>\n",
       "      <td>The Mothers Of Invention</td>\n",
       "      <td>0.444</td>\n",
       "      <td>105587</td>\n",
       "      <td>0.568</td>\n",
       "      <td>0</td>\n",
       "      <td>6HJAS8XZO0ctUcN2KsbLRa</td>\n",
       "      <td>0.000010</td>\n",
       "      <td>11</td>\n",
       "      <td>0.5120</td>\n",
       "      <td>-8.800</td>\n",
       "      <td>0</td>\n",
       "      <td>Oh No</td>\n",
       "      <td>24</td>\n",
       "      <td>1970-08-10</td>\n",
       "      <td>0.0327</td>\n",
       "      <td>124.319</td>\n",
       "      <td>1970s</td>\n",
       "    </tr>\n",
       "    <tr>\n",
       "      <th>3</th>\n",
       "      <td>0.523</td>\n",
       "      <td>1970</td>\n",
       "      <td>0.081100</td>\n",
       "      <td>Three Dog Night</td>\n",
       "      <td>0.502</td>\n",
       "      <td>174707</td>\n",
       "      <td>0.669</td>\n",
       "      <td>0</td>\n",
       "      <td>7sZ74qmKb1nyGKUgHROJ1n</td>\n",
       "      <td>0.000945</td>\n",
       "      <td>7</td>\n",
       "      <td>0.0906</td>\n",
       "      <td>-11.725</td>\n",
       "      <td>1</td>\n",
       "      <td>One Man Band</td>\n",
       "      <td>19</td>\n",
       "      <td>1970-01-01</td>\n",
       "      <td>0.0912</td>\n",
       "      <td>121.089</td>\n",
       "      <td>1970s</td>\n",
       "    </tr>\n",
       "    <tr>\n",
       "      <th>4</th>\n",
       "      <td>0.501</td>\n",
       "      <td>1970</td>\n",
       "      <td>0.000128</td>\n",
       "      <td>The Rolling Stones</td>\n",
       "      <td>0.273</td>\n",
       "      <td>246413</td>\n",
       "      <td>0.866</td>\n",
       "      <td>0</td>\n",
       "      <td>095WtNlSHE8TMB2gQ1fdTx</td>\n",
       "      <td>0.790000</td>\n",
       "      <td>11</td>\n",
       "      <td>0.9610</td>\n",
       "      <td>-7.598</td>\n",
       "      <td>1</td>\n",
       "      <td>Street Fighting Man - Live</td>\n",
       "      <td>25</td>\n",
       "      <td>1970-09-04</td>\n",
       "      <td>0.0347</td>\n",
       "      <td>134.891</td>\n",
       "      <td>1970s</td>\n",
       "    </tr>\n",
       "  </tbody>\n",
       "</table>\n",
       "</div>"
      ]
     },
     "metadata": {
      "application/vnd.databricks.v1+output": {
       "addedWidgets": {},
       "arguments": {},
       "data": "<div>\n<style scoped>\n    .dataframe tbody tr th:only-of-type {\n        vertical-align: middle;\n    }\n\n    .dataframe tbody tr th {\n        vertical-align: top;\n    }\n\n    .dataframe thead th {\n        text-align: right;\n    }\n</style>\n<table border=\"1\" class=\"dataframe\">\n  <thead>\n    <tr style=\"text-align: right;\">\n      <th></th>\n      <th>valence</th>\n      <th>year</th>\n      <th>acousticness</th>\n      <th>artists</th>\n      <th>danceability</th>\n      <th>duration_ms</th>\n      <th>energy</th>\n      <th>explicit</th>\n      <th>id</th>\n      <th>instrumentalness</th>\n      <th>key</th>\n      <th>liveness</th>\n      <th>loudness</th>\n      <th>mode</th>\n      <th>name</th>\n      <th>popularity</th>\n      <th>release_date</th>\n      <th>speechiness</th>\n      <th>tempo</th>\n      <th>decade</th>\n    </tr>\n  </thead>\n  <tbody>\n    <tr>\n      <th>0</th>\n      <td>0.917</td>\n      <td>1970</td>\n      <td>0.096000</td>\n      <td>The Velvet Underground</td>\n      <td>0.624</td>\n      <td>201440</td>\n      <td>0.774</td>\n      <td>0</td>\n      <td>60ZyiL4lmWzZyGfqyECTqp</td>\n      <td>0.030900</td>\n      <td>7</td>\n      <td>0.0960</td>\n      <td>-10.391</td>\n      <td>1</td>\n      <td>Train Round the Bend - 2015 Remaster</td>\n      <td>24</td>\n      <td>1970</td>\n      <td>0.0315</td>\n      <td>117.006</td>\n      <td>1970s</td>\n    </tr>\n    <tr>\n      <th>1</th>\n      <td>0.511</td>\n      <td>1970</td>\n      <td>0.001900</td>\n      <td>Ten Years After</td>\n      <td>0.405</td>\n      <td>458463</td>\n      <td>0.543</td>\n      <td>0</td>\n      <td>6DYyyUdHzI6RdSx0swUR1i</td>\n      <td>0.720000</td>\n      <td>2</td>\n      <td>0.1860</td>\n      <td>-9.313</td>\n      <td>1</td>\n      <td>Love Like a Man - 2017 Remaster</td>\n      <td>34</td>\n      <td>1970-04-01</td>\n      <td>0.0290</td>\n      <td>107.598</td>\n      <td>1970s</td>\n    </tr>\n    <tr>\n      <th>2</th>\n      <td>0.466</td>\n      <td>1970</td>\n      <td>0.052800</td>\n      <td>The Mothers Of Invention</td>\n      <td>0.444</td>\n      <td>105587</td>\n      <td>0.568</td>\n      <td>0</td>\n      <td>6HJAS8XZO0ctUcN2KsbLRa</td>\n      <td>0.000010</td>\n      <td>11</td>\n      <td>0.5120</td>\n      <td>-8.800</td>\n      <td>0</td>\n      <td>Oh No</td>\n      <td>24</td>\n      <td>1970-08-10</td>\n      <td>0.0327</td>\n      <td>124.319</td>\n      <td>1970s</td>\n    </tr>\n    <tr>\n      <th>3</th>\n      <td>0.523</td>\n      <td>1970</td>\n      <td>0.081100</td>\n      <td>Three Dog Night</td>\n      <td>0.502</td>\n      <td>174707</td>\n      <td>0.669</td>\n      <td>0</td>\n      <td>7sZ74qmKb1nyGKUgHROJ1n</td>\n      <td>0.000945</td>\n      <td>7</td>\n      <td>0.0906</td>\n      <td>-11.725</td>\n      <td>1</td>\n      <td>One Man Band</td>\n      <td>19</td>\n      <td>1970-01-01</td>\n      <td>0.0912</td>\n      <td>121.089</td>\n      <td>1970s</td>\n    </tr>\n    <tr>\n      <th>4</th>\n      <td>0.501</td>\n      <td>1970</td>\n      <td>0.000128</td>\n      <td>The Rolling Stones</td>\n      <td>0.273</td>\n      <td>246413</td>\n      <td>0.866</td>\n      <td>0</td>\n      <td>095WtNlSHE8TMB2gQ1fdTx</td>\n      <td>0.790000</td>\n      <td>11</td>\n      <td>0.9610</td>\n      <td>-7.598</td>\n      <td>1</td>\n      <td>Street Fighting Man - Live</td>\n      <td>25</td>\n      <td>1970-09-04</td>\n      <td>0.0347</td>\n      <td>134.891</td>\n      <td>1970s</td>\n    </tr>\n  </tbody>\n</table>\n</div>",
       "datasetInfos": [],
       "metadata": {},
       "removedWidgets": [],
       "textData": null,
       "type": "htmlSandbox"
      }
     },
     "output_type": "display_data"
    }
   ],
   "source": [
    "# verificando base com a criação da nova coluna\n",
    "df_data.head()"
   ]
  },
  {
   "cell_type": "code",
   "execution_count": null,
   "metadata": {
    "application/vnd.databricks.v1+cell": {
     "cellMetadata": {
      "byteLimit": 2048000,
      "rowLimit": 10000
     },
     "inputWidgets": {},
     "nuid": "c2508b5f-89fd-478f-ab10-1d3a634bc42a",
     "showTitle": false,
     "title": ""
    }
   },
   "outputs": [],
   "source": [
    "# realizando uma cópia do dataframe mas com colunas específicas\n",
    "df_data_2 = df_data[['decade']]\n",
    "df_data_2['qtde'] = 1"
   ]
  },
  {
   "cell_type": "code",
   "execution_count": null,
   "metadata": {
    "application/vnd.databricks.v1+cell": {
     "cellMetadata": {
      "byteLimit": 2048000,
      "rowLimit": 10000
     },
     "inputWidgets": {},
     "nuid": "81e24b94-07a9-4fe1-9df6-c2f7d6d00741",
     "showTitle": false,
     "title": ""
    }
   },
   "outputs": [
    {
     "data": {
      "text/html": [
       "<div>\n",
       "<style scoped>\n",
       "    .dataframe tbody tr th:only-of-type {\n",
       "        vertical-align: middle;\n",
       "    }\n",
       "\n",
       "    .dataframe tbody tr th {\n",
       "        vertical-align: top;\n",
       "    }\n",
       "\n",
       "    .dataframe thead th {\n",
       "        text-align: right;\n",
       "    }\n",
       "</style>\n",
       "<table border=\"1\" class=\"dataframe\">\n",
       "  <thead>\n",
       "    <tr style=\"text-align: right;\">\n",
       "      <th></th>\n",
       "      <th>decade</th>\n",
       "      <th>qtde</th>\n",
       "    </tr>\n",
       "  </thead>\n",
       "  <tbody>\n",
       "    <tr>\n",
       "      <th>0</th>\n",
       "      <td>1970s</td>\n",
       "      <td>1</td>\n",
       "    </tr>\n",
       "    <tr>\n",
       "      <th>1</th>\n",
       "      <td>1970s</td>\n",
       "      <td>1</td>\n",
       "    </tr>\n",
       "    <tr>\n",
       "      <th>2</th>\n",
       "      <td>1970s</td>\n",
       "      <td>1</td>\n",
       "    </tr>\n",
       "    <tr>\n",
       "      <th>3</th>\n",
       "      <td>1970s</td>\n",
       "      <td>1</td>\n",
       "    </tr>\n",
       "    <tr>\n",
       "      <th>4</th>\n",
       "      <td>1970s</td>\n",
       "      <td>1</td>\n",
       "    </tr>\n",
       "  </tbody>\n",
       "</table>\n",
       "</div>"
      ]
     },
     "metadata": {
      "application/vnd.databricks.v1+output": {
       "addedWidgets": {},
       "arguments": {},
       "data": "<div>\n<style scoped>\n    .dataframe tbody tr th:only-of-type {\n        vertical-align: middle;\n    }\n\n    .dataframe tbody tr th {\n        vertical-align: top;\n    }\n\n    .dataframe thead th {\n        text-align: right;\n    }\n</style>\n<table border=\"1\" class=\"dataframe\">\n  <thead>\n    <tr style=\"text-align: right;\">\n      <th></th>\n      <th>decade</th>\n      <th>qtde</th>\n    </tr>\n  </thead>\n  <tbody>\n    <tr>\n      <th>0</th>\n      <td>1970s</td>\n      <td>1</td>\n    </tr>\n    <tr>\n      <th>1</th>\n      <td>1970s</td>\n      <td>1</td>\n    </tr>\n    <tr>\n      <th>2</th>\n      <td>1970s</td>\n      <td>1</td>\n    </tr>\n    <tr>\n      <th>3</th>\n      <td>1970s</td>\n      <td>1</td>\n    </tr>\n    <tr>\n      <th>4</th>\n      <td>1970s</td>\n      <td>1</td>\n    </tr>\n  </tbody>\n</table>\n</div>",
       "datasetInfos": [],
       "metadata": {},
       "removedWidgets": [],
       "textData": null,
       "type": "htmlSandbox"
      }
     },
     "output_type": "display_data"
    }
   ],
   "source": [
    "# consultando info do novo dataframe\n",
    "df_data_2.head()"
   ]
  },
  {
   "cell_type": "code",
   "execution_count": null,
   "metadata": {
    "application/vnd.databricks.v1+cell": {
     "cellMetadata": {
      "byteLimit": 2048000,
      "rowLimit": 10000
     },
     "inputWidgets": {},
     "nuid": "b4a7b650-11a8-4495-b3e8-5be16be6914b",
     "showTitle": false,
     "title": ""
    }
   },
   "outputs": [
    {
     "data": {
      "text/html": [
       "<div>\n",
       "<style scoped>\n",
       "    .dataframe tbody tr th:only-of-type {\n",
       "        vertical-align: middle;\n",
       "    }\n",
       "\n",
       "    .dataframe tbody tr th {\n",
       "        vertical-align: top;\n",
       "    }\n",
       "\n",
       "    .dataframe thead th {\n",
       "        text-align: right;\n",
       "    }\n",
       "</style>\n",
       "<table border=\"1\" class=\"dataframe\">\n",
       "  <thead>\n",
       "    <tr style=\"text-align: right;\">\n",
       "      <th></th>\n",
       "      <th>qtde</th>\n",
       "    </tr>\n",
       "    <tr>\n",
       "      <th>decade</th>\n",
       "      <th></th>\n",
       "    </tr>\n",
       "  </thead>\n",
       "  <tbody>\n",
       "    <tr>\n",
       "      <th>1970s</th>\n",
       "      <td>20000</td>\n",
       "    </tr>\n",
       "    <tr>\n",
       "      <th>2000s</th>\n",
       "      <td>19646</td>\n",
       "    </tr>\n",
       "    <tr>\n",
       "      <th>1980s</th>\n",
       "      <td>19850</td>\n",
       "    </tr>\n",
       "    <tr>\n",
       "      <th>1960s</th>\n",
       "      <td>19549</td>\n",
       "    </tr>\n",
       "    <tr>\n",
       "      <th>1930s</th>\n",
       "      <td>9549</td>\n",
       "    </tr>\n",
       "    <tr>\n",
       "      <th>2010s</th>\n",
       "      <td>19774</td>\n",
       "    </tr>\n",
       "    <tr>\n",
       "      <th>2020s</th>\n",
       "      <td>2030</td>\n",
       "    </tr>\n",
       "    <tr>\n",
       "      <th>1990s</th>\n",
       "      <td>19901</td>\n",
       "    </tr>\n",
       "    <tr>\n",
       "      <th>1950s</th>\n",
       "      <td>19850</td>\n",
       "    </tr>\n",
       "    <tr>\n",
       "      <th>1940s</th>\n",
       "      <td>15378</td>\n",
       "    </tr>\n",
       "    <tr>\n",
       "      <th>1920s</th>\n",
       "      <td>5126</td>\n",
       "    </tr>\n",
       "  </tbody>\n",
       "</table>\n",
       "</div>"
      ]
     },
     "metadata": {
      "application/vnd.databricks.v1+output": {
       "addedWidgets": {},
       "arguments": {},
       "data": "<div>\n<style scoped>\n    .dataframe tbody tr th:only-of-type {\n        vertical-align: middle;\n    }\n\n    .dataframe tbody tr th {\n        vertical-align: top;\n    }\n\n    .dataframe thead th {\n        text-align: right;\n    }\n</style>\n<table border=\"1\" class=\"dataframe\">\n  <thead>\n    <tr style=\"text-align: right;\">\n      <th></th>\n      <th>qtde</th>\n    </tr>\n    <tr>\n      <th>decade</th>\n      <th></th>\n    </tr>\n  </thead>\n  <tbody>\n    <tr>\n      <th>1970s</th>\n      <td>20000</td>\n    </tr>\n    <tr>\n      <th>2000s</th>\n      <td>19646</td>\n    </tr>\n    <tr>\n      <th>1980s</th>\n      <td>19850</td>\n    </tr>\n    <tr>\n      <th>1960s</th>\n      <td>19549</td>\n    </tr>\n    <tr>\n      <th>1930s</th>\n      <td>9549</td>\n    </tr>\n    <tr>\n      <th>2010s</th>\n      <td>19774</td>\n    </tr>\n    <tr>\n      <th>2020s</th>\n      <td>2030</td>\n    </tr>\n    <tr>\n      <th>1990s</th>\n      <td>19901</td>\n    </tr>\n    <tr>\n      <th>1950s</th>\n      <td>19850</td>\n    </tr>\n    <tr>\n      <th>1940s</th>\n      <td>15378</td>\n    </tr>\n    <tr>\n      <th>1920s</th>\n      <td>5126</td>\n    </tr>\n  </tbody>\n</table>\n</div>",
       "datasetInfos": [],
       "metadata": {},
       "removedWidgets": [],
       "textData": null,
       "type": "htmlSandbox"
      }
     },
     "output_type": "display_data"
    }
   ],
   "source": [
    "# criando novo dataframe agregando os dados pela coluna 'decade' e aplicando a soma de musicas\n",
    "df_data_2 = df_data_2.groupby('decade').sum()\n",
    "df_data_2"
   ]
  },
  {
   "cell_type": "code",
   "execution_count": null,
   "metadata": {
    "application/vnd.databricks.v1+cell": {
     "cellMetadata": {
      "byteLimit": 2048000,
      "rowLimit": 10000
     },
     "inputWidgets": {},
     "nuid": "cbbf52d1-3d08-48f5-ac32-f2473ce83b08",
     "showTitle": false,
     "title": ""
    }
   },
   "outputs": [
    {
     "data": {
      "text/html": [
       "<div>\n",
       "<style scoped>\n",
       "    .dataframe tbody tr th:only-of-type {\n",
       "        vertical-align: middle;\n",
       "    }\n",
       "\n",
       "    .dataframe tbody tr th {\n",
       "        vertical-align: top;\n",
       "    }\n",
       "\n",
       "    .dataframe thead th {\n",
       "        text-align: right;\n",
       "    }\n",
       "</style>\n",
       "<table border=\"1\" class=\"dataframe\">\n",
       "  <thead>\n",
       "    <tr style=\"text-align: right;\">\n",
       "      <th></th>\n",
       "      <th>qtde</th>\n",
       "    </tr>\n",
       "    <tr>\n",
       "      <th>decade</th>\n",
       "      <th></th>\n",
       "    </tr>\n",
       "  </thead>\n",
       "  <tbody>\n",
       "    <tr>\n",
       "      <th>1920s</th>\n",
       "      <td>5126</td>\n",
       "    </tr>\n",
       "    <tr>\n",
       "      <th>1930s</th>\n",
       "      <td>9549</td>\n",
       "    </tr>\n",
       "    <tr>\n",
       "      <th>1940s</th>\n",
       "      <td>15378</td>\n",
       "    </tr>\n",
       "    <tr>\n",
       "      <th>1950s</th>\n",
       "      <td>19850</td>\n",
       "    </tr>\n",
       "    <tr>\n",
       "      <th>1960s</th>\n",
       "      <td>19549</td>\n",
       "    </tr>\n",
       "    <tr>\n",
       "      <th>1970s</th>\n",
       "      <td>20000</td>\n",
       "    </tr>\n",
       "    <tr>\n",
       "      <th>1980s</th>\n",
       "      <td>19850</td>\n",
       "    </tr>\n",
       "    <tr>\n",
       "      <th>1990s</th>\n",
       "      <td>19901</td>\n",
       "    </tr>\n",
       "    <tr>\n",
       "      <th>2000s</th>\n",
       "      <td>19646</td>\n",
       "    </tr>\n",
       "    <tr>\n",
       "      <th>2010s</th>\n",
       "      <td>19774</td>\n",
       "    </tr>\n",
       "    <tr>\n",
       "      <th>2020s</th>\n",
       "      <td>2030</td>\n",
       "    </tr>\n",
       "  </tbody>\n",
       "</table>\n",
       "</div>"
      ]
     },
     "metadata": {
      "application/vnd.databricks.v1+output": {
       "addedWidgets": {},
       "arguments": {},
       "data": "<div>\n<style scoped>\n    .dataframe tbody tr th:only-of-type {\n        vertical-align: middle;\n    }\n\n    .dataframe tbody tr th {\n        vertical-align: top;\n    }\n\n    .dataframe thead th {\n        text-align: right;\n    }\n</style>\n<table border=\"1\" class=\"dataframe\">\n  <thead>\n    <tr style=\"text-align: right;\">\n      <th></th>\n      <th>qtde</th>\n    </tr>\n    <tr>\n      <th>decade</th>\n      <th></th>\n    </tr>\n  </thead>\n  <tbody>\n    <tr>\n      <th>1920s</th>\n      <td>5126</td>\n    </tr>\n    <tr>\n      <th>1930s</th>\n      <td>9549</td>\n    </tr>\n    <tr>\n      <th>1940s</th>\n      <td>15378</td>\n    </tr>\n    <tr>\n      <th>1950s</th>\n      <td>19850</td>\n    </tr>\n    <tr>\n      <th>1960s</th>\n      <td>19549</td>\n    </tr>\n    <tr>\n      <th>1970s</th>\n      <td>20000</td>\n    </tr>\n    <tr>\n      <th>1980s</th>\n      <td>19850</td>\n    </tr>\n    <tr>\n      <th>1990s</th>\n      <td>19901</td>\n    </tr>\n    <tr>\n      <th>2000s</th>\n      <td>19646</td>\n    </tr>\n    <tr>\n      <th>2010s</th>\n      <td>19774</td>\n    </tr>\n    <tr>\n      <th>2020s</th>\n      <td>2030</td>\n    </tr>\n  </tbody>\n</table>\n</div>",
       "datasetInfos": [],
       "metadata": {},
       "removedWidgets": [],
       "textData": null,
       "type": "htmlSandbox"
      }
     },
     "output_type": "display_data"
    }
   ],
   "source": [
    "# classicando os dados em ordem crescente por decada\n",
    "df_data_2.sort_index()"
   ]
  },
  {
   "cell_type": "code",
   "execution_count": null,
   "metadata": {
    "application/vnd.databricks.v1+cell": {
     "cellMetadata": {
      "byteLimit": 2048000,
      "rowLimit": 10000
     },
     "inputWidgets": {},
     "nuid": "0fb58362-7720-4fad-a383-d38ec5436fe8",
     "showTitle": false,
     "title": ""
    }
   },
   "outputs": [
    {
     "data": {
      "text/html": [
       "<html>\n",
       "<head><meta charset=\"utf-8\" /></head>\n",
       "<body>\n",
       "    <div>            <script src=\"https://cdnjs.cloudflare.com/ajax/libs/mathjax/2.7.5/MathJax.js?config=TeX-AMS-MML_SVG\"></script><script type=\"text/javascript\">if (window.MathJax) {MathJax.Hub.Config({SVG: {font: \"STIX-Web\"}});}</script>                <script type=\"text/javascript\">window.PlotlyConfig = {MathJaxConfig: 'local'};</script>\n",
       "        <script src=\"https://cdn.plot.ly/plotly-2.9.0.min.js\"></script>                <div id=\"55e9fb4e-1a12-42c2-9f0f-52f468157c9c\" class=\"plotly-graph-div\" style=\"height:100%; width:100%;\"></div>            <script type=\"text/javascript\">                                    window.PLOTLYENV=window.PLOTLYENV || {};                                    if (document.getElementById(\"55e9fb4e-1a12-42c2-9f0f-52f468157c9c\")) {                    Plotly.newPlot(                        \"55e9fb4e-1a12-42c2-9f0f-52f468157c9c\",                        [{\"alignmentgroup\":\"True\",\"hovertemplate\":\"decade=%{x}<br>qtde=%{y}<extra></extra>\",\"legendgroup\":\"\",\"marker\":{\"color\":\"#636efa\",\"pattern\":{\"shape\":\"\"}},\"name\":\"\",\"offsetgroup\":\"\",\"orientation\":\"v\",\"showlegend\":false,\"textposition\":\"auto\",\"x\":[\"1920s\",\"1930s\",\"1940s\",\"1950s\",\"1960s\",\"1970s\",\"1980s\",\"1990s\",\"2000s\",\"2010s\",\"2020s\"],\"xaxis\":\"x\",\"y\":[5126,9549,15378,19850,19549,20000,19850,19901,19646,19774,2030],\"yaxis\":\"y\",\"type\":\"bar\"}],                        {\"template\":{\"data\":{\"bar\":[{\"error_x\":{\"color\":\"#2a3f5f\"},\"error_y\":{\"color\":\"#2a3f5f\"},\"marker\":{\"line\":{\"color\":\"#E5ECF6\",\"width\":0.5},\"pattern\":{\"fillmode\":\"overlay\",\"size\":10,\"solidity\":0.2}},\"type\":\"bar\"}],\"barpolar\":[{\"marker\":{\"line\":{\"color\":\"#E5ECF6\",\"width\":0.5},\"pattern\":{\"fillmode\":\"overlay\",\"size\":10,\"solidity\":0.2}},\"type\":\"barpolar\"}],\"carpet\":[{\"aaxis\":{\"endlinecolor\":\"#2a3f5f\",\"gridcolor\":\"white\",\"linecolor\":\"white\",\"minorgridcolor\":\"white\",\"startlinecolor\":\"#2a3f5f\"},\"baxis\":{\"endlinecolor\":\"#2a3f5f\",\"gridcolor\":\"white\",\"linecolor\":\"white\",\"minorgridcolor\":\"white\",\"startlinecolor\":\"#2a3f5f\"},\"type\":\"carpet\"}],\"choropleth\":[{\"colorbar\":{\"outlinewidth\":0,\"ticks\":\"\"},\"type\":\"choropleth\"}],\"contour\":[{\"colorbar\":{\"outlinewidth\":0,\"ticks\":\"\"},\"colorscale\":[[0.0,\"#0d0887\"],[0.1111111111111111,\"#46039f\"],[0.2222222222222222,\"#7201a8\"],[0.3333333333333333,\"#9c179e\"],[0.4444444444444444,\"#bd3786\"],[0.5555555555555556,\"#d8576b\"],[0.6666666666666666,\"#ed7953\"],[0.7777777777777778,\"#fb9f3a\"],[0.8888888888888888,\"#fdca26\"],[1.0,\"#f0f921\"]],\"type\":\"contour\"}],\"contourcarpet\":[{\"colorbar\":{\"outlinewidth\":0,\"ticks\":\"\"},\"type\":\"contourcarpet\"}],\"heatmap\":[{\"colorbar\":{\"outlinewidth\":0,\"ticks\":\"\"},\"colorscale\":[[0.0,\"#0d0887\"],[0.1111111111111111,\"#46039f\"],[0.2222222222222222,\"#7201a8\"],[0.3333333333333333,\"#9c179e\"],[0.4444444444444444,\"#bd3786\"],[0.5555555555555556,\"#d8576b\"],[0.6666666666666666,\"#ed7953\"],[0.7777777777777778,\"#fb9f3a\"],[0.8888888888888888,\"#fdca26\"],[1.0,\"#f0f921\"]],\"type\":\"heatmap\"}],\"heatmapgl\":[{\"colorbar\":{\"outlinewidth\":0,\"ticks\":\"\"},\"colorscale\":[[0.0,\"#0d0887\"],[0.1111111111111111,\"#46039f\"],[0.2222222222222222,\"#7201a8\"],[0.3333333333333333,\"#9c179e\"],[0.4444444444444444,\"#bd3786\"],[0.5555555555555556,\"#d8576b\"],[0.6666666666666666,\"#ed7953\"],[0.7777777777777778,\"#fb9f3a\"],[0.8888888888888888,\"#fdca26\"],[1.0,\"#f0f921\"]],\"type\":\"heatmapgl\"}],\"histogram\":[{\"marker\":{\"pattern\":{\"fillmode\":\"overlay\",\"size\":10,\"solidity\":0.2}},\"type\":\"histogram\"}],\"histogram2d\":[{\"colorbar\":{\"outlinewidth\":0,\"ticks\":\"\"},\"colorscale\":[[0.0,\"#0d0887\"],[0.1111111111111111,\"#46039f\"],[0.2222222222222222,\"#7201a8\"],[0.3333333333333333,\"#9c179e\"],[0.4444444444444444,\"#bd3786\"],[0.5555555555555556,\"#d8576b\"],[0.6666666666666666,\"#ed7953\"],[0.7777777777777778,\"#fb9f3a\"],[0.8888888888888888,\"#fdca26\"],[1.0,\"#f0f921\"]],\"type\":\"histogram2d\"}],\"histogram2dcontour\":[{\"colorbar\":{\"outlinewidth\":0,\"ticks\":\"\"},\"colorscale\":[[0.0,\"#0d0887\"],[0.1111111111111111,\"#46039f\"],[0.2222222222222222,\"#7201a8\"],[0.3333333333333333,\"#9c179e\"],[0.4444444444444444,\"#bd3786\"],[0.5555555555555556,\"#d8576b\"],[0.6666666666666666,\"#ed7953\"],[0.7777777777777778,\"#fb9f3a\"],[0.8888888888888888,\"#fdca26\"],[1.0,\"#f0f921\"]],\"type\":\"histogram2dcontour\"}],\"mesh3d\":[{\"colorbar\":{\"outlinewidth\":0,\"ticks\":\"\"},\"type\":\"mesh3d\"}],\"parcoords\":[{\"line\":{\"colorbar\":{\"outlinewidth\":0,\"ticks\":\"\"}},\"type\":\"parcoords\"}],\"pie\":[{\"automargin\":true,\"type\":\"pie\"}],\"scatter\":[{\"marker\":{\"colorbar\":{\"outlinewidth\":0,\"ticks\":\"\"}},\"type\":\"scatter\"}],\"scatter3d\":[{\"line\":{\"colorbar\":{\"outlinewidth\":0,\"ticks\":\"\"}},\"marker\":{\"colorbar\":{\"outlinewidth\":0,\"ticks\":\"\"}},\"type\":\"scatter3d\"}],\"scattercarpet\":[{\"marker\":{\"colorbar\":{\"outlinewidth\":0,\"ticks\":\"\"}},\"type\":\"scattercarpet\"}],\"scattergeo\":[{\"marker\":{\"colorbar\":{\"outlinewidth\":0,\"ticks\":\"\"}},\"type\":\"scattergeo\"}],\"scattergl\":[{\"marker\":{\"colorbar\":{\"outlinewidth\":0,\"ticks\":\"\"}},\"type\":\"scattergl\"}],\"scattermapbox\":[{\"marker\":{\"colorbar\":{\"outlinewidth\":0,\"ticks\":\"\"}},\"type\":\"scattermapbox\"}],\"scatterpolar\":[{\"marker\":{\"colorbar\":{\"outlinewidth\":0,\"ticks\":\"\"}},\"type\":\"scatterpolar\"}],\"scatterpolargl\":[{\"marker\":{\"colorbar\":{\"outlinewidth\":0,\"ticks\":\"\"}},\"type\":\"scatterpolargl\"}],\"scatterternary\":[{\"marker\":{\"colorbar\":{\"outlinewidth\":0,\"ticks\":\"\"}},\"type\":\"scatterternary\"}],\"surface\":[{\"colorbar\":{\"outlinewidth\":0,\"ticks\":\"\"},\"colorscale\":[[0.0,\"#0d0887\"],[0.1111111111111111,\"#46039f\"],[0.2222222222222222,\"#7201a8\"],[0.3333333333333333,\"#9c179e\"],[0.4444444444444444,\"#bd3786\"],[0.5555555555555556,\"#d8576b\"],[0.6666666666666666,\"#ed7953\"],[0.7777777777777778,\"#fb9f3a\"],[0.8888888888888888,\"#fdca26\"],[1.0,\"#f0f921\"]],\"type\":\"surface\"}],\"table\":[{\"cells\":{\"fill\":{\"color\":\"#EBF0F8\"},\"line\":{\"color\":\"white\"}},\"header\":{\"fill\":{\"color\":\"#C8D4E3\"},\"line\":{\"color\":\"white\"}},\"type\":\"table\"}]},\"layout\":{\"annotationdefaults\":{\"arrowcolor\":\"#2a3f5f\",\"arrowhead\":0,\"arrowwidth\":1},\"autotypenumbers\":\"strict\",\"coloraxis\":{\"colorbar\":{\"outlinewidth\":0,\"ticks\":\"\"}},\"colorscale\":{\"diverging\":[[0,\"#8e0152\"],[0.1,\"#c51b7d\"],[0.2,\"#de77ae\"],[0.3,\"#f1b6da\"],[0.4,\"#fde0ef\"],[0.5,\"#f7f7f7\"],[0.6,\"#e6f5d0\"],[0.7,\"#b8e186\"],[0.8,\"#7fbc41\"],[0.9,\"#4d9221\"],[1,\"#276419\"]],\"sequential\":[[0.0,\"#0d0887\"],[0.1111111111111111,\"#46039f\"],[0.2222222222222222,\"#7201a8\"],[0.3333333333333333,\"#9c179e\"],[0.4444444444444444,\"#bd3786\"],[0.5555555555555556,\"#d8576b\"],[0.6666666666666666,\"#ed7953\"],[0.7777777777777778,\"#fb9f3a\"],[0.8888888888888888,\"#fdca26\"],[1.0,\"#f0f921\"]],\"sequentialminus\":[[0.0,\"#0d0887\"],[0.1111111111111111,\"#46039f\"],[0.2222222222222222,\"#7201a8\"],[0.3333333333333333,\"#9c179e\"],[0.4444444444444444,\"#bd3786\"],[0.5555555555555556,\"#d8576b\"],[0.6666666666666666,\"#ed7953\"],[0.7777777777777778,\"#fb9f3a\"],[0.8888888888888888,\"#fdca26\"],[1.0,\"#f0f921\"]]},\"colorway\":[\"#636efa\",\"#EF553B\",\"#00cc96\",\"#ab63fa\",\"#FFA15A\",\"#19d3f3\",\"#FF6692\",\"#B6E880\",\"#FF97FF\",\"#FECB52\"],\"font\":{\"color\":\"#2a3f5f\"},\"geo\":{\"bgcolor\":\"white\",\"lakecolor\":\"white\",\"landcolor\":\"#E5ECF6\",\"showlakes\":true,\"showland\":true,\"subunitcolor\":\"white\"},\"hoverlabel\":{\"align\":\"left\"},\"hovermode\":\"closest\",\"mapbox\":{\"style\":\"light\"},\"paper_bgcolor\":\"white\",\"plot_bgcolor\":\"#E5ECF6\",\"polar\":{\"angularaxis\":{\"gridcolor\":\"white\",\"linecolor\":\"white\",\"ticks\":\"\"},\"bgcolor\":\"#E5ECF6\",\"radialaxis\":{\"gridcolor\":\"white\",\"linecolor\":\"white\",\"ticks\":\"\"}},\"scene\":{\"xaxis\":{\"backgroundcolor\":\"#E5ECF6\",\"gridcolor\":\"white\",\"gridwidth\":2,\"linecolor\":\"white\",\"showbackground\":true,\"ticks\":\"\",\"zerolinecolor\":\"white\"},\"yaxis\":{\"backgroundcolor\":\"#E5ECF6\",\"gridcolor\":\"white\",\"gridwidth\":2,\"linecolor\":\"white\",\"showbackground\":true,\"ticks\":\"\",\"zerolinecolor\":\"white\"},\"zaxis\":{\"backgroundcolor\":\"#E5ECF6\",\"gridcolor\":\"white\",\"gridwidth\":2,\"linecolor\":\"white\",\"showbackground\":true,\"ticks\":\"\",\"zerolinecolor\":\"white\"}},\"shapedefaults\":{\"line\":{\"color\":\"#2a3f5f\"}},\"ternary\":{\"aaxis\":{\"gridcolor\":\"white\",\"linecolor\":\"white\",\"ticks\":\"\"},\"baxis\":{\"gridcolor\":\"white\",\"linecolor\":\"white\",\"ticks\":\"\"},\"bgcolor\":\"#E5ECF6\",\"caxis\":{\"gridcolor\":\"white\",\"linecolor\":\"white\",\"ticks\":\"\"}},\"title\":{\"x\":0.05},\"xaxis\":{\"automargin\":true,\"gridcolor\":\"white\",\"linecolor\":\"white\",\"ticks\":\"\",\"title\":{\"standoff\":15},\"zerolinecolor\":\"white\",\"zerolinewidth\":2},\"yaxis\":{\"automargin\":true,\"gridcolor\":\"white\",\"linecolor\":\"white\",\"ticks\":\"\",\"title\":{\"standoff\":15},\"zerolinecolor\":\"white\",\"zerolinewidth\":2}}},\"xaxis\":{\"anchor\":\"y\",\"domain\":[0.0,1.0],\"title\":{\"text\":\"decade\"}},\"yaxis\":{\"anchor\":\"x\",\"domain\":[0.0,1.0],\"title\":{\"text\":\"qtde\"}},\"legend\":{\"tracegroupgap\":0},\"margin\":{\"t\":60},\"barmode\":\"relative\"},                        {\"responsive\": true}                    )                };                            </script>        </div>\n",
       "</body>\n",
       "</html>"
      ]
     },
     "metadata": {
      "application/vnd.databricks.v1+output": {
       "addedWidgets": {},
       "arguments": {},
       "data": "<html>\n<head><meta charset=\"utf-8\" /></head>\n<body>\n    <div>            <script src=\"https://cdnjs.cloudflare.com/ajax/libs/mathjax/2.7.5/MathJax.js?config=TeX-AMS-MML_SVG\"></script><script type=\"text/javascript\">if (window.MathJax) {MathJax.Hub.Config({SVG: {font: \"STIX-Web\"}});}</script>                <script type=\"text/javascript\">window.PlotlyConfig = {MathJaxConfig: 'local'};</script>\n        <script src=\"https://cdn.plot.ly/plotly-2.9.0.min.js\"></script>                <div id=\"55e9fb4e-1a12-42c2-9f0f-52f468157c9c\" class=\"plotly-graph-div\" style=\"height:100%; width:100%;\"></div>            <script type=\"text/javascript\">                                    window.PLOTLYENV=window.PLOTLYENV || {};                                    if (document.getElementById(\"55e9fb4e-1a12-42c2-9f0f-52f468157c9c\")) {                    Plotly.newPlot(                        \"55e9fb4e-1a12-42c2-9f0f-52f468157c9c\",                        [{\"alignmentgroup\":\"True\",\"hovertemplate\":\"decade=%{x}<br>qtde=%{y}<extra></extra>\",\"legendgroup\":\"\",\"marker\":{\"color\":\"#636efa\",\"pattern\":{\"shape\":\"\"}},\"name\":\"\",\"offsetgroup\":\"\",\"orientation\":\"v\",\"showlegend\":false,\"textposition\":\"auto\",\"x\":[\"1920s\",\"1930s\",\"1940s\",\"1950s\",\"1960s\",\"1970s\",\"1980s\",\"1990s\",\"2000s\",\"2010s\",\"2020s\"],\"xaxis\":\"x\",\"y\":[5126,9549,15378,19850,19549,20000,19850,19901,19646,19774,2030],\"yaxis\":\"y\",\"type\":\"bar\"}],                        {\"template\":{\"data\":{\"bar\":[{\"error_x\":{\"color\":\"#2a3f5f\"},\"error_y\":{\"color\":\"#2a3f5f\"},\"marker\":{\"line\":{\"color\":\"#E5ECF6\",\"width\":0.5},\"pattern\":{\"fillmode\":\"overlay\",\"size\":10,\"solidity\":0.2}},\"type\":\"bar\"}],\"barpolar\":[{\"marker\":{\"line\":{\"color\":\"#E5ECF6\",\"width\":0.5},\"pattern\":{\"fillmode\":\"overlay\",\"size\":10,\"solidity\":0.2}},\"type\":\"barpolar\"}],\"carpet\":[{\"aaxis\":{\"endlinecolor\":\"#2a3f5f\",\"gridcolor\":\"white\",\"linecolor\":\"white\",\"minorgridcolor\":\"white\",\"startlinecolor\":\"#2a3f5f\"},\"baxis\":{\"endlinecolor\":\"#2a3f5f\",\"gridcolor\":\"white\",\"linecolor\":\"white\",\"minorgridcolor\":\"white\",\"startlinecolor\":\"#2a3f5f\"},\"type\":\"carpet\"}],\"choropleth\":[{\"colorbar\":{\"outlinewidth\":0,\"ticks\":\"\"},\"type\":\"choropleth\"}],\"contour\":[{\"colorbar\":{\"outlinewidth\":0,\"ticks\":\"\"},\"colorscale\":[[0.0,\"#0d0887\"],[0.1111111111111111,\"#46039f\"],[0.2222222222222222,\"#7201a8\"],[0.3333333333333333,\"#9c179e\"],[0.4444444444444444,\"#bd3786\"],[0.5555555555555556,\"#d8576b\"],[0.6666666666666666,\"#ed7953\"],[0.7777777777777778,\"#fb9f3a\"],[0.8888888888888888,\"#fdca26\"],[1.0,\"#f0f921\"]],\"type\":\"contour\"}],\"contourcarpet\":[{\"colorbar\":{\"outlinewidth\":0,\"ticks\":\"\"},\"type\":\"contourcarpet\"}],\"heatmap\":[{\"colorbar\":{\"outlinewidth\":0,\"ticks\":\"\"},\"colorscale\":[[0.0,\"#0d0887\"],[0.1111111111111111,\"#46039f\"],[0.2222222222222222,\"#7201a8\"],[0.3333333333333333,\"#9c179e\"],[0.4444444444444444,\"#bd3786\"],[0.5555555555555556,\"#d8576b\"],[0.6666666666666666,\"#ed7953\"],[0.7777777777777778,\"#fb9f3a\"],[0.8888888888888888,\"#fdca26\"],[1.0,\"#f0f921\"]],\"type\":\"heatmap\"}],\"heatmapgl\":[{\"colorbar\":{\"outlinewidth\":0,\"ticks\":\"\"},\"colorscale\":[[0.0,\"#0d0887\"],[0.1111111111111111,\"#46039f\"],[0.2222222222222222,\"#7201a8\"],[0.3333333333333333,\"#9c179e\"],[0.4444444444444444,\"#bd3786\"],[0.5555555555555556,\"#d8576b\"],[0.6666666666666666,\"#ed7953\"],[0.7777777777777778,\"#fb9f3a\"],[0.8888888888888888,\"#fdca26\"],[1.0,\"#f0f921\"]],\"type\":\"heatmapgl\"}],\"histogram\":[{\"marker\":{\"pattern\":{\"fillmode\":\"overlay\",\"size\":10,\"solidity\":0.2}},\"type\":\"histogram\"}],\"histogram2d\":[{\"colorbar\":{\"outlinewidth\":0,\"ticks\":\"\"},\"colorscale\":[[0.0,\"#0d0887\"],[0.1111111111111111,\"#46039f\"],[0.2222222222222222,\"#7201a8\"],[0.3333333333333333,\"#9c179e\"],[0.4444444444444444,\"#bd3786\"],[0.5555555555555556,\"#d8576b\"],[0.6666666666666666,\"#ed7953\"],[0.7777777777777778,\"#fb9f3a\"],[0.8888888888888888,\"#fdca26\"],[1.0,\"#f0f921\"]],\"type\":\"histogram2d\"}],\"histogram2dcontour\":[{\"colorbar\":{\"outlinewidth\":0,\"ticks\":\"\"},\"colorscale\":[[0.0,\"#0d0887\"],[0.1111111111111111,\"#46039f\"],[0.2222222222222222,\"#7201a8\"],[0.3333333333333333,\"#9c179e\"],[0.4444444444444444,\"#bd3786\"],[0.5555555555555556,\"#d8576b\"],[0.6666666666666666,\"#ed7953\"],[0.7777777777777778,\"#fb9f3a\"],[0.8888888888888888,\"#fdca26\"],[1.0,\"#f0f921\"]],\"type\":\"histogram2dcontour\"}],\"mesh3d\":[{\"colorbar\":{\"outlinewidth\":0,\"ticks\":\"\"},\"type\":\"mesh3d\"}],\"parcoords\":[{\"line\":{\"colorbar\":{\"outlinewidth\":0,\"ticks\":\"\"}},\"type\":\"parcoords\"}],\"pie\":[{\"automargin\":true,\"type\":\"pie\"}],\"scatter\":[{\"marker\":{\"colorbar\":{\"outlinewidth\":0,\"ticks\":\"\"}},\"type\":\"scatter\"}],\"scatter3d\":[{\"line\":{\"colorbar\":{\"outlinewidth\":0,\"ticks\":\"\"}},\"marker\":{\"colorbar\":{\"outlinewidth\":0,\"ticks\":\"\"}},\"type\":\"scatter3d\"}],\"scattercarpet\":[{\"marker\":{\"colorbar\":{\"outlinewidth\":0,\"ticks\":\"\"}},\"type\":\"scattercarpet\"}],\"scattergeo\":[{\"marker\":{\"colorbar\":{\"outlinewidth\":0,\"ticks\":\"\"}},\"type\":\"scattergeo\"}],\"scattergl\":[{\"marker\":{\"colorbar\":{\"outlinewidth\":0,\"ticks\":\"\"}},\"type\":\"scattergl\"}],\"scattermapbox\":[{\"marker\":{\"colorbar\":{\"outlinewidth\":0,\"ticks\":\"\"}},\"type\":\"scattermapbox\"}],\"scatterpolar\":[{\"marker\":{\"colorbar\":{\"outlinewidth\":0,\"ticks\":\"\"}},\"type\":\"scatterpolar\"}],\"scatterpolargl\":[{\"marker\":{\"colorbar\":{\"outlinewidth\":0,\"ticks\":\"\"}},\"type\":\"scatterpolargl\"}],\"scatterternary\":[{\"marker\":{\"colorbar\":{\"outlinewidth\":0,\"ticks\":\"\"}},\"type\":\"scatterternary\"}],\"surface\":[{\"colorbar\":{\"outlinewidth\":0,\"ticks\":\"\"},\"colorscale\":[[0.0,\"#0d0887\"],[0.1111111111111111,\"#46039f\"],[0.2222222222222222,\"#7201a8\"],[0.3333333333333333,\"#9c179e\"],[0.4444444444444444,\"#bd3786\"],[0.5555555555555556,\"#d8576b\"],[0.6666666666666666,\"#ed7953\"],[0.7777777777777778,\"#fb9f3a\"],[0.8888888888888888,\"#fdca26\"],[1.0,\"#f0f921\"]],\"type\":\"surface\"}],\"table\":[{\"cells\":{\"fill\":{\"color\":\"#EBF0F8\"},\"line\":{\"color\":\"white\"}},\"header\":{\"fill\":{\"color\":\"#C8D4E3\"},\"line\":{\"color\":\"white\"}},\"type\":\"table\"}]},\"layout\":{\"annotationdefaults\":{\"arrowcolor\":\"#2a3f5f\",\"arrowhead\":0,\"arrowwidth\":1},\"autotypenumbers\":\"strict\",\"coloraxis\":{\"colorbar\":{\"outlinewidth\":0,\"ticks\":\"\"}},\"colorscale\":{\"diverging\":[[0,\"#8e0152\"],[0.1,\"#c51b7d\"],[0.2,\"#de77ae\"],[0.3,\"#f1b6da\"],[0.4,\"#fde0ef\"],[0.5,\"#f7f7f7\"],[0.6,\"#e6f5d0\"],[0.7,\"#b8e186\"],[0.8,\"#7fbc41\"],[0.9,\"#4d9221\"],[1,\"#276419\"]],\"sequential\":[[0.0,\"#0d0887\"],[0.1111111111111111,\"#46039f\"],[0.2222222222222222,\"#7201a8\"],[0.3333333333333333,\"#9c179e\"],[0.4444444444444444,\"#bd3786\"],[0.5555555555555556,\"#d8576b\"],[0.6666666666666666,\"#ed7953\"],[0.7777777777777778,\"#fb9f3a\"],[0.8888888888888888,\"#fdca26\"],[1.0,\"#f0f921\"]],\"sequentialminus\":[[0.0,\"#0d0887\"],[0.1111111111111111,\"#46039f\"],[0.2222222222222222,\"#7201a8\"],[0.3333333333333333,\"#9c179e\"],[0.4444444444444444,\"#bd3786\"],[0.5555555555555556,\"#d8576b\"],[0.6666666666666666,\"#ed7953\"],[0.7777777777777778,\"#fb9f3a\"],[0.8888888888888888,\"#fdca26\"],[1.0,\"#f0f921\"]]},\"colorway\":[\"#636efa\",\"#EF553B\",\"#00cc96\",\"#ab63fa\",\"#FFA15A\",\"#19d3f3\",\"#FF6692\",\"#B6E880\",\"#FF97FF\",\"#FECB52\"],\"font\":{\"color\":\"#2a3f5f\"},\"geo\":{\"bgcolor\":\"white\",\"lakecolor\":\"white\",\"landcolor\":\"#E5ECF6\",\"showlakes\":true,\"showland\":true,\"subunitcolor\":\"white\"},\"hoverlabel\":{\"align\":\"left\"},\"hovermode\":\"closest\",\"mapbox\":{\"style\":\"light\"},\"paper_bgcolor\":\"white\",\"plot_bgcolor\":\"#E5ECF6\",\"polar\":{\"angularaxis\":{\"gridcolor\":\"white\",\"linecolor\":\"white\",\"ticks\":\"\"},\"bgcolor\":\"#E5ECF6\",\"radialaxis\":{\"gridcolor\":\"white\",\"linecolor\":\"white\",\"ticks\":\"\"}},\"scene\":{\"xaxis\":{\"backgroundcolor\":\"#E5ECF6\",\"gridcolor\":\"white\",\"gridwidth\":2,\"linecolor\":\"white\",\"showbackground\":true,\"ticks\":\"\",\"zerolinecolor\":\"white\"},\"yaxis\":{\"backgroundcolor\":\"#E5ECF6\",\"gridcolor\":\"white\",\"gridwidth\":2,\"linecolor\":\"white\",\"showbackground\":true,\"ticks\":\"\",\"zerolinecolor\":\"white\"},\"zaxis\":{\"backgroundcolor\":\"#E5ECF6\",\"gridcolor\":\"white\",\"gridwidth\":2,\"linecolor\":\"white\",\"showbackground\":true,\"ticks\":\"\",\"zerolinecolor\":\"white\"}},\"shapedefaults\":{\"line\":{\"color\":\"#2a3f5f\"}},\"ternary\":{\"aaxis\":{\"gridcolor\":\"white\",\"linecolor\":\"white\",\"ticks\":\"\"},\"baxis\":{\"gridcolor\":\"white\",\"linecolor\":\"white\",\"ticks\":\"\"},\"bgcolor\":\"#E5ECF6\",\"caxis\":{\"gridcolor\":\"white\",\"linecolor\":\"white\",\"ticks\":\"\"}},\"title\":{\"x\":0.05},\"xaxis\":{\"automargin\":true,\"gridcolor\":\"white\",\"linecolor\":\"white\",\"ticks\":\"\",\"title\":{\"standoff\":15},\"zerolinecolor\":\"white\",\"zerolinewidth\":2},\"yaxis\":{\"automargin\":true,\"gridcolor\":\"white\",\"linecolor\":\"white\",\"ticks\":\"\",\"title\":{\"standoff\":15},\"zerolinecolor\":\"white\",\"zerolinewidth\":2}}},\"xaxis\":{\"anchor\":\"y\",\"domain\":[0.0,1.0],\"title\":{\"text\":\"decade\"}},\"yaxis\":{\"anchor\":\"x\",\"domain\":[0.0,1.0],\"title\":{\"text\":\"qtde\"}},\"legend\":{\"tracegroupgap\":0},\"margin\":{\"t\":60},\"barmode\":\"relative\"},                        {\"responsive\": true}                    )                };                            </script>        </div>\n</body>\n</html>",
       "datasetInfos": [],
       "metadata": {},
       "removedWidgets": [],
       "textData": null,
       "type": "htmlSandbox"
      }
     },
     "output_type": "display_data"
    }
   ],
   "source": [
    "# visualização gráfica dos dados\n",
    "df_data_2.sort_index().plot.bar(y='qtde')"
   ]
  },
  {
   "cell_type": "code",
   "execution_count": null,
   "metadata": {
    "application/vnd.databricks.v1+cell": {
     "cellMetadata": {
      "byteLimit": 2048000,
      "rowLimit": 10000
     },
     "inputWidgets": {},
     "nuid": "28d4d31c-a046-4d79-a3e8-3cab7c6d9c54",
     "showTitle": false,
     "title": ""
    }
   },
   "outputs": [
    {
     "data": {
      "text/html": [
       "<style scoped>\n",
       "  .table-result-container {\n",
       "    max-height: 300px;\n",
       "    overflow: auto;\n",
       "  }\n",
       "  table, th, td {\n",
       "    border: 1px solid black;\n",
       "    border-collapse: collapse;\n",
       "  }\n",
       "  th, td {\n",
       "    padding: 5px;\n",
       "  }\n",
       "  th {\n",
       "    text-align: left;\n",
       "  }\n",
       "</style><div class='table-result-container'><table class='table-result'><thead style='background-color: white'><tr><th>path</th><th>name</th><th>size</th><th>modificationTime</th></tr></thead><tbody><tr><td>dbfs:/FileStore/tables/dados_spotify_tratados/data.parquet/</td><td>data.parquet/</td><td>0</td><td>0</td></tr><tr><td>dbfs:/FileStore/tables/dados_spotify_tratados/data_year.parquet/</td><td>data_year.parquet/</td><td>0</td><td>0</td></tr></tbody></table></div>"
      ]
     },
     "metadata": {
      "application/vnd.databricks.v1+output": {
       "addedWidgets": {},
       "aggData": [],
       "aggError": "",
       "aggOverflow": false,
       "aggSchema": [],
       "aggSeriesLimitReached": false,
       "aggType": "",
       "arguments": {},
       "columnCustomDisplayInfos": {},
       "data": [
        [
         "dbfs:/FileStore/tables/dados_spotify_tratados/data.parquet/",
         "data.parquet/",
         0,
         0
        ],
        [
         "dbfs:/FileStore/tables/dados_spotify_tratados/data_year.parquet/",
         "data_year.parquet/",
         0,
         0
        ]
       ],
       "datasetInfos": [],
       "dbfsResultPath": null,
       "isJsonSchema": true,
       "metadata": {},
       "overflow": false,
       "plotOptions": {
        "customPlotOptions": {},
        "displayType": "table",
        "pivotAggregation": null,
        "pivotColumns": null,
        "xColumns": null,
        "yColumns": null
       },
       "removedWidgets": [],
       "schema": [
        {
         "metadata": "{}",
         "name": "path",
         "type": "\"string\""
        },
        {
         "metadata": "{}",
         "name": "name",
         "type": "\"string\""
        },
        {
         "metadata": "{}",
         "name": "size",
         "type": "\"long\""
        },
        {
         "metadata": "{}",
         "name": "modificationTime",
         "type": "\"long\""
        }
       ],
       "type": "table"
      }
     },
     "output_type": "display_data"
    }
   ],
   "source": [
    "# consultando conteúdo do diretório\n",
    "display(dbutils.fs.ls('dbfs:/FileStore/tables/dados_spotify_tratados/'))"
   ]
  },
  {
   "cell_type": "markdown",
   "metadata": {
    "application/vnd.databricks.v1+cell": {
     "cellMetadata": {},
     "inputWidgets": {},
     "nuid": "fc2077d5-705a-425a-9071-d00fd571d92e",
     "showTitle": false,
     "title": ""
    }
   },
   "source": [
    "**Analisando novo conjunto de dados 'data_year'**"
   ]
  },
  {
   "cell_type": "code",
   "execution_count": null,
   "metadata": {
    "application/vnd.databricks.v1+cell": {
     "cellMetadata": {
      "byteLimit": 2048000,
      "rowLimit": 10000
     },
     "inputWidgets": {},
     "nuid": "1217b760-1e7e-4fc1-8f86-f71a8149a642",
     "showTitle": false,
     "title": ""
    }
   },
   "outputs": [
    {
     "data": {
      "text/html": [
       "<div>\n",
       "<style scoped>\n",
       "    .dataframe tbody tr th:only-of-type {\n",
       "        vertical-align: middle;\n",
       "    }\n",
       "\n",
       "    .dataframe tbody tr th {\n",
       "        vertical-align: top;\n",
       "    }\n",
       "\n",
       "    .dataframe thead th {\n",
       "        text-align: right;\n",
       "    }\n",
       "</style>\n",
       "<table border=\"1\" class=\"dataframe\">\n",
       "  <thead>\n",
       "    <tr style=\"text-align: right;\">\n",
       "      <th></th>\n",
       "      <th>mode</th>\n",
       "      <th>year</th>\n",
       "      <th>acousticness</th>\n",
       "      <th>danceability</th>\n",
       "      <th>duration_ms</th>\n",
       "      <th>energy</th>\n",
       "      <th>instrumentalness</th>\n",
       "      <th>liveness</th>\n",
       "      <th>loudness</th>\n",
       "      <th>speechiness</th>\n",
       "      <th>tempo</th>\n",
       "      <th>valence</th>\n",
       "      <th>popularity</th>\n",
       "      <th>key</th>\n",
       "    </tr>\n",
       "  </thead>\n",
       "  <tbody>\n",
       "    <tr>\n",
       "      <th>0</th>\n",
       "      <td>1</td>\n",
       "      <td>1921</td>\n",
       "      <td>0.886896</td>\n",
       "      <td>0.418597</td>\n",
       "      <td>260537.166667</td>\n",
       "      <td>0.231815</td>\n",
       "      <td>0.344878</td>\n",
       "      <td>0.205710</td>\n",
       "      <td>-17.048667</td>\n",
       "      <td>0.073662</td>\n",
       "      <td>101.531493</td>\n",
       "      <td>0.379327</td>\n",
       "      <td>0.653333</td>\n",
       "      <td>2</td>\n",
       "    </tr>\n",
       "    <tr>\n",
       "      <th>1</th>\n",
       "      <td>1</td>\n",
       "      <td>1922</td>\n",
       "      <td>0.938592</td>\n",
       "      <td>0.482042</td>\n",
       "      <td>165469.746479</td>\n",
       "      <td>0.237815</td>\n",
       "      <td>0.434195</td>\n",
       "      <td>0.240720</td>\n",
       "      <td>-19.275282</td>\n",
       "      <td>0.116655</td>\n",
       "      <td>100.884521</td>\n",
       "      <td>0.535549</td>\n",
       "      <td>0.140845</td>\n",
       "      <td>10</td>\n",
       "    </tr>\n",
       "    <tr>\n",
       "      <th>2</th>\n",
       "      <td>1</td>\n",
       "      <td>1923</td>\n",
       "      <td>0.957247</td>\n",
       "      <td>0.577341</td>\n",
       "      <td>177942.362162</td>\n",
       "      <td>0.262406</td>\n",
       "      <td>0.371733</td>\n",
       "      <td>0.227462</td>\n",
       "      <td>-14.129211</td>\n",
       "      <td>0.093949</td>\n",
       "      <td>114.010730</td>\n",
       "      <td>0.625492</td>\n",
       "      <td>5.389189</td>\n",
       "      <td>0</td>\n",
       "    </tr>\n",
       "    <tr>\n",
       "      <th>3</th>\n",
       "      <td>1</td>\n",
       "      <td>1924</td>\n",
       "      <td>0.940200</td>\n",
       "      <td>0.549894</td>\n",
       "      <td>191046.707627</td>\n",
       "      <td>0.344347</td>\n",
       "      <td>0.581701</td>\n",
       "      <td>0.235219</td>\n",
       "      <td>-14.231343</td>\n",
       "      <td>0.092089</td>\n",
       "      <td>120.689572</td>\n",
       "      <td>0.663725</td>\n",
       "      <td>0.661017</td>\n",
       "      <td>10</td>\n",
       "    </tr>\n",
       "    <tr>\n",
       "      <th>4</th>\n",
       "      <td>1</td>\n",
       "      <td>1925</td>\n",
       "      <td>0.962607</td>\n",
       "      <td>0.573863</td>\n",
       "      <td>184986.924460</td>\n",
       "      <td>0.278594</td>\n",
       "      <td>0.418297</td>\n",
       "      <td>0.237668</td>\n",
       "      <td>-14.146414</td>\n",
       "      <td>0.111918</td>\n",
       "      <td>115.521921</td>\n",
       "      <td>0.621929</td>\n",
       "      <td>2.604317</td>\n",
       "      <td>5</td>\n",
       "    </tr>\n",
       "  </tbody>\n",
       "</table>\n",
       "</div>"
      ]
     },
     "metadata": {
      "application/vnd.databricks.v1+output": {
       "addedWidgets": {},
       "arguments": {},
       "data": "<div>\n<style scoped>\n    .dataframe tbody tr th:only-of-type {\n        vertical-align: middle;\n    }\n\n    .dataframe tbody tr th {\n        vertical-align: top;\n    }\n\n    .dataframe thead th {\n        text-align: right;\n    }\n</style>\n<table border=\"1\" class=\"dataframe\">\n  <thead>\n    <tr style=\"text-align: right;\">\n      <th></th>\n      <th>mode</th>\n      <th>year</th>\n      <th>acousticness</th>\n      <th>danceability</th>\n      <th>duration_ms</th>\n      <th>energy</th>\n      <th>instrumentalness</th>\n      <th>liveness</th>\n      <th>loudness</th>\n      <th>speechiness</th>\n      <th>tempo</th>\n      <th>valence</th>\n      <th>popularity</th>\n      <th>key</th>\n    </tr>\n  </thead>\n  <tbody>\n    <tr>\n      <th>0</th>\n      <td>1</td>\n      <td>1921</td>\n      <td>0.886896</td>\n      <td>0.418597</td>\n      <td>260537.166667</td>\n      <td>0.231815</td>\n      <td>0.344878</td>\n      <td>0.205710</td>\n      <td>-17.048667</td>\n      <td>0.073662</td>\n      <td>101.531493</td>\n      <td>0.379327</td>\n      <td>0.653333</td>\n      <td>2</td>\n    </tr>\n    <tr>\n      <th>1</th>\n      <td>1</td>\n      <td>1922</td>\n      <td>0.938592</td>\n      <td>0.482042</td>\n      <td>165469.746479</td>\n      <td>0.237815</td>\n      <td>0.434195</td>\n      <td>0.240720</td>\n      <td>-19.275282</td>\n      <td>0.116655</td>\n      <td>100.884521</td>\n      <td>0.535549</td>\n      <td>0.140845</td>\n      <td>10</td>\n    </tr>\n    <tr>\n      <th>2</th>\n      <td>1</td>\n      <td>1923</td>\n      <td>0.957247</td>\n      <td>0.577341</td>\n      <td>177942.362162</td>\n      <td>0.262406</td>\n      <td>0.371733</td>\n      <td>0.227462</td>\n      <td>-14.129211</td>\n      <td>0.093949</td>\n      <td>114.010730</td>\n      <td>0.625492</td>\n      <td>5.389189</td>\n      <td>0</td>\n    </tr>\n    <tr>\n      <th>3</th>\n      <td>1</td>\n      <td>1924</td>\n      <td>0.940200</td>\n      <td>0.549894</td>\n      <td>191046.707627</td>\n      <td>0.344347</td>\n      <td>0.581701</td>\n      <td>0.235219</td>\n      <td>-14.231343</td>\n      <td>0.092089</td>\n      <td>120.689572</td>\n      <td>0.663725</td>\n      <td>0.661017</td>\n      <td>10</td>\n    </tr>\n    <tr>\n      <th>4</th>\n      <td>1</td>\n      <td>1925</td>\n      <td>0.962607</td>\n      <td>0.573863</td>\n      <td>184986.924460</td>\n      <td>0.278594</td>\n      <td>0.418297</td>\n      <td>0.237668</td>\n      <td>-14.146414</td>\n      <td>0.111918</td>\n      <td>115.521921</td>\n      <td>0.621929</td>\n      <td>2.604317</td>\n      <td>5</td>\n    </tr>\n  </tbody>\n</table>\n</div>",
       "datasetInfos": [],
       "metadata": {},
       "removedWidgets": [],
       "textData": null,
       "type": "htmlSandbox"
      }
     },
     "output_type": "display_data"
    }
   ],
   "source": [
    "# realizando a leitura do arquivo '.parquet'\n",
    "path = 'dbfs:/FileStore/tables/dados_spotify_tratados/data_year.parquet'\n",
    "df_year = ps.read_parquet(path)\n",
    "df_year.head()"
   ]
  },
  {
   "cell_type": "code",
   "execution_count": null,
   "metadata": {
    "application/vnd.databricks.v1+cell": {
     "cellMetadata": {
      "byteLimit": 2048000,
      "rowLimit": 10000
     },
     "inputWidgets": {},
     "nuid": "65de9fa4-4d47-4116-84d5-e7c3d87ce9cb",
     "showTitle": false,
     "title": ""
    }
   },
   "outputs": [
    {
     "name": "stdout",
     "output_type": "stream",
     "text": [
      "Out[4]: 100"
     ]
    }
   ],
   "source": [
    "# verificando a qtde de anos únicos\n",
    "len(df_year.year.unique())"
   ]
  },
  {
   "cell_type": "code",
   "execution_count": null,
   "metadata": {
    "application/vnd.databricks.v1+cell": {
     "cellMetadata": {
      "byteLimit": 2048000,
      "rowLimit": 10000
     },
     "inputWidgets": {},
     "nuid": "138e4f27-a21e-43a2-96bf-0ab384349950",
     "showTitle": false,
     "title": ""
    }
   },
   "outputs": [
    {
     "data": {
      "text/html": [
       "<html>\n",
       "<head><meta charset=\"utf-8\" /></head>\n",
       "<body>\n",
       "    <div>            <script src=\"https://cdnjs.cloudflare.com/ajax/libs/mathjax/2.7.5/MathJax.js?config=TeX-AMS-MML_SVG\"></script><script type=\"text/javascript\">if (window.MathJax) {MathJax.Hub.Config({SVG: {font: \"STIX-Web\"}});}</script>                <script type=\"text/javascript\">window.PlotlyConfig = {MathJaxConfig: 'local'};</script>\n",
       "        <script src=\"https://cdn.plot.ly/plotly-2.9.0.min.js\"></script>                <div id=\"299be52a-220c-48db-a3e3-4413ca0c5670\" class=\"plotly-graph-div\" style=\"height:100%; width:100%;\"></div>            <script type=\"text/javascript\">                                    window.PLOTLYENV=window.PLOTLYENV || {};                                    if (document.getElementById(\"299be52a-220c-48db-a3e3-4413ca0c5670\")) {                    Plotly.newPlot(                        \"299be52a-220c-48db-a3e3-4413ca0c5670\",                        [{\"hovertemplate\":\"year=%{x}<br>duration_ms=%{y}<extra></extra>\",\"legendgroup\":\"\",\"line\":{\"color\":\"#636efa\",\"dash\":\"solid\"},\"marker\":{\"symbol\":\"circle\"},\"mode\":\"lines\",\"name\":\"\",\"orientation\":\"v\",\"showlegend\":false,\"x\":[1921,1922,1923,1924,1925,1926,1927,1928,1929,1930,1931,1932,1933,1934,1935,1936,1937,1938,1939,1940,1941,1942,1943,1944,1945,1946,1947,1948,1949,1950,1951,1952,1953,1954,1955,1956,1957,1958,1959,1960,1961,1962,1963,1964,1965,1966,1967,1968,1969,1970,1971,1972,1973,1974,1975,1976,1977,1978,1979,1980,1981,1982,1983,1984,1985,1986,1987,1988,1989,1990,1991,1992,1993,1994,1995,1996,1997,1998,1999,2000,2001,2002,2003,2004,2005,2006,2007,2008,2009,2010,2011,2012,2013,2014,2015,2016,2017,2018,2019,2020],\"xaxis\":\"x\",\"y\":[260537.16666666663,165469.74647887325,177942.36216216214,191046.70762711862,184986.92446043165,156881.65747460088,184993.59837398372,214827.90642347344,168999.41281512607,195150.28534303536,171553.42546583852,195749.37250996014,196219.25759768448,189356.1262975779,220124.24703557312,220809.1863636364,223216.5585996956,249177.09951060358,221602.065,182227.9445,201904.575,222361.16825208085,240119.9098591549,245555.58643617018,196161.557,267677.82308584685,233137.38424242425,199194.87421052632,223199.3275,215073.1255,213154.641,229434.72699999998,217455.5682051282,224029.36800000002,222137.44600000003,211846.9215,241604.8241025641,214146.9005,216292.8369230769,210209.68378378375,232186.61421052628,209294.41315789477,200510.5485,195536.4117948718,196342.08615384615,216095.113,198987.5182591296,214980.984,242545.9405,242852.1515,260511.7935,245914.2285,257002.7905,252555.79100000003,254969.3715,267676.967,257121.848,249051.887,252860.2265,252835.53333333327,250904.205,248357.306,251123.6985,251845.2565,252276.258,254708.4055,247543.3230769231,257442.5897435897,254203.5935,256451.4035,245912.00615384613,246506.46,251667.9675,250992.254,246624.0915,248180.983,245749.2815,248542.6075,245177.7452588416,242724.6426380368,240307.79600997505,239503.283,244670.5752302968,237378.70803662261,237229.5882051282,234042.91435897435,241049.96256410255,240107.31560102306,238140.0132653061,242811.8045634921,236998.787307883,245807.45758354763,242267.66143724695,233728.31471321694,230029.0466058764,221396.51029493602,211115.6967871486,206001.0071326676,201024.78809645973,193728.39753694585],\"yaxis\":\"y\",\"type\":\"scatter\"}],                        {\"template\":{\"data\":{\"bar\":[{\"error_x\":{\"color\":\"#2a3f5f\"},\"error_y\":{\"color\":\"#2a3f5f\"},\"marker\":{\"line\":{\"color\":\"#E5ECF6\",\"width\":0.5},\"pattern\":{\"fillmode\":\"overlay\",\"size\":10,\"solidity\":0.2}},\"type\":\"bar\"}],\"barpolar\":[{\"marker\":{\"line\":{\"color\":\"#E5ECF6\",\"width\":0.5},\"pattern\":{\"fillmode\":\"overlay\",\"size\":10,\"solidity\":0.2}},\"type\":\"barpolar\"}],\"carpet\":[{\"aaxis\":{\"endlinecolor\":\"#2a3f5f\",\"gridcolor\":\"white\",\"linecolor\":\"white\",\"minorgridcolor\":\"white\",\"startlinecolor\":\"#2a3f5f\"},\"baxis\":{\"endlinecolor\":\"#2a3f5f\",\"gridcolor\":\"white\",\"linecolor\":\"white\",\"minorgridcolor\":\"white\",\"startlinecolor\":\"#2a3f5f\"},\"type\":\"carpet\"}],\"choropleth\":[{\"colorbar\":{\"outlinewidth\":0,\"ticks\":\"\"},\"type\":\"choropleth\"}],\"contour\":[{\"colorbar\":{\"outlinewidth\":0,\"ticks\":\"\"},\"colorscale\":[[0.0,\"#0d0887\"],[0.1111111111111111,\"#46039f\"],[0.2222222222222222,\"#7201a8\"],[0.3333333333333333,\"#9c179e\"],[0.4444444444444444,\"#bd3786\"],[0.5555555555555556,\"#d8576b\"],[0.6666666666666666,\"#ed7953\"],[0.7777777777777778,\"#fb9f3a\"],[0.8888888888888888,\"#fdca26\"],[1.0,\"#f0f921\"]],\"type\":\"contour\"}],\"contourcarpet\":[{\"colorbar\":{\"outlinewidth\":0,\"ticks\":\"\"},\"type\":\"contourcarpet\"}],\"heatmap\":[{\"colorbar\":{\"outlinewidth\":0,\"ticks\":\"\"},\"colorscale\":[[0.0,\"#0d0887\"],[0.1111111111111111,\"#46039f\"],[0.2222222222222222,\"#7201a8\"],[0.3333333333333333,\"#9c179e\"],[0.4444444444444444,\"#bd3786\"],[0.5555555555555556,\"#d8576b\"],[0.6666666666666666,\"#ed7953\"],[0.7777777777777778,\"#fb9f3a\"],[0.8888888888888888,\"#fdca26\"],[1.0,\"#f0f921\"]],\"type\":\"heatmap\"}],\"heatmapgl\":[{\"colorbar\":{\"outlinewidth\":0,\"ticks\":\"\"},\"colorscale\":[[0.0,\"#0d0887\"],[0.1111111111111111,\"#46039f\"],[0.2222222222222222,\"#7201a8\"],[0.3333333333333333,\"#9c179e\"],[0.4444444444444444,\"#bd3786\"],[0.5555555555555556,\"#d8576b\"],[0.6666666666666666,\"#ed7953\"],[0.7777777777777778,\"#fb9f3a\"],[0.8888888888888888,\"#fdca26\"],[1.0,\"#f0f921\"]],\"type\":\"heatmapgl\"}],\"histogram\":[{\"marker\":{\"pattern\":{\"fillmode\":\"overlay\",\"size\":10,\"solidity\":0.2}},\"type\":\"histogram\"}],\"histogram2d\":[{\"colorbar\":{\"outlinewidth\":0,\"ticks\":\"\"},\"colorscale\":[[0.0,\"#0d0887\"],[0.1111111111111111,\"#46039f\"],[0.2222222222222222,\"#7201a8\"],[0.3333333333333333,\"#9c179e\"],[0.4444444444444444,\"#bd3786\"],[0.5555555555555556,\"#d8576b\"],[0.6666666666666666,\"#ed7953\"],[0.7777777777777778,\"#fb9f3a\"],[0.8888888888888888,\"#fdca26\"],[1.0,\"#f0f921\"]],\"type\":\"histogram2d\"}],\"histogram2dcontour\":[{\"colorbar\":{\"outlinewidth\":0,\"ticks\":\"\"},\"colorscale\":[[0.0,\"#0d0887\"],[0.1111111111111111,\"#46039f\"],[0.2222222222222222,\"#7201a8\"],[0.3333333333333333,\"#9c179e\"],[0.4444444444444444,\"#bd3786\"],[0.5555555555555556,\"#d8576b\"],[0.6666666666666666,\"#ed7953\"],[0.7777777777777778,\"#fb9f3a\"],[0.8888888888888888,\"#fdca26\"],[1.0,\"#f0f921\"]],\"type\":\"histogram2dcontour\"}],\"mesh3d\":[{\"colorbar\":{\"outlinewidth\":0,\"ticks\":\"\"},\"type\":\"mesh3d\"}],\"parcoords\":[{\"line\":{\"colorbar\":{\"outlinewidth\":0,\"ticks\":\"\"}},\"type\":\"parcoords\"}],\"pie\":[{\"automargin\":true,\"type\":\"pie\"}],\"scatter\":[{\"marker\":{\"colorbar\":{\"outlinewidth\":0,\"ticks\":\"\"}},\"type\":\"scatter\"}],\"scatter3d\":[{\"line\":{\"colorbar\":{\"outlinewidth\":0,\"ticks\":\"\"}},\"marker\":{\"colorbar\":{\"outlinewidth\":0,\"ticks\":\"\"}},\"type\":\"scatter3d\"}],\"scattercarpet\":[{\"marker\":{\"colorbar\":{\"outlinewidth\":0,\"ticks\":\"\"}},\"type\":\"scattercarpet\"}],\"scattergeo\":[{\"marker\":{\"colorbar\":{\"outlinewidth\":0,\"ticks\":\"\"}},\"type\":\"scattergeo\"}],\"scattergl\":[{\"marker\":{\"colorbar\":{\"outlinewidth\":0,\"ticks\":\"\"}},\"type\":\"scattergl\"}],\"scattermapbox\":[{\"marker\":{\"colorbar\":{\"outlinewidth\":0,\"ticks\":\"\"}},\"type\":\"scattermapbox\"}],\"scatterpolar\":[{\"marker\":{\"colorbar\":{\"outlinewidth\":0,\"ticks\":\"\"}},\"type\":\"scatterpolar\"}],\"scatterpolargl\":[{\"marker\":{\"colorbar\":{\"outlinewidth\":0,\"ticks\":\"\"}},\"type\":\"scatterpolargl\"}],\"scatterternary\":[{\"marker\":{\"colorbar\":{\"outlinewidth\":0,\"ticks\":\"\"}},\"type\":\"scatterternary\"}],\"surface\":[{\"colorbar\":{\"outlinewidth\":0,\"ticks\":\"\"},\"colorscale\":[[0.0,\"#0d0887\"],[0.1111111111111111,\"#46039f\"],[0.2222222222222222,\"#7201a8\"],[0.3333333333333333,\"#9c179e\"],[0.4444444444444444,\"#bd3786\"],[0.5555555555555556,\"#d8576b\"],[0.6666666666666666,\"#ed7953\"],[0.7777777777777778,\"#fb9f3a\"],[0.8888888888888888,\"#fdca26\"],[1.0,\"#f0f921\"]],\"type\":\"surface\"}],\"table\":[{\"cells\":{\"fill\":{\"color\":\"#EBF0F8\"},\"line\":{\"color\":\"white\"}},\"header\":{\"fill\":{\"color\":\"#C8D4E3\"},\"line\":{\"color\":\"white\"}},\"type\":\"table\"}]},\"layout\":{\"annotationdefaults\":{\"arrowcolor\":\"#2a3f5f\",\"arrowhead\":0,\"arrowwidth\":1},\"autotypenumbers\":\"strict\",\"coloraxis\":{\"colorbar\":{\"outlinewidth\":0,\"ticks\":\"\"}},\"colorscale\":{\"diverging\":[[0,\"#8e0152\"],[0.1,\"#c51b7d\"],[0.2,\"#de77ae\"],[0.3,\"#f1b6da\"],[0.4,\"#fde0ef\"],[0.5,\"#f7f7f7\"],[0.6,\"#e6f5d0\"],[0.7,\"#b8e186\"],[0.8,\"#7fbc41\"],[0.9,\"#4d9221\"],[1,\"#276419\"]],\"sequential\":[[0.0,\"#0d0887\"],[0.1111111111111111,\"#46039f\"],[0.2222222222222222,\"#7201a8\"],[0.3333333333333333,\"#9c179e\"],[0.4444444444444444,\"#bd3786\"],[0.5555555555555556,\"#d8576b\"],[0.6666666666666666,\"#ed7953\"],[0.7777777777777778,\"#fb9f3a\"],[0.8888888888888888,\"#fdca26\"],[1.0,\"#f0f921\"]],\"sequentialminus\":[[0.0,\"#0d0887\"],[0.1111111111111111,\"#46039f\"],[0.2222222222222222,\"#7201a8\"],[0.3333333333333333,\"#9c179e\"],[0.4444444444444444,\"#bd3786\"],[0.5555555555555556,\"#d8576b\"],[0.6666666666666666,\"#ed7953\"],[0.7777777777777778,\"#fb9f3a\"],[0.8888888888888888,\"#fdca26\"],[1.0,\"#f0f921\"]]},\"colorway\":[\"#636efa\",\"#EF553B\",\"#00cc96\",\"#ab63fa\",\"#FFA15A\",\"#19d3f3\",\"#FF6692\",\"#B6E880\",\"#FF97FF\",\"#FECB52\"],\"font\":{\"color\":\"#2a3f5f\"},\"geo\":{\"bgcolor\":\"white\",\"lakecolor\":\"white\",\"landcolor\":\"#E5ECF6\",\"showlakes\":true,\"showland\":true,\"subunitcolor\":\"white\"},\"hoverlabel\":{\"align\":\"left\"},\"hovermode\":\"closest\",\"mapbox\":{\"style\":\"light\"},\"paper_bgcolor\":\"white\",\"plot_bgcolor\":\"#E5ECF6\",\"polar\":{\"angularaxis\":{\"gridcolor\":\"white\",\"linecolor\":\"white\",\"ticks\":\"\"},\"bgcolor\":\"#E5ECF6\",\"radialaxis\":{\"gridcolor\":\"white\",\"linecolor\":\"white\",\"ticks\":\"\"}},\"scene\":{\"xaxis\":{\"backgroundcolor\":\"#E5ECF6\",\"gridcolor\":\"white\",\"gridwidth\":2,\"linecolor\":\"white\",\"showbackground\":true,\"ticks\":\"\",\"zerolinecolor\":\"white\"},\"yaxis\":{\"backgroundcolor\":\"#E5ECF6\",\"gridcolor\":\"white\",\"gridwidth\":2,\"linecolor\":\"white\",\"showbackground\":true,\"ticks\":\"\",\"zerolinecolor\":\"white\"},\"zaxis\":{\"backgroundcolor\":\"#E5ECF6\",\"gridcolor\":\"white\",\"gridwidth\":2,\"linecolor\":\"white\",\"showbackground\":true,\"ticks\":\"\",\"zerolinecolor\":\"white\"}},\"shapedefaults\":{\"line\":{\"color\":\"#2a3f5f\"}},\"ternary\":{\"aaxis\":{\"gridcolor\":\"white\",\"linecolor\":\"white\",\"ticks\":\"\"},\"baxis\":{\"gridcolor\":\"white\",\"linecolor\":\"white\",\"ticks\":\"\"},\"bgcolor\":\"#E5ECF6\",\"caxis\":{\"gridcolor\":\"white\",\"linecolor\":\"white\",\"ticks\":\"\"}},\"title\":{\"x\":0.05},\"xaxis\":{\"automargin\":true,\"gridcolor\":\"white\",\"linecolor\":\"white\",\"ticks\":\"\",\"title\":{\"standoff\":15},\"zerolinecolor\":\"white\",\"zerolinewidth\":2},\"yaxis\":{\"automargin\":true,\"gridcolor\":\"white\",\"linecolor\":\"white\",\"ticks\":\"\",\"title\":{\"standoff\":15},\"zerolinecolor\":\"white\",\"zerolinewidth\":2}}},\"xaxis\":{\"anchor\":\"y\",\"domain\":[0.0,1.0],\"title\":{\"text\":\"year\"}},\"yaxis\":{\"anchor\":\"x\",\"domain\":[0.0,1.0],\"title\":{\"text\":\"duration_ms\"}},\"legend\":{\"tracegroupgap\":0},\"margin\":{\"t\":60}},                        {\"responsive\": true}                    )                };                            </script>        </div>\n",
       "</body>\n",
       "</html>"
      ]
     },
     "metadata": {
      "application/vnd.databricks.v1+output": {
       "addedWidgets": {},
       "arguments": {},
       "data": "<html>\n<head><meta charset=\"utf-8\" /></head>\n<body>\n    <div>            <script src=\"https://cdnjs.cloudflare.com/ajax/libs/mathjax/2.7.5/MathJax.js?config=TeX-AMS-MML_SVG\"></script><script type=\"text/javascript\">if (window.MathJax) {MathJax.Hub.Config({SVG: {font: \"STIX-Web\"}});}</script>                <script type=\"text/javascript\">window.PlotlyConfig = {MathJaxConfig: 'local'};</script>\n        <script src=\"https://cdn.plot.ly/plotly-2.9.0.min.js\"></script>                <div id=\"299be52a-220c-48db-a3e3-4413ca0c5670\" class=\"plotly-graph-div\" style=\"height:100%; width:100%;\"></div>            <script type=\"text/javascript\">                                    window.PLOTLYENV=window.PLOTLYENV || {};                                    if (document.getElementById(\"299be52a-220c-48db-a3e3-4413ca0c5670\")) {                    Plotly.newPlot(                        \"299be52a-220c-48db-a3e3-4413ca0c5670\",                        [{\"hovertemplate\":\"year=%{x}<br>duration_ms=%{y}<extra></extra>\",\"legendgroup\":\"\",\"line\":{\"color\":\"#636efa\",\"dash\":\"solid\"},\"marker\":{\"symbol\":\"circle\"},\"mode\":\"lines\",\"name\":\"\",\"orientation\":\"v\",\"showlegend\":false,\"x\":[1921,1922,1923,1924,1925,1926,1927,1928,1929,1930,1931,1932,1933,1934,1935,1936,1937,1938,1939,1940,1941,1942,1943,1944,1945,1946,1947,1948,1949,1950,1951,1952,1953,1954,1955,1956,1957,1958,1959,1960,1961,1962,1963,1964,1965,1966,1967,1968,1969,1970,1971,1972,1973,1974,1975,1976,1977,1978,1979,1980,1981,1982,1983,1984,1985,1986,1987,1988,1989,1990,1991,1992,1993,1994,1995,1996,1997,1998,1999,2000,2001,2002,2003,2004,2005,2006,2007,2008,2009,2010,2011,2012,2013,2014,2015,2016,2017,2018,2019,2020],\"xaxis\":\"x\",\"y\":[260537.16666666663,165469.74647887325,177942.36216216214,191046.70762711862,184986.92446043165,156881.65747460088,184993.59837398372,214827.90642347344,168999.41281512607,195150.28534303536,171553.42546583852,195749.37250996014,196219.25759768448,189356.1262975779,220124.24703557312,220809.1863636364,223216.5585996956,249177.09951060358,221602.065,182227.9445,201904.575,222361.16825208085,240119.9098591549,245555.58643617018,196161.557,267677.82308584685,233137.38424242425,199194.87421052632,223199.3275,215073.1255,213154.641,229434.72699999998,217455.5682051282,224029.36800000002,222137.44600000003,211846.9215,241604.8241025641,214146.9005,216292.8369230769,210209.68378378375,232186.61421052628,209294.41315789477,200510.5485,195536.4117948718,196342.08615384615,216095.113,198987.5182591296,214980.984,242545.9405,242852.1515,260511.7935,245914.2285,257002.7905,252555.79100000003,254969.3715,267676.967,257121.848,249051.887,252860.2265,252835.53333333327,250904.205,248357.306,251123.6985,251845.2565,252276.258,254708.4055,247543.3230769231,257442.5897435897,254203.5935,256451.4035,245912.00615384613,246506.46,251667.9675,250992.254,246624.0915,248180.983,245749.2815,248542.6075,245177.7452588416,242724.6426380368,240307.79600997505,239503.283,244670.5752302968,237378.70803662261,237229.5882051282,234042.91435897435,241049.96256410255,240107.31560102306,238140.0132653061,242811.8045634921,236998.787307883,245807.45758354763,242267.66143724695,233728.31471321694,230029.0466058764,221396.51029493602,211115.6967871486,206001.0071326676,201024.78809645973,193728.39753694585],\"yaxis\":\"y\",\"type\":\"scatter\"}],                        {\"template\":{\"data\":{\"bar\":[{\"error_x\":{\"color\":\"#2a3f5f\"},\"error_y\":{\"color\":\"#2a3f5f\"},\"marker\":{\"line\":{\"color\":\"#E5ECF6\",\"width\":0.5},\"pattern\":{\"fillmode\":\"overlay\",\"size\":10,\"solidity\":0.2}},\"type\":\"bar\"}],\"barpolar\":[{\"marker\":{\"line\":{\"color\":\"#E5ECF6\",\"width\":0.5},\"pattern\":{\"fillmode\":\"overlay\",\"size\":10,\"solidity\":0.2}},\"type\":\"barpolar\"}],\"carpet\":[{\"aaxis\":{\"endlinecolor\":\"#2a3f5f\",\"gridcolor\":\"white\",\"linecolor\":\"white\",\"minorgridcolor\":\"white\",\"startlinecolor\":\"#2a3f5f\"},\"baxis\":{\"endlinecolor\":\"#2a3f5f\",\"gridcolor\":\"white\",\"linecolor\":\"white\",\"minorgridcolor\":\"white\",\"startlinecolor\":\"#2a3f5f\"},\"type\":\"carpet\"}],\"choropleth\":[{\"colorbar\":{\"outlinewidth\":0,\"ticks\":\"\"},\"type\":\"choropleth\"}],\"contour\":[{\"colorbar\":{\"outlinewidth\":0,\"ticks\":\"\"},\"colorscale\":[[0.0,\"#0d0887\"],[0.1111111111111111,\"#46039f\"],[0.2222222222222222,\"#7201a8\"],[0.3333333333333333,\"#9c179e\"],[0.4444444444444444,\"#bd3786\"],[0.5555555555555556,\"#d8576b\"],[0.6666666666666666,\"#ed7953\"],[0.7777777777777778,\"#fb9f3a\"],[0.8888888888888888,\"#fdca26\"],[1.0,\"#f0f921\"]],\"type\":\"contour\"}],\"contourcarpet\":[{\"colorbar\":{\"outlinewidth\":0,\"ticks\":\"\"},\"type\":\"contourcarpet\"}],\"heatmap\":[{\"colorbar\":{\"outlinewidth\":0,\"ticks\":\"\"},\"colorscale\":[[0.0,\"#0d0887\"],[0.1111111111111111,\"#46039f\"],[0.2222222222222222,\"#7201a8\"],[0.3333333333333333,\"#9c179e\"],[0.4444444444444444,\"#bd3786\"],[0.5555555555555556,\"#d8576b\"],[0.6666666666666666,\"#ed7953\"],[0.7777777777777778,\"#fb9f3a\"],[0.8888888888888888,\"#fdca26\"],[1.0,\"#f0f921\"]],\"type\":\"heatmap\"}],\"heatmapgl\":[{\"colorbar\":{\"outlinewidth\":0,\"ticks\":\"\"},\"colorscale\":[[0.0,\"#0d0887\"],[0.1111111111111111,\"#46039f\"],[0.2222222222222222,\"#7201a8\"],[0.3333333333333333,\"#9c179e\"],[0.4444444444444444,\"#bd3786\"],[0.5555555555555556,\"#d8576b\"],[0.6666666666666666,\"#ed7953\"],[0.7777777777777778,\"#fb9f3a\"],[0.8888888888888888,\"#fdca26\"],[1.0,\"#f0f921\"]],\"type\":\"heatmapgl\"}],\"histogram\":[{\"marker\":{\"pattern\":{\"fillmode\":\"overlay\",\"size\":10,\"solidity\":0.2}},\"type\":\"histogram\"}],\"histogram2d\":[{\"colorbar\":{\"outlinewidth\":0,\"ticks\":\"\"},\"colorscale\":[[0.0,\"#0d0887\"],[0.1111111111111111,\"#46039f\"],[0.2222222222222222,\"#7201a8\"],[0.3333333333333333,\"#9c179e\"],[0.4444444444444444,\"#bd3786\"],[0.5555555555555556,\"#d8576b\"],[0.6666666666666666,\"#ed7953\"],[0.7777777777777778,\"#fb9f3a\"],[0.8888888888888888,\"#fdca26\"],[1.0,\"#f0f921\"]],\"type\":\"histogram2d\"}],\"histogram2dcontour\":[{\"colorbar\":{\"outlinewidth\":0,\"ticks\":\"\"},\"colorscale\":[[0.0,\"#0d0887\"],[0.1111111111111111,\"#46039f\"],[0.2222222222222222,\"#7201a8\"],[0.3333333333333333,\"#9c179e\"],[0.4444444444444444,\"#bd3786\"],[0.5555555555555556,\"#d8576b\"],[0.6666666666666666,\"#ed7953\"],[0.7777777777777778,\"#fb9f3a\"],[0.8888888888888888,\"#fdca26\"],[1.0,\"#f0f921\"]],\"type\":\"histogram2dcontour\"}],\"mesh3d\":[{\"colorbar\":{\"outlinewidth\":0,\"ticks\":\"\"},\"type\":\"mesh3d\"}],\"parcoords\":[{\"line\":{\"colorbar\":{\"outlinewidth\":0,\"ticks\":\"\"}},\"type\":\"parcoords\"}],\"pie\":[{\"automargin\":true,\"type\":\"pie\"}],\"scatter\":[{\"marker\":{\"colorbar\":{\"outlinewidth\":0,\"ticks\":\"\"}},\"type\":\"scatter\"}],\"scatter3d\":[{\"line\":{\"colorbar\":{\"outlinewidth\":0,\"ticks\":\"\"}},\"marker\":{\"colorbar\":{\"outlinewidth\":0,\"ticks\":\"\"}},\"type\":\"scatter3d\"}],\"scattercarpet\":[{\"marker\":{\"colorbar\":{\"outlinewidth\":0,\"ticks\":\"\"}},\"type\":\"scattercarpet\"}],\"scattergeo\":[{\"marker\":{\"colorbar\":{\"outlinewidth\":0,\"ticks\":\"\"}},\"type\":\"scattergeo\"}],\"scattergl\":[{\"marker\":{\"colorbar\":{\"outlinewidth\":0,\"ticks\":\"\"}},\"type\":\"scattergl\"}],\"scattermapbox\":[{\"marker\":{\"colorbar\":{\"outlinewidth\":0,\"ticks\":\"\"}},\"type\":\"scattermapbox\"}],\"scatterpolar\":[{\"marker\":{\"colorbar\":{\"outlinewidth\":0,\"ticks\":\"\"}},\"type\":\"scatterpolar\"}],\"scatterpolargl\":[{\"marker\":{\"colorbar\":{\"outlinewidth\":0,\"ticks\":\"\"}},\"type\":\"scatterpolargl\"}],\"scatterternary\":[{\"marker\":{\"colorbar\":{\"outlinewidth\":0,\"ticks\":\"\"}},\"type\":\"scatterternary\"}],\"surface\":[{\"colorbar\":{\"outlinewidth\":0,\"ticks\":\"\"},\"colorscale\":[[0.0,\"#0d0887\"],[0.1111111111111111,\"#46039f\"],[0.2222222222222222,\"#7201a8\"],[0.3333333333333333,\"#9c179e\"],[0.4444444444444444,\"#bd3786\"],[0.5555555555555556,\"#d8576b\"],[0.6666666666666666,\"#ed7953\"],[0.7777777777777778,\"#fb9f3a\"],[0.8888888888888888,\"#fdca26\"],[1.0,\"#f0f921\"]],\"type\":\"surface\"}],\"table\":[{\"cells\":{\"fill\":{\"color\":\"#EBF0F8\"},\"line\":{\"color\":\"white\"}},\"header\":{\"fill\":{\"color\":\"#C8D4E3\"},\"line\":{\"color\":\"white\"}},\"type\":\"table\"}]},\"layout\":{\"annotationdefaults\":{\"arrowcolor\":\"#2a3f5f\",\"arrowhead\":0,\"arrowwidth\":1},\"autotypenumbers\":\"strict\",\"coloraxis\":{\"colorbar\":{\"outlinewidth\":0,\"ticks\":\"\"}},\"colorscale\":{\"diverging\":[[0,\"#8e0152\"],[0.1,\"#c51b7d\"],[0.2,\"#de77ae\"],[0.3,\"#f1b6da\"],[0.4,\"#fde0ef\"],[0.5,\"#f7f7f7\"],[0.6,\"#e6f5d0\"],[0.7,\"#b8e186\"],[0.8,\"#7fbc41\"],[0.9,\"#4d9221\"],[1,\"#276419\"]],\"sequential\":[[0.0,\"#0d0887\"],[0.1111111111111111,\"#46039f\"],[0.2222222222222222,\"#7201a8\"],[0.3333333333333333,\"#9c179e\"],[0.4444444444444444,\"#bd3786\"],[0.5555555555555556,\"#d8576b\"],[0.6666666666666666,\"#ed7953\"],[0.7777777777777778,\"#fb9f3a\"],[0.8888888888888888,\"#fdca26\"],[1.0,\"#f0f921\"]],\"sequentialminus\":[[0.0,\"#0d0887\"],[0.1111111111111111,\"#46039f\"],[0.2222222222222222,\"#7201a8\"],[0.3333333333333333,\"#9c179e\"],[0.4444444444444444,\"#bd3786\"],[0.5555555555555556,\"#d8576b\"],[0.6666666666666666,\"#ed7953\"],[0.7777777777777778,\"#fb9f3a\"],[0.8888888888888888,\"#fdca26\"],[1.0,\"#f0f921\"]]},\"colorway\":[\"#636efa\",\"#EF553B\",\"#00cc96\",\"#ab63fa\",\"#FFA15A\",\"#19d3f3\",\"#FF6692\",\"#B6E880\",\"#FF97FF\",\"#FECB52\"],\"font\":{\"color\":\"#2a3f5f\"},\"geo\":{\"bgcolor\":\"white\",\"lakecolor\":\"white\",\"landcolor\":\"#E5ECF6\",\"showlakes\":true,\"showland\":true,\"subunitcolor\":\"white\"},\"hoverlabel\":{\"align\":\"left\"},\"hovermode\":\"closest\",\"mapbox\":{\"style\":\"light\"},\"paper_bgcolor\":\"white\",\"plot_bgcolor\":\"#E5ECF6\",\"polar\":{\"angularaxis\":{\"gridcolor\":\"white\",\"linecolor\":\"white\",\"ticks\":\"\"},\"bgcolor\":\"#E5ECF6\",\"radialaxis\":{\"gridcolor\":\"white\",\"linecolor\":\"white\",\"ticks\":\"\"}},\"scene\":{\"xaxis\":{\"backgroundcolor\":\"#E5ECF6\",\"gridcolor\":\"white\",\"gridwidth\":2,\"linecolor\":\"white\",\"showbackground\":true,\"ticks\":\"\",\"zerolinecolor\":\"white\"},\"yaxis\":{\"backgroundcolor\":\"#E5ECF6\",\"gridcolor\":\"white\",\"gridwidth\":2,\"linecolor\":\"white\",\"showbackground\":true,\"ticks\":\"\",\"zerolinecolor\":\"white\"},\"zaxis\":{\"backgroundcolor\":\"#E5ECF6\",\"gridcolor\":\"white\",\"gridwidth\":2,\"linecolor\":\"white\",\"showbackground\":true,\"ticks\":\"\",\"zerolinecolor\":\"white\"}},\"shapedefaults\":{\"line\":{\"color\":\"#2a3f5f\"}},\"ternary\":{\"aaxis\":{\"gridcolor\":\"white\",\"linecolor\":\"white\",\"ticks\":\"\"},\"baxis\":{\"gridcolor\":\"white\",\"linecolor\":\"white\",\"ticks\":\"\"},\"bgcolor\":\"#E5ECF6\",\"caxis\":{\"gridcolor\":\"white\",\"linecolor\":\"white\",\"ticks\":\"\"}},\"title\":{\"x\":0.05},\"xaxis\":{\"automargin\":true,\"gridcolor\":\"white\",\"linecolor\":\"white\",\"ticks\":\"\",\"title\":{\"standoff\":15},\"zerolinecolor\":\"white\",\"zerolinewidth\":2},\"yaxis\":{\"automargin\":true,\"gridcolor\":\"white\",\"linecolor\":\"white\",\"ticks\":\"\",\"title\":{\"standoff\":15},\"zerolinecolor\":\"white\",\"zerolinewidth\":2}}},\"xaxis\":{\"anchor\":\"y\",\"domain\":[0.0,1.0],\"title\":{\"text\":\"year\"}},\"yaxis\":{\"anchor\":\"x\",\"domain\":[0.0,1.0],\"title\":{\"text\":\"duration_ms\"}},\"legend\":{\"tracegroupgap\":0},\"margin\":{\"t\":60}},                        {\"responsive\": true}                    )                };                            </script>        </div>\n</body>\n</html>",
       "datasetInfos": [],
       "metadata": {},
       "removedWidgets": [],
       "textData": null,
       "type": "htmlSandbox"
      }
     },
     "output_type": "display_data"
    }
   ],
   "source": [
    "# criando gráfico de linha e analisando a relação entre o ano e o tempo de duração das músicas\n",
    "df_year.plot.line(x='year', y='duration_ms')"
   ]
  },
  {
   "cell_type": "code",
   "execution_count": null,
   "metadata": {
    "application/vnd.databricks.v1+cell": {
     "cellMetadata": {
      "byteLimit": 2048000,
      "rowLimit": 10000
     },
     "inputWidgets": {},
     "nuid": "1b2839df-4688-4d95-8f15-353225f0cb60",
     "showTitle": false,
     "title": ""
    }
   },
   "outputs": [
    {
     "data": {
      "text/html": [
       "<html>\n",
       "<head><meta charset=\"utf-8\" /></head>\n",
       "<body>\n",
       "    <div>            <script src=\"https://cdnjs.cloudflare.com/ajax/libs/mathjax/2.7.5/MathJax.js?config=TeX-AMS-MML_SVG\"></script><script type=\"text/javascript\">if (window.MathJax) {MathJax.Hub.Config({SVG: {font: \"STIX-Web\"}});}</script>                <script type=\"text/javascript\">window.PlotlyConfig = {MathJaxConfig: 'local'};</script>\n",
       "        <script src=\"https://cdn.plot.ly/plotly-2.9.0.min.js\"></script>                <div id=\"66847deb-53d2-416b-acd6-6a1cce27945c\" class=\"plotly-graph-div\" style=\"height:100%; width:100%;\"></div>            <script type=\"text/javascript\">                                    window.PLOTLYENV=window.PLOTLYENV || {};                                    if (document.getElementById(\"66847deb-53d2-416b-acd6-6a1cce27945c\")) {                    Plotly.newPlot(                        \"66847deb-53d2-416b-acd6-6a1cce27945c\",                        [{\"hovertemplate\":\"variable=acousticness<br>year=%{x}<br>value=%{y}<extra></extra>\",\"legendgroup\":\"acousticness\",\"line\":{\"color\":\"#636efa\",\"dash\":\"solid\"},\"marker\":{\"symbol\":\"circle\"},\"mode\":\"lines\",\"name\":\"acousticness\",\"orientation\":\"v\",\"showlegend\":true,\"x\":[1921,1922,1923,1924,1925,1926,1927,1928,1929,1930,1931,1932,1933,1934,1935,1936,1937,1938,1939,1940,1941,1942,1943,1944,1945,1946,1947,1948,1949,1950,1951,1952,1953,1954,1955,1956,1957,1958,1959,1960,1961,1962,1963,1964,1965,1966,1967,1968,1969,1970,1971,1972,1973,1974,1975,1976,1977,1978,1979,1980,1981,1982,1983,1984,1985,1986,1987,1988,1989,1990,1991,1992,1993,1994,1995,1996,1997,1998,1999,2000,2001,2002,2003,2004,2005,2006,2007,2008,2009,2010,2011,2012,2013,2014,2015,2016,2017,2018,2019,2020],\"xaxis\":\"x\",\"y\":[0.8868960000000005,0.9385915492957748,0.9572467913513516,0.940199860169493,0.9626070503597138,0.660817216981134,0.9361794552845558,0.9386165035685952,0.6014265861344558,0.936714937370057,0.8330399585921336,0.9357705179282878,0.899897909117222,0.8911487501730107,0.7783855599472987,0.7723120800000008,0.8654357853881286,0.9192803908646014,0.9087381000000004,0.8476440499999951,0.8957376562500025,0.8529343703923857,0.9027523185915528,0.9076531914893636,0.7096568630000005,0.9199445823665852,0.9139650224242392,0.9221549999999956,0.9075328949999956,0.8539413005999965,0.9022971956499974,0.8743009244999965,0.8909223502564074,0.8650197272999992,0.8405510069999986,0.8230569899999975,0.7928023589743608,0.7796118650000005,0.7793927897435907,0.7671814843243259,0.7519038684210535,0.720607806842106,0.7227048300000004,0.6941005307692291,0.6099113295384619,0.5248094599699997,0.5296103243521767,0.4937702403500001,0.4488463039999994,0.4600571139500007,0.4583362981000009,0.4600428051999994,0.4165241889999992,0.4472074226000001,0.4337738871950005,0.36147063210999936,0.3393025333750004,0.32896857344999936,0.29593224063,0.28495539763589706,0.3012042267400006,0.2895800382050001,0.2947778916300001,0.2877095803450008,0.2965709032099995,0.28508065642499997,0.3116640663948722,0.32200994651282105,0.3133512518150009,0.3328699505850001,0.33276529163076995,0.3208087638250009,0.3090685537400004,0.3062343630899999,0.30251180612000045,0.30102687980000065,0.3067156934549995,0.29148946157000016,0.2715901110661201,0.28932270051635994,0.2868424748428934,0.28262428988500105,0.25647051817297833,0.2805589466225845,0.2557635068666665,0.2799863520256408,0.2540809575538463,0.2491917627212275,0.26192861909693904,0.2426866435515872,0.27318266251859197,0.24995304438046245,0.2574880859564779,0.24931264588029906,0.2539522577102332,0.28417102995548144,0.2860990665261043,0.2676329907750836,0.2782985863365824,0.2199308880935964],\"yaxis\":\"y\",\"type\":\"scatter\"},{\"hovertemplate\":\"variable=danceability<br>year=%{x}<br>value=%{y}<extra></extra>\",\"legendgroup\":\"danceability\",\"line\":{\"color\":\"#EF553B\",\"dash\":\"solid\"},\"marker\":{\"symbol\":\"circle\"},\"mode\":\"lines\",\"name\":\"danceability\",\"orientation\":\"v\",\"showlegend\":true,\"x\":[1921,1922,1923,1924,1925,1926,1927,1928,1929,1930,1931,1932,1933,1934,1935,1936,1937,1938,1939,1940,1941,1942,1943,1944,1945,1946,1947,1948,1949,1950,1951,1952,1953,1954,1955,1956,1957,1958,1959,1960,1961,1962,1963,1964,1965,1966,1967,1968,1969,1970,1971,1972,1973,1974,1975,1976,1977,1978,1979,1980,1981,1982,1983,1984,1985,1986,1987,1988,1989,1990,1991,1992,1993,1994,1995,1996,1997,1998,1999,2000,2001,2002,2003,2004,2005,2006,2007,2008,2009,2010,2011,2012,2013,2014,2015,2016,2017,2018,2019,2020],\"xaxis\":\"x\",\"y\":[0.4185973333333336,0.4820422535211267,0.5773405405405401,0.5498940677966102,0.5738633093525181,0.5998802612481859,0.6482682926829262,0.5342878667724027,0.6476698529411761,0.5181758835758836,0.5952217391304357,0.5577976095617526,0.57029030390738,0.528705882352941,0.5558691699604746,0.5580055454545453,0.5421572298325723,0.47997797716150103,0.5126828,0.52189235,0.4804813541666676,0.4646338882282997,0.4551456338028168,0.5001744680851068,0.5191431500000011,0.4144450116009276,0.4713208484848491,0.4633694736842109,0.4421993999999996,0.5042531000000008,0.4624800999999999,0.4570322000000001,0.4374260512820513,0.4656388999999994,0.4881312,0.4878145000000007,0.5034812307692305,0.4800213999999995,0.4821143076923083,0.4860292432432435,0.4891655789473678,0.4931643684210523,0.48162135,0.5041769743589742,0.5034505641025638,0.5070204999999981,0.4926885942971483,0.5010080999999997,0.4880977999999999,0.5063075000000004,0.5042738499999999,0.5209994499999997,0.5154494500000005,0.51533975,0.5209980000000007,0.5297624999999999,0.5333237000000017,0.5407746000000005,0.5620453000000001,0.5561523589743594,0.5421846999999999,0.5642594000000005,0.5456292999999998,0.5303089499999987,0.5556424000000012,0.5409334000000001,0.5410193333333342,0.5404594358974372,0.5472274499999988,0.5352986500000001,0.5558243589743591,0.5550648499999989,0.5698781500000001,0.5528299500000016,0.5590457500000001,0.5878306000000001,0.5768138499999994,0.5862116499999998,0.5821579190158892,0.590918047034764,0.5833178553615969,0.5761602999999997,0.5757633060388944,0.5676803662258397,0.5722805641025652,0.5682301538461539,0.5634143589743592,0.5791928388746803,0.5641903571428577,0.5724883432539687,0.5528669806643526,0.5708818508997433,0.5711480263157896,0.5899476807980057,0.5937740628166152,0.6002023928770179,0.6122170180722886,0.6635004755111744,0.6448141097998967,0.6929043349753701],\"yaxis\":\"y\",\"type\":\"scatter\"},{\"hovertemplate\":\"variable=energy<br>year=%{x}<br>value=%{y}<extra></extra>\",\"legendgroup\":\"energy\",\"line\":{\"color\":\"#00cc96\",\"dash\":\"solid\"},\"marker\":{\"symbol\":\"circle\"},\"mode\":\"lines\",\"name\":\"energy\",\"orientation\":\"v\",\"showlegend\":true,\"x\":[1921,1922,1923,1924,1925,1926,1927,1928,1929,1930,1931,1932,1933,1934,1935,1936,1937,1938,1939,1940,1941,1942,1943,1944,1945,1946,1947,1948,1949,1950,1951,1952,1953,1954,1955,1956,1957,1958,1959,1960,1961,1962,1963,1964,1965,1966,1967,1968,1969,1970,1971,1972,1973,1974,1975,1976,1977,1978,1979,1980,1981,1982,1983,1984,1985,1986,1987,1988,1989,1990,1991,1992,1993,1994,1995,1996,1997,1998,1999,2000,2001,2002,2003,2004,2005,2006,2007,2008,2009,2010,2011,2012,2013,2014,2015,2016,2017,2018,2019,2020],\"xaxis\":\"x\",\"y\":[0.23181513333333334,0.23781535211267596,0.2624064864864865,0.3443466101694912,0.2785935251798561,0.2114670907111756,0.2643213008130081,0.20794779540047573,0.2418007352941172,0.3335239189189189,0.2344967732919257,0.3020677290836656,0.2798994211287988,0.2621313148788928,0.2463669762845848,0.3083886092727274,0.31104829528158273,0.2809812398042416,0.2826715000000002,0.3108928949999999,0.2656431979166666,0.2560794708680144,0.27999004225352114,0.2534414494680852,0.2260444155,0.22217230858468667,0.2635512000000002,0.242464841052632,0.24611461499999965,0.3140711950000003,0.25466565500000005,0.25362601000000023,0.2661968307692306,0.264347385,0.2950963400000001,0.30476112000000016,0.2952791333333324,0.3087957550000006,0.3109944051282049,0.3411423783783781,0.3395318673684203,0.3710257,0.3653538849999999,0.394438825641026,0.4490272461538461,0.482208465,0.44682383191595854,0.4569696500000004,0.4876251299999994,0.495633050000001,0.4963612550000003,0.5045261799999999,0.5361382499999989,0.5147236550000011,0.5232085050000003,0.5538432500000001,0.560287959000001,0.5614288650000007,0.5910127149999996,0.5977773948717964,0.5993827249999998,0.5909193894999996,0.6014252350000012,0.5910916750000013,0.6015154800000013,0.6149545999999998,0.5798395538461533,0.5856792461538458,0.584046375000001,0.5715913950000007,0.5594023641025635,0.5828642050000001,0.5625599100000002,0.578772685000001,0.5785795100000009,0.5860684750000011,0.5986987151000001,0.6051975050000015,0.6375226022552535,0.6254128323108387,0.6269855221945144,0.6412697960000012,0.6601652610030712,0.6488679450661226,0.653208511282051,0.6503262820512825,0.6683047743589737,0.6714608207672623,0.6707487551020408,0.6817778026289684,0.6483008934060499,0.6565714601542408,0.6455968914473688,0.6487954437905223,0.6270642715298895,0.5928552316082347,0.5904210208835337,0.6024346220161672,0.5932240360184717,0.6312316354679793],\"yaxis\":\"y\",\"type\":\"scatter\"},{\"hovertemplate\":\"variable=instrumentalness<br>year=%{x}<br>value=%{y}<extra></extra>\",\"legendgroup\":\"instrumentalness\",\"line\":{\"color\":\"#ab63fa\",\"dash\":\"solid\"},\"marker\":{\"symbol\":\"circle\"},\"mode\":\"lines\",\"name\":\"instrumentalness\",\"orientation\":\"v\",\"showlegend\":true,\"x\":[1921,1922,1923,1924,1925,1926,1927,1928,1929,1930,1931,1932,1933,1934,1935,1936,1937,1938,1939,1940,1941,1942,1943,1944,1945,1946,1947,1948,1949,1950,1951,1952,1953,1954,1955,1956,1957,1958,1959,1960,1961,1962,1963,1964,1965,1966,1967,1968,1969,1970,1971,1972,1973,1974,1975,1976,1977,1978,1979,1980,1981,1982,1983,1984,1985,1986,1987,1988,1989,1990,1991,1992,1993,1994,1995,1996,1997,1998,1999,2000,2001,2002,2003,2004,2005,2006,2007,2008,2009,2010,2011,2012,2013,2014,2015,2016,2017,2018,2019,2020],\"xaxis\":\"x\",\"y\":[0.34487805886666656,0.4341948697183099,0.37173272502702703,0.5817009136440677,0.4182973612230215,0.3330931111175616,0.3913284986504065,0.4948354801348136,0.21520403106092464,0.35220592816528057,0.22141964161490724,0.22635657916334675,0.1839489396816208,0.276382266643599,0.2258732980895915,0.2571099957181816,0.3270876216438359,0.3784246349265906,0.2776824694100001,0.31684869986499986,0.4449516393124999,0.39288204787158104,0.4098969234647892,0.4492919654122334,0.2758942570149996,0.4861264096461711,0.3475934179090908,0.3554848223842104,0.2977615361899994,0.245000820015,0.3084378555850002,0.2884126469300002,0.3183223943230766,0.2974400082799999,0.21660442169000027,0.23876341778000015,0.1945206161692309,0.18124111005999985,0.18814819406153835,0.1765021594216216,0.26462325314210544,0.17147155094210545,0.18543231468,0.1595978017794872,0.1183659460923078,0.11512595556499995,0.1189468546723362,0.11277694928500002,0.15945270816500012,0.12756700308499988,0.12501788923,0.11488033375999974,0.09968022322999996,0.11636098351000007,0.11132203374499992,0.12162904398000007,0.12772103194499998,0.10038121450999994,0.11575137201500015,0.1287510612717948,0.14683794661999985,0.10001638300000004,0.14541052329000045,0.14517303973500045,0.11373855807499987,0.10994085436499992,0.10197451746666662,0.11719038022051302,0.11318254461499995,0.12582626809499972,0.11509233979999993,0.1006900830649998,0.11529396538000007,0.11188575994999997,0.12326879606999998,0.09505281203500013,0.10469017861999998,0.1113257503499999,0.09406814106611992,0.10116776879345596,0.10721401899251867,0.08804835031499995,0.08304927466734914,0.07793403490844357,0.09019436118461543,0.07770147187692314,0.07295726805128197,0.0636620903171356,0.07587207368367352,0.08298056821924611,0.10377233216658402,0.08520552067866319,0.09836505391700387,0.07656955483790515,0.1067868780547114,0.09398438711741793,0.09709060906626496,0.05421712166904419,0.07764024697280643,0.016375524305418724],\"yaxis\":\"y\",\"type\":\"scatter\"},{\"hovertemplate\":\"variable=liveness<br>year=%{x}<br>value=%{y}<extra></extra>\",\"legendgroup\":\"liveness\",\"line\":{\"color\":\"#FFA15A\",\"dash\":\"solid\"},\"marker\":{\"symbol\":\"circle\"},\"mode\":\"lines\",\"name\":\"liveness\",\"orientation\":\"v\",\"showlegend\":true,\"x\":[1921,1922,1923,1924,1925,1926,1927,1928,1929,1930,1931,1932,1933,1934,1935,1936,1937,1938,1939,1940,1941,1942,1943,1944,1945,1946,1947,1948,1949,1950,1951,1952,1953,1954,1955,1956,1957,1958,1959,1960,1961,1962,1963,1964,1965,1966,1967,1968,1969,1970,1971,1972,1973,1974,1975,1976,1977,1978,1979,1980,1981,1982,1983,1984,1985,1986,1987,1988,1989,1990,1991,1992,1993,1994,1995,1996,1997,1998,1999,2000,2001,2002,2003,2004,2005,2006,2007,2008,2009,2010,2011,2012,2013,2014,2015,2016,2017,2018,2019,2020],\"xaxis\":\"x\",\"y\":[0.20571,0.2407197183098592,0.2274621621621621,0.2352190677966101,0.2376679856115108,0.2323695936139332,0.16845024390243893,0.17528937351308488,0.2360002100840333,0.22131086278586296,0.22742795031055896,0.23249621513944224,0.2090719247467437,0.21345259515570927,0.2292998682476943,0.2214382727272726,0.2259677321156773,0.237111092985318,0.2391015999999999,0.26433510000000043,0.20183989583333312,0.2128784185493456,0.23921070422535246,0.2387719414893616,0.2030099500000001,0.2108183294663576,0.22382939393939366,0.21969357894736785,0.2088585500000004,0.2169584000000004,0.21777739999999995,0.2329722999999998,0.22173405128205104,0.2178411499999996,0.2214353500000001,0.18225715000000026,0.1827485641025636,0.2058408500000003,0.1918429230769232,0.20786372972972986,0.20891257894736812,0.20189573684210546,0.20374530000000027,0.2172323589743596,0.21383912820512846,0.21809309999999996,0.19091765882941508,0.2173509500000005,0.20696589999999992,0.21226880000000026,0.21491455000000012,0.20695495000000014,0.20137474999999974,0.20934634999999968,0.21544135000000025,0.24903219999999995,0.2232140500000004,0.21807094999999949,0.21344310000000027,0.20375410256410267,0.2250998999999999,0.20100675,0.1989224500000002,0.19770620000000003,0.19920644999999984,0.21187945000000014,0.20201810256410305,0.20770753846153808,0.19908020000000007,0.19096090000000004,0.18862892307692355,0.20024550000000071,0.1949322500000003,0.1921651000000001,0.2013737000000004,0.1986863000000002,0.1984788000000003,0.1937308999999996,0.20630804715530507,0.1976860429447853,0.18702563591022486,0.1939111999999998,0.19697630501535301,0.2021994404883014,0.19008162564102585,0.1882892820512821,0.19612656410256424,0.19843140664961625,0.2052522959183674,0.19970064484126995,0.20330882498760566,0.1897330077120824,0.19963081983805714,0.1918215960099752,0.18885643363728474,0.18116989426822505,0.1917126004016064,0.17632553495007114,0.17261641867624464,0.1785354187192117],\"yaxis\":\"y\",\"type\":\"scatter\"},{\"hovertemplate\":\"variable=speechiness<br>year=%{x}<br>value=%{y}<extra></extra>\",\"legendgroup\":\"speechiness\",\"line\":{\"color\":\"#19d3f3\",\"dash\":\"solid\"},\"marker\":{\"symbol\":\"circle\"},\"mode\":\"lines\",\"name\":\"speechiness\",\"orientation\":\"v\",\"showlegend\":true,\"x\":[1921,1922,1923,1924,1925,1926,1927,1928,1929,1930,1931,1932,1933,1934,1935,1936,1937,1938,1939,1940,1941,1942,1943,1944,1945,1946,1947,1948,1949,1950,1951,1952,1953,1954,1955,1956,1957,1958,1959,1960,1961,1962,1963,1964,1965,1966,1967,1968,1969,1970,1971,1972,1973,1974,1975,1976,1977,1978,1979,1980,1981,1982,1983,1984,1985,1986,1987,1988,1989,1990,1991,1992,1993,1994,1995,1996,1997,1998,1999,2000,2001,2002,2003,2004,2005,2006,2007,2008,2009,2010,2011,2012,2013,2014,2015,2016,2017,2018,2019,2020],\"xaxis\":\"x\",\"y\":[0.073662,0.1166549295774648,0.0939486486486487,0.09208940677966099,0.11191798561151084,0.4837036284470243,0.11360959349593502,0.15991149881046796,0.4900007352941176,0.11990966735966745,0.4536189440993791,0.1390073705179282,0.09112315484804634,0.10245692041522483,0.3539123847167326,0.27902936363636377,0.08567884322678843,0.095957259380098,0.1284626999999999,0.2429576500000001,0.09136520833333356,0.08367835909631392,0.10571957746478874,0.17328324468085093,0.3050972999999997,0.08800591647331797,0.10056381818181824,0.1643593157894739,0.10299210000000003,0.1534527499999999,0.10850664999999993,0.1373617999999998,0.09008825641025647,0.10481329999999993,0.0895582,0.062312349999999926,0.06435312820512826,0.05699929999999995,0.06787430769230775,0.0657835135135136,0.0594759473684209,0.057739842105263124,0.05203614999999992,0.06659446153846146,0.05755646153846147,0.055964050000000085,0.04909839919959968,0.0589884999999999,0.05497499999999995,0.051681499999999936,0.05942240000000008,0.05487124999999998,0.057825750000000085,0.0573193499999999,0.06109845,0.06274994999999996,0.060854549999999966,0.06275740000000009,0.06905859999999991,0.05924861538461545,0.057915999999999926,0.06585305000000008,0.06688600000000006,0.059264800000000166,0.05846480000000006,0.06481609999999999,0.05778964102564103,0.06609989743589745,0.06393924999999995,0.06434529999999995,0.07110158974358982,0.07306230000000008,0.07635054999999992,0.07604935000000011,0.08375444999999987,0.08607765000000005,0.08850605000000017,0.09173105000000006,0.09440717580727807,0.08920541922290394,0.08918229426433916,0.08430759999999995,0.09392574206755384,0.09423880976602242,0.09333369230769203,0.08584676923076921,0.08434733333333336,0.07735636828644507,0.08545780612244899,0.08103149801587313,0.08747927615270201,0.08174246786632405,0.09384888663967614,0.08406054862842896,0.09677922998986847,0.10431329994435183,0.1105364959839356,0.12717555872563022,0.12104335556695732,0.14138369458128058],\"yaxis\":\"y\",\"type\":\"scatter\"},{\"hovertemplate\":\"variable=valence<br>year=%{x}<br>value=%{y}<extra></extra>\",\"legendgroup\":\"valence\",\"line\":{\"color\":\"#FF6692\",\"dash\":\"solid\"},\"marker\":{\"symbol\":\"circle\"},\"mode\":\"lines\",\"name\":\"valence\",\"orientation\":\"v\",\"showlegend\":true,\"x\":[1921,1922,1923,1924,1925,1926,1927,1928,1929,1930,1931,1932,1933,1934,1935,1936,1937,1938,1939,1940,1941,1942,1943,1944,1945,1946,1947,1948,1949,1950,1951,1952,1953,1954,1955,1956,1957,1958,1959,1960,1961,1962,1963,1964,1965,1966,1967,1968,1969,1970,1971,1972,1973,1974,1975,1976,1977,1978,1979,1980,1981,1982,1983,1984,1985,1986,1987,1988,1989,1990,1991,1992,1993,1994,1995,1996,1997,1998,1999,2000,2001,2002,2003,2004,2005,2006,2007,2008,2009,2010,2011,2012,2013,2014,2015,2016,2017,2018,2019,2020],\"xaxis\":\"x\",\"y\":[0.37932666666666665,0.5355492957746479,0.6254924324324328,0.6637254237288139,0.6219287769784171,0.4369104571843251,0.6597004878048782,0.4957126883425853,0.6365298319327733,0.6162376299376306,0.5131170807453418,0.5881599601593626,0.5994099855282197,0.5588046712802772,0.5455777997364957,0.5640635454545455,0.5857894977168944,0.5149111092985317,0.5599248999999992,0.6167094700000009,0.4794560416666661,0.4774088585017848,0.4954545070422531,0.5406954787234041,0.4913613500000002,0.3982538283062647,0.5082125454545455,0.4621423684210526,0.4304195000000001,0.5516497000000001,0.44134755,0.44313496204999947,0.42914205128205135,0.4523410500000002,0.4724154999999997,0.5084230500000003,0.5110101538461542,0.4976614999999994,0.4784156410256422,0.5239316756756759,0.5128512105263155,0.5477920526315792,0.5415274500000008,0.55726042051282,0.5809506666666668,0.5801445499999996,0.5507916958479243,0.5659936500000002,0.5547452849999999,0.5720753999999992,0.5749132500000002,0.5956881500000009,0.5921162000000004,0.5812744000000009,0.5694151500000002,0.5807332499999998,0.58524655,0.5895352500000014,0.6099818000000005,0.5980580512820513,0.5829518500000006,0.5864384500000001,0.5721198999999989,0.5516387100000003,0.5655964500000001,0.5509485500000019,0.5414511794871785,0.5464853897435901,0.5483329000000007,0.5265268499999999,0.5486552307692295,0.5590983000000014,0.5555684500000001,0.5266491500000006,0.5302466999999994,0.5608732500000001,0.5485525000000002,0.5377209,0.5564528446950284,0.5594754601226991,0.541479107231919,0.5423971500000008,0.5305042476970324,0.5244885554425227,0.5325309230769236,0.5200283076923078,0.5167938461538473,0.5275418925831203,0.5071696617346935,0.5208951587301589,0.4724536787307882,0.4627090128534706,0.4547411943319834,0.4630487780548628,0.4320983687943254,0.4315320589872012,0.4164763112449793,0.4479212743699474,0.4588176295536167,0.5010478078817729],\"yaxis\":\"y\",\"type\":\"scatter\"}],                        {\"template\":{\"data\":{\"bar\":[{\"error_x\":{\"color\":\"#2a3f5f\"},\"error_y\":{\"color\":\"#2a3f5f\"},\"marker\":{\"line\":{\"color\":\"#E5ECF6\",\"width\":0.5},\"pattern\":{\"fillmode\":\"overlay\",\"size\":10,\"solidity\":0.2}},\"type\":\"bar\"}],\"barpolar\":[{\"marker\":{\"line\":{\"color\":\"#E5ECF6\",\"width\":0.5},\"pattern\":{\"fillmode\":\"overlay\",\"size\":10,\"solidity\":0.2}},\"type\":\"barpolar\"}],\"carpet\":[{\"aaxis\":{\"endlinecolor\":\"#2a3f5f\",\"gridcolor\":\"white\",\"linecolor\":\"white\",\"minorgridcolor\":\"white\",\"startlinecolor\":\"#2a3f5f\"},\"baxis\":{\"endlinecolor\":\"#2a3f5f\",\"gridcolor\":\"white\",\"linecolor\":\"white\",\"minorgridcolor\":\"white\",\"startlinecolor\":\"#2a3f5f\"},\"type\":\"carpet\"}],\"choropleth\":[{\"colorbar\":{\"outlinewidth\":0,\"ticks\":\"\"},\"type\":\"choropleth\"}],\"contour\":[{\"colorbar\":{\"outlinewidth\":0,\"ticks\":\"\"},\"colorscale\":[[0.0,\"#0d0887\"],[0.1111111111111111,\"#46039f\"],[0.2222222222222222,\"#7201a8\"],[0.3333333333333333,\"#9c179e\"],[0.4444444444444444,\"#bd3786\"],[0.5555555555555556,\"#d8576b\"],[0.6666666666666666,\"#ed7953\"],[0.7777777777777778,\"#fb9f3a\"],[0.8888888888888888,\"#fdca26\"],[1.0,\"#f0f921\"]],\"type\":\"contour\"}],\"contourcarpet\":[{\"colorbar\":{\"outlinewidth\":0,\"ticks\":\"\"},\"type\":\"contourcarpet\"}],\"heatmap\":[{\"colorbar\":{\"outlinewidth\":0,\"ticks\":\"\"},\"colorscale\":[[0.0,\"#0d0887\"],[0.1111111111111111,\"#46039f\"],[0.2222222222222222,\"#7201a8\"],[0.3333333333333333,\"#9c179e\"],[0.4444444444444444,\"#bd3786\"],[0.5555555555555556,\"#d8576b\"],[0.6666666666666666,\"#ed7953\"],[0.7777777777777778,\"#fb9f3a\"],[0.8888888888888888,\"#fdca26\"],[1.0,\"#f0f921\"]],\"type\":\"heatmap\"}],\"heatmapgl\":[{\"colorbar\":{\"outlinewidth\":0,\"ticks\":\"\"},\"colorscale\":[[0.0,\"#0d0887\"],[0.1111111111111111,\"#46039f\"],[0.2222222222222222,\"#7201a8\"],[0.3333333333333333,\"#9c179e\"],[0.4444444444444444,\"#bd3786\"],[0.5555555555555556,\"#d8576b\"],[0.6666666666666666,\"#ed7953\"],[0.7777777777777778,\"#fb9f3a\"],[0.8888888888888888,\"#fdca26\"],[1.0,\"#f0f921\"]],\"type\":\"heatmapgl\"}],\"histogram\":[{\"marker\":{\"pattern\":{\"fillmode\":\"overlay\",\"size\":10,\"solidity\":0.2}},\"type\":\"histogram\"}],\"histogram2d\":[{\"colorbar\":{\"outlinewidth\":0,\"ticks\":\"\"},\"colorscale\":[[0.0,\"#0d0887\"],[0.1111111111111111,\"#46039f\"],[0.2222222222222222,\"#7201a8\"],[0.3333333333333333,\"#9c179e\"],[0.4444444444444444,\"#bd3786\"],[0.5555555555555556,\"#d8576b\"],[0.6666666666666666,\"#ed7953\"],[0.7777777777777778,\"#fb9f3a\"],[0.8888888888888888,\"#fdca26\"],[1.0,\"#f0f921\"]],\"type\":\"histogram2d\"}],\"histogram2dcontour\":[{\"colorbar\":{\"outlinewidth\":0,\"ticks\":\"\"},\"colorscale\":[[0.0,\"#0d0887\"],[0.1111111111111111,\"#46039f\"],[0.2222222222222222,\"#7201a8\"],[0.3333333333333333,\"#9c179e\"],[0.4444444444444444,\"#bd3786\"],[0.5555555555555556,\"#d8576b\"],[0.6666666666666666,\"#ed7953\"],[0.7777777777777778,\"#fb9f3a\"],[0.8888888888888888,\"#fdca26\"],[1.0,\"#f0f921\"]],\"type\":\"histogram2dcontour\"}],\"mesh3d\":[{\"colorbar\":{\"outlinewidth\":0,\"ticks\":\"\"},\"type\":\"mesh3d\"}],\"parcoords\":[{\"line\":{\"colorbar\":{\"outlinewidth\":0,\"ticks\":\"\"}},\"type\":\"parcoords\"}],\"pie\":[{\"automargin\":true,\"type\":\"pie\"}],\"scatter\":[{\"marker\":{\"colorbar\":{\"outlinewidth\":0,\"ticks\":\"\"}},\"type\":\"scatter\"}],\"scatter3d\":[{\"line\":{\"colorbar\":{\"outlinewidth\":0,\"ticks\":\"\"}},\"marker\":{\"colorbar\":{\"outlinewidth\":0,\"ticks\":\"\"}},\"type\":\"scatter3d\"}],\"scattercarpet\":[{\"marker\":{\"colorbar\":{\"outlinewidth\":0,\"ticks\":\"\"}},\"type\":\"scattercarpet\"}],\"scattergeo\":[{\"marker\":{\"colorbar\":{\"outlinewidth\":0,\"ticks\":\"\"}},\"type\":\"scattergeo\"}],\"scattergl\":[{\"marker\":{\"colorbar\":{\"outlinewidth\":0,\"ticks\":\"\"}},\"type\":\"scattergl\"}],\"scattermapbox\":[{\"marker\":{\"colorbar\":{\"outlinewidth\":0,\"ticks\":\"\"}},\"type\":\"scattermapbox\"}],\"scatterpolar\":[{\"marker\":{\"colorbar\":{\"outlinewidth\":0,\"ticks\":\"\"}},\"type\":\"scatterpolar\"}],\"scatterpolargl\":[{\"marker\":{\"colorbar\":{\"outlinewidth\":0,\"ticks\":\"\"}},\"type\":\"scatterpolargl\"}],\"scatterternary\":[{\"marker\":{\"colorbar\":{\"outlinewidth\":0,\"ticks\":\"\"}},\"type\":\"scatterternary\"}],\"surface\":[{\"colorbar\":{\"outlinewidth\":0,\"ticks\":\"\"},\"colorscale\":[[0.0,\"#0d0887\"],[0.1111111111111111,\"#46039f\"],[0.2222222222222222,\"#7201a8\"],[0.3333333333333333,\"#9c179e\"],[0.4444444444444444,\"#bd3786\"],[0.5555555555555556,\"#d8576b\"],[0.6666666666666666,\"#ed7953\"],[0.7777777777777778,\"#fb9f3a\"],[0.8888888888888888,\"#fdca26\"],[1.0,\"#f0f921\"]],\"type\":\"surface\"}],\"table\":[{\"cells\":{\"fill\":{\"color\":\"#EBF0F8\"},\"line\":{\"color\":\"white\"}},\"header\":{\"fill\":{\"color\":\"#C8D4E3\"},\"line\":{\"color\":\"white\"}},\"type\":\"table\"}]},\"layout\":{\"annotationdefaults\":{\"arrowcolor\":\"#2a3f5f\",\"arrowhead\":0,\"arrowwidth\":1},\"autotypenumbers\":\"strict\",\"coloraxis\":{\"colorbar\":{\"outlinewidth\":0,\"ticks\":\"\"}},\"colorscale\":{\"diverging\":[[0,\"#8e0152\"],[0.1,\"#c51b7d\"],[0.2,\"#de77ae\"],[0.3,\"#f1b6da\"],[0.4,\"#fde0ef\"],[0.5,\"#f7f7f7\"],[0.6,\"#e6f5d0\"],[0.7,\"#b8e186\"],[0.8,\"#7fbc41\"],[0.9,\"#4d9221\"],[1,\"#276419\"]],\"sequential\":[[0.0,\"#0d0887\"],[0.1111111111111111,\"#46039f\"],[0.2222222222222222,\"#7201a8\"],[0.3333333333333333,\"#9c179e\"],[0.4444444444444444,\"#bd3786\"],[0.5555555555555556,\"#d8576b\"],[0.6666666666666666,\"#ed7953\"],[0.7777777777777778,\"#fb9f3a\"],[0.8888888888888888,\"#fdca26\"],[1.0,\"#f0f921\"]],\"sequentialminus\":[[0.0,\"#0d0887\"],[0.1111111111111111,\"#46039f\"],[0.2222222222222222,\"#7201a8\"],[0.3333333333333333,\"#9c179e\"],[0.4444444444444444,\"#bd3786\"],[0.5555555555555556,\"#d8576b\"],[0.6666666666666666,\"#ed7953\"],[0.7777777777777778,\"#fb9f3a\"],[0.8888888888888888,\"#fdca26\"],[1.0,\"#f0f921\"]]},\"colorway\":[\"#636efa\",\"#EF553B\",\"#00cc96\",\"#ab63fa\",\"#FFA15A\",\"#19d3f3\",\"#FF6692\",\"#B6E880\",\"#FF97FF\",\"#FECB52\"],\"font\":{\"color\":\"#2a3f5f\"},\"geo\":{\"bgcolor\":\"white\",\"lakecolor\":\"white\",\"landcolor\":\"#E5ECF6\",\"showlakes\":true,\"showland\":true,\"subunitcolor\":\"white\"},\"hoverlabel\":{\"align\":\"left\"},\"hovermode\":\"closest\",\"mapbox\":{\"style\":\"light\"},\"paper_bgcolor\":\"white\",\"plot_bgcolor\":\"#E5ECF6\",\"polar\":{\"angularaxis\":{\"gridcolor\":\"white\",\"linecolor\":\"white\",\"ticks\":\"\"},\"bgcolor\":\"#E5ECF6\",\"radialaxis\":{\"gridcolor\":\"white\",\"linecolor\":\"white\",\"ticks\":\"\"}},\"scene\":{\"xaxis\":{\"backgroundcolor\":\"#E5ECF6\",\"gridcolor\":\"white\",\"gridwidth\":2,\"linecolor\":\"white\",\"showbackground\":true,\"ticks\":\"\",\"zerolinecolor\":\"white\"},\"yaxis\":{\"backgroundcolor\":\"#E5ECF6\",\"gridcolor\":\"white\",\"gridwidth\":2,\"linecolor\":\"white\",\"showbackground\":true,\"ticks\":\"\",\"zerolinecolor\":\"white\"},\"zaxis\":{\"backgroundcolor\":\"#E5ECF6\",\"gridcolor\":\"white\",\"gridwidth\":2,\"linecolor\":\"white\",\"showbackground\":true,\"ticks\":\"\",\"zerolinecolor\":\"white\"}},\"shapedefaults\":{\"line\":{\"color\":\"#2a3f5f\"}},\"ternary\":{\"aaxis\":{\"gridcolor\":\"white\",\"linecolor\":\"white\",\"ticks\":\"\"},\"baxis\":{\"gridcolor\":\"white\",\"linecolor\":\"white\",\"ticks\":\"\"},\"bgcolor\":\"#E5ECF6\",\"caxis\":{\"gridcolor\":\"white\",\"linecolor\":\"white\",\"ticks\":\"\"}},\"title\":{\"x\":0.05},\"xaxis\":{\"automargin\":true,\"gridcolor\":\"white\",\"linecolor\":\"white\",\"ticks\":\"\",\"title\":{\"standoff\":15},\"zerolinecolor\":\"white\",\"zerolinewidth\":2},\"yaxis\":{\"automargin\":true,\"gridcolor\":\"white\",\"linecolor\":\"white\",\"ticks\":\"\",\"title\":{\"standoff\":15},\"zerolinecolor\":\"white\",\"zerolinewidth\":2}}},\"xaxis\":{\"anchor\":\"y\",\"domain\":[0.0,1.0],\"title\":{\"text\":\"year\"}},\"yaxis\":{\"anchor\":\"x\",\"domain\":[0.0,1.0],\"title\":{\"text\":\"value\"}},\"legend\":{\"title\":{\"text\":\"variable\"},\"tracegroupgap\":0},\"margin\":{\"t\":60}},                        {\"responsive\": true}                    )                };                            </script>        </div>\n",
       "</body>\n",
       "</html>"
      ]
     },
     "metadata": {
      "application/vnd.databricks.v1+output": {
       "addedWidgets": {},
       "arguments": {},
       "data": "<html>\n<head><meta charset=\"utf-8\" /></head>\n<body>\n    <div>            <script src=\"https://cdnjs.cloudflare.com/ajax/libs/mathjax/2.7.5/MathJax.js?config=TeX-AMS-MML_SVG\"></script><script type=\"text/javascript\">if (window.MathJax) {MathJax.Hub.Config({SVG: {font: \"STIX-Web\"}});}</script>                <script type=\"text/javascript\">window.PlotlyConfig = {MathJaxConfig: 'local'};</script>\n        <script src=\"https://cdn.plot.ly/plotly-2.9.0.min.js\"></script>                <div id=\"66847deb-53d2-416b-acd6-6a1cce27945c\" class=\"plotly-graph-div\" style=\"height:100%; width:100%;\"></div>            <script type=\"text/javascript\">                                    window.PLOTLYENV=window.PLOTLYENV || {};                                    if (document.getElementById(\"66847deb-53d2-416b-acd6-6a1cce27945c\")) {                    Plotly.newPlot(                        \"66847deb-53d2-416b-acd6-6a1cce27945c\",                        [{\"hovertemplate\":\"variable=acousticness<br>year=%{x}<br>value=%{y}<extra></extra>\",\"legendgroup\":\"acousticness\",\"line\":{\"color\":\"#636efa\",\"dash\":\"solid\"},\"marker\":{\"symbol\":\"circle\"},\"mode\":\"lines\",\"name\":\"acousticness\",\"orientation\":\"v\",\"showlegend\":true,\"x\":[1921,1922,1923,1924,1925,1926,1927,1928,1929,1930,1931,1932,1933,1934,1935,1936,1937,1938,1939,1940,1941,1942,1943,1944,1945,1946,1947,1948,1949,1950,1951,1952,1953,1954,1955,1956,1957,1958,1959,1960,1961,1962,1963,1964,1965,1966,1967,1968,1969,1970,1971,1972,1973,1974,1975,1976,1977,1978,1979,1980,1981,1982,1983,1984,1985,1986,1987,1988,1989,1990,1991,1992,1993,1994,1995,1996,1997,1998,1999,2000,2001,2002,2003,2004,2005,2006,2007,2008,2009,2010,2011,2012,2013,2014,2015,2016,2017,2018,2019,2020],\"xaxis\":\"x\",\"y\":[0.8868960000000005,0.9385915492957748,0.9572467913513516,0.940199860169493,0.9626070503597138,0.660817216981134,0.9361794552845558,0.9386165035685952,0.6014265861344558,0.936714937370057,0.8330399585921336,0.9357705179282878,0.899897909117222,0.8911487501730107,0.7783855599472987,0.7723120800000008,0.8654357853881286,0.9192803908646014,0.9087381000000004,0.8476440499999951,0.8957376562500025,0.8529343703923857,0.9027523185915528,0.9076531914893636,0.7096568630000005,0.9199445823665852,0.9139650224242392,0.9221549999999956,0.9075328949999956,0.8539413005999965,0.9022971956499974,0.8743009244999965,0.8909223502564074,0.8650197272999992,0.8405510069999986,0.8230569899999975,0.7928023589743608,0.7796118650000005,0.7793927897435907,0.7671814843243259,0.7519038684210535,0.720607806842106,0.7227048300000004,0.6941005307692291,0.6099113295384619,0.5248094599699997,0.5296103243521767,0.4937702403500001,0.4488463039999994,0.4600571139500007,0.4583362981000009,0.4600428051999994,0.4165241889999992,0.4472074226000001,0.4337738871950005,0.36147063210999936,0.3393025333750004,0.32896857344999936,0.29593224063,0.28495539763589706,0.3012042267400006,0.2895800382050001,0.2947778916300001,0.2877095803450008,0.2965709032099995,0.28508065642499997,0.3116640663948722,0.32200994651282105,0.3133512518150009,0.3328699505850001,0.33276529163076995,0.3208087638250009,0.3090685537400004,0.3062343630899999,0.30251180612000045,0.30102687980000065,0.3067156934549995,0.29148946157000016,0.2715901110661201,0.28932270051635994,0.2868424748428934,0.28262428988500105,0.25647051817297833,0.2805589466225845,0.2557635068666665,0.2799863520256408,0.2540809575538463,0.2491917627212275,0.26192861909693904,0.2426866435515872,0.27318266251859197,0.24995304438046245,0.2574880859564779,0.24931264588029906,0.2539522577102332,0.28417102995548144,0.2860990665261043,0.2676329907750836,0.2782985863365824,0.2199308880935964],\"yaxis\":\"y\",\"type\":\"scatter\"},{\"hovertemplate\":\"variable=danceability<br>year=%{x}<br>value=%{y}<extra></extra>\",\"legendgroup\":\"danceability\",\"line\":{\"color\":\"#EF553B\",\"dash\":\"solid\"},\"marker\":{\"symbol\":\"circle\"},\"mode\":\"lines\",\"name\":\"danceability\",\"orientation\":\"v\",\"showlegend\":true,\"x\":[1921,1922,1923,1924,1925,1926,1927,1928,1929,1930,1931,1932,1933,1934,1935,1936,1937,1938,1939,1940,1941,1942,1943,1944,1945,1946,1947,1948,1949,1950,1951,1952,1953,1954,1955,1956,1957,1958,1959,1960,1961,1962,1963,1964,1965,1966,1967,1968,1969,1970,1971,1972,1973,1974,1975,1976,1977,1978,1979,1980,1981,1982,1983,1984,1985,1986,1987,1988,1989,1990,1991,1992,1993,1994,1995,1996,1997,1998,1999,2000,2001,2002,2003,2004,2005,2006,2007,2008,2009,2010,2011,2012,2013,2014,2015,2016,2017,2018,2019,2020],\"xaxis\":\"x\",\"y\":[0.4185973333333336,0.4820422535211267,0.5773405405405401,0.5498940677966102,0.5738633093525181,0.5998802612481859,0.6482682926829262,0.5342878667724027,0.6476698529411761,0.5181758835758836,0.5952217391304357,0.5577976095617526,0.57029030390738,0.528705882352941,0.5558691699604746,0.5580055454545453,0.5421572298325723,0.47997797716150103,0.5126828,0.52189235,0.4804813541666676,0.4646338882282997,0.4551456338028168,0.5001744680851068,0.5191431500000011,0.4144450116009276,0.4713208484848491,0.4633694736842109,0.4421993999999996,0.5042531000000008,0.4624800999999999,0.4570322000000001,0.4374260512820513,0.4656388999999994,0.4881312,0.4878145000000007,0.5034812307692305,0.4800213999999995,0.4821143076923083,0.4860292432432435,0.4891655789473678,0.4931643684210523,0.48162135,0.5041769743589742,0.5034505641025638,0.5070204999999981,0.4926885942971483,0.5010080999999997,0.4880977999999999,0.5063075000000004,0.5042738499999999,0.5209994499999997,0.5154494500000005,0.51533975,0.5209980000000007,0.5297624999999999,0.5333237000000017,0.5407746000000005,0.5620453000000001,0.5561523589743594,0.5421846999999999,0.5642594000000005,0.5456292999999998,0.5303089499999987,0.5556424000000012,0.5409334000000001,0.5410193333333342,0.5404594358974372,0.5472274499999988,0.5352986500000001,0.5558243589743591,0.5550648499999989,0.5698781500000001,0.5528299500000016,0.5590457500000001,0.5878306000000001,0.5768138499999994,0.5862116499999998,0.5821579190158892,0.590918047034764,0.5833178553615969,0.5761602999999997,0.5757633060388944,0.5676803662258397,0.5722805641025652,0.5682301538461539,0.5634143589743592,0.5791928388746803,0.5641903571428577,0.5724883432539687,0.5528669806643526,0.5708818508997433,0.5711480263157896,0.5899476807980057,0.5937740628166152,0.6002023928770179,0.6122170180722886,0.6635004755111744,0.6448141097998967,0.6929043349753701],\"yaxis\":\"y\",\"type\":\"scatter\"},{\"hovertemplate\":\"variable=energy<br>year=%{x}<br>value=%{y}<extra></extra>\",\"legendgroup\":\"energy\",\"line\":{\"color\":\"#00cc96\",\"dash\":\"solid\"},\"marker\":{\"symbol\":\"circle\"},\"mode\":\"lines\",\"name\":\"energy\",\"orientation\":\"v\",\"showlegend\":true,\"x\":[1921,1922,1923,1924,1925,1926,1927,1928,1929,1930,1931,1932,1933,1934,1935,1936,1937,1938,1939,1940,1941,1942,1943,1944,1945,1946,1947,1948,1949,1950,1951,1952,1953,1954,1955,1956,1957,1958,1959,1960,1961,1962,1963,1964,1965,1966,1967,1968,1969,1970,1971,1972,1973,1974,1975,1976,1977,1978,1979,1980,1981,1982,1983,1984,1985,1986,1987,1988,1989,1990,1991,1992,1993,1994,1995,1996,1997,1998,1999,2000,2001,2002,2003,2004,2005,2006,2007,2008,2009,2010,2011,2012,2013,2014,2015,2016,2017,2018,2019,2020],\"xaxis\":\"x\",\"y\":[0.23181513333333334,0.23781535211267596,0.2624064864864865,0.3443466101694912,0.2785935251798561,0.2114670907111756,0.2643213008130081,0.20794779540047573,0.2418007352941172,0.3335239189189189,0.2344967732919257,0.3020677290836656,0.2798994211287988,0.2621313148788928,0.2463669762845848,0.3083886092727274,0.31104829528158273,0.2809812398042416,0.2826715000000002,0.3108928949999999,0.2656431979166666,0.2560794708680144,0.27999004225352114,0.2534414494680852,0.2260444155,0.22217230858468667,0.2635512000000002,0.242464841052632,0.24611461499999965,0.3140711950000003,0.25466565500000005,0.25362601000000023,0.2661968307692306,0.264347385,0.2950963400000001,0.30476112000000016,0.2952791333333324,0.3087957550000006,0.3109944051282049,0.3411423783783781,0.3395318673684203,0.3710257,0.3653538849999999,0.394438825641026,0.4490272461538461,0.482208465,0.44682383191595854,0.4569696500000004,0.4876251299999994,0.495633050000001,0.4963612550000003,0.5045261799999999,0.5361382499999989,0.5147236550000011,0.5232085050000003,0.5538432500000001,0.560287959000001,0.5614288650000007,0.5910127149999996,0.5977773948717964,0.5993827249999998,0.5909193894999996,0.6014252350000012,0.5910916750000013,0.6015154800000013,0.6149545999999998,0.5798395538461533,0.5856792461538458,0.584046375000001,0.5715913950000007,0.5594023641025635,0.5828642050000001,0.5625599100000002,0.578772685000001,0.5785795100000009,0.5860684750000011,0.5986987151000001,0.6051975050000015,0.6375226022552535,0.6254128323108387,0.6269855221945144,0.6412697960000012,0.6601652610030712,0.6488679450661226,0.653208511282051,0.6503262820512825,0.6683047743589737,0.6714608207672623,0.6707487551020408,0.6817778026289684,0.6483008934060499,0.6565714601542408,0.6455968914473688,0.6487954437905223,0.6270642715298895,0.5928552316082347,0.5904210208835337,0.6024346220161672,0.5932240360184717,0.6312316354679793],\"yaxis\":\"y\",\"type\":\"scatter\"},{\"hovertemplate\":\"variable=instrumentalness<br>year=%{x}<br>value=%{y}<extra></extra>\",\"legendgroup\":\"instrumentalness\",\"line\":{\"color\":\"#ab63fa\",\"dash\":\"solid\"},\"marker\":{\"symbol\":\"circle\"},\"mode\":\"lines\",\"name\":\"instrumentalness\",\"orientation\":\"v\",\"showlegend\":true,\"x\":[1921,1922,1923,1924,1925,1926,1927,1928,1929,1930,1931,1932,1933,1934,1935,1936,1937,1938,1939,1940,1941,1942,1943,1944,1945,1946,1947,1948,1949,1950,1951,1952,1953,1954,1955,1956,1957,1958,1959,1960,1961,1962,1963,1964,1965,1966,1967,1968,1969,1970,1971,1972,1973,1974,1975,1976,1977,1978,1979,1980,1981,1982,1983,1984,1985,1986,1987,1988,1989,1990,1991,1992,1993,1994,1995,1996,1997,1998,1999,2000,2001,2002,2003,2004,2005,2006,2007,2008,2009,2010,2011,2012,2013,2014,2015,2016,2017,2018,2019,2020],\"xaxis\":\"x\",\"y\":[0.34487805886666656,0.4341948697183099,0.37173272502702703,0.5817009136440677,0.4182973612230215,0.3330931111175616,0.3913284986504065,0.4948354801348136,0.21520403106092464,0.35220592816528057,0.22141964161490724,0.22635657916334675,0.1839489396816208,0.276382266643599,0.2258732980895915,0.2571099957181816,0.3270876216438359,0.3784246349265906,0.2776824694100001,0.31684869986499986,0.4449516393124999,0.39288204787158104,0.4098969234647892,0.4492919654122334,0.2758942570149996,0.4861264096461711,0.3475934179090908,0.3554848223842104,0.2977615361899994,0.245000820015,0.3084378555850002,0.2884126469300002,0.3183223943230766,0.2974400082799999,0.21660442169000027,0.23876341778000015,0.1945206161692309,0.18124111005999985,0.18814819406153835,0.1765021594216216,0.26462325314210544,0.17147155094210545,0.18543231468,0.1595978017794872,0.1183659460923078,0.11512595556499995,0.1189468546723362,0.11277694928500002,0.15945270816500012,0.12756700308499988,0.12501788923,0.11488033375999974,0.09968022322999996,0.11636098351000007,0.11132203374499992,0.12162904398000007,0.12772103194499998,0.10038121450999994,0.11575137201500015,0.1287510612717948,0.14683794661999985,0.10001638300000004,0.14541052329000045,0.14517303973500045,0.11373855807499987,0.10994085436499992,0.10197451746666662,0.11719038022051302,0.11318254461499995,0.12582626809499972,0.11509233979999993,0.1006900830649998,0.11529396538000007,0.11188575994999997,0.12326879606999998,0.09505281203500013,0.10469017861999998,0.1113257503499999,0.09406814106611992,0.10116776879345596,0.10721401899251867,0.08804835031499995,0.08304927466734914,0.07793403490844357,0.09019436118461543,0.07770147187692314,0.07295726805128197,0.0636620903171356,0.07587207368367352,0.08298056821924611,0.10377233216658402,0.08520552067866319,0.09836505391700387,0.07656955483790515,0.1067868780547114,0.09398438711741793,0.09709060906626496,0.05421712166904419,0.07764024697280643,0.016375524305418724],\"yaxis\":\"y\",\"type\":\"scatter\"},{\"hovertemplate\":\"variable=liveness<br>year=%{x}<br>value=%{y}<extra></extra>\",\"legendgroup\":\"liveness\",\"line\":{\"color\":\"#FFA15A\",\"dash\":\"solid\"},\"marker\":{\"symbol\":\"circle\"},\"mode\":\"lines\",\"name\":\"liveness\",\"orientation\":\"v\",\"showlegend\":true,\"x\":[1921,1922,1923,1924,1925,1926,1927,1928,1929,1930,1931,1932,1933,1934,1935,1936,1937,1938,1939,1940,1941,1942,1943,1944,1945,1946,1947,1948,1949,1950,1951,1952,1953,1954,1955,1956,1957,1958,1959,1960,1961,1962,1963,1964,1965,1966,1967,1968,1969,1970,1971,1972,1973,1974,1975,1976,1977,1978,1979,1980,1981,1982,1983,1984,1985,1986,1987,1988,1989,1990,1991,1992,1993,1994,1995,1996,1997,1998,1999,2000,2001,2002,2003,2004,2005,2006,2007,2008,2009,2010,2011,2012,2013,2014,2015,2016,2017,2018,2019,2020],\"xaxis\":\"x\",\"y\":[0.20571,0.2407197183098592,0.2274621621621621,0.2352190677966101,0.2376679856115108,0.2323695936139332,0.16845024390243893,0.17528937351308488,0.2360002100840333,0.22131086278586296,0.22742795031055896,0.23249621513944224,0.2090719247467437,0.21345259515570927,0.2292998682476943,0.2214382727272726,0.2259677321156773,0.237111092985318,0.2391015999999999,0.26433510000000043,0.20183989583333312,0.2128784185493456,0.23921070422535246,0.2387719414893616,0.2030099500000001,0.2108183294663576,0.22382939393939366,0.21969357894736785,0.2088585500000004,0.2169584000000004,0.21777739999999995,0.2329722999999998,0.22173405128205104,0.2178411499999996,0.2214353500000001,0.18225715000000026,0.1827485641025636,0.2058408500000003,0.1918429230769232,0.20786372972972986,0.20891257894736812,0.20189573684210546,0.20374530000000027,0.2172323589743596,0.21383912820512846,0.21809309999999996,0.19091765882941508,0.2173509500000005,0.20696589999999992,0.21226880000000026,0.21491455000000012,0.20695495000000014,0.20137474999999974,0.20934634999999968,0.21544135000000025,0.24903219999999995,0.2232140500000004,0.21807094999999949,0.21344310000000027,0.20375410256410267,0.2250998999999999,0.20100675,0.1989224500000002,0.19770620000000003,0.19920644999999984,0.21187945000000014,0.20201810256410305,0.20770753846153808,0.19908020000000007,0.19096090000000004,0.18862892307692355,0.20024550000000071,0.1949322500000003,0.1921651000000001,0.2013737000000004,0.1986863000000002,0.1984788000000003,0.1937308999999996,0.20630804715530507,0.1976860429447853,0.18702563591022486,0.1939111999999998,0.19697630501535301,0.2021994404883014,0.19008162564102585,0.1882892820512821,0.19612656410256424,0.19843140664961625,0.2052522959183674,0.19970064484126995,0.20330882498760566,0.1897330077120824,0.19963081983805714,0.1918215960099752,0.18885643363728474,0.18116989426822505,0.1917126004016064,0.17632553495007114,0.17261641867624464,0.1785354187192117],\"yaxis\":\"y\",\"type\":\"scatter\"},{\"hovertemplate\":\"variable=speechiness<br>year=%{x}<br>value=%{y}<extra></extra>\",\"legendgroup\":\"speechiness\",\"line\":{\"color\":\"#19d3f3\",\"dash\":\"solid\"},\"marker\":{\"symbol\":\"circle\"},\"mode\":\"lines\",\"name\":\"speechiness\",\"orientation\":\"v\",\"showlegend\":true,\"x\":[1921,1922,1923,1924,1925,1926,1927,1928,1929,1930,1931,1932,1933,1934,1935,1936,1937,1938,1939,1940,1941,1942,1943,1944,1945,1946,1947,1948,1949,1950,1951,1952,1953,1954,1955,1956,1957,1958,1959,1960,1961,1962,1963,1964,1965,1966,1967,1968,1969,1970,1971,1972,1973,1974,1975,1976,1977,1978,1979,1980,1981,1982,1983,1984,1985,1986,1987,1988,1989,1990,1991,1992,1993,1994,1995,1996,1997,1998,1999,2000,2001,2002,2003,2004,2005,2006,2007,2008,2009,2010,2011,2012,2013,2014,2015,2016,2017,2018,2019,2020],\"xaxis\":\"x\",\"y\":[0.073662,0.1166549295774648,0.0939486486486487,0.09208940677966099,0.11191798561151084,0.4837036284470243,0.11360959349593502,0.15991149881046796,0.4900007352941176,0.11990966735966745,0.4536189440993791,0.1390073705179282,0.09112315484804634,0.10245692041522483,0.3539123847167326,0.27902936363636377,0.08567884322678843,0.095957259380098,0.1284626999999999,0.2429576500000001,0.09136520833333356,0.08367835909631392,0.10571957746478874,0.17328324468085093,0.3050972999999997,0.08800591647331797,0.10056381818181824,0.1643593157894739,0.10299210000000003,0.1534527499999999,0.10850664999999993,0.1373617999999998,0.09008825641025647,0.10481329999999993,0.0895582,0.062312349999999926,0.06435312820512826,0.05699929999999995,0.06787430769230775,0.0657835135135136,0.0594759473684209,0.057739842105263124,0.05203614999999992,0.06659446153846146,0.05755646153846147,0.055964050000000085,0.04909839919959968,0.0589884999999999,0.05497499999999995,0.051681499999999936,0.05942240000000008,0.05487124999999998,0.057825750000000085,0.0573193499999999,0.06109845,0.06274994999999996,0.060854549999999966,0.06275740000000009,0.06905859999999991,0.05924861538461545,0.057915999999999926,0.06585305000000008,0.06688600000000006,0.059264800000000166,0.05846480000000006,0.06481609999999999,0.05778964102564103,0.06609989743589745,0.06393924999999995,0.06434529999999995,0.07110158974358982,0.07306230000000008,0.07635054999999992,0.07604935000000011,0.08375444999999987,0.08607765000000005,0.08850605000000017,0.09173105000000006,0.09440717580727807,0.08920541922290394,0.08918229426433916,0.08430759999999995,0.09392574206755384,0.09423880976602242,0.09333369230769203,0.08584676923076921,0.08434733333333336,0.07735636828644507,0.08545780612244899,0.08103149801587313,0.08747927615270201,0.08174246786632405,0.09384888663967614,0.08406054862842896,0.09677922998986847,0.10431329994435183,0.1105364959839356,0.12717555872563022,0.12104335556695732,0.14138369458128058],\"yaxis\":\"y\",\"type\":\"scatter\"},{\"hovertemplate\":\"variable=valence<br>year=%{x}<br>value=%{y}<extra></extra>\",\"legendgroup\":\"valence\",\"line\":{\"color\":\"#FF6692\",\"dash\":\"solid\"},\"marker\":{\"symbol\":\"circle\"},\"mode\":\"lines\",\"name\":\"valence\",\"orientation\":\"v\",\"showlegend\":true,\"x\":[1921,1922,1923,1924,1925,1926,1927,1928,1929,1930,1931,1932,1933,1934,1935,1936,1937,1938,1939,1940,1941,1942,1943,1944,1945,1946,1947,1948,1949,1950,1951,1952,1953,1954,1955,1956,1957,1958,1959,1960,1961,1962,1963,1964,1965,1966,1967,1968,1969,1970,1971,1972,1973,1974,1975,1976,1977,1978,1979,1980,1981,1982,1983,1984,1985,1986,1987,1988,1989,1990,1991,1992,1993,1994,1995,1996,1997,1998,1999,2000,2001,2002,2003,2004,2005,2006,2007,2008,2009,2010,2011,2012,2013,2014,2015,2016,2017,2018,2019,2020],\"xaxis\":\"x\",\"y\":[0.37932666666666665,0.5355492957746479,0.6254924324324328,0.6637254237288139,0.6219287769784171,0.4369104571843251,0.6597004878048782,0.4957126883425853,0.6365298319327733,0.6162376299376306,0.5131170807453418,0.5881599601593626,0.5994099855282197,0.5588046712802772,0.5455777997364957,0.5640635454545455,0.5857894977168944,0.5149111092985317,0.5599248999999992,0.6167094700000009,0.4794560416666661,0.4774088585017848,0.4954545070422531,0.5406954787234041,0.4913613500000002,0.3982538283062647,0.5082125454545455,0.4621423684210526,0.4304195000000001,0.5516497000000001,0.44134755,0.44313496204999947,0.42914205128205135,0.4523410500000002,0.4724154999999997,0.5084230500000003,0.5110101538461542,0.4976614999999994,0.4784156410256422,0.5239316756756759,0.5128512105263155,0.5477920526315792,0.5415274500000008,0.55726042051282,0.5809506666666668,0.5801445499999996,0.5507916958479243,0.5659936500000002,0.5547452849999999,0.5720753999999992,0.5749132500000002,0.5956881500000009,0.5921162000000004,0.5812744000000009,0.5694151500000002,0.5807332499999998,0.58524655,0.5895352500000014,0.6099818000000005,0.5980580512820513,0.5829518500000006,0.5864384500000001,0.5721198999999989,0.5516387100000003,0.5655964500000001,0.5509485500000019,0.5414511794871785,0.5464853897435901,0.5483329000000007,0.5265268499999999,0.5486552307692295,0.5590983000000014,0.5555684500000001,0.5266491500000006,0.5302466999999994,0.5608732500000001,0.5485525000000002,0.5377209,0.5564528446950284,0.5594754601226991,0.541479107231919,0.5423971500000008,0.5305042476970324,0.5244885554425227,0.5325309230769236,0.5200283076923078,0.5167938461538473,0.5275418925831203,0.5071696617346935,0.5208951587301589,0.4724536787307882,0.4627090128534706,0.4547411943319834,0.4630487780548628,0.4320983687943254,0.4315320589872012,0.4164763112449793,0.4479212743699474,0.4588176295536167,0.5010478078817729],\"yaxis\":\"y\",\"type\":\"scatter\"}],                        {\"template\":{\"data\":{\"bar\":[{\"error_x\":{\"color\":\"#2a3f5f\"},\"error_y\":{\"color\":\"#2a3f5f\"},\"marker\":{\"line\":{\"color\":\"#E5ECF6\",\"width\":0.5},\"pattern\":{\"fillmode\":\"overlay\",\"size\":10,\"solidity\":0.2}},\"type\":\"bar\"}],\"barpolar\":[{\"marker\":{\"line\":{\"color\":\"#E5ECF6\",\"width\":0.5},\"pattern\":{\"fillmode\":\"overlay\",\"size\":10,\"solidity\":0.2}},\"type\":\"barpolar\"}],\"carpet\":[{\"aaxis\":{\"endlinecolor\":\"#2a3f5f\",\"gridcolor\":\"white\",\"linecolor\":\"white\",\"minorgridcolor\":\"white\",\"startlinecolor\":\"#2a3f5f\"},\"baxis\":{\"endlinecolor\":\"#2a3f5f\",\"gridcolor\":\"white\",\"linecolor\":\"white\",\"minorgridcolor\":\"white\",\"startlinecolor\":\"#2a3f5f\"},\"type\":\"carpet\"}],\"choropleth\":[{\"colorbar\":{\"outlinewidth\":0,\"ticks\":\"\"},\"type\":\"choropleth\"}],\"contour\":[{\"colorbar\":{\"outlinewidth\":0,\"ticks\":\"\"},\"colorscale\":[[0.0,\"#0d0887\"],[0.1111111111111111,\"#46039f\"],[0.2222222222222222,\"#7201a8\"],[0.3333333333333333,\"#9c179e\"],[0.4444444444444444,\"#bd3786\"],[0.5555555555555556,\"#d8576b\"],[0.6666666666666666,\"#ed7953\"],[0.7777777777777778,\"#fb9f3a\"],[0.8888888888888888,\"#fdca26\"],[1.0,\"#f0f921\"]],\"type\":\"contour\"}],\"contourcarpet\":[{\"colorbar\":{\"outlinewidth\":0,\"ticks\":\"\"},\"type\":\"contourcarpet\"}],\"heatmap\":[{\"colorbar\":{\"outlinewidth\":0,\"ticks\":\"\"},\"colorscale\":[[0.0,\"#0d0887\"],[0.1111111111111111,\"#46039f\"],[0.2222222222222222,\"#7201a8\"],[0.3333333333333333,\"#9c179e\"],[0.4444444444444444,\"#bd3786\"],[0.5555555555555556,\"#d8576b\"],[0.6666666666666666,\"#ed7953\"],[0.7777777777777778,\"#fb9f3a\"],[0.8888888888888888,\"#fdca26\"],[1.0,\"#f0f921\"]],\"type\":\"heatmap\"}],\"heatmapgl\":[{\"colorbar\":{\"outlinewidth\":0,\"ticks\":\"\"},\"colorscale\":[[0.0,\"#0d0887\"],[0.1111111111111111,\"#46039f\"],[0.2222222222222222,\"#7201a8\"],[0.3333333333333333,\"#9c179e\"],[0.4444444444444444,\"#bd3786\"],[0.5555555555555556,\"#d8576b\"],[0.6666666666666666,\"#ed7953\"],[0.7777777777777778,\"#fb9f3a\"],[0.8888888888888888,\"#fdca26\"],[1.0,\"#f0f921\"]],\"type\":\"heatmapgl\"}],\"histogram\":[{\"marker\":{\"pattern\":{\"fillmode\":\"overlay\",\"size\":10,\"solidity\":0.2}},\"type\":\"histogram\"}],\"histogram2d\":[{\"colorbar\":{\"outlinewidth\":0,\"ticks\":\"\"},\"colorscale\":[[0.0,\"#0d0887\"],[0.1111111111111111,\"#46039f\"],[0.2222222222222222,\"#7201a8\"],[0.3333333333333333,\"#9c179e\"],[0.4444444444444444,\"#bd3786\"],[0.5555555555555556,\"#d8576b\"],[0.6666666666666666,\"#ed7953\"],[0.7777777777777778,\"#fb9f3a\"],[0.8888888888888888,\"#fdca26\"],[1.0,\"#f0f921\"]],\"type\":\"histogram2d\"}],\"histogram2dcontour\":[{\"colorbar\":{\"outlinewidth\":0,\"ticks\":\"\"},\"colorscale\":[[0.0,\"#0d0887\"],[0.1111111111111111,\"#46039f\"],[0.2222222222222222,\"#7201a8\"],[0.3333333333333333,\"#9c179e\"],[0.4444444444444444,\"#bd3786\"],[0.5555555555555556,\"#d8576b\"],[0.6666666666666666,\"#ed7953\"],[0.7777777777777778,\"#fb9f3a\"],[0.8888888888888888,\"#fdca26\"],[1.0,\"#f0f921\"]],\"type\":\"histogram2dcontour\"}],\"mesh3d\":[{\"colorbar\":{\"outlinewidth\":0,\"ticks\":\"\"},\"type\":\"mesh3d\"}],\"parcoords\":[{\"line\":{\"colorbar\":{\"outlinewidth\":0,\"ticks\":\"\"}},\"type\":\"parcoords\"}],\"pie\":[{\"automargin\":true,\"type\":\"pie\"}],\"scatter\":[{\"marker\":{\"colorbar\":{\"outlinewidth\":0,\"ticks\":\"\"}},\"type\":\"scatter\"}],\"scatter3d\":[{\"line\":{\"colorbar\":{\"outlinewidth\":0,\"ticks\":\"\"}},\"marker\":{\"colorbar\":{\"outlinewidth\":0,\"ticks\":\"\"}},\"type\":\"scatter3d\"}],\"scattercarpet\":[{\"marker\":{\"colorbar\":{\"outlinewidth\":0,\"ticks\":\"\"}},\"type\":\"scattercarpet\"}],\"scattergeo\":[{\"marker\":{\"colorbar\":{\"outlinewidth\":0,\"ticks\":\"\"}},\"type\":\"scattergeo\"}],\"scattergl\":[{\"marker\":{\"colorbar\":{\"outlinewidth\":0,\"ticks\":\"\"}},\"type\":\"scattergl\"}],\"scattermapbox\":[{\"marker\":{\"colorbar\":{\"outlinewidth\":0,\"ticks\":\"\"}},\"type\":\"scattermapbox\"}],\"scatterpolar\":[{\"marker\":{\"colorbar\":{\"outlinewidth\":0,\"ticks\":\"\"}},\"type\":\"scatterpolar\"}],\"scatterpolargl\":[{\"marker\":{\"colorbar\":{\"outlinewidth\":0,\"ticks\":\"\"}},\"type\":\"scatterpolargl\"}],\"scatterternary\":[{\"marker\":{\"colorbar\":{\"outlinewidth\":0,\"ticks\":\"\"}},\"type\":\"scatterternary\"}],\"surface\":[{\"colorbar\":{\"outlinewidth\":0,\"ticks\":\"\"},\"colorscale\":[[0.0,\"#0d0887\"],[0.1111111111111111,\"#46039f\"],[0.2222222222222222,\"#7201a8\"],[0.3333333333333333,\"#9c179e\"],[0.4444444444444444,\"#bd3786\"],[0.5555555555555556,\"#d8576b\"],[0.6666666666666666,\"#ed7953\"],[0.7777777777777778,\"#fb9f3a\"],[0.8888888888888888,\"#fdca26\"],[1.0,\"#f0f921\"]],\"type\":\"surface\"}],\"table\":[{\"cells\":{\"fill\":{\"color\":\"#EBF0F8\"},\"line\":{\"color\":\"white\"}},\"header\":{\"fill\":{\"color\":\"#C8D4E3\"},\"line\":{\"color\":\"white\"}},\"type\":\"table\"}]},\"layout\":{\"annotationdefaults\":{\"arrowcolor\":\"#2a3f5f\",\"arrowhead\":0,\"arrowwidth\":1},\"autotypenumbers\":\"strict\",\"coloraxis\":{\"colorbar\":{\"outlinewidth\":0,\"ticks\":\"\"}},\"colorscale\":{\"diverging\":[[0,\"#8e0152\"],[0.1,\"#c51b7d\"],[0.2,\"#de77ae\"],[0.3,\"#f1b6da\"],[0.4,\"#fde0ef\"],[0.5,\"#f7f7f7\"],[0.6,\"#e6f5d0\"],[0.7,\"#b8e186\"],[0.8,\"#7fbc41\"],[0.9,\"#4d9221\"],[1,\"#276419\"]],\"sequential\":[[0.0,\"#0d0887\"],[0.1111111111111111,\"#46039f\"],[0.2222222222222222,\"#7201a8\"],[0.3333333333333333,\"#9c179e\"],[0.4444444444444444,\"#bd3786\"],[0.5555555555555556,\"#d8576b\"],[0.6666666666666666,\"#ed7953\"],[0.7777777777777778,\"#fb9f3a\"],[0.8888888888888888,\"#fdca26\"],[1.0,\"#f0f921\"]],\"sequentialminus\":[[0.0,\"#0d0887\"],[0.1111111111111111,\"#46039f\"],[0.2222222222222222,\"#7201a8\"],[0.3333333333333333,\"#9c179e\"],[0.4444444444444444,\"#bd3786\"],[0.5555555555555556,\"#d8576b\"],[0.6666666666666666,\"#ed7953\"],[0.7777777777777778,\"#fb9f3a\"],[0.8888888888888888,\"#fdca26\"],[1.0,\"#f0f921\"]]},\"colorway\":[\"#636efa\",\"#EF553B\",\"#00cc96\",\"#ab63fa\",\"#FFA15A\",\"#19d3f3\",\"#FF6692\",\"#B6E880\",\"#FF97FF\",\"#FECB52\"],\"font\":{\"color\":\"#2a3f5f\"},\"geo\":{\"bgcolor\":\"white\",\"lakecolor\":\"white\",\"landcolor\":\"#E5ECF6\",\"showlakes\":true,\"showland\":true,\"subunitcolor\":\"white\"},\"hoverlabel\":{\"align\":\"left\"},\"hovermode\":\"closest\",\"mapbox\":{\"style\":\"light\"},\"paper_bgcolor\":\"white\",\"plot_bgcolor\":\"#E5ECF6\",\"polar\":{\"angularaxis\":{\"gridcolor\":\"white\",\"linecolor\":\"white\",\"ticks\":\"\"},\"bgcolor\":\"#E5ECF6\",\"radialaxis\":{\"gridcolor\":\"white\",\"linecolor\":\"white\",\"ticks\":\"\"}},\"scene\":{\"xaxis\":{\"backgroundcolor\":\"#E5ECF6\",\"gridcolor\":\"white\",\"gridwidth\":2,\"linecolor\":\"white\",\"showbackground\":true,\"ticks\":\"\",\"zerolinecolor\":\"white\"},\"yaxis\":{\"backgroundcolor\":\"#E5ECF6\",\"gridcolor\":\"white\",\"gridwidth\":2,\"linecolor\":\"white\",\"showbackground\":true,\"ticks\":\"\",\"zerolinecolor\":\"white\"},\"zaxis\":{\"backgroundcolor\":\"#E5ECF6\",\"gridcolor\":\"white\",\"gridwidth\":2,\"linecolor\":\"white\",\"showbackground\":true,\"ticks\":\"\",\"zerolinecolor\":\"white\"}},\"shapedefaults\":{\"line\":{\"color\":\"#2a3f5f\"}},\"ternary\":{\"aaxis\":{\"gridcolor\":\"white\",\"linecolor\":\"white\",\"ticks\":\"\"},\"baxis\":{\"gridcolor\":\"white\",\"linecolor\":\"white\",\"ticks\":\"\"},\"bgcolor\":\"#E5ECF6\",\"caxis\":{\"gridcolor\":\"white\",\"linecolor\":\"white\",\"ticks\":\"\"}},\"title\":{\"x\":0.05},\"xaxis\":{\"automargin\":true,\"gridcolor\":\"white\",\"linecolor\":\"white\",\"ticks\":\"\",\"title\":{\"standoff\":15},\"zerolinecolor\":\"white\",\"zerolinewidth\":2},\"yaxis\":{\"automargin\":true,\"gridcolor\":\"white\",\"linecolor\":\"white\",\"ticks\":\"\",\"title\":{\"standoff\":15},\"zerolinecolor\":\"white\",\"zerolinewidth\":2}}},\"xaxis\":{\"anchor\":\"y\",\"domain\":[0.0,1.0],\"title\":{\"text\":\"year\"}},\"yaxis\":{\"anchor\":\"x\",\"domain\":[0.0,1.0],\"title\":{\"text\":\"value\"}},\"legend\":{\"title\":{\"text\":\"variable\"},\"tracegroupgap\":0},\"margin\":{\"t\":60}},                        {\"responsive\": true}                    )                };                            </script>        </div>\n</body>\n</html>",
       "datasetInfos": [],
       "metadata": {},
       "removedWidgets": [],
       "textData": null,
       "type": "htmlSandbox"
      }
     },
     "output_type": "display_data"
    }
   ],
   "source": [
    "# criando nova visualização analisando a relação do ano com outras características da música\n",
    "df_year.plot.line(x='year', y=['acousticness', 'danceability', 'energy',\n",
    "       'instrumentalness', 'liveness', 'speechiness', 'valence'])"
   ]
  },
  {
   "cell_type": "code",
   "execution_count": null,
   "metadata": {
    "application/vnd.databricks.v1+cell": {
     "cellMetadata": {
      "byteLimit": 2048000,
      "rowLimit": 10000
     },
     "inputWidgets": {},
     "nuid": "8d2daad7-ef5d-412a-a13d-849afb699883",
     "showTitle": false,
     "title": ""
    }
   },
   "outputs": [],
   "source": [
    "# agrupando as músicas por décadas\n",
    "df_year['decade'] = df_year.year.apply(lambda year: f'{(year//10)*10}s')"
   ]
  },
  {
   "cell_type": "code",
   "execution_count": null,
   "metadata": {
    "application/vnd.databricks.v1+cell": {
     "cellMetadata": {
      "byteLimit": 2048000,
      "rowLimit": 10000
     },
     "inputWidgets": {},
     "nuid": "0e591c12-dd79-4d4b-88d2-0f0345e20b7d",
     "showTitle": false,
     "title": ""
    }
   },
   "outputs": [],
   "source": [
    "# criando nova variável no dataframe\n",
    "df_year['qtde'] = 1"
   ]
  },
  {
   "cell_type": "code",
   "execution_count": null,
   "metadata": {
    "application/vnd.databricks.v1+cell": {
     "cellMetadata": {
      "byteLimit": 2048000,
      "rowLimit": 10000
     },
     "inputWidgets": {},
     "nuid": "6e89443c-f4eb-498d-8682-22d1eda26607",
     "showTitle": false,
     "title": ""
    }
   },
   "outputs": [
    {
     "data": {
      "text/html": [
       "<div>\n",
       "<style scoped>\n",
       "    .dataframe tbody tr th:only-of-type {\n",
       "        vertical-align: middle;\n",
       "    }\n",
       "\n",
       "    .dataframe tbody tr th {\n",
       "        vertical-align: top;\n",
       "    }\n",
       "\n",
       "    .dataframe thead th {\n",
       "        text-align: right;\n",
       "    }\n",
       "</style>\n",
       "<table border=\"1\" class=\"dataframe\">\n",
       "  <thead>\n",
       "    <tr style=\"text-align: right;\">\n",
       "      <th></th>\n",
       "      <th>mode</th>\n",
       "      <th>year</th>\n",
       "      <th>acousticness</th>\n",
       "      <th>danceability</th>\n",
       "      <th>duration_ms</th>\n",
       "      <th>energy</th>\n",
       "      <th>instrumentalness</th>\n",
       "      <th>liveness</th>\n",
       "      <th>loudness</th>\n",
       "      <th>speechiness</th>\n",
       "      <th>tempo</th>\n",
       "      <th>valence</th>\n",
       "      <th>popularity</th>\n",
       "      <th>key</th>\n",
       "      <th>decade</th>\n",
       "      <th>qtde</th>\n",
       "    </tr>\n",
       "  </thead>\n",
       "  <tbody>\n",
       "    <tr>\n",
       "      <th>95</th>\n",
       "      <td>1</td>\n",
       "      <td>2016</td>\n",
       "      <td>0.284171</td>\n",
       "      <td>0.600202</td>\n",
       "      <td>221396.510295</td>\n",
       "      <td>0.592855</td>\n",
       "      <td>0.093984</td>\n",
       "      <td>0.181170</td>\n",
       "      <td>-8.061056</td>\n",
       "      <td>0.104313</td>\n",
       "      <td>118.652630</td>\n",
       "      <td>0.431532</td>\n",
       "      <td>59.647190</td>\n",
       "      <td>0</td>\n",
       "      <td>2010s</td>\n",
       "      <td>1</td>\n",
       "    </tr>\n",
       "    <tr>\n",
       "      <th>96</th>\n",
       "      <td>1</td>\n",
       "      <td>2017</td>\n",
       "      <td>0.286099</td>\n",
       "      <td>0.612217</td>\n",
       "      <td>211115.696787</td>\n",
       "      <td>0.590421</td>\n",
       "      <td>0.097091</td>\n",
       "      <td>0.191713</td>\n",
       "      <td>-8.312630</td>\n",
       "      <td>0.110536</td>\n",
       "      <td>117.202740</td>\n",
       "      <td>0.416476</td>\n",
       "      <td>63.263554</td>\n",
       "      <td>1</td>\n",
       "      <td>2010s</td>\n",
       "      <td>1</td>\n",
       "    </tr>\n",
       "    <tr>\n",
       "      <th>97</th>\n",
       "      <td>1</td>\n",
       "      <td>2018</td>\n",
       "      <td>0.267633</td>\n",
       "      <td>0.663500</td>\n",
       "      <td>206001.007133</td>\n",
       "      <td>0.602435</td>\n",
       "      <td>0.054217</td>\n",
       "      <td>0.176326</td>\n",
       "      <td>-7.168785</td>\n",
       "      <td>0.127176</td>\n",
       "      <td>121.922308</td>\n",
       "      <td>0.447921</td>\n",
       "      <td>63.296243</td>\n",
       "      <td>1</td>\n",
       "      <td>2010s</td>\n",
       "      <td>1</td>\n",
       "    </tr>\n",
       "    <tr>\n",
       "      <th>98</th>\n",
       "      <td>1</td>\n",
       "      <td>2019</td>\n",
       "      <td>0.278299</td>\n",
       "      <td>0.644814</td>\n",
       "      <td>201024.788096</td>\n",
       "      <td>0.593224</td>\n",
       "      <td>0.077640</td>\n",
       "      <td>0.172616</td>\n",
       "      <td>-7.722192</td>\n",
       "      <td>0.121043</td>\n",
       "      <td>120.235644</td>\n",
       "      <td>0.458818</td>\n",
       "      <td>65.256542</td>\n",
       "      <td>1</td>\n",
       "      <td>2010s</td>\n",
       "      <td>1</td>\n",
       "    </tr>\n",
       "    <tr>\n",
       "      <th>99</th>\n",
       "      <td>1</td>\n",
       "      <td>2020</td>\n",
       "      <td>0.219931</td>\n",
       "      <td>0.692904</td>\n",
       "      <td>193728.397537</td>\n",
       "      <td>0.631232</td>\n",
       "      <td>0.016376</td>\n",
       "      <td>0.178535</td>\n",
       "      <td>-6.595067</td>\n",
       "      <td>0.141384</td>\n",
       "      <td>124.283129</td>\n",
       "      <td>0.501048</td>\n",
       "      <td>64.301970</td>\n",
       "      <td>1</td>\n",
       "      <td>2020s</td>\n",
       "      <td>1</td>\n",
       "    </tr>\n",
       "  </tbody>\n",
       "</table>\n",
       "</div>"
      ]
     },
     "metadata": {
      "application/vnd.databricks.v1+output": {
       "addedWidgets": {},
       "arguments": {},
       "data": "<div>\n<style scoped>\n    .dataframe tbody tr th:only-of-type {\n        vertical-align: middle;\n    }\n\n    .dataframe tbody tr th {\n        vertical-align: top;\n    }\n\n    .dataframe thead th {\n        text-align: right;\n    }\n</style>\n<table border=\"1\" class=\"dataframe\">\n  <thead>\n    <tr style=\"text-align: right;\">\n      <th></th>\n      <th>mode</th>\n      <th>year</th>\n      <th>acousticness</th>\n      <th>danceability</th>\n      <th>duration_ms</th>\n      <th>energy</th>\n      <th>instrumentalness</th>\n      <th>liveness</th>\n      <th>loudness</th>\n      <th>speechiness</th>\n      <th>tempo</th>\n      <th>valence</th>\n      <th>popularity</th>\n      <th>key</th>\n      <th>decade</th>\n      <th>qtde</th>\n    </tr>\n  </thead>\n  <tbody>\n    <tr>\n      <th>95</th>\n      <td>1</td>\n      <td>2016</td>\n      <td>0.284171</td>\n      <td>0.600202</td>\n      <td>221396.510295</td>\n      <td>0.592855</td>\n      <td>0.093984</td>\n      <td>0.181170</td>\n      <td>-8.061056</td>\n      <td>0.104313</td>\n      <td>118.652630</td>\n      <td>0.431532</td>\n      <td>59.647190</td>\n      <td>0</td>\n      <td>2010s</td>\n      <td>1</td>\n    </tr>\n    <tr>\n      <th>96</th>\n      <td>1</td>\n      <td>2017</td>\n      <td>0.286099</td>\n      <td>0.612217</td>\n      <td>211115.696787</td>\n      <td>0.590421</td>\n      <td>0.097091</td>\n      <td>0.191713</td>\n      <td>-8.312630</td>\n      <td>0.110536</td>\n      <td>117.202740</td>\n      <td>0.416476</td>\n      <td>63.263554</td>\n      <td>1</td>\n      <td>2010s</td>\n      <td>1</td>\n    </tr>\n    <tr>\n      <th>97</th>\n      <td>1</td>\n      <td>2018</td>\n      <td>0.267633</td>\n      <td>0.663500</td>\n      <td>206001.007133</td>\n      <td>0.602435</td>\n      <td>0.054217</td>\n      <td>0.176326</td>\n      <td>-7.168785</td>\n      <td>0.127176</td>\n      <td>121.922308</td>\n      <td>0.447921</td>\n      <td>63.296243</td>\n      <td>1</td>\n      <td>2010s</td>\n      <td>1</td>\n    </tr>\n    <tr>\n      <th>98</th>\n      <td>1</td>\n      <td>2019</td>\n      <td>0.278299</td>\n      <td>0.644814</td>\n      <td>201024.788096</td>\n      <td>0.593224</td>\n      <td>0.077640</td>\n      <td>0.172616</td>\n      <td>-7.722192</td>\n      <td>0.121043</td>\n      <td>120.235644</td>\n      <td>0.458818</td>\n      <td>65.256542</td>\n      <td>1</td>\n      <td>2010s</td>\n      <td>1</td>\n    </tr>\n    <tr>\n      <th>99</th>\n      <td>1</td>\n      <td>2020</td>\n      <td>0.219931</td>\n      <td>0.692904</td>\n      <td>193728.397537</td>\n      <td>0.631232</td>\n      <td>0.016376</td>\n      <td>0.178535</td>\n      <td>-6.595067</td>\n      <td>0.141384</td>\n      <td>124.283129</td>\n      <td>0.501048</td>\n      <td>64.301970</td>\n      <td>1</td>\n      <td>2020s</td>\n      <td>1</td>\n    </tr>\n  </tbody>\n</table>\n</div>",
       "datasetInfos": [],
       "metadata": {},
       "removedWidgets": [],
       "textData": null,
       "type": "htmlSandbox"
      }
     },
     "output_type": "display_data"
    }
   ],
   "source": [
    "# consultando últimos registros\n",
    "df_year.tail()"
   ]
  },
  {
   "cell_type": "code",
   "execution_count": null,
   "metadata": {
    "application/vnd.databricks.v1+cell": {
     "cellMetadata": {
      "byteLimit": 2048000,
      "rowLimit": 10000
     },
     "inputWidgets": {},
     "nuid": "65a6aac2-c187-41c0-86e3-a63d66d9460c",
     "showTitle": false,
     "title": ""
    }
   },
   "outputs": [],
   "source": [
    "# criando uma cópia do dataframe com colunas específicas\n",
    "df_year_2 = df_year[['decade']]\n",
    "df_year_2['qtde'] = 1"
   ]
  },
  {
   "cell_type": "code",
   "execution_count": null,
   "metadata": {
    "application/vnd.databricks.v1+cell": {
     "cellMetadata": {
      "byteLimit": 2048000,
      "rowLimit": 10000
     },
     "inputWidgets": {},
     "nuid": "a6a76f7e-5316-4b7f-9185-816d7db7d6d5",
     "showTitle": false,
     "title": ""
    }
   },
   "outputs": [
    {
     "data": {
      "text/html": [
       "<div>\n",
       "<style scoped>\n",
       "    .dataframe tbody tr th:only-of-type {\n",
       "        vertical-align: middle;\n",
       "    }\n",
       "\n",
       "    .dataframe tbody tr th {\n",
       "        vertical-align: top;\n",
       "    }\n",
       "\n",
       "    .dataframe thead th {\n",
       "        text-align: right;\n",
       "    }\n",
       "</style>\n",
       "<table border=\"1\" class=\"dataframe\">\n",
       "  <thead>\n",
       "    <tr style=\"text-align: right;\">\n",
       "      <th></th>\n",
       "      <th>qtde</th>\n",
       "    </tr>\n",
       "    <tr>\n",
       "      <th>decade</th>\n",
       "      <th></th>\n",
       "    </tr>\n",
       "  </thead>\n",
       "  <tbody>\n",
       "    <tr>\n",
       "      <th>1970s</th>\n",
       "      <td>10</td>\n",
       "    </tr>\n",
       "    <tr>\n",
       "      <th>2000s</th>\n",
       "      <td>10</td>\n",
       "    </tr>\n",
       "    <tr>\n",
       "      <th>1980s</th>\n",
       "      <td>10</td>\n",
       "    </tr>\n",
       "    <tr>\n",
       "      <th>1960s</th>\n",
       "      <td>10</td>\n",
       "    </tr>\n",
       "    <tr>\n",
       "      <th>1930s</th>\n",
       "      <td>10</td>\n",
       "    </tr>\n",
       "  </tbody>\n",
       "</table>\n",
       "</div>"
      ]
     },
     "metadata": {
      "application/vnd.databricks.v1+output": {
       "addedWidgets": {},
       "arguments": {},
       "data": "<div>\n<style scoped>\n    .dataframe tbody tr th:only-of-type {\n        vertical-align: middle;\n    }\n\n    .dataframe tbody tr th {\n        vertical-align: top;\n    }\n\n    .dataframe thead th {\n        text-align: right;\n    }\n</style>\n<table border=\"1\" class=\"dataframe\">\n  <thead>\n    <tr style=\"text-align: right;\">\n      <th></th>\n      <th>qtde</th>\n    </tr>\n    <tr>\n      <th>decade</th>\n      <th></th>\n    </tr>\n  </thead>\n  <tbody>\n    <tr>\n      <th>1970s</th>\n      <td>10</td>\n    </tr>\n    <tr>\n      <th>2000s</th>\n      <td>10</td>\n    </tr>\n    <tr>\n      <th>1980s</th>\n      <td>10</td>\n    </tr>\n    <tr>\n      <th>1960s</th>\n      <td>10</td>\n    </tr>\n    <tr>\n      <th>1930s</th>\n      <td>10</td>\n    </tr>\n  </tbody>\n</table>\n</div>",
       "datasetInfos": [],
       "metadata": {},
       "removedWidgets": [],
       "textData": null,
       "type": "htmlSandbox"
      }
     },
     "output_type": "display_data"
    }
   ],
   "source": [
    "# analisando novo dataframe\n",
    "df_year_2.head()"
   ]
  },
  {
   "cell_type": "code",
   "execution_count": null,
   "metadata": {
    "application/vnd.databricks.v1+cell": {
     "cellMetadata": {
      "byteLimit": 2048000,
      "rowLimit": 10000
     },
     "inputWidgets": {},
     "nuid": "31112f23-a43d-425f-b8c6-4c7a49c8f38a",
     "showTitle": false,
     "title": ""
    }
   },
   "outputs": [
    {
     "data": {
      "text/html": [
       "<div>\n",
       "<style scoped>\n",
       "    .dataframe tbody tr th:only-of-type {\n",
       "        vertical-align: middle;\n",
       "    }\n",
       "\n",
       "    .dataframe tbody tr th {\n",
       "        vertical-align: top;\n",
       "    }\n",
       "\n",
       "    .dataframe thead th {\n",
       "        text-align: right;\n",
       "    }\n",
       "</style>\n",
       "<table border=\"1\" class=\"dataframe\">\n",
       "  <thead>\n",
       "    <tr style=\"text-align: right;\">\n",
       "      <th></th>\n",
       "      <th>qtde</th>\n",
       "    </tr>\n",
       "    <tr>\n",
       "      <th>decade</th>\n",
       "      <th></th>\n",
       "    </tr>\n",
       "  </thead>\n",
       "  <tbody>\n",
       "    <tr>\n",
       "      <th>1970s</th>\n",
       "      <td>10</td>\n",
       "    </tr>\n",
       "    <tr>\n",
       "      <th>2000s</th>\n",
       "      <td>10</td>\n",
       "    </tr>\n",
       "    <tr>\n",
       "      <th>1980s</th>\n",
       "      <td>10</td>\n",
       "    </tr>\n",
       "    <tr>\n",
       "      <th>1960s</th>\n",
       "      <td>10</td>\n",
       "    </tr>\n",
       "    <tr>\n",
       "      <th>1930s</th>\n",
       "      <td>10</td>\n",
       "    </tr>\n",
       "    <tr>\n",
       "      <th>1920s</th>\n",
       "      <td>9</td>\n",
       "    </tr>\n",
       "    <tr>\n",
       "      <th>2010s</th>\n",
       "      <td>10</td>\n",
       "    </tr>\n",
       "    <tr>\n",
       "      <th>2020s</th>\n",
       "      <td>1</td>\n",
       "    </tr>\n",
       "    <tr>\n",
       "      <th>1990s</th>\n",
       "      <td>10</td>\n",
       "    </tr>\n",
       "    <tr>\n",
       "      <th>1950s</th>\n",
       "      <td>10</td>\n",
       "    </tr>\n",
       "    <tr>\n",
       "      <th>1940s</th>\n",
       "      <td>10</td>\n",
       "    </tr>\n",
       "  </tbody>\n",
       "</table>\n",
       "</div>"
      ]
     },
     "metadata": {
      "application/vnd.databricks.v1+output": {
       "addedWidgets": {},
       "arguments": {},
       "data": "<div>\n<style scoped>\n    .dataframe tbody tr th:only-of-type {\n        vertical-align: middle;\n    }\n\n    .dataframe tbody tr th {\n        vertical-align: top;\n    }\n\n    .dataframe thead th {\n        text-align: right;\n    }\n</style>\n<table border=\"1\" class=\"dataframe\">\n  <thead>\n    <tr style=\"text-align: right;\">\n      <th></th>\n      <th>qtde</th>\n    </tr>\n    <tr>\n      <th>decade</th>\n      <th></th>\n    </tr>\n  </thead>\n  <tbody>\n    <tr>\n      <th>1970s</th>\n      <td>10</td>\n    </tr>\n    <tr>\n      <th>2000s</th>\n      <td>10</td>\n    </tr>\n    <tr>\n      <th>1980s</th>\n      <td>10</td>\n    </tr>\n    <tr>\n      <th>1960s</th>\n      <td>10</td>\n    </tr>\n    <tr>\n      <th>1930s</th>\n      <td>10</td>\n    </tr>\n    <tr>\n      <th>1920s</th>\n      <td>9</td>\n    </tr>\n    <tr>\n      <th>2010s</th>\n      <td>10</td>\n    </tr>\n    <tr>\n      <th>2020s</th>\n      <td>1</td>\n    </tr>\n    <tr>\n      <th>1990s</th>\n      <td>10</td>\n    </tr>\n    <tr>\n      <th>1950s</th>\n      <td>10</td>\n    </tr>\n    <tr>\n      <th>1940s</th>\n      <td>10</td>\n    </tr>\n  </tbody>\n</table>\n</div>",
       "datasetInfos": [],
       "metadata": {},
       "removedWidgets": [],
       "textData": null,
       "type": "htmlSandbox"
      }
     },
     "output_type": "display_data"
    }
   ],
   "source": [
    "# criando novo dataframe agregando os dados pela coluna 'decade' e aplicando a soma de músicas\n",
    "df_year_2 = df_year_2.groupby('decade').sum()\n",
    "df_year_2\n"
   ]
  },
  {
   "cell_type": "code",
   "execution_count": null,
   "metadata": {
    "application/vnd.databricks.v1+cell": {
     "cellMetadata": {
      "byteLimit": 2048000,
      "rowLimit": 10000
     },
     "inputWidgets": {},
     "nuid": "46d4a2f1-3370-451b-abde-0fee886086cc",
     "showTitle": false,
     "title": ""
    }
   },
   "outputs": [
    {
     "data": {
      "text/html": [
       "<div>\n",
       "<style scoped>\n",
       "    .dataframe tbody tr th:only-of-type {\n",
       "        vertical-align: middle;\n",
       "    }\n",
       "\n",
       "    .dataframe tbody tr th {\n",
       "        vertical-align: top;\n",
       "    }\n",
       "\n",
       "    .dataframe thead th {\n",
       "        text-align: right;\n",
       "    }\n",
       "</style>\n",
       "<table border=\"1\" class=\"dataframe\">\n",
       "  <thead>\n",
       "    <tr style=\"text-align: right;\">\n",
       "      <th></th>\n",
       "      <th>decade</th>\n",
       "      <th>acousticness</th>\n",
       "      <th>danceability</th>\n",
       "      <th>duration_ms</th>\n",
       "      <th>energy</th>\n",
       "      <th>instrumentalness</th>\n",
       "      <th>liveness</th>\n",
       "      <th>loudness</th>\n",
       "      <th>speechiness</th>\n",
       "      <th>tempo</th>\n",
       "      <th>valence</th>\n",
       "      <th>popularity</th>\n",
       "      <th>qtde</th>\n",
       "    </tr>\n",
       "  </thead>\n",
       "  <tbody>\n",
       "    <tr>\n",
       "      <th>0</th>\n",
       "      <td>1920s</td>\n",
       "      <td>0.869176</td>\n",
       "      <td>0.559094</td>\n",
       "      <td>189520.609165</td>\n",
       "      <td>0.253390</td>\n",
       "      <td>0.398363</td>\n",
       "      <td>0.217654</td>\n",
       "      <td>-16.163132</td>\n",
       "      <td>0.192833</td>\n",
       "      <td>110.539268</td>\n",
       "      <td>0.561653</td>\n",
       "      <td>1.504310</td>\n",
       "      <td>9</td>\n",
       "    </tr>\n",
       "    <tr>\n",
       "      <th>1</th>\n",
       "      <td>1930s</td>\n",
       "      <td>0.874072</td>\n",
       "      <td>0.541888</td>\n",
       "      <td>208295.762372</td>\n",
       "      <td>0.284158</td>\n",
       "      <td>0.272649</td>\n",
       "      <td>0.225668</td>\n",
       "      <td>-14.190930</td>\n",
       "      <td>0.184916</td>\n",
       "      <td>112.254898</td>\n",
       "      <td>0.564600</td>\n",
       "      <td>2.777264</td>\n",
       "      <td>10</td>\n",
       "    </tr>\n",
       "    <tr>\n",
       "      <th>2</th>\n",
       "      <td>1940s</td>\n",
       "      <td>0.877998</td>\n",
       "      <td>0.473281</td>\n",
       "      <td>221154.015009</td>\n",
       "      <td>0.256639</td>\n",
       "      <td>0.377673</td>\n",
       "      <td>0.222325</td>\n",
       "      <td>-15.196490</td>\n",
       "      <td>0.145802</td>\n",
       "      <td>107.194472</td>\n",
       "      <td>0.490011</td>\n",
       "      <td>1.865367</td>\n",
       "      <td>10</td>\n",
       "    </tr>\n",
       "    <tr>\n",
       "      <th>3</th>\n",
       "      <td>1950s</td>\n",
       "      <td>0.840190</td>\n",
       "      <td>0.476839</td>\n",
       "      <td>220517.635873</td>\n",
       "      <td>0.286783</td>\n",
       "      <td>0.247689</td>\n",
       "      <td>0.209141</td>\n",
       "      <td>-14.730952</td>\n",
       "      <td>0.093532</td>\n",
       "      <td>110.976998</td>\n",
       "      <td>0.478554</td>\n",
       "      <td>10.722800</td>\n",
       "      <td>10</td>\n",
       "    </tr>\n",
       "    <tr>\n",
       "      <th>4</th>\n",
       "      <td>1960s</td>\n",
       "      <td>0.626345</td>\n",
       "      <td>0.494642</td>\n",
       "      <td>211668.931336</td>\n",
       "      <td>0.413415</td>\n",
       "      <td>0.158230</td>\n",
       "      <td>0.208682</td>\n",
       "      <td>-12.694151</td>\n",
       "      <td>0.057821</td>\n",
       "      <td>115.132553</td>\n",
       "      <td>0.551599</td>\n",
       "      <td>26.446169</td>\n",
       "      <td>10</td>\n",
       "    </tr>\n",
       "    <tr>\n",
       "      <th>5</th>\n",
       "      <td>1970s</td>\n",
       "      <td>0.400162</td>\n",
       "      <td>0.524927</td>\n",
       "      <td>254051.705500</td>\n",
       "      <td>0.533716</td>\n",
       "      <td>0.116031</td>\n",
       "      <td>0.216406</td>\n",
       "      <td>-11.424966</td>\n",
       "      <td>0.059764</td>\n",
       "      <td>119.858574</td>\n",
       "      <td>0.585098</td>\n",
       "      <td>35.055800</td>\n",
       "      <td>10</td>\n",
       "    </tr>\n",
       "    <tr>\n",
       "      <th>6</th>\n",
       "      <td>1980s</td>\n",
       "      <td>0.298690</td>\n",
       "      <td>0.546382</td>\n",
       "      <td>252124.016915</td>\n",
       "      <td>0.594663</td>\n",
       "      <td>0.122222</td>\n",
       "      <td>0.204638</td>\n",
       "      <td>-11.227398</td>\n",
       "      <td>0.062028</td>\n",
       "      <td>121.344803</td>\n",
       "      <td>0.564402</td>\n",
       "      <td>37.530731</td>\n",
       "      <td>10</td>\n",
       "    </tr>\n",
       "    <tr>\n",
       "      <th>7</th>\n",
       "      <td>1990s</td>\n",
       "      <td>0.307508</td>\n",
       "      <td>0.566096</td>\n",
       "      <td>248580.479991</td>\n",
       "      <td>0.586126</td>\n",
       "      <td>0.109719</td>\n",
       "      <td>0.196551</td>\n",
       "      <td>-10.002535</td>\n",
       "      <td>0.080539</td>\n",
       "      <td>119.404388</td>\n",
       "      <td>0.545034</td>\n",
       "      <td>44.193423</td>\n",
       "      <td>10</td>\n",
       "    </tr>\n",
       "    <tr>\n",
       "      <th>8</th>\n",
       "      <td>2000s</td>\n",
       "      <td>0.269677</td>\n",
       "      <td>0.574115</td>\n",
       "      <td>239515.479891</td>\n",
       "      <td>0.651675</td>\n",
       "      <td>0.083780</td>\n",
       "      <td>0.195598</td>\n",
       "      <td>-7.499272</td>\n",
       "      <td>0.087720</td>\n",
       "      <td>121.268727</td>\n",
       "      <td>0.530241</td>\n",
       "      <td>49.740330</td>\n",
       "      <td>10</td>\n",
       "    </tr>\n",
       "    <tr>\n",
       "      <th>9</th>\n",
       "      <td>2010s</td>\n",
       "      <td>0.264278</td>\n",
       "      <td>0.597184</td>\n",
       "      <td>227118.107452</td>\n",
       "      <td>0.628704</td>\n",
       "      <td>0.087661</td>\n",
       "      <td>0.189488</td>\n",
       "      <td>-7.517522</td>\n",
       "      <td>0.098801</td>\n",
       "      <td>120.807677</td>\n",
       "      <td>0.456069</td>\n",
       "      <td>57.644690</td>\n",
       "      <td>10</td>\n",
       "    </tr>\n",
       "    <tr>\n",
       "      <th>10</th>\n",
       "      <td>2020s</td>\n",
       "      <td>0.219931</td>\n",
       "      <td>0.692904</td>\n",
       "      <td>193728.397537</td>\n",
       "      <td>0.631232</td>\n",
       "      <td>0.016376</td>\n",
       "      <td>0.178535</td>\n",
       "      <td>-6.595067</td>\n",
       "      <td>0.141384</td>\n",
       "      <td>124.283129</td>\n",
       "      <td>0.501048</td>\n",
       "      <td>64.301970</td>\n",
       "      <td>1</td>\n",
       "    </tr>\n",
       "  </tbody>\n",
       "</table>\n",
       "</div>"
      ]
     },
     "metadata": {
      "application/vnd.databricks.v1+output": {
       "addedWidgets": {},
       "arguments": {},
       "data": "<div>\n<style scoped>\n    .dataframe tbody tr th:only-of-type {\n        vertical-align: middle;\n    }\n\n    .dataframe tbody tr th {\n        vertical-align: top;\n    }\n\n    .dataframe thead th {\n        text-align: right;\n    }\n</style>\n<table border=\"1\" class=\"dataframe\">\n  <thead>\n    <tr style=\"text-align: right;\">\n      <th></th>\n      <th>decade</th>\n      <th>acousticness</th>\n      <th>danceability</th>\n      <th>duration_ms</th>\n      <th>energy</th>\n      <th>instrumentalness</th>\n      <th>liveness</th>\n      <th>loudness</th>\n      <th>speechiness</th>\n      <th>tempo</th>\n      <th>valence</th>\n      <th>popularity</th>\n      <th>qtde</th>\n    </tr>\n  </thead>\n  <tbody>\n    <tr>\n      <th>0</th>\n      <td>1920s</td>\n      <td>0.869176</td>\n      <td>0.559094</td>\n      <td>189520.609165</td>\n      <td>0.253390</td>\n      <td>0.398363</td>\n      <td>0.217654</td>\n      <td>-16.163132</td>\n      <td>0.192833</td>\n      <td>110.539268</td>\n      <td>0.561653</td>\n      <td>1.504310</td>\n      <td>9</td>\n    </tr>\n    <tr>\n      <th>1</th>\n      <td>1930s</td>\n      <td>0.874072</td>\n      <td>0.541888</td>\n      <td>208295.762372</td>\n      <td>0.284158</td>\n      <td>0.272649</td>\n      <td>0.225668</td>\n      <td>-14.190930</td>\n      <td>0.184916</td>\n      <td>112.254898</td>\n      <td>0.564600</td>\n      <td>2.777264</td>\n      <td>10</td>\n    </tr>\n    <tr>\n      <th>2</th>\n      <td>1940s</td>\n      <td>0.877998</td>\n      <td>0.473281</td>\n      <td>221154.015009</td>\n      <td>0.256639</td>\n      <td>0.377673</td>\n      <td>0.222325</td>\n      <td>-15.196490</td>\n      <td>0.145802</td>\n      <td>107.194472</td>\n      <td>0.490011</td>\n      <td>1.865367</td>\n      <td>10</td>\n    </tr>\n    <tr>\n      <th>3</th>\n      <td>1950s</td>\n      <td>0.840190</td>\n      <td>0.476839</td>\n      <td>220517.635873</td>\n      <td>0.286783</td>\n      <td>0.247689</td>\n      <td>0.209141</td>\n      <td>-14.730952</td>\n      <td>0.093532</td>\n      <td>110.976998</td>\n      <td>0.478554</td>\n      <td>10.722800</td>\n      <td>10</td>\n    </tr>\n    <tr>\n      <th>4</th>\n      <td>1960s</td>\n      <td>0.626345</td>\n      <td>0.494642</td>\n      <td>211668.931336</td>\n      <td>0.413415</td>\n      <td>0.158230</td>\n      <td>0.208682</td>\n      <td>-12.694151</td>\n      <td>0.057821</td>\n      <td>115.132553</td>\n      <td>0.551599</td>\n      <td>26.446169</td>\n      <td>10</td>\n    </tr>\n    <tr>\n      <th>5</th>\n      <td>1970s</td>\n      <td>0.400162</td>\n      <td>0.524927</td>\n      <td>254051.705500</td>\n      <td>0.533716</td>\n      <td>0.116031</td>\n      <td>0.216406</td>\n      <td>-11.424966</td>\n      <td>0.059764</td>\n      <td>119.858574</td>\n      <td>0.585098</td>\n      <td>35.055800</td>\n      <td>10</td>\n    </tr>\n    <tr>\n      <th>6</th>\n      <td>1980s</td>\n      <td>0.298690</td>\n      <td>0.546382</td>\n      <td>252124.016915</td>\n      <td>0.594663</td>\n      <td>0.122222</td>\n      <td>0.204638</td>\n      <td>-11.227398</td>\n      <td>0.062028</td>\n      <td>121.344803</td>\n      <td>0.564402</td>\n      <td>37.530731</td>\n      <td>10</td>\n    </tr>\n    <tr>\n      <th>7</th>\n      <td>1990s</td>\n      <td>0.307508</td>\n      <td>0.566096</td>\n      <td>248580.479991</td>\n      <td>0.586126</td>\n      <td>0.109719</td>\n      <td>0.196551</td>\n      <td>-10.002535</td>\n      <td>0.080539</td>\n      <td>119.404388</td>\n      <td>0.545034</td>\n      <td>44.193423</td>\n      <td>10</td>\n    </tr>\n    <tr>\n      <th>8</th>\n      <td>2000s</td>\n      <td>0.269677</td>\n      <td>0.574115</td>\n      <td>239515.479891</td>\n      <td>0.651675</td>\n      <td>0.083780</td>\n      <td>0.195598</td>\n      <td>-7.499272</td>\n      <td>0.087720</td>\n      <td>121.268727</td>\n      <td>0.530241</td>\n      <td>49.740330</td>\n      <td>10</td>\n    </tr>\n    <tr>\n      <th>9</th>\n      <td>2010s</td>\n      <td>0.264278</td>\n      <td>0.597184</td>\n      <td>227118.107452</td>\n      <td>0.628704</td>\n      <td>0.087661</td>\n      <td>0.189488</td>\n      <td>-7.517522</td>\n      <td>0.098801</td>\n      <td>120.807677</td>\n      <td>0.456069</td>\n      <td>57.644690</td>\n      <td>10</td>\n    </tr>\n    <tr>\n      <th>10</th>\n      <td>2020s</td>\n      <td>0.219931</td>\n      <td>0.692904</td>\n      <td>193728.397537</td>\n      <td>0.631232</td>\n      <td>0.016376</td>\n      <td>0.178535</td>\n      <td>-6.595067</td>\n      <td>0.141384</td>\n      <td>124.283129</td>\n      <td>0.501048</td>\n      <td>64.301970</td>\n      <td>1</td>\n    </tr>\n  </tbody>\n</table>\n</div>",
       "datasetInfos": [],
       "metadata": {},
       "removedWidgets": [],
       "textData": null,
       "type": "htmlSandbox"
      }
     },
     "output_type": "display_data"
    }
   ],
   "source": [
    "# agregando as características das músicas por década e calculando a média de cada uma\n",
    "df_year_3 = df_year.groupby('decade').agg({\n",
    "    'acousticness': 'mean',\n",
    "    'danceability': 'mean',\n",
    "    'duration_ms': 'mean',\n",
    "    'energy': 'mean',\n",
    "    'instrumentalness': 'mean',\n",
    "    'liveness': 'mean',\n",
    "    'loudness': 'mean',\n",
    "    'speechiness': 'mean', \n",
    "    'tempo': 'mean',\n",
    "    'valence': 'mean', \n",
    "    'popularity': 'mean',\n",
    "    'qtde': 'sum' }).sort_index().reset_index()\n",
    "df_year_3"
   ]
  },
  {
   "cell_type": "code",
   "execution_count": null,
   "metadata": {
    "application/vnd.databricks.v1+cell": {
     "cellMetadata": {
      "byteLimit": 2048000,
      "rowLimit": 10000
     },
     "inputWidgets": {},
     "nuid": "2f5de12e-7046-4088-8503-1a85b9222335",
     "showTitle": false,
     "title": ""
    }
   },
   "outputs": [
    {
     "data": {
      "text/html": [
       "<html>\n",
       "<head><meta charset=\"utf-8\" /></head>\n",
       "<body>\n",
       "    <div>            <script src=\"https://cdnjs.cloudflare.com/ajax/libs/mathjax/2.7.5/MathJax.js?config=TeX-AMS-MML_SVG\"></script><script type=\"text/javascript\">if (window.MathJax) {MathJax.Hub.Config({SVG: {font: \"STIX-Web\"}});}</script>                <script type=\"text/javascript\">window.PlotlyConfig = {MathJaxConfig: 'local'};</script>\n",
       "        <script src=\"https://cdn.plot.ly/plotly-2.9.0.min.js\"></script>                <div id=\"e28d2275-2322-4cf9-81fd-f5ba63863f0f\" class=\"plotly-graph-div\" style=\"height:100%; width:100%;\"></div>            <script type=\"text/javascript\">                                    window.PLOTLYENV=window.PLOTLYENV || {};                                    if (document.getElementById(\"e28d2275-2322-4cf9-81fd-f5ba63863f0f\")) {                    Plotly.newPlot(                        \"e28d2275-2322-4cf9-81fd-f5ba63863f0f\",                        [{\"hovertemplate\":\"variable=acousticness<br>decade=%{x}<br>value=%{y}<extra></extra>\",\"legendgroup\":\"acousticness\",\"line\":{\"color\":\"#636efa\",\"dash\":\"solid\"},\"marker\":{\"symbol\":\"circle\"},\"mode\":\"lines\",\"name\":\"acousticness\",\"orientation\":\"v\",\"showlegend\":true,\"x\":[\"1920s\",\"1930s\",\"1940s\",\"1950s\",\"1960s\",\"1970s\",\"1980s\",\"1990s\",\"2000s\",\"2010s\",\"2020s\"],\"xaxis\":\"x\",\"y\":[0.8691756681272306,0.874072398938074,0.8779975949514116,0.8401896509024345,0.6263446178567353,0.400161569561,0.29869039589135926,0.30750808748818925,0.26967701283041373,0.26427770135909034,0.2199308880935964],\"yaxis\":\"y\",\"type\":\"scatter\"},{\"hovertemplate\":\"variable=danceability<br>decade=%{x}<br>value=%{y}<extra></extra>\",\"legendgroup\":\"danceability\",\"line\":{\"color\":\"#EF553B\",\"dash\":\"solid\"},\"marker\":{\"symbol\":\"circle\"},\"mode\":\"lines\",\"name\":\"danceability\",\"orientation\":\"v\",\"showlegend\":true,\"x\":[\"1920s\",\"1930s\",\"1940s\",\"1950s\",\"1960s\",\"1970s\",\"1980s\",\"1990s\",\"2000s\",\"2010s\",\"2020s\"],\"xaxis\":\"x\",\"y\":[0.5590937531320911,0.5418884140937485,0.47328055780528794,0.47683929897435895,0.49464230733703474,0.5249274100000003,0.546381672820513,0.5660955727990249,0.5741148147601711,0.5971840941008854,0.6929043349753701],\"yaxis\":\"y\",\"type\":\"scatter\"},{\"hovertemplate\":\"variable=energy<br>decade=%{x}<br>value=%{y}<extra></extra>\",\"legendgroup\":\"energy\",\"line\":{\"color\":\"#00cc96\",\"dash\":\"solid\"},\"marker\":{\"symbol\":\"circle\"},\"mode\":\"lines\",\"name\":\"energy\",\"orientation\":\"v\",\"showlegend\":true,\"x\":[\"1920s\",\"1930s\",\"1940s\",\"1950s\",\"1960s\",\"1970s\",\"1980s\",\"1990s\",\"2000s\",\"2010s\",\"2020s\"],\"xaxis\":\"x\",\"y\":[0.253390447722291,0.2841575777945339,0.25663944356436064,0.2867833829230769,0.4134146979457628,0.5337163684000003,0.59466316743718,0.5861257366457823,0.6516750500136158,0.6287041673483448,0.6312316354679793],\"yaxis\":\"y\",\"type\":\"scatter\"},{\"hovertemplate\":\"variable=instrumentalness<br>decade=%{x}<br>value=%{y}<extra></extra>\",\"legendgroup\":\"instrumentalness\",\"line\":{\"color\":\"#ab63fa\",\"dash\":\"solid\"},\"marker\":{\"symbol\":\"circle\"},\"mode\":\"lines\",\"name\":\"instrumentalness\",\"orientation\":\"v\",\"showlegend\":true,\"x\":[\"1920s\",\"1930s\",\"1940s\",\"1950s\",\"1960s\",\"1970s\",\"1980s\",\"1990s\",\"2000s\",\"2010s\",\"2020s\"],\"xaxis\":\"x\",\"y\":[0.3983627832714221,0.27264913750569547,0.37767317190705746,0.24768914848938467,0.15822954937449638,0.11603111290099996,0.12222158086589749,0.10971940944311194,0.0837800712790397,0.08766122726996474,0.016375524305418724],\"yaxis\":\"y\",\"type\":\"scatter\"},{\"hovertemplate\":\"variable=liveness<br>decade=%{x}<br>value=%{y}<extra></extra>\",\"legendgroup\":\"liveness\",\"line\":{\"color\":\"#FFA15A\",\"dash\":\"solid\"},\"marker\":{\"symbol\":\"circle\"},\"mode\":\"lines\",\"name\":\"liveness\",\"orientation\":\"v\",\"showlegend\":true,\"x\":[\"1920s\",\"1930s\",\"1940s\",\"1950s\",\"1960s\",\"1970s\",\"1980s\",\"1990s\",\"2000s\",\"2010s\",\"2020s\"],\"xaxis\":\"x\",\"y\":[0.21765426166595916,0.2256678114214279,0.22232458624505128,0.20914081384615382,0.2086816441528107,0.21640610500000004,0.2046381143589744,0.196551042023223,0.19559797987215202,0.1894875775322422,0.1785354187192117],\"yaxis\":\"y\",\"type\":\"scatter\"},{\"hovertemplate\":\"variable=speechiness<br>decade=%{x}<br>value=%{y}<extra></extra>\",\"legendgroup\":\"speechiness\",\"line\":{\"color\":\"#19d3f3\",\"dash\":\"solid\"},\"marker\":{\"symbol\":\"circle\"},\"mode\":\"lines\",\"name\":\"speechiness\",\"orientation\":\"v\",\"showlegend\":true,\"x\":[\"1920s\",\"1930s\",\"1940s\",\"1950s\",\"1960s\",\"1970s\",\"1980s\",\"1990s\",\"2000s\",\"2010s\",\"2020s\"],\"xaxis\":\"x\",\"y\":[0.19283315851831448,0.18491566082002286,0.1458022490019897,0.0935320042307692,0.05782123252637202,0.05976391999999999,0.062027815384615416,0.08053854655508681,0.0877201834601508,0.09880106175137476,0.14138369458128058],\"yaxis\":\"y\",\"type\":\"scatter\"},{\"hovertemplate\":\"variable=valence<br>decade=%{x}<br>value=%{y}<extra></extra>\",\"legendgroup\":\"valence\",\"line\":{\"color\":\"#FF6692\",\"dash\":\"solid\"},\"marker\":{\"symbol\":\"circle\"},\"mode\":\"lines\",\"name\":\"valence\",\"orientation\":\"v\",\"showlegend\":true,\"x\":[\"1920s\",\"1930s\",\"1940s\",\"1950s\",\"1960s\",\"1970s\",\"1980s\",\"1990s\",\"2000s\",\"2010s\",\"2020s\"],\"xaxis\":\"x\",\"y\":[0.5616528956495046,0.5645996179857298,0.4900113948115973,0.47855411582038465,0.5515988656860983,0.5850979400000005,0.5644021430512822,0.545034417546426,0.5302409151735066,0.4560693465651335,0.5010478078817729],\"yaxis\":\"y\",\"type\":\"scatter\"}],                        {\"template\":{\"data\":{\"bar\":[{\"error_x\":{\"color\":\"#2a3f5f\"},\"error_y\":{\"color\":\"#2a3f5f\"},\"marker\":{\"line\":{\"color\":\"#E5ECF6\",\"width\":0.5},\"pattern\":{\"fillmode\":\"overlay\",\"size\":10,\"solidity\":0.2}},\"type\":\"bar\"}],\"barpolar\":[{\"marker\":{\"line\":{\"color\":\"#E5ECF6\",\"width\":0.5},\"pattern\":{\"fillmode\":\"overlay\",\"size\":10,\"solidity\":0.2}},\"type\":\"barpolar\"}],\"carpet\":[{\"aaxis\":{\"endlinecolor\":\"#2a3f5f\",\"gridcolor\":\"white\",\"linecolor\":\"white\",\"minorgridcolor\":\"white\",\"startlinecolor\":\"#2a3f5f\"},\"baxis\":{\"endlinecolor\":\"#2a3f5f\",\"gridcolor\":\"white\",\"linecolor\":\"white\",\"minorgridcolor\":\"white\",\"startlinecolor\":\"#2a3f5f\"},\"type\":\"carpet\"}],\"choropleth\":[{\"colorbar\":{\"outlinewidth\":0,\"ticks\":\"\"},\"type\":\"choropleth\"}],\"contour\":[{\"colorbar\":{\"outlinewidth\":0,\"ticks\":\"\"},\"colorscale\":[[0.0,\"#0d0887\"],[0.1111111111111111,\"#46039f\"],[0.2222222222222222,\"#7201a8\"],[0.3333333333333333,\"#9c179e\"],[0.4444444444444444,\"#bd3786\"],[0.5555555555555556,\"#d8576b\"],[0.6666666666666666,\"#ed7953\"],[0.7777777777777778,\"#fb9f3a\"],[0.8888888888888888,\"#fdca26\"],[1.0,\"#f0f921\"]],\"type\":\"contour\"}],\"contourcarpet\":[{\"colorbar\":{\"outlinewidth\":0,\"ticks\":\"\"},\"type\":\"contourcarpet\"}],\"heatmap\":[{\"colorbar\":{\"outlinewidth\":0,\"ticks\":\"\"},\"colorscale\":[[0.0,\"#0d0887\"],[0.1111111111111111,\"#46039f\"],[0.2222222222222222,\"#7201a8\"],[0.3333333333333333,\"#9c179e\"],[0.4444444444444444,\"#bd3786\"],[0.5555555555555556,\"#d8576b\"],[0.6666666666666666,\"#ed7953\"],[0.7777777777777778,\"#fb9f3a\"],[0.8888888888888888,\"#fdca26\"],[1.0,\"#f0f921\"]],\"type\":\"heatmap\"}],\"heatmapgl\":[{\"colorbar\":{\"outlinewidth\":0,\"ticks\":\"\"},\"colorscale\":[[0.0,\"#0d0887\"],[0.1111111111111111,\"#46039f\"],[0.2222222222222222,\"#7201a8\"],[0.3333333333333333,\"#9c179e\"],[0.4444444444444444,\"#bd3786\"],[0.5555555555555556,\"#d8576b\"],[0.6666666666666666,\"#ed7953\"],[0.7777777777777778,\"#fb9f3a\"],[0.8888888888888888,\"#fdca26\"],[1.0,\"#f0f921\"]],\"type\":\"heatmapgl\"}],\"histogram\":[{\"marker\":{\"pattern\":{\"fillmode\":\"overlay\",\"size\":10,\"solidity\":0.2}},\"type\":\"histogram\"}],\"histogram2d\":[{\"colorbar\":{\"outlinewidth\":0,\"ticks\":\"\"},\"colorscale\":[[0.0,\"#0d0887\"],[0.1111111111111111,\"#46039f\"],[0.2222222222222222,\"#7201a8\"],[0.3333333333333333,\"#9c179e\"],[0.4444444444444444,\"#bd3786\"],[0.5555555555555556,\"#d8576b\"],[0.6666666666666666,\"#ed7953\"],[0.7777777777777778,\"#fb9f3a\"],[0.8888888888888888,\"#fdca26\"],[1.0,\"#f0f921\"]],\"type\":\"histogram2d\"}],\"histogram2dcontour\":[{\"colorbar\":{\"outlinewidth\":0,\"ticks\":\"\"},\"colorscale\":[[0.0,\"#0d0887\"],[0.1111111111111111,\"#46039f\"],[0.2222222222222222,\"#7201a8\"],[0.3333333333333333,\"#9c179e\"],[0.4444444444444444,\"#bd3786\"],[0.5555555555555556,\"#d8576b\"],[0.6666666666666666,\"#ed7953\"],[0.7777777777777778,\"#fb9f3a\"],[0.8888888888888888,\"#fdca26\"],[1.0,\"#f0f921\"]],\"type\":\"histogram2dcontour\"}],\"mesh3d\":[{\"colorbar\":{\"outlinewidth\":0,\"ticks\":\"\"},\"type\":\"mesh3d\"}],\"parcoords\":[{\"line\":{\"colorbar\":{\"outlinewidth\":0,\"ticks\":\"\"}},\"type\":\"parcoords\"}],\"pie\":[{\"automargin\":true,\"type\":\"pie\"}],\"scatter\":[{\"marker\":{\"colorbar\":{\"outlinewidth\":0,\"ticks\":\"\"}},\"type\":\"scatter\"}],\"scatter3d\":[{\"line\":{\"colorbar\":{\"outlinewidth\":0,\"ticks\":\"\"}},\"marker\":{\"colorbar\":{\"outlinewidth\":0,\"ticks\":\"\"}},\"type\":\"scatter3d\"}],\"scattercarpet\":[{\"marker\":{\"colorbar\":{\"outlinewidth\":0,\"ticks\":\"\"}},\"type\":\"scattercarpet\"}],\"scattergeo\":[{\"marker\":{\"colorbar\":{\"outlinewidth\":0,\"ticks\":\"\"}},\"type\":\"scattergeo\"}],\"scattergl\":[{\"marker\":{\"colorbar\":{\"outlinewidth\":0,\"ticks\":\"\"}},\"type\":\"scattergl\"}],\"scattermapbox\":[{\"marker\":{\"colorbar\":{\"outlinewidth\":0,\"ticks\":\"\"}},\"type\":\"scattermapbox\"}],\"scatterpolar\":[{\"marker\":{\"colorbar\":{\"outlinewidth\":0,\"ticks\":\"\"}},\"type\":\"scatterpolar\"}],\"scatterpolargl\":[{\"marker\":{\"colorbar\":{\"outlinewidth\":0,\"ticks\":\"\"}},\"type\":\"scatterpolargl\"}],\"scatterternary\":[{\"marker\":{\"colorbar\":{\"outlinewidth\":0,\"ticks\":\"\"}},\"type\":\"scatterternary\"}],\"surface\":[{\"colorbar\":{\"outlinewidth\":0,\"ticks\":\"\"},\"colorscale\":[[0.0,\"#0d0887\"],[0.1111111111111111,\"#46039f\"],[0.2222222222222222,\"#7201a8\"],[0.3333333333333333,\"#9c179e\"],[0.4444444444444444,\"#bd3786\"],[0.5555555555555556,\"#d8576b\"],[0.6666666666666666,\"#ed7953\"],[0.7777777777777778,\"#fb9f3a\"],[0.8888888888888888,\"#fdca26\"],[1.0,\"#f0f921\"]],\"type\":\"surface\"}],\"table\":[{\"cells\":{\"fill\":{\"color\":\"#EBF0F8\"},\"line\":{\"color\":\"white\"}},\"header\":{\"fill\":{\"color\":\"#C8D4E3\"},\"line\":{\"color\":\"white\"}},\"type\":\"table\"}]},\"layout\":{\"annotationdefaults\":{\"arrowcolor\":\"#2a3f5f\",\"arrowhead\":0,\"arrowwidth\":1},\"autotypenumbers\":\"strict\",\"coloraxis\":{\"colorbar\":{\"outlinewidth\":0,\"ticks\":\"\"}},\"colorscale\":{\"diverging\":[[0,\"#8e0152\"],[0.1,\"#c51b7d\"],[0.2,\"#de77ae\"],[0.3,\"#f1b6da\"],[0.4,\"#fde0ef\"],[0.5,\"#f7f7f7\"],[0.6,\"#e6f5d0\"],[0.7,\"#b8e186\"],[0.8,\"#7fbc41\"],[0.9,\"#4d9221\"],[1,\"#276419\"]],\"sequential\":[[0.0,\"#0d0887\"],[0.1111111111111111,\"#46039f\"],[0.2222222222222222,\"#7201a8\"],[0.3333333333333333,\"#9c179e\"],[0.4444444444444444,\"#bd3786\"],[0.5555555555555556,\"#d8576b\"],[0.6666666666666666,\"#ed7953\"],[0.7777777777777778,\"#fb9f3a\"],[0.8888888888888888,\"#fdca26\"],[1.0,\"#f0f921\"]],\"sequentialminus\":[[0.0,\"#0d0887\"],[0.1111111111111111,\"#46039f\"],[0.2222222222222222,\"#7201a8\"],[0.3333333333333333,\"#9c179e\"],[0.4444444444444444,\"#bd3786\"],[0.5555555555555556,\"#d8576b\"],[0.6666666666666666,\"#ed7953\"],[0.7777777777777778,\"#fb9f3a\"],[0.8888888888888888,\"#fdca26\"],[1.0,\"#f0f921\"]]},\"colorway\":[\"#636efa\",\"#EF553B\",\"#00cc96\",\"#ab63fa\",\"#FFA15A\",\"#19d3f3\",\"#FF6692\",\"#B6E880\",\"#FF97FF\",\"#FECB52\"],\"font\":{\"color\":\"#2a3f5f\"},\"geo\":{\"bgcolor\":\"white\",\"lakecolor\":\"white\",\"landcolor\":\"#E5ECF6\",\"showlakes\":true,\"showland\":true,\"subunitcolor\":\"white\"},\"hoverlabel\":{\"align\":\"left\"},\"hovermode\":\"closest\",\"mapbox\":{\"style\":\"light\"},\"paper_bgcolor\":\"white\",\"plot_bgcolor\":\"#E5ECF6\",\"polar\":{\"angularaxis\":{\"gridcolor\":\"white\",\"linecolor\":\"white\",\"ticks\":\"\"},\"bgcolor\":\"#E5ECF6\",\"radialaxis\":{\"gridcolor\":\"white\",\"linecolor\":\"white\",\"ticks\":\"\"}},\"scene\":{\"xaxis\":{\"backgroundcolor\":\"#E5ECF6\",\"gridcolor\":\"white\",\"gridwidth\":2,\"linecolor\":\"white\",\"showbackground\":true,\"ticks\":\"\",\"zerolinecolor\":\"white\"},\"yaxis\":{\"backgroundcolor\":\"#E5ECF6\",\"gridcolor\":\"white\",\"gridwidth\":2,\"linecolor\":\"white\",\"showbackground\":true,\"ticks\":\"\",\"zerolinecolor\":\"white\"},\"zaxis\":{\"backgroundcolor\":\"#E5ECF6\",\"gridcolor\":\"white\",\"gridwidth\":2,\"linecolor\":\"white\",\"showbackground\":true,\"ticks\":\"\",\"zerolinecolor\":\"white\"}},\"shapedefaults\":{\"line\":{\"color\":\"#2a3f5f\"}},\"ternary\":{\"aaxis\":{\"gridcolor\":\"white\",\"linecolor\":\"white\",\"ticks\":\"\"},\"baxis\":{\"gridcolor\":\"white\",\"linecolor\":\"white\",\"ticks\":\"\"},\"bgcolor\":\"#E5ECF6\",\"caxis\":{\"gridcolor\":\"white\",\"linecolor\":\"white\",\"ticks\":\"\"}},\"title\":{\"x\":0.05},\"xaxis\":{\"automargin\":true,\"gridcolor\":\"white\",\"linecolor\":\"white\",\"ticks\":\"\",\"title\":{\"standoff\":15},\"zerolinecolor\":\"white\",\"zerolinewidth\":2},\"yaxis\":{\"automargin\":true,\"gridcolor\":\"white\",\"linecolor\":\"white\",\"ticks\":\"\",\"title\":{\"standoff\":15},\"zerolinecolor\":\"white\",\"zerolinewidth\":2}}},\"xaxis\":{\"anchor\":\"y\",\"domain\":[0.0,1.0],\"title\":{\"text\":\"decade\"}},\"yaxis\":{\"anchor\":\"x\",\"domain\":[0.0,1.0],\"title\":{\"text\":\"value\"}},\"legend\":{\"title\":{\"text\":\"variable\"},\"tracegroupgap\":0},\"margin\":{\"t\":60}},                        {\"responsive\": true}                    )                };                            </script>        </div>\n",
       "</body>\n",
       "</html>"
      ]
     },
     "metadata": {
      "application/vnd.databricks.v1+output": {
       "addedWidgets": {},
       "arguments": {},
       "data": "<html>\n<head><meta charset=\"utf-8\" /></head>\n<body>\n    <div>            <script src=\"https://cdnjs.cloudflare.com/ajax/libs/mathjax/2.7.5/MathJax.js?config=TeX-AMS-MML_SVG\"></script><script type=\"text/javascript\">if (window.MathJax) {MathJax.Hub.Config({SVG: {font: \"STIX-Web\"}});}</script>                <script type=\"text/javascript\">window.PlotlyConfig = {MathJaxConfig: 'local'};</script>\n        <script src=\"https://cdn.plot.ly/plotly-2.9.0.min.js\"></script>                <div id=\"e28d2275-2322-4cf9-81fd-f5ba63863f0f\" class=\"plotly-graph-div\" style=\"height:100%; width:100%;\"></div>            <script type=\"text/javascript\">                                    window.PLOTLYENV=window.PLOTLYENV || {};                                    if (document.getElementById(\"e28d2275-2322-4cf9-81fd-f5ba63863f0f\")) {                    Plotly.newPlot(                        \"e28d2275-2322-4cf9-81fd-f5ba63863f0f\",                        [{\"hovertemplate\":\"variable=acousticness<br>decade=%{x}<br>value=%{y}<extra></extra>\",\"legendgroup\":\"acousticness\",\"line\":{\"color\":\"#636efa\",\"dash\":\"solid\"},\"marker\":{\"symbol\":\"circle\"},\"mode\":\"lines\",\"name\":\"acousticness\",\"orientation\":\"v\",\"showlegend\":true,\"x\":[\"1920s\",\"1930s\",\"1940s\",\"1950s\",\"1960s\",\"1970s\",\"1980s\",\"1990s\",\"2000s\",\"2010s\",\"2020s\"],\"xaxis\":\"x\",\"y\":[0.8691756681272306,0.874072398938074,0.8779975949514116,0.8401896509024345,0.6263446178567353,0.400161569561,0.29869039589135926,0.30750808748818925,0.26967701283041373,0.26427770135909034,0.2199308880935964],\"yaxis\":\"y\",\"type\":\"scatter\"},{\"hovertemplate\":\"variable=danceability<br>decade=%{x}<br>value=%{y}<extra></extra>\",\"legendgroup\":\"danceability\",\"line\":{\"color\":\"#EF553B\",\"dash\":\"solid\"},\"marker\":{\"symbol\":\"circle\"},\"mode\":\"lines\",\"name\":\"danceability\",\"orientation\":\"v\",\"showlegend\":true,\"x\":[\"1920s\",\"1930s\",\"1940s\",\"1950s\",\"1960s\",\"1970s\",\"1980s\",\"1990s\",\"2000s\",\"2010s\",\"2020s\"],\"xaxis\":\"x\",\"y\":[0.5590937531320911,0.5418884140937485,0.47328055780528794,0.47683929897435895,0.49464230733703474,0.5249274100000003,0.546381672820513,0.5660955727990249,0.5741148147601711,0.5971840941008854,0.6929043349753701],\"yaxis\":\"y\",\"type\":\"scatter\"},{\"hovertemplate\":\"variable=energy<br>decade=%{x}<br>value=%{y}<extra></extra>\",\"legendgroup\":\"energy\",\"line\":{\"color\":\"#00cc96\",\"dash\":\"solid\"},\"marker\":{\"symbol\":\"circle\"},\"mode\":\"lines\",\"name\":\"energy\",\"orientation\":\"v\",\"showlegend\":true,\"x\":[\"1920s\",\"1930s\",\"1940s\",\"1950s\",\"1960s\",\"1970s\",\"1980s\",\"1990s\",\"2000s\",\"2010s\",\"2020s\"],\"xaxis\":\"x\",\"y\":[0.253390447722291,0.2841575777945339,0.25663944356436064,0.2867833829230769,0.4134146979457628,0.5337163684000003,0.59466316743718,0.5861257366457823,0.6516750500136158,0.6287041673483448,0.6312316354679793],\"yaxis\":\"y\",\"type\":\"scatter\"},{\"hovertemplate\":\"variable=instrumentalness<br>decade=%{x}<br>value=%{y}<extra></extra>\",\"legendgroup\":\"instrumentalness\",\"line\":{\"color\":\"#ab63fa\",\"dash\":\"solid\"},\"marker\":{\"symbol\":\"circle\"},\"mode\":\"lines\",\"name\":\"instrumentalness\",\"orientation\":\"v\",\"showlegend\":true,\"x\":[\"1920s\",\"1930s\",\"1940s\",\"1950s\",\"1960s\",\"1970s\",\"1980s\",\"1990s\",\"2000s\",\"2010s\",\"2020s\"],\"xaxis\":\"x\",\"y\":[0.3983627832714221,0.27264913750569547,0.37767317190705746,0.24768914848938467,0.15822954937449638,0.11603111290099996,0.12222158086589749,0.10971940944311194,0.0837800712790397,0.08766122726996474,0.016375524305418724],\"yaxis\":\"y\",\"type\":\"scatter\"},{\"hovertemplate\":\"variable=liveness<br>decade=%{x}<br>value=%{y}<extra></extra>\",\"legendgroup\":\"liveness\",\"line\":{\"color\":\"#FFA15A\",\"dash\":\"solid\"},\"marker\":{\"symbol\":\"circle\"},\"mode\":\"lines\",\"name\":\"liveness\",\"orientation\":\"v\",\"showlegend\":true,\"x\":[\"1920s\",\"1930s\",\"1940s\",\"1950s\",\"1960s\",\"1970s\",\"1980s\",\"1990s\",\"2000s\",\"2010s\",\"2020s\"],\"xaxis\":\"x\",\"y\":[0.21765426166595916,0.2256678114214279,0.22232458624505128,0.20914081384615382,0.2086816441528107,0.21640610500000004,0.2046381143589744,0.196551042023223,0.19559797987215202,0.1894875775322422,0.1785354187192117],\"yaxis\":\"y\",\"type\":\"scatter\"},{\"hovertemplate\":\"variable=speechiness<br>decade=%{x}<br>value=%{y}<extra></extra>\",\"legendgroup\":\"speechiness\",\"line\":{\"color\":\"#19d3f3\",\"dash\":\"solid\"},\"marker\":{\"symbol\":\"circle\"},\"mode\":\"lines\",\"name\":\"speechiness\",\"orientation\":\"v\",\"showlegend\":true,\"x\":[\"1920s\",\"1930s\",\"1940s\",\"1950s\",\"1960s\",\"1970s\",\"1980s\",\"1990s\",\"2000s\",\"2010s\",\"2020s\"],\"xaxis\":\"x\",\"y\":[0.19283315851831448,0.18491566082002286,0.1458022490019897,0.0935320042307692,0.05782123252637202,0.05976391999999999,0.062027815384615416,0.08053854655508681,0.0877201834601508,0.09880106175137476,0.14138369458128058],\"yaxis\":\"y\",\"type\":\"scatter\"},{\"hovertemplate\":\"variable=valence<br>decade=%{x}<br>value=%{y}<extra></extra>\",\"legendgroup\":\"valence\",\"line\":{\"color\":\"#FF6692\",\"dash\":\"solid\"},\"marker\":{\"symbol\":\"circle\"},\"mode\":\"lines\",\"name\":\"valence\",\"orientation\":\"v\",\"showlegend\":true,\"x\":[\"1920s\",\"1930s\",\"1940s\",\"1950s\",\"1960s\",\"1970s\",\"1980s\",\"1990s\",\"2000s\",\"2010s\",\"2020s\"],\"xaxis\":\"x\",\"y\":[0.5616528956495046,0.5645996179857298,0.4900113948115973,0.47855411582038465,0.5515988656860983,0.5850979400000005,0.5644021430512822,0.545034417546426,0.5302409151735066,0.4560693465651335,0.5010478078817729],\"yaxis\":\"y\",\"type\":\"scatter\"}],                        {\"template\":{\"data\":{\"bar\":[{\"error_x\":{\"color\":\"#2a3f5f\"},\"error_y\":{\"color\":\"#2a3f5f\"},\"marker\":{\"line\":{\"color\":\"#E5ECF6\",\"width\":0.5},\"pattern\":{\"fillmode\":\"overlay\",\"size\":10,\"solidity\":0.2}},\"type\":\"bar\"}],\"barpolar\":[{\"marker\":{\"line\":{\"color\":\"#E5ECF6\",\"width\":0.5},\"pattern\":{\"fillmode\":\"overlay\",\"size\":10,\"solidity\":0.2}},\"type\":\"barpolar\"}],\"carpet\":[{\"aaxis\":{\"endlinecolor\":\"#2a3f5f\",\"gridcolor\":\"white\",\"linecolor\":\"white\",\"minorgridcolor\":\"white\",\"startlinecolor\":\"#2a3f5f\"},\"baxis\":{\"endlinecolor\":\"#2a3f5f\",\"gridcolor\":\"white\",\"linecolor\":\"white\",\"minorgridcolor\":\"white\",\"startlinecolor\":\"#2a3f5f\"},\"type\":\"carpet\"}],\"choropleth\":[{\"colorbar\":{\"outlinewidth\":0,\"ticks\":\"\"},\"type\":\"choropleth\"}],\"contour\":[{\"colorbar\":{\"outlinewidth\":0,\"ticks\":\"\"},\"colorscale\":[[0.0,\"#0d0887\"],[0.1111111111111111,\"#46039f\"],[0.2222222222222222,\"#7201a8\"],[0.3333333333333333,\"#9c179e\"],[0.4444444444444444,\"#bd3786\"],[0.5555555555555556,\"#d8576b\"],[0.6666666666666666,\"#ed7953\"],[0.7777777777777778,\"#fb9f3a\"],[0.8888888888888888,\"#fdca26\"],[1.0,\"#f0f921\"]],\"type\":\"contour\"}],\"contourcarpet\":[{\"colorbar\":{\"outlinewidth\":0,\"ticks\":\"\"},\"type\":\"contourcarpet\"}],\"heatmap\":[{\"colorbar\":{\"outlinewidth\":0,\"ticks\":\"\"},\"colorscale\":[[0.0,\"#0d0887\"],[0.1111111111111111,\"#46039f\"],[0.2222222222222222,\"#7201a8\"],[0.3333333333333333,\"#9c179e\"],[0.4444444444444444,\"#bd3786\"],[0.5555555555555556,\"#d8576b\"],[0.6666666666666666,\"#ed7953\"],[0.7777777777777778,\"#fb9f3a\"],[0.8888888888888888,\"#fdca26\"],[1.0,\"#f0f921\"]],\"type\":\"heatmap\"}],\"heatmapgl\":[{\"colorbar\":{\"outlinewidth\":0,\"ticks\":\"\"},\"colorscale\":[[0.0,\"#0d0887\"],[0.1111111111111111,\"#46039f\"],[0.2222222222222222,\"#7201a8\"],[0.3333333333333333,\"#9c179e\"],[0.4444444444444444,\"#bd3786\"],[0.5555555555555556,\"#d8576b\"],[0.6666666666666666,\"#ed7953\"],[0.7777777777777778,\"#fb9f3a\"],[0.8888888888888888,\"#fdca26\"],[1.0,\"#f0f921\"]],\"type\":\"heatmapgl\"}],\"histogram\":[{\"marker\":{\"pattern\":{\"fillmode\":\"overlay\",\"size\":10,\"solidity\":0.2}},\"type\":\"histogram\"}],\"histogram2d\":[{\"colorbar\":{\"outlinewidth\":0,\"ticks\":\"\"},\"colorscale\":[[0.0,\"#0d0887\"],[0.1111111111111111,\"#46039f\"],[0.2222222222222222,\"#7201a8\"],[0.3333333333333333,\"#9c179e\"],[0.4444444444444444,\"#bd3786\"],[0.5555555555555556,\"#d8576b\"],[0.6666666666666666,\"#ed7953\"],[0.7777777777777778,\"#fb9f3a\"],[0.8888888888888888,\"#fdca26\"],[1.0,\"#f0f921\"]],\"type\":\"histogram2d\"}],\"histogram2dcontour\":[{\"colorbar\":{\"outlinewidth\":0,\"ticks\":\"\"},\"colorscale\":[[0.0,\"#0d0887\"],[0.1111111111111111,\"#46039f\"],[0.2222222222222222,\"#7201a8\"],[0.3333333333333333,\"#9c179e\"],[0.4444444444444444,\"#bd3786\"],[0.5555555555555556,\"#d8576b\"],[0.6666666666666666,\"#ed7953\"],[0.7777777777777778,\"#fb9f3a\"],[0.8888888888888888,\"#fdca26\"],[1.0,\"#f0f921\"]],\"type\":\"histogram2dcontour\"}],\"mesh3d\":[{\"colorbar\":{\"outlinewidth\":0,\"ticks\":\"\"},\"type\":\"mesh3d\"}],\"parcoords\":[{\"line\":{\"colorbar\":{\"outlinewidth\":0,\"ticks\":\"\"}},\"type\":\"parcoords\"}],\"pie\":[{\"automargin\":true,\"type\":\"pie\"}],\"scatter\":[{\"marker\":{\"colorbar\":{\"outlinewidth\":0,\"ticks\":\"\"}},\"type\":\"scatter\"}],\"scatter3d\":[{\"line\":{\"colorbar\":{\"outlinewidth\":0,\"ticks\":\"\"}},\"marker\":{\"colorbar\":{\"outlinewidth\":0,\"ticks\":\"\"}},\"type\":\"scatter3d\"}],\"scattercarpet\":[{\"marker\":{\"colorbar\":{\"outlinewidth\":0,\"ticks\":\"\"}},\"type\":\"scattercarpet\"}],\"scattergeo\":[{\"marker\":{\"colorbar\":{\"outlinewidth\":0,\"ticks\":\"\"}},\"type\":\"scattergeo\"}],\"scattergl\":[{\"marker\":{\"colorbar\":{\"outlinewidth\":0,\"ticks\":\"\"}},\"type\":\"scattergl\"}],\"scattermapbox\":[{\"marker\":{\"colorbar\":{\"outlinewidth\":0,\"ticks\":\"\"}},\"type\":\"scattermapbox\"}],\"scatterpolar\":[{\"marker\":{\"colorbar\":{\"outlinewidth\":0,\"ticks\":\"\"}},\"type\":\"scatterpolar\"}],\"scatterpolargl\":[{\"marker\":{\"colorbar\":{\"outlinewidth\":0,\"ticks\":\"\"}},\"type\":\"scatterpolargl\"}],\"scatterternary\":[{\"marker\":{\"colorbar\":{\"outlinewidth\":0,\"ticks\":\"\"}},\"type\":\"scatterternary\"}],\"surface\":[{\"colorbar\":{\"outlinewidth\":0,\"ticks\":\"\"},\"colorscale\":[[0.0,\"#0d0887\"],[0.1111111111111111,\"#46039f\"],[0.2222222222222222,\"#7201a8\"],[0.3333333333333333,\"#9c179e\"],[0.4444444444444444,\"#bd3786\"],[0.5555555555555556,\"#d8576b\"],[0.6666666666666666,\"#ed7953\"],[0.7777777777777778,\"#fb9f3a\"],[0.8888888888888888,\"#fdca26\"],[1.0,\"#f0f921\"]],\"type\":\"surface\"}],\"table\":[{\"cells\":{\"fill\":{\"color\":\"#EBF0F8\"},\"line\":{\"color\":\"white\"}},\"header\":{\"fill\":{\"color\":\"#C8D4E3\"},\"line\":{\"color\":\"white\"}},\"type\":\"table\"}]},\"layout\":{\"annotationdefaults\":{\"arrowcolor\":\"#2a3f5f\",\"arrowhead\":0,\"arrowwidth\":1},\"autotypenumbers\":\"strict\",\"coloraxis\":{\"colorbar\":{\"outlinewidth\":0,\"ticks\":\"\"}},\"colorscale\":{\"diverging\":[[0,\"#8e0152\"],[0.1,\"#c51b7d\"],[0.2,\"#de77ae\"],[0.3,\"#f1b6da\"],[0.4,\"#fde0ef\"],[0.5,\"#f7f7f7\"],[0.6,\"#e6f5d0\"],[0.7,\"#b8e186\"],[0.8,\"#7fbc41\"],[0.9,\"#4d9221\"],[1,\"#276419\"]],\"sequential\":[[0.0,\"#0d0887\"],[0.1111111111111111,\"#46039f\"],[0.2222222222222222,\"#7201a8\"],[0.3333333333333333,\"#9c179e\"],[0.4444444444444444,\"#bd3786\"],[0.5555555555555556,\"#d8576b\"],[0.6666666666666666,\"#ed7953\"],[0.7777777777777778,\"#fb9f3a\"],[0.8888888888888888,\"#fdca26\"],[1.0,\"#f0f921\"]],\"sequentialminus\":[[0.0,\"#0d0887\"],[0.1111111111111111,\"#46039f\"],[0.2222222222222222,\"#7201a8\"],[0.3333333333333333,\"#9c179e\"],[0.4444444444444444,\"#bd3786\"],[0.5555555555555556,\"#d8576b\"],[0.6666666666666666,\"#ed7953\"],[0.7777777777777778,\"#fb9f3a\"],[0.8888888888888888,\"#fdca26\"],[1.0,\"#f0f921\"]]},\"colorway\":[\"#636efa\",\"#EF553B\",\"#00cc96\",\"#ab63fa\",\"#FFA15A\",\"#19d3f3\",\"#FF6692\",\"#B6E880\",\"#FF97FF\",\"#FECB52\"],\"font\":{\"color\":\"#2a3f5f\"},\"geo\":{\"bgcolor\":\"white\",\"lakecolor\":\"white\",\"landcolor\":\"#E5ECF6\",\"showlakes\":true,\"showland\":true,\"subunitcolor\":\"white\"},\"hoverlabel\":{\"align\":\"left\"},\"hovermode\":\"closest\",\"mapbox\":{\"style\":\"light\"},\"paper_bgcolor\":\"white\",\"plot_bgcolor\":\"#E5ECF6\",\"polar\":{\"angularaxis\":{\"gridcolor\":\"white\",\"linecolor\":\"white\",\"ticks\":\"\"},\"bgcolor\":\"#E5ECF6\",\"radialaxis\":{\"gridcolor\":\"white\",\"linecolor\":\"white\",\"ticks\":\"\"}},\"scene\":{\"xaxis\":{\"backgroundcolor\":\"#E5ECF6\",\"gridcolor\":\"white\",\"gridwidth\":2,\"linecolor\":\"white\",\"showbackground\":true,\"ticks\":\"\",\"zerolinecolor\":\"white\"},\"yaxis\":{\"backgroundcolor\":\"#E5ECF6\",\"gridcolor\":\"white\",\"gridwidth\":2,\"linecolor\":\"white\",\"showbackground\":true,\"ticks\":\"\",\"zerolinecolor\":\"white\"},\"zaxis\":{\"backgroundcolor\":\"#E5ECF6\",\"gridcolor\":\"white\",\"gridwidth\":2,\"linecolor\":\"white\",\"showbackground\":true,\"ticks\":\"\",\"zerolinecolor\":\"white\"}},\"shapedefaults\":{\"line\":{\"color\":\"#2a3f5f\"}},\"ternary\":{\"aaxis\":{\"gridcolor\":\"white\",\"linecolor\":\"white\",\"ticks\":\"\"},\"baxis\":{\"gridcolor\":\"white\",\"linecolor\":\"white\",\"ticks\":\"\"},\"bgcolor\":\"#E5ECF6\",\"caxis\":{\"gridcolor\":\"white\",\"linecolor\":\"white\",\"ticks\":\"\"}},\"title\":{\"x\":0.05},\"xaxis\":{\"automargin\":true,\"gridcolor\":\"white\",\"linecolor\":\"white\",\"ticks\":\"\",\"title\":{\"standoff\":15},\"zerolinecolor\":\"white\",\"zerolinewidth\":2},\"yaxis\":{\"automargin\":true,\"gridcolor\":\"white\",\"linecolor\":\"white\",\"ticks\":\"\",\"title\":{\"standoff\":15},\"zerolinecolor\":\"white\",\"zerolinewidth\":2}}},\"xaxis\":{\"anchor\":\"y\",\"domain\":[0.0,1.0],\"title\":{\"text\":\"decade\"}},\"yaxis\":{\"anchor\":\"x\",\"domain\":[0.0,1.0],\"title\":{\"text\":\"value\"}},\"legend\":{\"title\":{\"text\":\"variable\"},\"tracegroupgap\":0},\"margin\":{\"t\":60}},                        {\"responsive\": true}                    )                };                            </script>        </div>\n</body>\n</html>",
       "datasetInfos": [],
       "metadata": {},
       "removedWidgets": [],
       "textData": null,
       "type": "htmlSandbox"
      }
     },
     "output_type": "display_data"
    }
   ],
   "source": [
    "# analisando graficamente como as características das músicas variam por década\n",
    "df_year_3.plot.line(x='decade', y=['acousticness', 'danceability', 'energy',\n",
    "       'instrumentalness', 'liveness', 'speechiness', 'valence'])"
   ]
  }
 ],
 "metadata": {
  "application/vnd.databricks.v1+notebook": {
   "dashboards": [],
   "language": "python",
   "notebookMetadata": {
    "pythonIndentUnit": 4
   },
   "notebookName": "projeto_spotify_parte_01",
   "widgets": {}
  },
  "language_info": {
   "name": "python"
  }
 },
 "nbformat": 4,
 "nbformat_minor": 0
}
